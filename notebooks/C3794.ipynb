{
 "cells": [
  {
   "cell_type": "code",
   "execution_count": 1,
   "id": "d33a4166-12b9-42e9-be74-324473557a59",
   "metadata": {},
   "outputs": [],
   "source": [
    "import math\n",
    "import numpy as np\n",
    "import matplotlib.pyplot as plt\n",
    "import matplotlib as mpl\n",
    "from matplotlib import figure\n",
    "from ipywidgets import interact\n",
    "import pandas as pd\n",
    "from scipy.optimize import fsolve\n",
    "import oapackage\n",
    "import ipywidgets as widgets\n",
    "from ipywidgets import Layout, Button, Box, VBox, ButtonStyle, GridBox, SliderStyle\n",
    "from termcolor import colored\n",
    "import sys\n",
    "import os\n",
    "import json\n",
    "\n",
    "def pareto_front(x, y, reverse='bottom'):\n",
    "    if reverse == 'top':\n",
    "        def reverse_list(l):\n",
    "            return l\n",
    "    else:\n",
    "        def reverse_list(l):\n",
    "            return [-x for x in l]\n",
    "\n",
    "    datapoints = np.array([reverse_list(x), reverse_list(y)])\n",
    "#     print(datapoints)\n",
    "\n",
    "    pareto = oapackage.ParetoDoubleLong()\n",
    "\n",
    "    for ii in range(0, datapoints.shape[1]):\n",
    "        w = oapackage.doubleVector((datapoints[0, ii], datapoints[1, ii]))\n",
    "        pareto.addvalue(w, ii)\n",
    "\n",
    "    pareto.show(verbose=1)\n",
    "\n",
    "    lst = pareto.allindices()  # the indices of the Pareto optimal designs\n",
    "\n",
    "    optimal_datapoints = datapoints[:, lst]\n",
    "    return reverse_list(optimal_datapoints[0, :]), reverse_list(optimal_datapoints[1, :])\n",
    "\n",
    "\n",
    "# def plot_settings():\n",
    "#     # plot settings\n",
    "#     plt.rcParams['figure.figsize'] = [8, 6]\n",
    "#     plt.rcParams['figure.dpi'] = 100\n",
    "#     plt.rcParams[\"figure.figsize\"] = (8, 6)\n",
    "#     mpl.rcParams['lines.markersize'] = 10\n",
    "#     # axes\n",
    "#     mpl.rcParams['axes.labelsize'] = 14\n",
    "#     mpl.rcParams['axes.titlesize'] = 14\n",
    "\n",
    "#     mpl.rcParams['xtick.labelsize'] = 12\n",
    "#     mpl.rcParams['ytick.labelsize'] = 12\n",
    "\n",
    "def plot_settings():\n",
    "    mpl.rcParams['xtick.labelsize'] = 16\n",
    "    mpl.rcParams['ytick.labelsize'] = 16\n",
    "\n",
    "    mpl.rcParams['axes.labelsize'] = 16\n",
    "    mpl.rcParams['axes.titlesize'] = 16\n",
    "    mpl.rcParams['legend.fontsize'] = 16\n",
    "    mpl.rcParams['legend.title_fontsize'] = 14\n",
    "\n",
    "    mpl.rcParams['figure.figsize'] = [12, 6]\n",
    "    mpl.rcParams['figure.dpi'] = 100\n",
    "\n",
    "    # Set the desired colormap\n",
    "    plt.rcParams['axes.prop_cycle'] = plt.cycler('color', plt.cm.Set2.colors)\n",
    "    \n",
    "plot_settings()"
   ]
  },
  {
   "cell_type": "code",
   "execution_count": 2,
   "id": "6e92343e-dc56-4cd1-a6df-dc8bc406bfaf",
   "metadata": {},
   "outputs": [],
   "source": [
    "import sys\n",
    "sys.path.append(\"..\")\n",
    "import numpy as np\n",
    "import json\n",
    "import matplotlib\n",
    "import matplotlib.pyplot as plt\n",
    "# %matplotlib inline\n",
    "# %matplotlib widget\n",
    "%matplotlib ipympl\n",
    "from cavsim2d.cavity import Cavity, Cavities, OperationPoints\n",
    "import pprint\n",
    "pp = pprint.PrettyPrinter(indent=4)"
   ]
  },
  {
   "cell_type": "code",
   "execution_count": 3,
   "id": "82e1d554-e38c-47f0-8bd2-b8399a7a5d98",
   "metadata": {},
   "outputs": [],
   "source": [
    "# load shape space\n",
    "with open(r'D:\\Dropbox\\CavityDesignHub\\PhD_Thesis/Cavities/cavities.json') as f:\n",
    "    shape_space = json.load(f)"
   ]
  },
  {
   "cell_type": "code",
   "execution_count": 4,
   "id": "0d18a5dd-32b9-4dc8-b999-8fca12780a3a",
   "metadata": {},
   "outputs": [
    {
     "name": "stdout",
     "output_type": "stream",
     "text": [
      "\u001b[32mProject D:\\Dropbox\\CavityDesignHub\\PhD_Thesis\\SimulationData created successfully/already exists.\u001b[0m\n"
     ]
    }
   ],
   "source": [
    "\n",
    "cavs = Cavities('Thesis')\n",
    "cavs.save('D:\\Dropbox\\CavityDesignHub\\PhD_Thesis\\SimulationData')\n",
    "\n",
    "c3794_shape = shape_space['C3794']\n",
    "\n",
    "# create cavities\n",
    "c3794 = Cavity(2, c3794_shape['IC'], c3794_shape['OC'], c3794_shape['OC_R'], beampipe='both')\n",
    "c3794v2 = Cavity(2, 0.5*np.array(c3794_shape['IC']), 0.5*np.array(c3794_shape['OC']), 0.5*np.array(c3794_shape['OC_R']), beampipe='both')\n",
    "\n",
    "# add cavities\n",
    "cavs.add_cavity([c3794, c3794v2], ['C3794', 'C3794v2'], ['C3794', 'C3794v2'])"
   ]
  },
  {
   "cell_type": "code",
   "execution_count": null,
   "id": "33aaa6f5-3137-4e6a-bdaa-136aa553ac74",
   "metadata": {},
   "outputs": [],
   "source": [
    "eigenmode_config = {\n",
    "    'processes': 2,\n",
    "    'rerun': True,\n",
    "    'boundary_conditions': 'mm',\n",
    "    'uq_config': {\n",
    "        'variables': ['A', 'B', 'a', 'b', 'Ri', 'L', 'Req'],\n",
    "        'objectives': ['freq [MHz]', \"Epk/Eacc []\", \"Bpk/Eacc [mT/MV/m]\", \"R/Q [Ohm]\", \"G [Ohm]\"],\n",
    "        'epsilon': [1, 1, 1, 1, 1, 1, 1],\n",
    "        'processes': 11,\n",
    "        'method': 'stroud5',\n",
    "        'cell complexity': 'simplecell'\n",
    "        }\n",
    "    }\n",
    "\n",
    "# wakefield\n",
    "# OPERATING POINTS\n",
    "with open(r'D:\\Dropbox\\CavityDesignHub\\PhD_Thesis/OperatingPoints/fcc.json') as f:\n",
    "    fcc_ee_ops = json.load(f)\n",
    "op_points = {key: val for key, val in fcc_ee_ops.items() if key in ['Z_2023', 'W_2023', 'H_2023', 'ttbar_2023', 'Z_b_2024_FB', 'W_b_2024_FB', 'H_b_2024_FB', 'ttbar_b_2024_FB']}\n",
    "\n",
    "wakefield_config = {\n",
    "    'bunch_length': 25,\n",
    "    'wakelength': 50,\n",
    "    'processes': 2,\n",
    "    'rerun': True,\n",
    "    'operating_points': op_points,\n",
    "    'uq_config': {\n",
    "        'variables': ['A', 'B', 'a', 'b', 'Ri', 'L', 'Req'],\n",
    "        'epsilon': [1, 1, 1, 1, 1, 1, 1],\n",
    "        'objectives': [[\"ZL\", [0.44, 0.77, 1.1, 2]], [\"ZT\", [0.54, 0.59, 0.75, 1.05, 2]], 'k_FM [V/pC]', '|k_loss| [V/pC]', '|k_kick| [V/pC/m]', 'P_HOM [kW]'],\n",
    "        'processes': 11,\n",
    "        'method': 'Stroud5',\n",
    "        'cell complexity': 'simplecell',\n",
    "        'operating_points': op_points\n",
    "        }\n",
    "}\n",
    "\n",
    "cavs.run_eigenmode(eigenmode_config)\n",
    "cavs.run_wakefield(wakefield_config)"
   ]
  },
  {
   "cell_type": "code",
   "execution_count": null,
   "id": "630c3f63-3413-45b3-8c2f-a409df8c2f23",
   "metadata": {},
   "outputs": [],
   "source": []
  },
  {
   "cell_type": "code",
   "execution_count": null,
   "id": "2fdb18da-793b-41d2-b9df-516a9b91a6d6",
   "metadata": {},
   "outputs": [],
   "source": []
  },
  {
   "cell_type": "code",
   "execution_count": null,
   "id": "c76c1e07-2ceb-4944-ba7e-22bdd8e2861e",
   "metadata": {},
   "outputs": [],
   "source": [
    "cavs.plot_cavities_contour(opt='end')"
   ]
  },
  {
   "cell_type": "code",
   "execution_count": null,
   "id": "268713c5-87c7-448d-a09a-85555222230c",
   "metadata": {},
   "outputs": [],
   "source": [
    "cavs.plot_cavities_contour_dimension(opt='end', figsize=(19, 4))"
   ]
  },
  {
   "cell_type": "code",
   "execution_count": null,
   "id": "d26255ea-d3c3-46d3-b001-9f7fc25bb1ad",
   "metadata": {},
   "outputs": [],
   "source": []
  }
 ],
 "metadata": {
  "kernelspec": {
   "display_name": "Python 3 (ipykernel)",
   "language": "python",
   "name": "python3"
  },
  "language_info": {
   "codemirror_mode": {
    "name": "ipython",
    "version": 3
   },
   "file_extension": ".py",
   "mimetype": "text/x-python",
   "name": "python",
   "nbconvert_exporter": "python",
   "pygments_lexer": "ipython3",
   "version": "3.11.9"
  },
  "widgets": {
   "application/vnd.jupyter.widget-state+json": {
    "state": {},
    "version_major": 2,
    "version_minor": 0
   }
  }
 },
 "nbformat": 4,
 "nbformat_minor": 5
}
