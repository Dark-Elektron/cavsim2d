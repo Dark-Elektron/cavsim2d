{
 "cells": [
  {
   "cell_type": "code",
   "execution_count": 1,
   "id": "fd1da736-c303-4103-960f-d067edaf584b",
   "metadata": {},
   "outputs": [
    {
     "data": {
      "text/html": [
       "<style>p{background: -webkit-linear-gradient(#eee, #333);-webkit-background-clip: text; webkit-text-fill-color: transparent; }</style> <p><b>CAV-SIM-2D</b> loaded successfully!</p>"
      ],
      "text/plain": [
       "<IPython.core.display.HTML object>"
      ]
     },
     "metadata": {},
     "output_type": "display_data"
    },
    {
     "name": "stdout",
     "output_type": "stream",
     "text": [
      "\u001b[32mProject D:\\Dropbox\\CavityDesignHub\\MuCol_Study\\SimulationData\\ConsoleTest created successfully/already exists.\u001b[0m\n"
     ]
    },
    {
     "data": {
      "application/vnd.jupyter.widget-view+json": {
       "model_id": "49d047ec22a54d0395d8a8f7303cf667",
       "version_major": 2,
       "version_minor": 0
      },
      "text/plain": [
       "  0%|          | 0/1 [00:00<?, ?it/s]"
      ]
     },
     "metadata": {},
     "output_type": "display_data"
    },
    {
     "name": "stdout",
     "output_type": "stream",
     "text": [
      "D:\\Dropbox\\cavsim2d\\cavsim2d D:\\Dropbox\\CavityDesignHub\\MuCol_Study\\SimulationData\\ConsoleTest\\cavities\n",
      "\t D:\\Dropbox\\cavsim2d\\cavsim2d\\solvers\\ABCI\\ABCI_MP64+.exe D:\\Dropbox\\CavityDesignHub\\MuCol_Study\\SimulationData\\ConsoleTest\\cavities\\SimulationData\\ABCI\\TESLA\n",
      "\u001b[32mCavity TESLA. Time: 54.547810316085815\u001b[0m\n",
      "its here now {'Z': {'freq [MHz]': 400.79, 'E [GeV]': 45.6, 'I0 [mA]': 1280, 'V [GV]': 0.12, 'Eacc [MV/m]': 5.72, 'nu_s []': 0.037, 'alpha_p [1e-5]': 2.85, 'tau_z [ms]': 354.91, 'tau_xy [ms]': 709.82, 'f_rev [kHz]': 3.07, 'beta_xy [m]': 56, 'N_c []': 56, 'T [K]': 4.5, 'sigma_SR [mm]': 4.32, 'sigma_BS [mm]': 15.2, 'Nb [1e11]': 2.76}}\n"
     ]
    },
    {
     "data": {
      "application/vnd.jupyter.widget-view+json": {
       "model_id": "45cb4d39349b4528be13ee76129a8816",
       "version_major": 2,
       "version_minor": 0
      },
      "text/plain": [
       "  0%|          | 0/1 [00:00<?, ?it/s]"
      ]
     },
     "metadata": {},
     "output_type": "display_data"
    },
    {
     "name": "stdout",
     "output_type": "stream",
     "text": [
      "\u001b[34mRunning wakefield analysis for given operating points.\u001b[0m\n",
      "D:\\Dropbox\\cavsim2d\\cavsim2d D:\\Dropbox\\CavityDesignHub\\MuCol_Study\\SimulationData\\ConsoleTest\\cavities\n",
      "\t D:\\Dropbox\\cavsim2d\\cavsim2d\\solvers\\ABCI\\ABCI_MP64+.exe D:\\Dropbox\\CavityDesignHub\\MuCol_Study\\SimulationData\\ConsoleTest\\cavities\\SimulationData\\ABCI\\TESLA\\Z_SR_4.32mm\n",
      "D:\\Dropbox\\cavsim2d\\cavsim2d D:\\Dropbox\\CavityDesignHub\\MuCol_Study\\SimulationData\\ConsoleTest\\cavities\n",
      "\t D:\\Dropbox\\cavsim2d\\cavsim2d\\solvers\\ABCI\\ABCI_MP64+.exe D:\\Dropbox\\CavityDesignHub\\MuCol_Study\\SimulationData\\ConsoleTest\\cavities\\SimulationData\\ABCI\\TESLA\\Z_SR_4.32mm\n",
      "here now\n",
      "after here {'Z_SR_4.32mm': {'n cell': 2, 'R/Q [Ohm]': 113.6427006296298, 'k_FM [V/pC]': 0.22891222581555334, 'I0 [mA]': 1280.0, 'sigma_z [mm]': 4.32, 'Nb [1e11]': 2.76, '|k_loss| [V/pC]': 1.174, '|k_kick| [V/pC/m]': 8.658, 'P_HOM [kW]': 53.48767353999378}}\n",
      "D:\\Dropbox\\cavsim2d\\cavsim2d D:\\Dropbox\\CavityDesignHub\\MuCol_Study\\SimulationData\\ConsoleTest\\cavities\n",
      "\t D:\\Dropbox\\cavsim2d\\cavsim2d\\solvers\\ABCI\\ABCI_MP64+.exe D:\\Dropbox\\CavityDesignHub\\MuCol_Study\\SimulationData\\ConsoleTest\\cavities\\SimulationData\\ABCI\\TESLA\\Z_BS_15.2mm\n",
      "D:\\Dropbox\\cavsim2d\\cavsim2d D:\\Dropbox\\CavityDesignHub\\MuCol_Study\\SimulationData\\ConsoleTest\\cavities\n",
      "\t D:\\Dropbox\\cavsim2d\\cavsim2d\\solvers\\ABCI\\ABCI_MP64+.exe D:\\Dropbox\\CavityDesignHub\\MuCol_Study\\SimulationData\\ConsoleTest\\cavities\\SimulationData\\ABCI\\TESLA\\Z_BS_15.2mm\n",
      "here now\n",
      "after here {'Z_SR_4.32mm': {'n cell': 2, 'R/Q [Ohm]': 113.6427006296298, 'k_FM [V/pC]': 0.22891222581555334, 'I0 [mA]': 1280.0, 'sigma_z [mm]': 4.32, 'Nb [1e11]': 2.76, '|k_loss| [V/pC]': 1.174, '|k_kick| [V/pC/m]': 8.658, 'P_HOM [kW]': 53.48767353999378}, 'Z_BS_15.2mm': {'n cell': 2, 'R/Q [Ohm]': 113.6427006296298, 'k_FM [V/pC]': 0.19551186028980616, 'I0 [mA]': 1280.0, 'sigma_z [mm]': 15.2, 'Nb [1e11]': 2.76, '|k_loss| [V/pC]': 0.546, '|k_kick| [V/pC/m]': 10.64, 'P_HOM [kW]': 19.836036089490133}}\n",
      "\u001b[32mDone with the secondary analysis for working points\u001b[0m\n",
      "\u001b[36m\t\t('Hey chief, there seems to be a problem with the ABCI file directory. Please check.',)\u001b[0m\n",
      "{   'TESLA': {   'Z_BS_15.2mm': {   'I0 [mA]': 1280.0,\n",
      "                                    'Nb [1e11]': 2.76,\n",
      "                                    'P_HOM [kW]': 19.836036089490133,\n",
      "                                    'R/Q [Ohm]': 113.6427006296298,\n",
      "                                    'k_FM [V/pC]': 0.19551186028980616,\n",
      "                                    'n cell': 2,\n",
      "                                    'sigma_z [mm]': 15.2,\n",
      "                                    '|k_kick| [V/pC/m]': 10.64,\n",
      "                                    '|k_loss| [V/pC]': 0.546},\n",
      "                 'Z_SR_4.32mm': {   'I0 [mA]': 1280.0,\n",
      "                                    'Nb [1e11]': 2.76,\n",
      "                                    'P_HOM [kW]': 53.48767353999378,\n",
      "                                    'R/Q [Ohm]': 113.6427006296298,\n",
      "                                    'k_FM [V/pC]': 0.22891222581555334,\n",
      "                                    'n cell': 2,\n",
      "                                    'sigma_z [mm]': 4.32,\n",
      "                                    '|k_kick| [V/pC/m]': 8.658,\n",
      "                                    '|k_loss| [V/pC]': 1.174}}}\n"
     ]
    }
   ],
   "source": [
    "import sys\n",
    "sys.path.append(\"..\")\n",
    "import pprint\n",
    "pp = pprint.PrettyPrinter(indent=4)\n",
    "from cavsim2d.cavity import Cavity, Cavities\n",
    "\n",
    "cavs = Cavities()\n",
    "cavs.save(project_folder='D:\\Dropbox\\CavityDesignHub\\MuCol_Study\\SimulationData\\ConsoleTest')\n",
    "\n",
    "# define geometry parameters\n",
    "n_cells = 2\n",
    "midcell = [42, 42, 12, 19, 35, 57.7, 103.353]  # <- A, B, a, b, Ri, L, Req\n",
    "endcell_l = [40.34, 40.34, 10, 13.5, 39, 55.716, 103.353]\n",
    "endcell_r = [42, 42, 9, 12.8, 39, 56.815, 103.353]\n",
    "\n",
    "# create cavity\n",
    "tesla = Cavity(n_cells, midcell, endcell_l,endcell_r, beampipe='none')\n",
    "cavs.add_cavity([tesla], names=['TESLA'], plot_labels=['TESLA'])\n",
    "\n",
    "op_points = {\n",
    "            \"Z\": {\n",
    "                \"freq [MHz]\": 400.79,  # Operating frequency\n",
    "                \"E [GeV]\": 45.6,  # <- Beam energy\n",
    "                \"I0 [mA]\": 1280,  # <- Beam current\n",
    "                \"V [GV]\": 0.12,  # <- Total voltage\n",
    "                \"Eacc [MV/m]\": 5.72,  # <- Accelerating field\n",
    "                \"nu_s []\": 0.0370,  # <- Synchrotron oscillation tune\n",
    "                \"alpha_p [1e-5]\": 2.85,  # <- Momentum compaction factor\n",
    "                \"tau_z [ms]\": 354.91,  # <- Longitudinal damping time\n",
    "                \"tau_xy [ms]\": 709.82,  # <- Transverse damping time\n",
    "                \"f_rev [kHz]\": 3.07,  # <- Revolution frequency\n",
    "                \"beta_xy [m]\": 56,  # <- Beta function\n",
    "                \"N_c []\": 56,  # <- Number of cavities\n",
    "                \"T [K]\": 4.5,  # <- Operating tempereature\n",
    "                \"sigma_SR [mm]\": 4.32,  # <- Bunch length\n",
    "                \"sigma_BS [mm]\": 15.2,  # <- Bunch length\n",
    "                \"Nb [1e11]\": 2.76  # <- Bunch population\n",
    "            }\n",
    "}\n",
    "cavs.run_wakefield(operating_points=op_points)\n",
    "pp.pprint(cavs.abci_qois)"
   ]
  },
  {
   "cell_type": "code",
   "execution_count": 2,
   "id": "50ba12f9-6927-42db-b6a1-6d70d6fa6c66",
   "metadata": {},
   "outputs": [
    {
     "data": {
      "text/plain": [
       "{'$k_\\\\parallel$': <Axes: label='$k_\\\\parallel$', ylabel='$k_\\\\parallel$'>,\n",
       " '$k_\\\\perp$': <Axes: label='$k_\\\\perp$', ylabel='$k_\\\\perp$'>,\n",
       " '$p_\\\\mathrm{HOM}/cav$': <Axes: label='$p_\\\\mathrm{HOM}/cav$', ylabel='$p_\\\\mathrm{HOM}/cav$'>}"
      ]
     },
     "execution_count": 2,
     "metadata": {},
     "output_type": "execute_result"
    },
    {
     "data": {
      "image/png": "[encoded data removed]",
      "text/plain": [
       "<Figure size 333.333x300 with 3 Axes>"
      ]
     },
     "metadata": {},
     "output_type": "display_data"
    }
   ],
   "source": [
    "cavs.plot_compare_hom_bar('Z_SR_4.32mm')"
   ]
  }
 ],
 "metadata": {
  "kernelspec": {
   "display_name": "Python 3 (ipykernel)",
   "language": "python",
   "name": "python3"
  },
  "language_info": {
   "codemirror_mode": {
    "name": "ipython",
    "version": 3
   },
   "file_extension": ".py",
   "mimetype": "text/x-python",
   "name": "python",
   "nbconvert_exporter": "python",
   "pygments_lexer": "ipython3",
   "version": "3.11.9"
  },
  "widgets": {
   "application/vnd.jupyter.widget-state+json": {
    "state": {
     "0b98aeabafd84378b5babcb90692854f": {
      "model_module": "@jupyter-widgets/base",
      "model_module_version": "2.0.0",
      "model_name": "LayoutModel",
      "state": {}
     },
     "0da2e1de5a4c46cfaed3f233c52b6989": {
      "model_module": "@jupyter-widgets/controls",
      "model_module_version": "2.0.0",
      "model_name": "HTMLModel",
      "state": {
       "layout": "IPY_MODEL_0b98aeabafd84378b5babcb90692854f",
       "style": "IPY_MODEL_d4f1c50ce9ed4f41994350ef48ea39a1",
       "value": "100%"
      }
     },
     "22b32b9a370844aaae4c258250fc63fd": {
      "model_module": "@jupyter-widgets/controls",
      "model_module_version": "2.0.0",
      "model_name": "HTMLStyleModel",
      "state": {
       "description_width": "",
       "font_size": null,
       "text_color": null
      }
     },
     "3c7a03d51a9e4524a771561442e3980c": {
      "model_module": "@jupyter-widgets/controls",
      "model_module_version": "2.0.0",
      "model_name": "FloatProgressModel",
      "state": {
       "bar_style": "success",
       "layout": "IPY_MODEL_470a77b4a0a8421c900fccfb96b2d0f0",
       "max": 1,
       "style": "IPY_MODEL_f2c0b2ecb329414cbb177dbc26b3d379",
       "value": 1
      }
     },
     "45cb4d39349b4528be13ee76129a8816": {
      "model_module": "@jupyter-widgets/controls",
      "model_module_version": "2.0.0",
      "model_name": "HBoxModel",
      "state": {
       "children": [
        "IPY_MODEL_df24a891f18040f3999d49381944e9b1",
        "IPY_MODEL_3c7a03d51a9e4524a771561442e3980c",
        "IPY_MODEL_ebc22afc36b146b4a643e199395dd938"
       ],
       "layout": "IPY_MODEL_fdc67f648af849308ce4e062da65f07a"
      }
     },
     "470a77b4a0a8421c900fccfb96b2d0f0": {
      "model_module": "@jupyter-widgets/base",
      "model_module_version": "2.0.0",
      "model_name": "LayoutModel",
      "state": {}
     },
     "49d047ec22a54d0395d8a8f7303cf667": {
      "model_module": "@jupyter-widgets/controls",
      "model_module_version": "2.0.0",
      "model_name": "HBoxModel",
      "state": {
       "children": [
        "IPY_MODEL_0da2e1de5a4c46cfaed3f233c52b6989",
        "IPY_MODEL_f962916a52f947a8a9b6c19e1662b086",
        "IPY_MODEL_ed407f58077e473087eb301a21d666dd"
       ],
       "layout": "IPY_MODEL_987fecb821c2462e9c932f66e61d5cf2"
      }
     },
     "4d1d3092aed4475688af2c05e839c84e": {
      "model_module": "@jupyter-widgets/controls",
      "model_module_version": "2.0.0",
      "model_name": "HTMLStyleModel",
      "state": {
       "description_width": "",
       "font_size": null,
       "text_color": null
      }
     },
     "61e1a07e5e554c76a590361fbf80cbfd": {
      "model_module": "@jupyter-widgets/controls",
      "model_module_version": "2.0.0",
      "model_name": "HTMLStyleModel",
      "state": {
       "description_width": "",
       "font_size": null,
       "text_color": null
      }
     },
     "6c8475a85d6a4ea0947bc1ca4fd8c410": {
      "model_module": "@jupyter-widgets/base",
      "model_module_version": "2.0.0",
      "model_name": "LayoutModel",
      "state": {}
     },
     "987fecb821c2462e9c932f66e61d5cf2": {
      "model_module": "@jupyter-widgets/base",
      "model_module_version": "2.0.0",
      "model_name": "LayoutModel",
      "state": {}
     },
     "ae552f2735fc4ce8b1ea8c5ebe841db5": {
      "model_module": "@jupyter-widgets/base",
      "model_module_version": "2.0.0",
      "model_name": "LayoutModel",
      "state": {}
     },
     "d4f1c50ce9ed4f41994350ef48ea39a1": {
      "model_module": "@jupyter-widgets/controls",
      "model_module_version": "2.0.0",
      "model_name": "HTMLStyleModel",
      "state": {
       "description_width": "",
       "font_size": null,
       "text_color": null
      }
     },
     "db118c1efa0a44f8b70f4d7ea51b0c08": {
      "model_module": "@jupyter-widgets/controls",
      "model_module_version": "2.0.0",
      "model_name": "ProgressStyleModel",
      "state": {
       "description_width": ""
      }
     },
     "df24a891f18040f3999d49381944e9b1": {
      "model_module": "@jupyter-widgets/controls",
      "model_module_version": "2.0.0",
      "model_name": "HTMLModel",
      "state": {
       "layout": "IPY_MODEL_6c8475a85d6a4ea0947bc1ca4fd8c410",
       "style": "IPY_MODEL_61e1a07e5e554c76a590361fbf80cbfd",
       "value": "100%"
      }
     },
     "e2593cdea0484f218139045815f50423": {
      "model_module": "@jupyter-widgets/base",
      "model_module_version": "2.0.0",
      "model_name": "LayoutModel",
      "state": {}
     },
     "ebc22afc36b146b4a643e199395dd938": {
      "model_module": "@jupyter-widgets/controls",
      "model_module_version": "2.0.0",
      "model_name": "HTMLModel",
      "state": {
       "layout": "IPY_MODEL_f0b28c04b75f4e5fad913097c3d25387",
       "style": "IPY_MODEL_22b32b9a370844aaae4c258250fc63fd",
       "value": " 1/1 [00:12&lt;00:00, 12.42s/it]"
      }
     },
     "ed407f58077e473087eb301a21d666dd": {
      "model_module": "@jupyter-widgets/controls",
      "model_module_version": "2.0.0",
      "model_name": "HTMLModel",
      "state": {
       "layout": "IPY_MODEL_ae552f2735fc4ce8b1ea8c5ebe841db5",
       "style": "IPY_MODEL_4d1d3092aed4475688af2c05e839c84e",
       "value": " 1/1 [01:07&lt;00:00, 67.04s/it]"
      }
     },
     "f0b28c04b75f4e5fad913097c3d25387": {
      "model_module": "@jupyter-widgets/base",
      "model_module_version": "2.0.0",
      "model_name": "LayoutModel",
      "state": {}
     },
     "f2c0b2ecb329414cbb177dbc26b3d379": {
      "model_module": "@jupyter-widgets/controls",
      "model_module_version": "2.0.0",
      "model_name": "ProgressStyleModel",
      "state": {
       "description_width": ""
      }
     },
     "f962916a52f947a8a9b6c19e1662b086": {
      "model_module": "@jupyter-widgets/controls",
      "model_module_version": "2.0.0",
      "model_name": "FloatProgressModel",
      "state": {
       "bar_style": "success",
       "layout": "IPY_MODEL_e2593cdea0484f218139045815f50423",
       "max": 1,
       "style": "IPY_MODEL_db118c1efa0a44f8b70f4d7ea51b0c08",
       "value": 1
      }
     },
     "fdc67f648af849308ce4e062da65f07a": {
      "model_module": "@jupyter-widgets/base",
      "model_module_version": "2.0.0",
      "model_name": "LayoutModel",
      "state": {}
     }
    },
    "version_major": 2,
    "version_minor": 0
   }
  }
 },
 "nbformat": 4,
 "nbformat_minor": 5
}
