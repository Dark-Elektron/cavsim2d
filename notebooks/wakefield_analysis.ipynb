{
 "cells": [
  {
   "cell_type": "code",
   "execution_count": 1,
   "id": "fd1da736-c303-4103-960f-d067edaf584b",
   "metadata": {},
   "outputs": [
    {
     "name": "stdout",
     "output_type": "stream",
     "text": [
      "\u001b[32mProject D:\\Dropbox\\CavityDesignHub\\MuCol_Study\\SimulationData\\ConsoleTest created successfully/already exists.\u001b[0m\n",
      "{   'TESLA': {   'Z_BS_15.2mm': {   'I0 [mA]': 1280.0,\n",
      "                                    'Nb [1e11]': 2.76,\n",
      "                                    'P_HOM [kW]': 9.555992124052215,\n",
      "                                    'R/Q [Ohm]': 219.24633413899738,\n",
      "                                    'k_FM [V/pC]': 0.3771526613717502,\n",
      "                                    'n cell': 2,\n",
      "                                    'sigma_z [mm]': 15.2,\n",
      "                                    '|k_kick| [V/pC/m]': 10.64,\n",
      "                                    '|k_loss| [V/pC]': 0.546},\n",
      "                 'Z_SR_4.32mm': {   'I0 [mA]': 1280.0,\n",
      "                                    'Nb [1e11]': 2.76,\n",
      "                                    'P_HOM [kW]': 41.45272408251023,\n",
      "                                    'R/Q [Ohm]': 219.24633413899738,\n",
      "                                    'k_FM [V/pC]': 0.44156091367988576,\n",
      "                                    'n cell': 2,\n",
      "                                    'sigma_z [mm]': 4.32,\n",
      "                                    '|k_kick| [V/pC/m]': 8.658,\n",
      "                                    '|k_loss| [V/pC]': 1.174}}}\n"
     ]
    }
   ],
   "source": [
    "import sys\n",
    "sys.path.append(\"..\")\n",
    "import pprint\n",
    "pp = pprint.PrettyPrinter(indent=4)\n",
    "from cavsim2d.cavity import Cavity, Cavities\n",
    "\n",
    "cavs = Cavities()\n",
    "cavs.save(project_folder='D:\\Dropbox\\CavityDesignHub\\MuCol_Study\\SimulationData\\ConsoleTest')\n",
    "\n",
    "# define geometry parameters\n",
    "n_cells = 2\n",
    "midcell = [42, 42, 12, 19, 35, 57.7, 103.353]  # <- A, B, a, b, Ri, L, Req\n",
    "endcell_l = [40.34, 40.34, 10, 13.5, 39, 55.716, 103.353]\n",
    "endcell_r = [42, 42, 9, 12.8, 39, 56.815, 103.353]\n",
    "\n",
    "# create cavity\n",
    "tesla = Cavity(n_cells, midcell, endcell_l,endcell_r, beampipe='none')\n",
    "cavs.add_cavity([tesla], names=['TESLA'], plot_labels=['TESLA'])\n",
    "\n",
    "op_points = {\n",
    "            \"Z\": {\n",
    "                \"freq [MHz]\": 400.79,  # Operating frequency\n",
    "                \"E [GeV]\": 45.6,  # <- Beam energy\n",
    "                \"I0 [mA]\": 1280,  # <- Beam current\n",
    "                \"V [GV]\": 0.12,  # <- Total voltage\n",
    "                \"Eacc [MV/m]\": 5.72,  # <- Accelerating field\n",
    "                \"nu_s []\": 0.0370,  # <- Synchrotron oscillation tune\n",
    "                \"alpha_p [1e-5]\": 2.85,  # <- Momentum compaction factor\n",
    "                \"tau_z [ms]\": 354.91,  # <- Longitudinal damping time\n",
    "                \"tau_xy [ms]\": 709.82,  # <- Transverse damping time\n",
    "                \"f_rev [kHz]\": 3.07,  # <- Revolution frequency\n",
    "                \"beta_xy [m]\": 56,  # <- Beta function\n",
    "                \"N_c []\": 56,  # <- Number of cavities\n",
    "                \"T [K]\": 4.5,  # <- Operating tempereature\n",
    "                \"sigma_SR [mm]\": 4.32,  # <- Bunch length\n",
    "                \"sigma_BS [mm]\": 15.2,  # <- Bunch length\n",
    "                \"Nb [1e11]\": 2.76  # <- Bunch population\n",
    "            }\n",
    "}\n",
    "\n",
    "wakefield_config = {\n",
    "    'bunch_length': 25,\n",
    "    'wakelength': 50,\n",
    "    'processes': 2,\n",
    "    'rerun': True,\n",
    "    'operating_points': op_points,\n",
    "    # 'uq_config': {\n",
    "    #     'variables': ['A'],\n",
    "    #     # 'objectives': [\"freq [MHz]\", \"R/Q [Ohm]\", \"Epk/Eacc []\", \"Bpk/Eacc [mT/MV/m]\", \"G [Ohm]\", \"kcc [%]\", \"ff [%]\"],\n",
    "    #     'objectives': [[\"ZL\", [1, 2, 5]], [\"ZT\", [2, 3, 4]]],\n",
    "    #     # 'objectives': [\"ZL\"],\n",
    "    #     'delta': [0.05],\n",
    "    #     'processes': 4,\n",
    "    #     'distribution': 'gaussian',\n",
    "    #     # 'method': ['QMC', 'LHS', 1000],\n",
    "    #     # 'method': ['QMC', 'Sobol', 1000],\n",
    "    #     # 'method': ['Qudrature', 'Gaussian', 1000],\n",
    "    #     'method': ['Quadrature', 'Stroud3'],\n",
    "    #     # 'method': ['Quadrature', 'Stroud5'],\n",
    "    #     # 'gaussian': ['Quadrature', 'Gaussian'],\n",
    "    #     # 'from file': ['<file path>', columns],\n",
    "    #     'cell_type': 'mid-cell',\n",
    "    #     'cell complexity': 'simplecell'\n",
    "    #     }\n",
    "}\n",
    "cavs.run_wakefield(wakefield_config)\n",
    "pp.pprint(cavs.wakefield_qois)"
   ]
  },
  {
   "cell_type": "code",
   "execution_count": 2,
   "id": "50ba12f9-6927-42db-b6a1-6d70d6fa6c66",
   "metadata": {},
   "outputs": [
    {
     "data": {
      "text/plain": [
       "{'$k_\\\\parallel$': <Axes: label='$k_\\\\parallel$', ylabel='$k_\\\\parallel$'>,\n",
       " '$k_\\\\perp$': <Axes: label='$k_\\\\perp$', ylabel='$k_\\\\perp$'>,\n",
       " '$p_\\\\mathrm{HOM}/cav$': <Axes: label='$p_\\\\mathrm{HOM}/cav$', ylabel='$p_\\\\mathrm{HOM}/cav$'>}"
      ]
     },
     "execution_count": 2,
     "metadata": {},
     "output_type": "execute_result"
    },
    {
     "data": {
      "image/png": "[encoded data removed]",
      "text/plain": [
       "<Figure size 333.333x300 with 3 Axes>"
      ]
     },
     "metadata": {},
     "output_type": "display_data"
    }
   ],
   "source": [
    "cavs.plot_compare_hom_bar('Z_SR_4.32mm')"
   ]
  }
 ],
 "metadata": {
  "kernelspec": {
   "display_name": "Python 3 (ipykernel)",
   "language": "python",
   "name": "python3"
  },
  "language_info": {
   "codemirror_mode": {
    "name": "ipython",
    "version": 3
   },
   "file_extension": ".py",
   "mimetype": "text/x-python",
   "name": "python",
   "nbconvert_exporter": "python",
   "pygments_lexer": "ipython3",
   "version": "3.11.9"
  },
  "widgets": {
   "application/vnd.jupyter.widget-state+json": {
    "state": {},
    "version_major": 2,
    "version_minor": 0
   }
  }
 },
 "nbformat": 4,
 "nbformat_minor": 5
}
