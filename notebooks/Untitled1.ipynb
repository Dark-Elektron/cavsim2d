{
 "cells": [
  {
   "cell_type": "code",
   "execution_count": 1,
   "id": "5b1cad54-7f16-4727-9ec5-c9a4c94679cc",
   "metadata": {},
   "outputs": [
    {
     "data": {
      "text/html": [
       "<style>p{background: -webkit-linear-gradient(#eee, #333);-webkit-background-clip: text; webkit-text-fill-color: transparent; }</style> <p><b>CAV-SIM-2D</b> loaded successfully!</p>"
      ],
      "text/plain": [
       "<IPython.core.display.HTML object>"
      ]
     },
     "metadata": {},
     "output_type": "display_data"
    },
    {
     "name": "stdout",
     "output_type": "stream",
     "text": [
      "\u001b[32mProject D:\\Dropbox\\CavityDesignHub\\MuCol_Study\\SimulationData\\ConsoleTest created successfully/already exists.\u001b[0m\n"
     ]
    }
   ],
   "source": [
    "import sys\n",
    "sys.path.append(\"..\")\n",
    "from cavsim2d.cavity import Cavity, Cavities\n",
    "\n",
    "cavs = Cavities()\n",
    "cavs.save(project_folder='D:\\Dropbox\\CavityDesignHub\\MuCol_Study\\SimulationData\\ConsoleTest')"
   ]
  },
  {
   "cell_type": "code",
   "execution_count": 3,
   "id": "72cffb66-bb08-4dac-ae62-30b7cc74d410",
   "metadata": {},
   "outputs": [],
   "source": [
    "# define geometry parameters\n",
    "n_cells = 9\n",
    "midcell = [42, 42, 12, 19, 35, 57.7, 103.353]  # <- A, B, a, b, Ri, L, Req\n",
    "endcell_l = [40.34, 40.34, 10, 13.5, 39, 55.716, 103.353]\n",
    "endcell_r = [42, 42, 9, 12.8, 39, 56.815, 103.353]\n",
    "\n",
    "# create cavity\n",
    "tesla = Cavity(9, midcell, endcell_l, endcell_r, beampipe='both')"
   ]
  },
  {
   "cell_type": "code",
   "execution_count": null,
   "id": "b2367083-2a23-404f-a0be-b06ede0661d3",
   "metadata": {},
   "outputs": [],
   "source": []
  }
 ],
 "metadata": {
  "kernelspec": {
   "display_name": "Python 3 (ipykernel)",
   "language": "python",
   "name": "python3"
  },
  "language_info": {
   "codemirror_mode": {
    "name": "ipython",
    "version": 3
   },
   "file_extension": ".py",
   "mimetype": "text/x-python",
   "name": "python",
   "nbconvert_exporter": "python",
   "pygments_lexer": "ipython3",
   "version": "3.11.9"
  },
  "widgets": {
   "application/vnd.jupyter.widget-state+json": {
    "state": {},
    "version_major": 2,
    "version_minor": 0
   }
  }
 },
 "nbformat": 4,
 "nbformat_minor": 5
}
