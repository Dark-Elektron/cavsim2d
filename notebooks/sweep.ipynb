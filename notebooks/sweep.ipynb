{
 "cells": [
  {
   "cell_type": "code",
   "execution_count": 1,
   "id": "91ef0e05-cf27-4507-b8f9-af615e596f72",
   "metadata": {},
   "outputs": [
    {
     "data": {
      "text/html": [
       "<style>p{background: -webkit-linear-gradient(#eee, #333);-webkit-background-clip: text; webkit-text-fill-color: transparent; }</style> <p><b>CAV-SIM-2D</b> loaded successfully!</p>"
      ],
      "text/plain": [
       "<IPython.core.display.HTML object>"
      ]
     },
     "metadata": {},
     "output_type": "display_data"
    }
   ],
   "source": [
    "import sys\n",
    "sys.path.append(\"..\")\n",
    "import numpy as np\n",
    "import json\n",
    "import matplotlib\n",
    "import matplotlib.pyplot as plt\n",
    "plt.ion()\n",
    "%matplotlib inline\n",
    "from cavsim2d.cavity import Cavity, Cavities, OperationPoints, Pillbox\n",
    "import pprint\n",
    "pp = pprint.PrettyPrinter(indent=4)"
   ]
  },
  {
   "cell_type": "code",
   "execution_count": 2,
   "id": "5b41e547-b301-4c3d-b2a9-24d5bcfa5e6e",
   "metadata": {},
   "outputs": [
    {
     "name": "stdout",
     "output_type": "stream",
     "text": [
      "\u001b[32mProject D:\\Dropbox\\CavityDesignHub\\MuCol_Study\\SimulationData\\ConsoleTest created successfully/already exists.\u001b[0m\n"
     ]
    },
    {
     "data": {
      "image/png": "[encoded data removed]",
      "text/plain": [
       "<Figure size 1200x600 with 1 Axes>"
      ]
     },
     "metadata": {},
     "output_type": "display_data"
    }
   ],
   "source": [
    "cavs = Cavities([])\n",
    "# must first save cavities\n",
    "cavs.save('D:\\Dropbox\\CavityDesignHub\\MuCol_Study\\SimulationData\\ConsoleTest')\n",
    "\n",
    "# define geometry parameters\n",
    "midcell = np.array([42, 42, 12, 19, 35, 57.7, 100])\n",
    "endcell_l = np.array([40.34, 40.34, 10, 13.5, 39, 55.716, 103.353])\n",
    "endcell_r = np.array([42, 42, 9, 12.8, 39, 56.815, 103.353])\n",
    "# create cavity\n",
    "cav0 = Cavity(3, midcell, endcell_l, endcell_r, beampipe='both')\n",
    "ax = cav0.plot('geometry')\n",
    "\n",
    "# add cavity to cavities\n",
    "cavs.add_cavity(cav0, 'tesla')"
   ]
  },
  {
   "cell_type": "code",
   "execution_count": 3,
   "id": "6949ed77-86ff-46fd-8165-806235fa4316",
   "metadata": {},
   "outputs": [
    {
     "data": {
      "application/vnd.jupyter.widget-view+json": {
       "model_id": "df24b53b3e424caf8ede3e232f662017",
       "version_major": 2,
       "version_minor": 0
      },
      "text/plain": [
       "  0%|          | 0/1 [00:00<?, ?it/s]"
      ]
     },
     "metadata": {},
     "output_type": "display_data"
    },
    {
     "data": {
      "application/vnd.jupyter.widget-view+json": {
       "model_id": "0991cd1a6794423ca3af350689f7b598",
       "version_major": 2,
       "version_minor": 0
      },
      "text/plain": [
       "  0%|          | 0/1 [00:00<?, ?it/s]"
      ]
     },
     "metadata": {},
     "output_type": "display_data"
    },
    {
     "name": "stdout",
     "output_type": "stream",
     "text": [
      "\u001b[32mDone with Cavity tesla. Time: 12.043213605880737\u001b[0m\n"
     ]
    },
    {
     "data": {
      "application/vnd.jupyter.widget-view+json": {
       "model_id": "24e87c341dbf40788af1e6697d14bfbe",
       "version_major": 2,
       "version_minor": 0
      },
      "text/plain": [
       "  0%|          | 0/1 [00:00<?, ?it/s]"
      ]
     },
     "metadata": {},
     "output_type": "display_data"
    },
    {
     "name": "stdout",
     "output_type": "stream",
     "text": [
      "\u001b[32mDone with Cavity tesla. Time: 12.225771188735962\u001b[0m\n"
     ]
    },
    {
     "data": {
      "application/vnd.jupyter.widget-view+json": {
       "model_id": "23fb17607e91411aa501b5cdda43c695",
       "version_major": 2,
       "version_minor": 0
      },
      "text/plain": [
       "  0%|          | 0/1 [00:00<?, ?it/s]"
      ]
     },
     "metadata": {},
     "output_type": "display_data"
    },
    {
     "name": "stdout",
     "output_type": "stream",
     "text": [
      "\u001b[32mDone with Cavity tesla. Time: 12.151230096817017\u001b[0m\n"
     ]
    },
    {
     "data": {
      "application/vnd.jupyter.widget-view+json": {
       "model_id": "0334bdf0d1ec499494b135bedf513d0f",
       "version_major": 2,
       "version_minor": 0
      },
      "text/plain": [
       "  0%|          | 0/1 [00:00<?, ?it/s]"
      ]
     },
     "metadata": {},
     "output_type": "display_data"
    },
    {
     "name": "stdout",
     "output_type": "stream",
     "text": [
      "\u001b[32mDone with Cavity tesla. Time: 12.74089527130127\u001b[0m\n"
     ]
    },
    {
     "data": {
      "application/vnd.jupyter.widget-view+json": {
       "model_id": "a6152319c8754b199ca33909768300cc",
       "version_major": 2,
       "version_minor": 0
      },
      "text/plain": [
       "  0%|          | 0/1 [00:00<?, ?it/s]"
      ]
     },
     "metadata": {},
     "output_type": "display_data"
    },
    {
     "name": "stdout",
     "output_type": "stream",
     "text": [
      "\u001b[32mDone with Cavity tesla. Time: 11.466621160507202\u001b[0m\n"
     ]
    },
    {
     "data": {
      "application/vnd.jupyter.widget-view+json": {
       "model_id": "8d95f8815e0f4db3b6a302eb5f60bf4d",
       "version_major": 2,
       "version_minor": 0
      },
      "text/plain": [
       "  0%|          | 0/1 [00:00<?, ?it/s]"
      ]
     },
     "metadata": {},
     "output_type": "display_data"
    },
    {
     "name": "stdout",
     "output_type": "stream",
     "text": [
      "\u001b[32mDone with Cavity tesla. Time: 12.623839855194092\u001b[0m\n"
     ]
    },
    {
     "data": {
      "application/vnd.jupyter.widget-view+json": {
       "model_id": "17466a3f71b74ebda0a08ca6c7c9aad3",
       "version_major": 2,
       "version_minor": 0
      },
      "text/plain": [
       "  0%|          | 0/1 [00:00<?, ?it/s]"
      ]
     },
     "metadata": {},
     "output_type": "display_data"
    },
    {
     "name": "stdout",
     "output_type": "stream",
     "text": [
      "\u001b[32mDone with Cavity tesla. Time: 10.588998794555664\u001b[0m\n"
     ]
    },
    {
     "data": {
      "application/vnd.jupyter.widget-view+json": {
       "model_id": "b76d07c5cc634cb49af9bc7bca823fb1",
       "version_major": 2,
       "version_minor": 0
      },
      "text/plain": [
       "  0%|          | 0/1 [00:00<?, ?it/s]"
      ]
     },
     "metadata": {},
     "output_type": "display_data"
    },
    {
     "name": "stdout",
     "output_type": "stream",
     "text": [
      "\u001b[32mDone with Cavity tesla. Time: 9.008992910385132\u001b[0m\n"
     ]
    },
    {
     "data": {
      "application/vnd.jupyter.widget-view+json": {
       "model_id": "fe8ab9dc21924f8285d80d7e1ca99078",
       "version_major": 2,
       "version_minor": 0
      },
      "text/plain": [
       "  0%|          | 0/1 [00:00<?, ?it/s]"
      ]
     },
     "metadata": {},
     "output_type": "display_data"
    },
    {
     "name": "stdout",
     "output_type": "stream",
     "text": [
      "\u001b[31mParameter set leads to degenerate geometry.\u001b[0m\n",
      "\u001b[31mCould not run eigenmode analysis due to error in geometry.\u001b[0m\n",
      "\u001b[32mDone with Cavity tesla. Time: 0.004992008209228516\u001b[0m\n",
      "\u001b[31mCould not find eigenmode results. Please rerun eigenmode analysis.\u001b[0m\n"
     ]
    },
    {
     "data": {
      "application/vnd.jupyter.widget-view+json": {
       "model_id": "767b0fe7cc224014b53ea14454b60e7c",
       "version_major": 2,
       "version_minor": 0
      },
      "text/plain": [
       "  0%|          | 0/1 [00:00<?, ?it/s]"
      ]
     },
     "metadata": {},
     "output_type": "display_data"
    },
    {
     "name": "stdout",
     "output_type": "stream",
     "text": [
      "\u001b[31mParameter set leads to degenerate geometry.\u001b[0m\n",
      "\u001b[31mCould not run eigenmode analysis due to error in geometry.\u001b[0m\n",
      "\u001b[32mDone with Cavity tesla. Time: 0.0029938220977783203\u001b[0m\n",
      "\u001b[31mCould not find eigenmode results. Please rerun eigenmode analysis.\u001b[0m\n"
     ]
    }
   ],
   "source": [
    "# run sweep\n",
    "sweep_config = {\n",
    "    'A': [30, 50, 10]\n",
    "}\n",
    "\n",
    "cavs.sweep(sweep_config)"
   ]
  },
  {
   "cell_type": "code",
   "execution_count": 4,
   "id": "4f816217-8cbd-4bc0-af8d-1cf519d9a380",
   "metadata": {},
   "outputs": [],
   "source": [
    "import pandas as pd\n",
    "cavs.sweep_results['tesla']\n",
    "sr = pd.DataFrame.from_dict(cavs.sweep_results['tesla']['A']).T"
   ]
  },
  {
   "cell_type": "code",
   "execution_count": 5,
   "id": "2a66daca-9190-4c2e-b01d-479f45869ba7",
   "metadata": {},
   "outputs": [
    {
     "data": {
      "text/plain": [
       "<Axes: >"
      ]
     },
     "execution_count": 5,
     "metadata": {},
     "output_type": "execute_result"
    },
    {
     "data": {
      "image/png": "[encoded data removed]",
      "text/plain": [
       "<Figure size 640x480 with 1 Axes>"
      ]
     },
     "metadata": {},
     "output_type": "display_data"
    }
   ],
   "source": [
    "sr[['Bpk/Eacc [mT/MV/m]']].plot(marker='o')"
   ]
  },
  {
   "cell_type": "code",
   "execution_count": null,
   "id": "3350fb82-19b8-4171-8d6d-b186701048d1",
   "metadata": {},
   "outputs": [],
   "source": []
  }
 ],
 "metadata": {
  "kernelspec": {
   "display_name": "Python 3 (ipykernel)",
   "language": "python",
   "name": "python3"
  },
  "language_info": {
   "codemirror_mode": {
    "name": "ipython",
    "version": 3
   },
   "file_extension": ".py",
   "mimetype": "text/x-python",
   "name": "python",
   "nbconvert_exporter": "python",
   "pygments_lexer": "ipython3",
   "version": "3.11.9"
  },
  "widgets": {
   "application/vnd.jupyter.widget-state+json": {
    "state": {
     "032d434d655c427da7e402a8102630cc": {
      "model_module": "@jupyter-widgets/base",
      "model_module_version": "2.0.0",
      "model_name": "LayoutModel",
      "state": {}
     },
     "0334bdf0d1ec499494b135bedf513d0f": {
      "model_module": "@jupyter-widgets/controls",
      "model_module_version": "2.0.0",
      "model_name": "HBoxModel",
      "state": {
       "children": [
        "IPY_MODEL_23814384374b4b1681a30e6bf7da82e6",
        "IPY_MODEL_6315c3fd8f8b4fd09d8c6c4cfb85ec37",
        "IPY_MODEL_6464e14b06b34cd190312ace46e4f295"
       ],
       "layout": "IPY_MODEL_7bdab20ea7b8438d9bfc1a535f2b5b10"
      }
     },
     "0429204e07f84ba0aeb980a7931ec8a3": {
      "model_module": "@jupyter-widgets/controls",
      "model_module_version": "2.0.0",
      "model_name": "HTMLStyleModel",
      "state": {
       "description_width": "",
       "font_size": null,
       "text_color": null
      }
     },
     "0435dd678c144c278ce2e69ef90828e1": {
      "model_module": "@jupyter-widgets/base",
      "model_module_version": "2.0.0",
      "model_name": "LayoutModel",
      "state": {}
     },
     "05c122605f3b429995790275971a613f": {
      "model_module": "@jupyter-widgets/controls",
      "model_module_version": "2.0.0",
      "model_name": "HTMLModel",
      "state": {
       "layout": "IPY_MODEL_032d434d655c427da7e402a8102630cc",
       "style": "IPY_MODEL_748944c6ea11477190599555c29100c4",
       "value": "100%"
      }
     },
     "061a02a4f9aa4a378fc1a50135136460": {
      "model_module": "@jupyter-widgets/controls",
      "model_module_version": "2.0.0",
      "model_name": "ProgressStyleModel",
      "state": {
       "description_width": ""
      }
     },
     "07746a0d558e40d5b8aca2e78ea6ef5d": {
      "model_module": "@jupyter-widgets/controls",
      "model_module_version": "2.0.0",
      "model_name": "ProgressStyleModel",
      "state": {
       "description_width": ""
      }
     },
     "0991cd1a6794423ca3af350689f7b598": {
      "model_module": "@jupyter-widgets/controls",
      "model_module_version": "2.0.0",
      "model_name": "HBoxModel",
      "state": {
       "children": [
        "IPY_MODEL_bc0e187751d64db9abb6907bfc03b5cc",
        "IPY_MODEL_6bc3322393ad4a21a47ea1f9d7e33495",
        "IPY_MODEL_f8960ece08ec4f058b899abd6588b8e5"
       ],
       "layout": "IPY_MODEL_7ba737ac8b22437fb70f654ef98d42f0"
      }
     },
     "12005b6597904d7e9b38f32bfc830e6a": {
      "model_module": "@jupyter-widgets/controls",
      "model_module_version": "2.0.0",
      "model_name": "HTMLModel",
      "state": {
       "layout": "IPY_MODEL_544b1d85d01743c5be3e9389fcfbb5c9",
       "style": "IPY_MODEL_df93f3cbf66c4f7b93f67c6adad39e97",
       "value": "  0%"
      }
     },
     "166dccf9829e437fb6b5437ef0e6d075": {
      "model_module": "@jupyter-widgets/base",
      "model_module_version": "2.0.0",
      "model_name": "LayoutModel",
      "state": {}
     },
     "17466a3f71b74ebda0a08ca6c7c9aad3": {
      "model_module": "@jupyter-widgets/controls",
      "model_module_version": "2.0.0",
      "model_name": "HBoxModel",
      "state": {
       "children": [
        "IPY_MODEL_5431e26c812b413f9c79561111b71d66",
        "IPY_MODEL_bf971c36cb3b4669a4208c9513e294ef",
        "IPY_MODEL_b2f2661776a0476299484494f7aa3c0f"
       ],
       "layout": "IPY_MODEL_68ca7c3405e849a9a88cc5578ac491ca"
      }
     },
     "192c9922a68f4ebcb9cbb95c0db02a8d": {
      "model_module": "@jupyter-widgets/controls",
      "model_module_version": "2.0.0",
      "model_name": "HTMLStyleModel",
      "state": {
       "description_width": "",
       "font_size": null,
       "text_color": null
      }
     },
     "19f2be5cc5464c50b2f58dff840806ed": {
      "model_module": "@jupyter-widgets/base",
      "model_module_version": "2.0.0",
      "model_name": "LayoutModel",
      "state": {}
     },
     "1f62ae7c9b4f449bb52f2def49a6ec8a": {
      "model_module": "@jupyter-widgets/controls",
      "model_module_version": "2.0.0",
      "model_name": "FloatProgressModel",
      "state": {
       "bar_style": "danger",
       "layout": "IPY_MODEL_3a6ad004bd6b4bc2b381836ed5d5899d",
       "max": 1,
       "style": "IPY_MODEL_07746a0d558e40d5b8aca2e78ea6ef5d"
      }
     },
     "23814384374b4b1681a30e6bf7da82e6": {
      "model_module": "@jupyter-widgets/controls",
      "model_module_version": "2.0.0",
      "model_name": "HTMLModel",
      "state": {
       "layout": "IPY_MODEL_acaf918bec7049c3b50cbc7f4cca9bdf",
       "style": "IPY_MODEL_8d29c325515146e0bf69bb4a92eef242",
       "value": "  0%"
      }
     },
     "23fb17607e91411aa501b5cdda43c695": {
      "model_module": "@jupyter-widgets/controls",
      "model_module_version": "2.0.0",
      "model_name": "HBoxModel",
      "state": {
       "children": [
        "IPY_MODEL_4694f533abf940adb7a912b3ebef8516",
        "IPY_MODEL_e52404edaad2429db77efb94ae86f3cc",
        "IPY_MODEL_dc1c93ea5fad4ffd8630167026e21957"
       ],
       "layout": "IPY_MODEL_a1627bbf343b4eae906e16d9a25ccf54"
      }
     },
     "24e87c341dbf40788af1e6697d14bfbe": {
      "model_module": "@jupyter-widgets/controls",
      "model_module_version": "2.0.0",
      "model_name": "HBoxModel",
      "state": {
       "children": [
        "IPY_MODEL_8504ba9d3dfb40a087f449998126ee89",
        "IPY_MODEL_724cb481d1f94993b00e13fc99e81457",
        "IPY_MODEL_637f100cfd9647929fb730a24650ffa7"
       ],
       "layout": "IPY_MODEL_46b9d6330f204601aa65faa410ecf919"
      }
     },
     "27109fca95ea4c9685921e6889d4c086": {
      "model_module": "@jupyter-widgets/controls",
      "model_module_version": "2.0.0",
      "model_name": "ProgressStyleModel",
      "state": {
       "description_width": ""
      }
     },
     "27671aba5be140f380b3711a4c14672d": {
      "model_module": "@jupyter-widgets/controls",
      "model_module_version": "2.0.0",
      "model_name": "ProgressStyleModel",
      "state": {
       "description_width": ""
      }
     },
     "28fa27db88b84327bbfa634da50187a0": {
      "model_module": "@jupyter-widgets/base",
      "model_module_version": "2.0.0",
      "model_name": "LayoutModel",
      "state": {}
     },
     "30a3d2a249844cfb80965c23f886e8ac": {
      "model_module": "@jupyter-widgets/base",
      "model_module_version": "2.0.0",
      "model_name": "LayoutModel",
      "state": {}
     },
     "34ecf76f0c7d4d62ac52c2f4349570f9": {
      "model_module": "@jupyter-widgets/base",
      "model_module_version": "2.0.0",
      "model_name": "LayoutModel",
      "state": {}
     },
     "3708acb45ee74d629dab4e34d6779441": {
      "model_module": "@jupyter-widgets/base",
      "model_module_version": "2.0.0",
      "model_name": "LayoutModel",
      "state": {}
     },
     "37632f7562a541fab32872d51f8fa2c4": {
      "model_module": "@jupyter-widgets/base",
      "model_module_version": "2.0.0",
      "model_name": "LayoutModel",
      "state": {}
     },
     "3852aaee5a874094b1c86ea1e5cf1879": {
      "model_module": "@jupyter-widgets/controls",
      "model_module_version": "2.0.0",
      "model_name": "HTMLModel",
      "state": {
       "layout": "IPY_MODEL_acec631e71104a01a96c667628ed4f55",
       "style": "IPY_MODEL_8e54726e348b48fe9d41db2209c73948",
       "value": "  0%"
      }
     },
     "3a6ad004bd6b4bc2b381836ed5d5899d": {
      "model_module": "@jupyter-widgets/base",
      "model_module_version": "2.0.0",
      "model_name": "LayoutModel",
      "state": {}
     },
     "3c20f734d7b845a7b7c77cc2510367f9": {
      "model_module": "@jupyter-widgets/controls",
      "model_module_version": "2.0.0",
      "model_name": "HTMLStyleModel",
      "state": {
       "description_width": "",
       "font_size": null,
       "text_color": null
      }
     },
     "449995e3d8924eec96ad4b6d41dbb081": {
      "model_module": "@jupyter-widgets/controls",
      "model_module_version": "2.0.0",
      "model_name": "HTMLModel",
      "state": {
       "layout": "IPY_MODEL_acb742e58eb94b92a0306fbb07c8729a",
       "style": "IPY_MODEL_3c20f734d7b845a7b7c77cc2510367f9",
       "value": " 0/1 [00:11&lt;?, ?it/s]"
      }
     },
     "467ed931e4d64812b76ffe70dcaafb21": {
      "model_module": "@jupyter-widgets/base",
      "model_module_version": "2.0.0",
      "model_name": "LayoutModel",
      "state": {}
     },
     "4694f533abf940adb7a912b3ebef8516": {
      "model_module": "@jupyter-widgets/controls",
      "model_module_version": "2.0.0",
      "model_name": "HTMLModel",
      "state": {
       "layout": "IPY_MODEL_bd0eaedcbcb04d2cb03151b4f74e5f0a",
       "style": "IPY_MODEL_b9de4b11040448869104c2bb18fe0087",
       "value": "  0%"
      }
     },
     "46b9d6330f204601aa65faa410ecf919": {
      "model_module": "@jupyter-widgets/base",
      "model_module_version": "2.0.0",
      "model_name": "LayoutModel",
      "state": {}
     },
     "5431e26c812b413f9c79561111b71d66": {
      "model_module": "@jupyter-widgets/controls",
      "model_module_version": "2.0.0",
      "model_name": "HTMLModel",
      "state": {
       "layout": "IPY_MODEL_c4505ad000e44809bbef8c84009ac684",
       "style": "IPY_MODEL_75bd6aa43b6c4e75b56d1e10d5f15073",
       "value": "  0%"
      }
     },
     "544b1d85d01743c5be3e9389fcfbb5c9": {
      "model_module": "@jupyter-widgets/base",
      "model_module_version": "2.0.0",
      "model_name": "LayoutModel",
      "state": {}
     },
     "55416e0eb9ff4a1ba1ca2777118dee65": {
      "model_module": "@jupyter-widgets/controls",
      "model_module_version": "2.0.0",
      "model_name": "FloatProgressModel",
      "state": {
       "bar_style": "danger",
       "layout": "IPY_MODEL_166dccf9829e437fb6b5437ef0e6d075",
       "max": 1,
       "style": "IPY_MODEL_971720ae2bb74633b8f2b21a4fb91442"
      }
     },
     "56712dae79ea42f3a0e05908fd1d63a3": {
      "model_module": "@jupyter-widgets/base",
      "model_module_version": "2.0.0",
      "model_name": "LayoutModel",
      "state": {}
     },
     "5e078cbfec644e7f840ad014fa39d5a7": {
      "model_module": "@jupyter-widgets/controls",
      "model_module_version": "2.0.0",
      "model_name": "HTMLModel",
      "state": {
       "layout": "IPY_MODEL_f0c19a9d3b244225b9bf2e5a4eeaefa8",
       "style": "IPY_MODEL_bc233a36fd01470589a786126f8253eb",
       "value": " 0/1 [00:09&lt;?, ?it/s]"
      }
     },
     "5ee72f71328f409cadb07c58655f6b61": {
      "model_module": "@jupyter-widgets/controls",
      "model_module_version": "2.0.0",
      "model_name": "ProgressStyleModel",
      "state": {
       "description_width": ""
      }
     },
     "618523b5bcc74b6a849330913cf646c6": {
      "model_module": "@jupyter-widgets/base",
      "model_module_version": "2.0.0",
      "model_name": "LayoutModel",
      "state": {}
     },
     "62dd0b8f54cb44098697c66d857068fc": {
      "model_module": "@jupyter-widgets/controls",
      "model_module_version": "2.0.0",
      "model_name": "ProgressStyleModel",
      "state": {
       "description_width": ""
      }
     },
     "6315c3fd8f8b4fd09d8c6c4cfb85ec37": {
      "model_module": "@jupyter-widgets/controls",
      "model_module_version": "2.0.0",
      "model_name": "FloatProgressModel",
      "state": {
       "bar_style": "danger",
       "layout": "IPY_MODEL_676b74a77f564b18aa4821ffb0a50c8b",
       "max": 1,
       "style": "IPY_MODEL_061a02a4f9aa4a378fc1a50135136460"
      }
     },
     "637f100cfd9647929fb730a24650ffa7": {
      "model_module": "@jupyter-widgets/controls",
      "model_module_version": "2.0.0",
      "model_name": "HTMLModel",
      "state": {
       "layout": "IPY_MODEL_ba734146be6b47dbb2ae24e682476247",
       "style": "IPY_MODEL_65afd45edbc241d3bc11c167a9d1f2f9",
       "value": " 0/1 [00:12&lt;?, ?it/s]"
      }
     },
     "6417c1d6251e4fb5b1d560a3e69a4c2d": {
      "model_module": "@jupyter-widgets/controls",
      "model_module_version": "2.0.0",
      "model_name": "HTMLStyleModel",
      "state": {
       "description_width": "",
       "font_size": null,
       "text_color": null
      }
     },
     "6464e14b06b34cd190312ace46e4f295": {
      "model_module": "@jupyter-widgets/controls",
      "model_module_version": "2.0.0",
      "model_name": "HTMLModel",
      "state": {
       "layout": "IPY_MODEL_e264a2771aea449a86746f42514b7506",
       "style": "IPY_MODEL_e2e41fa733df414fbccc980dd2513789",
       "value": " 0/1 [00:12&lt;?, ?it/s]"
      }
     },
     "65afd45edbc241d3bc11c167a9d1f2f9": {
      "model_module": "@jupyter-widgets/controls",
      "model_module_version": "2.0.0",
      "model_name": "HTMLStyleModel",
      "state": {
       "description_width": "",
       "font_size": null,
       "text_color": null
      }
     },
     "6666ccddbd974c5ca1ef01939aef2d48": {
      "model_module": "@jupyter-widgets/base",
      "model_module_version": "2.0.0",
      "model_name": "LayoutModel",
      "state": {}
     },
     "676b74a77f564b18aa4821ffb0a50c8b": {
      "model_module": "@jupyter-widgets/base",
      "model_module_version": "2.0.0",
      "model_name": "LayoutModel",
      "state": {}
     },
     "68ca7c3405e849a9a88cc5578ac491ca": {
      "model_module": "@jupyter-widgets/base",
      "model_module_version": "2.0.0",
      "model_name": "LayoutModel",
      "state": {}
     },
     "6aab425f3c8948c59303e1072dec9213": {
      "model_module": "@jupyter-widgets/controls",
      "model_module_version": "2.0.0",
      "model_name": "HTMLModel",
      "state": {
       "layout": "IPY_MODEL_34ecf76f0c7d4d62ac52c2f4349570f9",
       "style": "IPY_MODEL_81920c1985304916a542bb398b3286ae",
       "value": " 0/1 [00:00&lt;?, ?it/s]"
      }
     },
     "6bc3322393ad4a21a47ea1f9d7e33495": {
      "model_module": "@jupyter-widgets/controls",
      "model_module_version": "2.0.0",
      "model_name": "FloatProgressModel",
      "state": {
       "bar_style": "danger",
       "layout": "IPY_MODEL_b95300ca56b2429db75b20c4479e70e5",
       "max": 1,
       "style": "IPY_MODEL_e76a0a93b6894530bca21b50ea6b5c1c"
      }
     },
     "6c17ce8a37c04c39bdbbfb02cf3acb37": {
      "model_module": "@jupyter-widgets/controls",
      "model_module_version": "2.0.0",
      "model_name": "HTMLStyleModel",
      "state": {
       "description_width": "",
       "font_size": null,
       "text_color": null
      }
     },
     "6e487fe9eb13423ba8f2d185abb779fa": {
      "model_module": "@jupyter-widgets/controls",
      "model_module_version": "2.0.0",
      "model_name": "HTMLModel",
      "state": {
       "layout": "IPY_MODEL_19f2be5cc5464c50b2f58dff840806ed",
       "style": "IPY_MODEL_0429204e07f84ba0aeb980a7931ec8a3",
       "value": " 1/1 [01:32&lt;00:00, 93.00s/it]"
      }
     },
     "70c193ed404d4e90ab7c919578215c6e": {
      "model_module": "@jupyter-widgets/controls",
      "model_module_version": "2.0.0",
      "model_name": "HTMLStyleModel",
      "state": {
       "description_width": "",
       "font_size": null,
       "text_color": null
      }
     },
     "71c35d39490742a0a736bb6bad5bf97b": {
      "model_module": "@jupyter-widgets/base",
      "model_module_version": "2.0.0",
      "model_name": "LayoutModel",
      "state": {}
     },
     "724cb481d1f94993b00e13fc99e81457": {
      "model_module": "@jupyter-widgets/controls",
      "model_module_version": "2.0.0",
      "model_name": "FloatProgressModel",
      "state": {
       "bar_style": "danger",
       "layout": "IPY_MODEL_da0e012014fe47718b0dcee37faeffe3",
       "max": 1,
       "style": "IPY_MODEL_a78b9db3b42441ab8063d53f772a1eea"
      }
     },
     "748944c6ea11477190599555c29100c4": {
      "model_module": "@jupyter-widgets/controls",
      "model_module_version": "2.0.0",
      "model_name": "HTMLStyleModel",
      "state": {
       "description_width": "",
       "font_size": null,
       "text_color": null
      }
     },
     "75bd6aa43b6c4e75b56d1e10d5f15073": {
      "model_module": "@jupyter-widgets/controls",
      "model_module_version": "2.0.0",
      "model_name": "HTMLStyleModel",
      "state": {
       "description_width": "",
       "font_size": null,
       "text_color": null
      }
     },
     "767b0fe7cc224014b53ea14454b60e7c": {
      "model_module": "@jupyter-widgets/controls",
      "model_module_version": "2.0.0",
      "model_name": "HBoxModel",
      "state": {
       "children": [
        "IPY_MODEL_88d11f9814cb4a94bbb3875d8024d819",
        "IPY_MODEL_c21bcb601e8c46c4944137b3c52a49f1",
        "IPY_MODEL_6aab425f3c8948c59303e1072dec9213"
       ],
       "layout": "IPY_MODEL_79beae25147c46358a88a99ded5f1319"
      }
     },
     "79beae25147c46358a88a99ded5f1319": {
      "model_module": "@jupyter-widgets/base",
      "model_module_version": "2.0.0",
      "model_name": "LayoutModel",
      "state": {}
     },
     "7b8dd9578b174825b2763b19da2160a6": {
      "model_module": "@jupyter-widgets/controls",
      "model_module_version": "2.0.0",
      "model_name": "FloatProgressModel",
      "state": {
       "bar_style": "success",
       "layout": "IPY_MODEL_e7c29079eb3a4b8db2415cb10338b1c7",
       "max": 1,
       "style": "IPY_MODEL_62dd0b8f54cb44098697c66d857068fc",
       "value": 1
      }
     },
     "7ba737ac8b22437fb70f654ef98d42f0": {
      "model_module": "@jupyter-widgets/base",
      "model_module_version": "2.0.0",
      "model_name": "LayoutModel",
      "state": {}
     },
     "7bdab20ea7b8438d9bfc1a535f2b5b10": {
      "model_module": "@jupyter-widgets/base",
      "model_module_version": "2.0.0",
      "model_name": "LayoutModel",
      "state": {}
     },
     "8062721d10c247268bc5da1ca2171cf2": {
      "model_module": "@jupyter-widgets/base",
      "model_module_version": "2.0.0",
      "model_name": "LayoutModel",
      "state": {}
     },
     "81920c1985304916a542bb398b3286ae": {
      "model_module": "@jupyter-widgets/controls",
      "model_module_version": "2.0.0",
      "model_name": "HTMLStyleModel",
      "state": {
       "description_width": "",
       "font_size": null,
       "text_color": null
      }
     },
     "831e6824c5ad403e9a56721238307300": {
      "model_module": "@jupyter-widgets/base",
      "model_module_version": "2.0.0",
      "model_name": "LayoutModel",
      "state": {}
     },
     "8504ba9d3dfb40a087f449998126ee89": {
      "model_module": "@jupyter-widgets/controls",
      "model_module_version": "2.0.0",
      "model_name": "HTMLModel",
      "state": {
       "layout": "IPY_MODEL_37632f7562a541fab32872d51f8fa2c4",
       "style": "IPY_MODEL_fdbb738659f44334a9172f09de7a90b3",
       "value": "  0%"
      }
     },
     "86d1d4b7b3e44426a459e0fef3503d44": {
      "model_module": "@jupyter-widgets/controls",
      "model_module_version": "2.0.0",
      "model_name": "HTMLStyleModel",
      "state": {
       "description_width": "",
       "font_size": null,
       "text_color": null
      }
     },
     "88d11f9814cb4a94bbb3875d8024d819": {
      "model_module": "@jupyter-widgets/controls",
      "model_module_version": "2.0.0",
      "model_name": "HTMLModel",
      "state": {
       "layout": "IPY_MODEL_8062721d10c247268bc5da1ca2171cf2",
       "style": "IPY_MODEL_6c17ce8a37c04c39bdbbfb02cf3acb37",
       "value": "  0%"
      }
     },
     "8d29c325515146e0bf69bb4a92eef242": {
      "model_module": "@jupyter-widgets/controls",
      "model_module_version": "2.0.0",
      "model_name": "HTMLStyleModel",
      "state": {
       "description_width": "",
       "font_size": null,
       "text_color": null
      }
     },
     "8d95f8815e0f4db3b6a302eb5f60bf4d": {
      "model_module": "@jupyter-widgets/controls",
      "model_module_version": "2.0.0",
      "model_name": "HBoxModel",
      "state": {
       "children": [
        "IPY_MODEL_c7be2ab8c7c54e399555d7bbdb5c1718",
        "IPY_MODEL_1f62ae7c9b4f449bb52f2def49a6ec8a",
        "IPY_MODEL_94dacf7bb6eb4da7b169d6903e3dc0fb"
       ],
       "layout": "IPY_MODEL_cac239b0a769434aba5348b52867b05d"
      }
     },
     "8e54726e348b48fe9d41db2209c73948": {
      "model_module": "@jupyter-widgets/controls",
      "model_module_version": "2.0.0",
      "model_name": "HTMLStyleModel",
      "state": {
       "description_width": "",
       "font_size": null,
       "text_color": null
      }
     },
     "94dacf7bb6eb4da7b169d6903e3dc0fb": {
      "model_module": "@jupyter-widgets/controls",
      "model_module_version": "2.0.0",
      "model_name": "HTMLModel",
      "state": {
       "layout": "IPY_MODEL_6666ccddbd974c5ca1ef01939aef2d48",
       "style": "IPY_MODEL_70c193ed404d4e90ab7c919578215c6e",
       "value": " 0/1 [00:12&lt;?, ?it/s]"
      }
     },
     "971720ae2bb74633b8f2b21a4fb91442": {
      "model_module": "@jupyter-widgets/controls",
      "model_module_version": "2.0.0",
      "model_name": "ProgressStyleModel",
      "state": {
       "description_width": ""
      }
     },
     "97f4d1c03786418490ab357e2281289f": {
      "model_module": "@jupyter-widgets/controls",
      "model_module_version": "2.0.0",
      "model_name": "ProgressStyleModel",
      "state": {
       "description_width": ""
      }
     },
     "a1627bbf343b4eae906e16d9a25ccf54": {
      "model_module": "@jupyter-widgets/base",
      "model_module_version": "2.0.0",
      "model_name": "LayoutModel",
      "state": {}
     },
     "a6152319c8754b199ca33909768300cc": {
      "model_module": "@jupyter-widgets/controls",
      "model_module_version": "2.0.0",
      "model_name": "HBoxModel",
      "state": {
       "children": [
        "IPY_MODEL_ad11a757078443a58e5bb483888bcb12",
        "IPY_MODEL_55416e0eb9ff4a1ba1ca2777118dee65",
        "IPY_MODEL_449995e3d8924eec96ad4b6d41dbb081"
       ],
       "layout": "IPY_MODEL_30a3d2a249844cfb80965c23f886e8ac"
      }
     },
     "a78b9db3b42441ab8063d53f772a1eea": {
      "model_module": "@jupyter-widgets/controls",
      "model_module_version": "2.0.0",
      "model_name": "ProgressStyleModel",
      "state": {
       "description_width": ""
      }
     },
     "aab2efe2c51846d6b67dfebd00375b4b": {
      "model_module": "@jupyter-widgets/controls",
      "model_module_version": "2.0.0",
      "model_name": "HTMLModel",
      "state": {
       "layout": "IPY_MODEL_dbff5962c9c641208be9efa0210f5b26",
       "style": "IPY_MODEL_86d1d4b7b3e44426a459e0fef3503d44",
       "value": " 0/1 [00:00&lt;?, ?it/s]"
      }
     },
     "acaf918bec7049c3b50cbc7f4cca9bdf": {
      "model_module": "@jupyter-widgets/base",
      "model_module_version": "2.0.0",
      "model_name": "LayoutModel",
      "state": {}
     },
     "acb742e58eb94b92a0306fbb07c8729a": {
      "model_module": "@jupyter-widgets/base",
      "model_module_version": "2.0.0",
      "model_name": "LayoutModel",
      "state": {}
     },
     "acec631e71104a01a96c667628ed4f55": {
      "model_module": "@jupyter-widgets/base",
      "model_module_version": "2.0.0",
      "model_name": "LayoutModel",
      "state": {}
     },
     "ad11a757078443a58e5bb483888bcb12": {
      "model_module": "@jupyter-widgets/controls",
      "model_module_version": "2.0.0",
      "model_name": "HTMLModel",
      "state": {
       "layout": "IPY_MODEL_831e6824c5ad403e9a56721238307300",
       "style": "IPY_MODEL_ebff389513564d41b7bffcdfda59e2f7",
       "value": "  0%"
      }
     },
     "b044e54c283846a4ad5be72d37f89276": {
      "model_module": "@jupyter-widgets/base",
      "model_module_version": "2.0.0",
      "model_name": "LayoutModel",
      "state": {}
     },
     "b08a0afca66a47d1961de999bc4a4db0": {
      "model_module": "@jupyter-widgets/controls",
      "model_module_version": "2.0.0",
      "model_name": "FloatProgressModel",
      "state": {
       "bar_style": "danger",
       "layout": "IPY_MODEL_71c35d39490742a0a736bb6bad5bf97b",
       "max": 1,
       "style": "IPY_MODEL_5ee72f71328f409cadb07c58655f6b61"
      }
     },
     "b2f2661776a0476299484494f7aa3c0f": {
      "model_module": "@jupyter-widgets/controls",
      "model_module_version": "2.0.0",
      "model_name": "HTMLModel",
      "state": {
       "layout": "IPY_MODEL_cf987a4af45a4f3f984208c6fd246c31",
       "style": "IPY_MODEL_b399d7f359634321a56bb02dbe646d55",
       "value": " 0/1 [00:10&lt;?, ?it/s]"
      }
     },
     "b399d7f359634321a56bb02dbe646d55": {
      "model_module": "@jupyter-widgets/controls",
      "model_module_version": "2.0.0",
      "model_name": "HTMLStyleModel",
      "state": {
       "description_width": "",
       "font_size": null,
       "text_color": null
      }
     },
     "b76d07c5cc634cb49af9bc7bca823fb1": {
      "model_module": "@jupyter-widgets/controls",
      "model_module_version": "2.0.0",
      "model_name": "HBoxModel",
      "state": {
       "children": [
        "IPY_MODEL_12005b6597904d7e9b38f32bfc830e6a",
        "IPY_MODEL_b08a0afca66a47d1961de999bc4a4db0",
        "IPY_MODEL_5e078cbfec644e7f840ad014fa39d5a7"
       ],
       "layout": "IPY_MODEL_cb27d1566f634c3db7c6f9275de6d194"
      }
     },
     "b95300ca56b2429db75b20c4479e70e5": {
      "model_module": "@jupyter-widgets/base",
      "model_module_version": "2.0.0",
      "model_name": "LayoutModel",
      "state": {}
     },
     "b9de4b11040448869104c2bb18fe0087": {
      "model_module": "@jupyter-widgets/controls",
      "model_module_version": "2.0.0",
      "model_name": "HTMLStyleModel",
      "state": {
       "description_width": "",
       "font_size": null,
       "text_color": null
      }
     },
     "ba734146be6b47dbb2ae24e682476247": {
      "model_module": "@jupyter-widgets/base",
      "model_module_version": "2.0.0",
      "model_name": "LayoutModel",
      "state": {}
     },
     "bc0e187751d64db9abb6907bfc03b5cc": {
      "model_module": "@jupyter-widgets/controls",
      "model_module_version": "2.0.0",
      "model_name": "HTMLModel",
      "state": {
       "layout": "IPY_MODEL_d149948e2a404571a3e130a28e3703c6",
       "style": "IPY_MODEL_cdeecbdf227345dfbf7f737467763748",
       "value": "  0%"
      }
     },
     "bc233a36fd01470589a786126f8253eb": {
      "model_module": "@jupyter-widgets/controls",
      "model_module_version": "2.0.0",
      "model_name": "HTMLStyleModel",
      "state": {
       "description_width": "",
       "font_size": null,
       "text_color": null
      }
     },
     "bd0eaedcbcb04d2cb03151b4f74e5f0a": {
      "model_module": "@jupyter-widgets/base",
      "model_module_version": "2.0.0",
      "model_name": "LayoutModel",
      "state": {}
     },
     "bf971c36cb3b4669a4208c9513e294ef": {
      "model_module": "@jupyter-widgets/controls",
      "model_module_version": "2.0.0",
      "model_name": "FloatProgressModel",
      "state": {
       "bar_style": "danger",
       "layout": "IPY_MODEL_d8e25ea71dc84dd0968a8438627a42f7",
       "max": 1,
       "style": "IPY_MODEL_27109fca95ea4c9685921e6889d4c086"
      }
     },
     "c21bcb601e8c46c4944137b3c52a49f1": {
      "model_module": "@jupyter-widgets/controls",
      "model_module_version": "2.0.0",
      "model_name": "FloatProgressModel",
      "state": {
       "bar_style": "danger",
       "layout": "IPY_MODEL_618523b5bcc74b6a849330913cf646c6",
       "max": 1,
       "style": "IPY_MODEL_c7aef3de677b4d9a898899c33aa2162a"
      }
     },
     "c4505ad000e44809bbef8c84009ac684": {
      "model_module": "@jupyter-widgets/base",
      "model_module_version": "2.0.0",
      "model_name": "LayoutModel",
      "state": {}
     },
     "c7aef3de677b4d9a898899c33aa2162a": {
      "model_module": "@jupyter-widgets/controls",
      "model_module_version": "2.0.0",
      "model_name": "ProgressStyleModel",
      "state": {
       "description_width": ""
      }
     },
     "c7be2ab8c7c54e399555d7bbdb5c1718": {
      "model_module": "@jupyter-widgets/controls",
      "model_module_version": "2.0.0",
      "model_name": "HTMLModel",
      "state": {
       "layout": "IPY_MODEL_d9e90e42e2a8470b91c0c3a6c032aa97",
       "style": "IPY_MODEL_ecb6a89059c940f183b6f8bbd27c01e2",
       "value": "  0%"
      }
     },
     "cac239b0a769434aba5348b52867b05d": {
      "model_module": "@jupyter-widgets/base",
      "model_module_version": "2.0.0",
      "model_name": "LayoutModel",
      "state": {}
     },
     "cb27d1566f634c3db7c6f9275de6d194": {
      "model_module": "@jupyter-widgets/base",
      "model_module_version": "2.0.0",
      "model_name": "LayoutModel",
      "state": {}
     },
     "cdeecbdf227345dfbf7f737467763748": {
      "model_module": "@jupyter-widgets/controls",
      "model_module_version": "2.0.0",
      "model_name": "HTMLStyleModel",
      "state": {
       "description_width": "",
       "font_size": null,
       "text_color": null
      }
     },
     "cf987a4af45a4f3f984208c6fd246c31": {
      "model_module": "@jupyter-widgets/base",
      "model_module_version": "2.0.0",
      "model_name": "LayoutModel",
      "state": {}
     },
     "d149948e2a404571a3e130a28e3703c6": {
      "model_module": "@jupyter-widgets/base",
      "model_module_version": "2.0.0",
      "model_name": "LayoutModel",
      "state": {}
     },
     "d8e25ea71dc84dd0968a8438627a42f7": {
      "model_module": "@jupyter-widgets/base",
      "model_module_version": "2.0.0",
      "model_name": "LayoutModel",
      "state": {}
     },
     "d9e90e42e2a8470b91c0c3a6c032aa97": {
      "model_module": "@jupyter-widgets/base",
      "model_module_version": "2.0.0",
      "model_name": "LayoutModel",
      "state": {}
     },
     "da0e012014fe47718b0dcee37faeffe3": {
      "model_module": "@jupyter-widgets/base",
      "model_module_version": "2.0.0",
      "model_name": "LayoutModel",
      "state": {}
     },
     "dbff5962c9c641208be9efa0210f5b26": {
      "model_module": "@jupyter-widgets/base",
      "model_module_version": "2.0.0",
      "model_name": "LayoutModel",
      "state": {}
     },
     "dc1c93ea5fad4ffd8630167026e21957": {
      "model_module": "@jupyter-widgets/controls",
      "model_module_version": "2.0.0",
      "model_name": "HTMLModel",
      "state": {
       "layout": "IPY_MODEL_467ed931e4d64812b76ffe70dcaafb21",
       "style": "IPY_MODEL_192c9922a68f4ebcb9cbb95c0db02a8d",
       "value": " 0/1 [00:12&lt;?, ?it/s]"
      }
     },
     "df24b53b3e424caf8ede3e232f662017": {
      "model_module": "@jupyter-widgets/controls",
      "model_module_version": "2.0.0",
      "model_name": "HBoxModel",
      "state": {
       "children": [
        "IPY_MODEL_05c122605f3b429995790275971a613f",
        "IPY_MODEL_7b8dd9578b174825b2763b19da2160a6",
        "IPY_MODEL_6e487fe9eb13423ba8f2d185abb779fa"
       ],
       "layout": "IPY_MODEL_28fa27db88b84327bbfa634da50187a0"
      }
     },
     "df93f3cbf66c4f7b93f67c6adad39e97": {
      "model_module": "@jupyter-widgets/controls",
      "model_module_version": "2.0.0",
      "model_name": "HTMLStyleModel",
      "state": {
       "description_width": "",
       "font_size": null,
       "text_color": null
      }
     },
     "e264a2771aea449a86746f42514b7506": {
      "model_module": "@jupyter-widgets/base",
      "model_module_version": "2.0.0",
      "model_name": "LayoutModel",
      "state": {}
     },
     "e2e41fa733df414fbccc980dd2513789": {
      "model_module": "@jupyter-widgets/controls",
      "model_module_version": "2.0.0",
      "model_name": "HTMLStyleModel",
      "state": {
       "description_width": "",
       "font_size": null,
       "text_color": null
      }
     },
     "e52404edaad2429db77efb94ae86f3cc": {
      "model_module": "@jupyter-widgets/controls",
      "model_module_version": "2.0.0",
      "model_name": "FloatProgressModel",
      "state": {
       "bar_style": "danger",
       "layout": "IPY_MODEL_56712dae79ea42f3a0e05908fd1d63a3",
       "max": 1,
       "style": "IPY_MODEL_97f4d1c03786418490ab357e2281289f"
      }
     },
     "e76a0a93b6894530bca21b50ea6b5c1c": {
      "model_module": "@jupyter-widgets/controls",
      "model_module_version": "2.0.0",
      "model_name": "ProgressStyleModel",
      "state": {
       "description_width": ""
      }
     },
     "e7c29079eb3a4b8db2415cb10338b1c7": {
      "model_module": "@jupyter-widgets/base",
      "model_module_version": "2.0.0",
      "model_name": "LayoutModel",
      "state": {}
     },
     "ebff389513564d41b7bffcdfda59e2f7": {
      "model_module": "@jupyter-widgets/controls",
      "model_module_version": "2.0.0",
      "model_name": "HTMLStyleModel",
      "state": {
       "description_width": "",
       "font_size": null,
       "text_color": null
      }
     },
     "ecb6a89059c940f183b6f8bbd27c01e2": {
      "model_module": "@jupyter-widgets/controls",
      "model_module_version": "2.0.0",
      "model_name": "HTMLStyleModel",
      "state": {
       "description_width": "",
       "font_size": null,
       "text_color": null
      }
     },
     "f0c19a9d3b244225b9bf2e5a4eeaefa8": {
      "model_module": "@jupyter-widgets/base",
      "model_module_version": "2.0.0",
      "model_name": "LayoutModel",
      "state": {}
     },
     "f80033bff5324b84b0968a8891b16ae0": {
      "model_module": "@jupyter-widgets/controls",
      "model_module_version": "2.0.0",
      "model_name": "FloatProgressModel",
      "state": {
       "bar_style": "danger",
       "layout": "IPY_MODEL_3708acb45ee74d629dab4e34d6779441",
       "max": 1,
       "style": "IPY_MODEL_27671aba5be140f380b3711a4c14672d"
      }
     },
     "f8960ece08ec4f058b899abd6588b8e5": {
      "model_module": "@jupyter-widgets/controls",
      "model_module_version": "2.0.0",
      "model_name": "HTMLModel",
      "state": {
       "layout": "IPY_MODEL_0435dd678c144c278ce2e69ef90828e1",
       "style": "IPY_MODEL_6417c1d6251e4fb5b1d560a3e69a4c2d",
       "value": " 0/1 [00:12&lt;?, ?it/s]"
      }
     },
     "fdbb738659f44334a9172f09de7a90b3": {
      "model_module": "@jupyter-widgets/controls",
      "model_module_version": "2.0.0",
      "model_name": "HTMLStyleModel",
      "state": {
       "description_width": "",
       "font_size": null,
       "text_color": null
      }
     },
     "fe8ab9dc21924f8285d80d7e1ca99078": {
      "model_module": "@jupyter-widgets/controls",
      "model_module_version": "2.0.0",
      "model_name": "HBoxModel",
      "state": {
       "children": [
        "IPY_MODEL_3852aaee5a874094b1c86ea1e5cf1879",
        "IPY_MODEL_f80033bff5324b84b0968a8891b16ae0",
        "IPY_MODEL_aab2efe2c51846d6b67dfebd00375b4b"
       ],
       "layout": "IPY_MODEL_b044e54c283846a4ad5be72d37f89276"
      }
     }
    },
    "version_major": 2,
    "version_minor": 0
   }
  }
 },
 "nbformat": 4,
 "nbformat_minor": 5
}
