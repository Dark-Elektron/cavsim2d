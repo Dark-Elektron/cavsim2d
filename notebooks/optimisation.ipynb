{
 "cells": [
  {
   "cell_type": "code",
   "execution_count": 1,
   "id": "65544001-2b84-4c5e-8288-28b5143cee4f",
   "metadata": {},
   "outputs": [
    {
     "data": {
      "text/html": [
       "\n",
       "    <div style=\"display: flex; align-items: center;\">\n",
       "        <img src=\"data:image/png;base64,iVBORw0KGgoAAAANSUhEUgAAAEcAAAA7CAYAAAApUJelAAAAAXNSR0IArs4c6QAAAzJJREFUeF7tmjFvEzEUx/++IBqEUJIJlYG2CyMSDGyIZmfgG9BIZWBEDSNqCyOpGBlAavgGDOyEEQYkRlg4WCqmpEKoLYIYPSdXXS45++zzNUf1LEVZ7Gf75/97vrv3BLilEhDMJp0Aw9Gog+EwHLfgwcph5bBy3AjMSzn9Z1jGEHdpfiGxCqhfnhYqW0CP/ocC7xob6OYxqBtbWMzp72BTSGwVtfCY3Z6soNV4AAXOZysEzqCDtx5UYrPPUAps+1aRdzgnqJgkvLDexooNUVNfr3Aoxoi/+JqcdGHpHs7UrqtfnjY82lPDh4d7OPr2An/2P06YE0C31kYrzxzxsV7h7HewK4G1+ATnrz7PDSVts4ffXypIsRbKCpq+4o9XOIOOUs1ytFhSTPXyuq+DnLJDSvr16T4iRVEHKdFsPBzdZnmbbzgyvqDazfd512ccn1SPFGj5CsynEc5WYwPbRqoZOniD03+KVSHUFa4aBV+KN0W33z/e4ODLk+NpfAZlhqM5PYbDcNycm5XDymHlKAJ8W8WEwFe5xisYDsNxC5qsHFYOK8eNACvHjRvHHFYOK8eNACvHjRvHnP9eOYmEXrCwiAs3XrvJwWLUjOxD+T6w036SeauTSM3Qx3VyraiVOTUzUUBw9uJtnLvyyEIHdl0pmffzw52JQaVN6iWLCMi1FpbWQZB8NwJz8PnxVL5cVrBSynTwuJCA1HOcEiYoBKdSu4ageglBdTEXJyoioAKCRI5c2ZQC3uLN+KtirrVODe7vYE1I7Pq1mslauUtQoi3MoUYnlBItXwUE0T68pWaSZ5vmYpk0YNHJ5wf15LSFwaGJxgWTqkgykLglR7FoIh5ZcIi6UonbqMQkwCtfwXfWOgqF47DxUg0xwhlXT2xmOHGqqjJWdVrZE+iZyknG7ksXgFGRUqBrshc/HSOcQQcTBUmGozXeGPO2ZxO4tXCSNTdZNF9vU9JxdnOxp3viTSvQ1K3T5vVCD2f0Mjn1UKeZvFdvo5kKx96eVokxl8pcGW/zBG10q6hEP5B6nx4KhFn8eZ72bG83I5wsrnRa+zAczckyHIbj5visHFYOK8eNgGbUPwUn2Uv2ssocAAAAAElFTkSuQmCC\" style=\"height: 32px;\">\n",
       "        <p style=\"margin: 0; font-size: 16px; \n",
       "                  background: -webkit-linear-gradient(left, #EFC3CA, #5DE2E7, #FE9900, #E7DDFF, #FFDE59);\n",
       "                  -webkit-background-clip: text; \n",
       "                  -webkit-text-fill-color: transparent;\">\n",
       "            <b>CAV-SIM-2D</b> loaded successfully!\n",
       "        </p>\n",
       "    </div>\n",
       "    "
      ],
      "text/plain": [
       "<IPython.core.display.HTML object>"
      ]
     },
     "metadata": {},
     "output_type": "display_data"
    }
   ],
   "source": [
    "import sys\n",
    "sys.path.append(\"..\")\n",
    "from cavsim2d.cavity import Cavity, Cavities, OperationPoints\n",
    "import numpy as np\n",
    "import json\n",
    "import matplotlib\n",
    "import matplotlib.pyplot as plt\n",
    "plt.ion()\n",
    "# %matplotlib inline\n",
    "import pprint\n",
    "pp = pprint.PrettyPrinter(indent=4)"
   ]
  },
  {
   "cell_type": "code",
   "execution_count": 2,
   "id": "1f2aefa3-c842-444c-8035-072dc20aed23",
   "metadata": {},
   "outputs": [
    {
     "name": "stdout",
     "output_type": "stream",
     "text": [
      "\u001b[32mProject D:\\Dropbox\\CavityDesignHub\\MuCol_Study\\SimulationData\\ConsoleTest created successfully/already exists.\u001b[0m\n"
     ]
    },
    {
     "data": {
      "application/vnd.jupyter.widget-view+json": {
       "model_id": "4980062f6be245f1892513e9fea65174",
       "version_major": 2,
       "version_minor": 0
      },
      "text/plain": [
       "  0%|          | 0/2 [00:00<?, ?it/s]"
      ]
     },
     "metadata": {},
     "output_type": "display_data"
    },
    {
     "name": "stdout",
     "output_type": "stream",
     "text": [
      "[['min', 'Epk/Eacc []'], ['min', 'Bpk/Eacc [mT/MV/m]'], ['min', 'ZL', [1, 2, 5]], ['min', 'ZT', [1, 2, 5]]]\n",
      "['G0_C1_P', 'G0_C2_P', 'G0_C4_P'] ['G0_C1_P', 'G0_C2_P', 'G0_C4_P']\n",
      "long Empty DataFrame\n",
      "Columns: [ZL [max(1<f<2)], ZL [max(2<f<5)]]\n",
      "Index: [] [[2.6861639548620255, 0.16154004537884717, 2.234572256607515], [0.33103887777721813, 0.03808983058507875, 0.07117324077207669]] 0 2\n",
      "trans Empty DataFrame\n",
      "Columns: [ZT [max(1<f<2)], ZT [max(2<f<5)]]\n",
      "Index: [] [[41.196206645758046, 43.25087241073872, 74.19820265939128], [1.146587569784358, 0.4292739912328722, 15.131154208783942]] 0 2\n",
      "       key     A     B     a     b    Ri     L         Req     alpha_i  \\\n",
      "0  G0_C1_P  62.0  74.0  15.0  15.0  72.5  93.5  174.812484  114.818175   \n",
      "1  G0_C2_P  38.0  50.0  25.0  25.0  77.5  93.5  183.668243  119.362645   \n",
      "2  G0_C4_P  26.0  26.0  35.0  35.0  62.5  93.5  182.457898  114.271528   \n",
      "\n",
      "      alpha_o  freq [MHz]  Epk/Eacc []  Bpk/Eacc [mT/MV/m]  ZL [max(1<f<2)]  \\\n",
      "0  114.818175  801.578741     1.911811            4.732886         2.686164   \n",
      "1  119.362645  801.583883     1.791065            5.481375         0.161540   \n",
      "2  114.271528  801.584164     1.803864            5.550606         2.234572   \n",
      "\n",
      "   ZL [max(2<f<5)]  ZT [max(1<f<2)]  ZT [max(2<f<5)]  \n",
      "0         0.331039        41.196207         1.146588  \n",
      "1         0.038090        43.250872         0.429274  \n",
      "2         0.071173        74.198203        15.131154  \n",
      "Pareto: 3 optimal values, 3 objects\n",
      "\u001b[32m       key     A     B     a     b    Ri     L         Req     alpha_i  \\\n",
      "0  G0_C2_P  38.0  50.0  25.0  25.0  77.5  93.5  183.668243  119.362645   \n",
      "1  G0_C4_P  26.0  26.0  35.0  35.0  62.5  93.5  182.457898  114.271528   \n",
      "2  G0_C1_P  62.0  74.0  15.0  15.0  72.5  93.5  174.812484  114.818175   \n",
      "\n",
      "      alpha_o  ...  E[ZT [max(2<f<5)]]  std[ZT [max(2<f<5)]]  \\\n",
      "0  119.362645  ...            0.511218              0.018370   \n",
      "1  114.271528  ...           15.850658              0.719504   \n",
      "2  114.818175  ...            1.469226              0.410273   \n",
      "\n",
      "   E[ZT [max(2<f<5)]] + 6*std[ZT [max(2<f<5)]]  \\\n",
      "0                                     0.621438   \n",
      "1                                    20.167681   \n",
      "2                                     3.930862   \n",
      "\n",
      "   rank_E[Epk/Eacc []] + 6*std[Epk/Eacc []]  \\\n",
      "0                                       2.0   \n",
      "1                                       1.0   \n",
      "2                                       3.0   \n",
      "\n",
      "   rank_E[Bpk/Eacc [mT/MV/m]] + 6*std[Bpk/Eacc [mT/MV/m]]  \\\n",
      "0                                                3.0        \n",
      "1                                                2.0        \n",
      "2                                                1.0        \n",
      "\n",
      "   rank_E[ZL [max(1<f<2)]] + 6*std[ZL [max(1<f<2)]]  \\\n",
      "0                                               1.0   \n",
      "1                                               2.0   \n",
      "2                                               3.0   \n",
      "\n",
      "   rank_E[ZL [max(2<f<5)]] + 6*std[ZL [max(2<f<5)]]  \\\n",
      "0                                               1.0   \n",
      "1                                               2.0   \n",
      "2                                               3.0   \n",
      "\n",
      "   rank_E[ZT [max(1<f<2)]] + 6*std[ZT [max(1<f<2)]]  \\\n",
      "0                                               1.0   \n",
      "1                                               3.0   \n",
      "2                                               2.0   \n",
      "\n",
      "   rank_E[ZT [max(2<f<5)]] + 6*std[ZT [max(2<f<5)]]  total_rank  \n",
      "0                                               1.0    1.500000  \n",
      "1                                               3.0    2.166667  \n",
      "2                                               2.0    2.333333  \n",
      "\n",
      "[3 rows x 42 columns]\u001b[0m\n"
     ]
    },
    {
     "name": "stderr",
     "output_type": "stream",
     "text": [
      "D:\\Dropbox\\cavsim2d\\notebooks\\..\\cavsim2d\\cavity.py:592: FutureWarning: The behavior of DataFrame concatenation with empty or all-NA entries is deprecated. In a future version, this will no longer exclude empty or all-NA columns when determining the result dtypes. To retain the old behavior, exclude the relevant entries before the concat operation.\n",
      "  df_ng = pd.concat([df_cross, df_mutation, df_chaos], ignore_index=True)\n"
     ]
    },
    {
     "name": "stdout",
     "output_type": "stream",
     "text": [
      "================================================================================\n",
      "[['min', 'Epk/Eacc []'], ['min', 'Bpk/Eacc [mT/MV/m]'], ['min', 'ZL', [1, 2, 5]], ['min', 'ZT', [1, 2, 5]]]\n",
      "['G0_C0_CO', 'G0_C1_CO', 'G0_C2_CO', 'G0_C3_CO', 'G0_C4_CO'] ['G0_C0_CO', 'G0_C1_CO', 'G0_C2_CO', 'G0_C3_CO', 'G0_C4_CO']\n",
      "long Empty DataFrame\n",
      "Columns: [ZL [max(1<f<2)], ZL [max(2<f<5)]]\n",
      "Index: [] [[0.24852157318518647, 0.39643172148555417, 0.6202727612913532, 1.4904091149748113, 0.9792515731925071], [0.05118421030943039, 0.05934143369518469, 0.05410548678276539, 0.05551534754462049, 0.0542633393830494]] 0 2\n",
      "trans Empty DataFrame\n",
      "Columns: [ZT [max(1<f<2)], ZT [max(2<f<5)]]\n",
      "Index: [] [[50.290818694867156, 56.24884693040382, 45.159376988616664, 51.842071659994446, 45.70608110525338], [10.115932333205873, 13.830497200390159, 0.7058322186610639, 15.182814902382232, 0.635419161341551]] 0 2\n",
      "        key     A     B          a          b         Ri     L         Req  \\\n",
      "0  G0_C0_CO  36.0  58.0  30.000000  25.000000  73.333333  93.5  184.668739   \n",
      "1  G0_C1_CO  36.0  46.0  28.333333  23.333333  72.500000  93.5  182.324036   \n",
      "2  G0_C2_CO  36.0  46.0  23.333333  28.333333  74.166667  93.5  183.569775   \n",
      "3  G0_C3_CO  34.0  46.0  23.333333  25.000000  70.000000  93.5  183.716648   \n",
      "4  G0_C4_CO  34.0  46.0  25.000000  26.666667  71.666667  93.5  184.016276   \n",
      "\n",
      "      alpha_i     alpha_o  freq [MHz]  Epk/Eacc []  Bpk/Eacc [mT/MV/m]  \\\n",
      "0  116.935431  116.935431  801.579948     1.870391            5.618472   \n",
      "1  116.499037  116.499037  801.570640     1.873730            5.481377   \n",
      "2  120.010887  120.010887  801.580723     1.705881            5.379043   \n",
      "3  119.097262  119.097262  801.580520     1.709047            5.339822   \n",
      "4  118.979107  118.979107  801.580526     1.727678            5.401919   \n",
      "\n",
      "   ZL [max(1<f<2)]  ZL [max(2<f<5)]  ZT [max(1<f<2)]  ZT [max(2<f<5)]  \n",
      "0         0.248522         0.051184        50.290819        10.115932  \n",
      "1         0.396432         0.059341        56.248847        13.830497  \n",
      "2         0.620273         0.054105        45.159377         0.705832  \n",
      "3         1.490409         0.055515        51.842072        15.182815  \n",
      "4         0.979252         0.054263        45.706081         0.635419  \n",
      "Pareto: 8 optimal values, 8 objects\n",
      "\u001b[32m        key     A     B          a          b         Ri     L         Req  \\\n",
      "0   G0_C2_P  38.0  50.0  25.000000  25.000000  77.500000  93.5  183.668243   \n",
      "1  G0_C2_CO  36.0  46.0  23.333333  28.333333  74.166667  93.5  183.569775   \n",
      "2  G0_C3_CO  34.0  46.0  23.333333  25.000000  70.000000  93.5  183.716648   \n",
      "3  G0_C4_CO  34.0  46.0  25.000000  26.666667  71.666667  93.5  184.016276   \n",
      "4  G0_C0_CO  36.0  58.0  30.000000  25.000000  73.333333  93.5  184.668739   \n",
      "5  G0_C1_CO  36.0  46.0  28.333333  23.333333  72.500000  93.5  182.324036   \n",
      "6   G0_C1_P  62.0  74.0  15.000000  15.000000  72.500000  93.5  174.812484   \n",
      "7   G0_C4_P  26.0  26.0  35.000000  35.000000  62.500000  93.5  182.457898   \n",
      "\n",
      "      alpha_i     alpha_o  ...  E[ZT [max(2<f<5)]]  std[ZT [max(2<f<5)]]  \\\n",
      "0  119.362645  119.362645  ...            0.511218              0.018370   \n",
      "1  120.010887  120.010887  ...            0.717389              0.160871   \n",
      "2  119.097262  119.097262  ...           14.921811              0.353580   \n",
      "3  118.979107  118.979107  ...            7.170332              6.533615   \n",
      "4  116.935431  116.935431  ...           12.620965              0.569018   \n",
      "5  116.499037  116.499037  ...           14.089943              0.464661   \n",
      "6  114.818175  114.818175  ...            1.469226              0.410273   \n",
      "7  114.271528  114.271528  ...           15.850658              0.719504   \n",
      "\n",
      "   E[ZT [max(2<f<5)]] + 6*std[ZT [max(2<f<5)]]  \\\n",
      "0                                     0.621438   \n",
      "1                                     1.682613   \n",
      "2                                    17.043289   \n",
      "3                                    46.372025   \n",
      "4                                    16.035075   \n",
      "5                                    16.877911   \n",
      "6                                     3.930862   \n",
      "7                                    20.167681   \n",
      "\n",
      "   rank_E[Epk/Eacc []] + 6*std[Epk/Eacc []]  \\\n",
      "0                                       7.0   \n",
      "1                                       4.0   \n",
      "2                                       2.0   \n",
      "3                                       3.0   \n",
      "4                                       5.0   \n",
      "5                                       6.0   \n",
      "6                                       8.0   \n",
      "7                                       1.0   \n",
      "\n",
      "   rank_E[Bpk/Eacc [mT/MV/m]] + 6*std[Bpk/Eacc [mT/MV/m]]  \\\n",
      "0                                                7.0        \n",
      "1                                                4.0        \n",
      "2                                                2.0        \n",
      "3                                                3.0        \n",
      "4                                                8.0        \n",
      "5                                                6.0        \n",
      "6                                                1.0        \n",
      "7                                                5.0        \n",
      "\n",
      "   rank_E[ZL [max(1<f<2)]] + 6*std[ZL [max(1<f<2)]]  \\\n",
      "0                                               1.0   \n",
      "1                                               5.0   \n",
      "2                                               6.0   \n",
      "3                                               4.0   \n",
      "4                                               3.0   \n",
      "5                                               2.0   \n",
      "6                                               8.0   \n",
      "7                                               7.0   \n",
      "\n",
      "   rank_E[ZL [max(2<f<5)]] + 6*std[ZL [max(2<f<5)]]  \\\n",
      "0                                               5.0   \n",
      "1                                               6.0   \n",
      "2                                               3.0   \n",
      "3                                               4.0   \n",
      "4                                               2.0   \n",
      "5                                               1.0   \n",
      "6                                               8.0   \n",
      "7                                               7.0   \n",
      "\n",
      "   rank_E[ZT [max(1<f<2)]] + 6*std[ZT [max(1<f<2)]]  \\\n",
      "0                                               1.0   \n",
      "1                                               3.0   \n",
      "2                                               6.0   \n",
      "3                                               4.0   \n",
      "4                                               5.0   \n",
      "5                                               8.0   \n",
      "6                                               2.0   \n",
      "7                                               7.0   \n",
      "\n",
      "   rank_E[ZT [max(2<f<5)]] + 6*std[ZT [max(2<f<5)]]  total_rank  \n",
      "0                                               1.0    3.666667  \n",
      "1                                               2.0    4.000000  \n",
      "2                                               6.0    4.166667  \n",
      "3                                               8.0    4.333333  \n",
      "4                                               4.0    4.500000  \n",
      "5                                               5.0    4.666667  \n",
      "6                                               3.0    5.000000  \n",
      "7                                               7.0    5.666667  \n",
      "\n",
      "[8 rows x 42 columns]\u001b[0m\n"
     ]
    },
    {
     "name": "stderr",
     "output_type": "stream",
     "text": [
      "D:\\Dropbox\\cavsim2d\\notebooks\\..\\cavsim2d\\cavity.py:592: FutureWarning: The behavior of DataFrame concatenation with empty or all-NA entries is deprecated. In a future version, this will no longer exclude empty or all-NA columns when determining the result dtypes. To retain the old behavior, exclude the relevant entries before the concat operation.\n",
      "  df_ng = pd.concat([df_cross, df_mutation, df_chaos], ignore_index=True)\n"
     ]
    },
    {
     "name": "stdout",
     "output_type": "stream",
     "text": [
      "================================================================================\n",
      "End time:  2024-08-18 13:10:05.996165\n"
     ]
    },
    {
     "data": {
      "image/png": "[encoded data removed]",
      "text/plain": [
       "<Figure size 640x480 with 1 Axes>"
      ]
     },
     "metadata": {},
     "output_type": "display_data"
    }
   ],
   "source": [
    "cavs = Cavities([])\n",
    "# must first save cavities\n",
    "cavs.save('D:\\Dropbox\\CavityDesignHub\\MuCol_Study\\SimulationData\\ConsoleTest')\n",
    "cell_type = 'end-end-cell'\n",
    "\n",
    "optimisation_config = {\n",
    "    'initial_points': 5,\n",
    "    'method': {\n",
    "        'LHS': {'seed': 5},\n",
    "        # 'Sobol Sequence': {'index': 2},\n",
    "        # 'Random': {},\n",
    "        # 'Uniform': {},\n",
    "        },\n",
    "    # 'mid-cell': [1, 2, 3, 3, 6, 5, 2],  # must enter if mid-end cell selected\n",
    "    'tune_config': {\n",
    "        'freqs': 801.58,\n",
    "        'parameters': 'Req',\n",
    "        'cell_types': cell_type,\n",
    "        'processes': 4,\n",
    "        'eigenmode_config': {'n_cells': 1,\n",
    "                             'n_modules': 1,\n",
    "                             'f_shift': 0,\n",
    "                             'bc': 33,\n",
    "                             'beampipes': 'both',\n",
    "                             'uq_config': {\n",
    "                                 'variables': ['A'],\n",
    "                                 'objectives': [\"Epk/Eacc []\", \"Bpk/Eacc [mT/MV/m]\", \"R/Q [Ohm]\", \"G [Ohm]\"],\n",
    "                                 'delta': [0.05],\n",
    "                                 'processes': 4,\n",
    "                                 'distribution': 'gaussian',\n",
    "                                 'method': ['Quadrature', 'Stroud3'], \n",
    "                                 'cell_type': 'mid-cell',\n",
    "                                 'cell complexity': 'simplecell'\n",
    "                                }\n",
    "                            },\n",
    "    },\n",
    "    'wakefield_config': {'n_cells': 1, 'n_modules': 1,\n",
    "                         'MROT': 2, 'MT': 4, 'NFS': 10000, 'UBT': 50, 'bunch_length': 25,\n",
    "                         'DDR_SIG': 0.1, 'DDZ_SIG': 0.1,\n",
    "                         'WG_M': None, 'marker': '',\n",
    "                        'uq_config': {\n",
    "                            'variables': ['A'],\n",
    "                            'objectives': [[\"ZL\", [1, 2, 5]], [\"ZT\", [2, 3, 4]]],\n",
    "                            'delta': [0.05],\n",
    "                            'processes': 4,\n",
    "                            'distribution': 'gaussian',\n",
    "                            'method': ['Quadrature', 'Stroud3'],\n",
    "                            'cell_type': 'mid-cell',\n",
    "                            'cell complexity': 'simplecell'\n",
    "                            }\n",
    "                        },\n",
    "    'optimisation by': 'pareto',\n",
    "    'crossover_factor': 5,\n",
    "    'elites_for_crossover': 2,\n",
    "    'mutation_factor': 5,\n",
    "    'chaos_factor': 5,\n",
    "    'processes': 3,\n",
    "    'no_of_generation': 2,\n",
    "    'bounds': {'A': [20.0, 80.0],\n",
    "               'B': [20.0, 80.0],\n",
    "               'a': [10.0, 60.0],\n",
    "               'b': [10., 60.0],\n",
    "               'Ri': [60.0, 85.0],\n",
    "               'L': [93.5, 93.5],\n",
    "               'Req': [170.0, 170.0]},\n",
    "    'objectives': [\n",
    "        # ['equal', 'freq [MHz]', 801.58],\n",
    "                      ['min', 'Epk/Eacc []'],\n",
    "                      ['min', 'Bpk/Eacc [mT/MV/m]'],\n",
    "                      ['min', 'ZL', [1, 2, 5]],\n",
    "                      ['min', 'ZT', [1, 2, 5]],\n",
    "                  ],\n",
    "    'weights': [1, 1, 1, 1, 1, 1]\n",
    "}\n",
    "cavs.run_optimisation(optimisation_config)"
   ]
  },
  {
   "cell_type": "code",
   "execution_count": null,
   "id": "e528df34-6731-41f0-afc4-7522a33e1a9b",
   "metadata": {},
   "outputs": [],
   "source": []
  }
 ],
 "metadata": {
  "kernelspec": {
   "display_name": "Python 3 (ipykernel)",
   "language": "python",
   "name": "python3"
  },
  "language_info": {
   "codemirror_mode": {
    "name": "ipython",
    "version": 3
   },
   "file_extension": ".py",
   "mimetype": "text/x-python",
   "name": "python",
   "nbconvert_exporter": "python",
   "pygments_lexer": "ipython3",
   "version": "3.11.9"
  },
  "widgets": {
   "application/vnd.jupyter.widget-state+json": {
    "state": {
     "4980062f6be245f1892513e9fea65174": {
      "model_module": "@jupyter-widgets/controls",
      "model_module_version": "2.0.0",
      "model_name": "HBoxModel",
      "state": {
       "children": [
        "IPY_MODEL_b0d67613587f4965bc2c1a38fb243e81",
        "IPY_MODEL_c9dfbf7ba6b347abb9fd98105f07cb3e",
        "IPY_MODEL_617a0864904c412887ea0f3af2e79c93"
       ],
       "layout": "IPY_MODEL_cb2ac3479e664a47a071b4df9a83e406"
      }
     },
     "617a0864904c412887ea0f3af2e79c93": {
      "model_module": "@jupyter-widgets/controls",
      "model_module_version": "2.0.0",
      "model_name": "HTMLModel",
      "state": {
       "layout": "IPY_MODEL_e21752386b29454aa9ef182cc12db5d2",
       "style": "IPY_MODEL_e68301df465242878cffe773acac1b0f",
       "value": " 2/2 [14:17&lt;00:00, 447.42s/it]"
      }
     },
     "941316e79ce644cc9daf1866179c817a": {
      "model_module": "@jupyter-widgets/controls",
      "model_module_version": "2.0.0",
      "model_name": "ProgressStyleModel",
      "state": {
       "description_width": ""
      }
     },
     "99daa48bd1ad47389a30377a6ccd0b11": {
      "model_module": "@jupyter-widgets/base",
      "model_module_version": "2.0.0",
      "model_name": "LayoutModel",
      "state": {}
     },
     "9d41257c76f04730868f82e610127154": {
      "model_module": "@jupyter-widgets/base",
      "model_module_version": "2.0.0",
      "model_name": "LayoutModel",
      "state": {}
     },
     "b0d67613587f4965bc2c1a38fb243e81": {
      "model_module": "@jupyter-widgets/controls",
      "model_module_version": "2.0.0",
      "model_name": "HTMLModel",
      "state": {
       "layout": "IPY_MODEL_9d41257c76f04730868f82e610127154",
       "style": "IPY_MODEL_e88a484d4ec84e5e8b8996059fe857a1",
       "value": "100%"
      }
     },
     "c9dfbf7ba6b347abb9fd98105f07cb3e": {
      "model_module": "@jupyter-widgets/controls",
      "model_module_version": "2.0.0",
      "model_name": "FloatProgressModel",
      "state": {
       "layout": "IPY_MODEL_99daa48bd1ad47389a30377a6ccd0b11",
       "max": 2,
       "style": "IPY_MODEL_941316e79ce644cc9daf1866179c817a",
       "value": 2
      }
     },
     "cb2ac3479e664a47a071b4df9a83e406": {
      "model_module": "@jupyter-widgets/base",
      "model_module_version": "2.0.0",
      "model_name": "LayoutModel",
      "state": {}
     },
     "e21752386b29454aa9ef182cc12db5d2": {
      "model_module": "@jupyter-widgets/base",
      "model_module_version": "2.0.0",
      "model_name": "LayoutModel",
      "state": {}
     },
     "e68301df465242878cffe773acac1b0f": {
      "model_module": "@jupyter-widgets/controls",
      "model_module_version": "2.0.0",
      "model_name": "HTMLStyleModel",
      "state": {
       "description_width": "",
       "font_size": null,
       "text_color": null
      }
     },
     "e88a484d4ec84e5e8b8996059fe857a1": {
      "model_module": "@jupyter-widgets/controls",
      "model_module_version": "2.0.0",
      "model_name": "HTMLStyleModel",
      "state": {
       "description_width": "",
       "font_size": null,
       "text_color": null
      }
     }
    },
    "version_major": 2,
    "version_minor": 0
   }
  }
 },
 "nbformat": 4,
 "nbformat_minor": 5
}
