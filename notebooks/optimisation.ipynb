{
 "cells": [
  {
   "cell_type": "code",
   "execution_count": 1,
   "id": "65544001-2b84-4c5e-8288-28b5143cee4f",
   "metadata": {},
   "outputs": [
    {
     "data": {
      "text/html": [
       "<style>p{background: -webkit-linear-gradient(#eee, #333);-webkit-background-clip: text; webkit-text-fill-color: transparent; }</style> <p><b>CAV-SIM-2D</b> loaded successfully!</p>"
      ],
      "text/plain": [
       "<IPython.core.display.HTML object>"
      ]
     },
     "metadata": {},
     "output_type": "display_data"
    }
   ],
   "source": [
    "import sys\n",
    "sys.path.append(\"..\")\n",
    "from cavsim2d.cavity import Cavity, Cavities, OperationPoints\n",
    "import numpy as np\n",
    "import json\n",
    "import matplotlib\n",
    "import matplotlib.pyplot as plt\n",
    "plt.ion()\n",
    "# %matplotlib inline\n",
    "import pprint\n",
    "pp = pprint.PrettyPrinter(indent=4)"
   ]
  },
  {
   "cell_type": "code",
   "execution_count": 2,
   "id": "1f2aefa3-c842-444c-8035-072dc20aed23",
   "metadata": {},
   "outputs": [
    {
     "name": "stdout",
     "output_type": "stream",
     "text": [
      "\u001b[32mProject D:\\Dropbox\\CavityDesignHub\\MuCol_Study\\SimulationData\\ConsoleTest created successfully/already exists.\u001b[0m\n"
     ]
    },
    {
     "data": {
      "application/vnd.jupyter.widget-view+json": {
       "model_id": "52238b0171724fe4b0e4bca87c468944",
       "version_major": 2,
       "version_minor": 0
      },
      "text/plain": [
       "  0%|          | 0/2 [00:00<?, ?it/s]"
      ]
     },
     "metadata": {},
     "output_type": "display_data"
    },
    {
     "name": "stdout",
     "output_type": "stream",
     "text": [
      "Pareto: 3 optimal values, 3 objects\n",
      "\u001b[32m       key     A     B     a     b    Ri     L         Req     alpha_i  \\\n",
      "0  G0_C1_P  62.0  74.0  15.0  15.0  72.5  93.5  174.812461  114.818184   \n",
      "1  G0_C2_P  38.0  50.0  25.0  25.0  77.5  93.5  183.668041  119.362713   \n",
      "2  G0_C4_P  26.0  26.0  35.0  35.0  62.5  93.5  182.457883  114.271532   \n",
      "\n",
      "      alpha_o  ...  Bpk/Eacc [mT/MV/m]  E[Epk/Eacc []]  std[Epk/Eacc []]  \\\n",
      "0  114.818184  ...            4.733058        2.316557          0.029843   \n",
      "1  119.362713  ...            5.488757        1.998139          0.006554   \n",
      "2  114.271532  ...            5.551101        1.848851          0.023281   \n",
      "\n",
      "   E[Epk/Eacc []] + 6*std[Epk/Eacc []]  E[Bpk/Eacc [mT/MV/m]]  \\\n",
      "0                             2.495616               4.640008   \n",
      "1                             2.037463               5.342699   \n",
      "2                             1.988538               5.495273   \n",
      "\n",
      "   std[Bpk/Eacc [mT/MV/m]]  E[Bpk/Eacc [mT/MV/m]] + 6*std[Bpk/Eacc [mT/MV/m]]  \\\n",
      "0                 0.067416                                           5.044501   \n",
      "1                 0.041182                                           5.589788   \n",
      "2                 0.047573                                           5.780711   \n",
      "\n",
      "   rank_E[Epk/Eacc []] + 6*std[Epk/Eacc []]  \\\n",
      "0                                       3.0   \n",
      "1                                       2.0   \n",
      "2                                       1.0   \n",
      "\n",
      "   rank_E[Bpk/Eacc [mT/MV/m]] + 6*std[Bpk/Eacc [mT/MV/m]]  total_rank  \n",
      "0                                                1.0              2.0  \n",
      "1                                                2.0              2.0  \n",
      "2                                                3.0              2.0  \n",
      "\n",
      "[3 rows x 22 columns]\u001b[0m\n",
      "================================================================================\n"
     ]
    },
    {
     "name": "stderr",
     "output_type": "stream",
     "text": [
      "D:\\Dropbox\\cavsim2d\\notebooks\\..\\cavsim2d\\cavity.py:579: FutureWarning: The behavior of DataFrame concatenation with empty or all-NA entries is deprecated. In a future version, this will no longer exclude empty or all-NA columns when determining the result dtypes. To retain the old behavior, exclude the relevant entries before the concat operation.\n",
      "  df_ng = pd.concat([df_cross, df_mutation, df_chaos], ignore_index=True)\n"
     ]
    },
    {
     "name": "stdout",
     "output_type": "stream",
     "text": [
      "Pareto: 5 optimal values, 5 objects\n",
      "\u001b[32m        key     A     B     a     b    Ri     L         Req     alpha_i  \\\n",
      "0  G0_C0_CO  44.0  38.0  25.0  30.0  77.5  93.5  177.900524  116.723448   \n",
      "1  G0_C3_CO  32.0  50.0  20.0  20.0  70.0  93.5  185.922880  120.380051   \n",
      "2   G0_C1_P  62.0  74.0  15.0  15.0  72.5  93.5  174.812461  114.818184   \n",
      "3   G0_C4_P  26.0  26.0  35.0  35.0  62.5  93.5  182.457883  114.271532   \n",
      "4  G0_C1_CO  44.0  62.0  20.0  30.0  70.0  93.5  181.067440  119.617575   \n",
      "5  G0_C2_CO  44.0  50.0  25.0  20.0  70.0  93.5  177.627508  114.634955   \n",
      "6   G0_C2_P  38.0  50.0  25.0  25.0  77.5  93.5  183.668041  119.362713   \n",
      "7  G0_C4_CO  50.0  50.0  30.0  25.0  77.5  93.5  175.856260  110.463095   \n",
      "\n",
      "      alpha_o  ...  Bpk/Eacc [mT/MV/m]  E[Epk/Eacc []]  std[Epk/Eacc []]  \\\n",
      "0  116.723448  ...            5.209474        2.030288          0.016746   \n",
      "1  120.380051  ...            5.383341        1.951732          0.010273   \n",
      "2  114.818184  ...            4.733058        2.316557          0.029843   \n",
      "3  114.271532  ...            5.551101        1.848851          0.023281   \n",
      "4  119.617575  ...            5.101410        2.125815          0.053836   \n",
      "5  114.634955  ...            5.134981        2.035636          0.018173   \n",
      "6  119.362713  ...            5.488757        1.998139          0.006554   \n",
      "7  110.463095  ...            5.241246        2.123583          0.025998   \n",
      "\n",
      "   E[Epk/Eacc []] + 6*std[Epk/Eacc []]  E[Bpk/Eacc [mT/MV/m]]  \\\n",
      "0                             2.130765               5.067716   \n",
      "1                             2.013368               5.289642   \n",
      "2                             2.495616               4.640008   \n",
      "3                             1.988538               5.495273   \n",
      "4                             2.448833               5.010871   \n",
      "5                             2.144673               5.051266   \n",
      "6                             2.037463               5.342699   \n",
      "7                             2.279568               5.105972   \n",
      "\n",
      "   std[Bpk/Eacc [mT/MV/m]]  E[Bpk/Eacc [mT/MV/m]] + 6*std[Bpk/Eacc [mT/MV/m]]  \\\n",
      "0                 0.048732                                           5.360108   \n",
      "1                 0.031928                                           5.481210   \n",
      "2                 0.067416                                           5.044501   \n",
      "3                 0.047573                                           5.780711   \n",
      "4                 0.049627                                           5.308631   \n",
      "5                 0.055266                                           5.382864   \n",
      "6                 0.041182                                           5.589788   \n",
      "7                 0.059665                                           5.463961   \n",
      "\n",
      "   rank_E[Epk/Eacc []] + 6*std[Epk/Eacc []]  \\\n",
      "0                                       4.0   \n",
      "1                                       2.0   \n",
      "2                                       8.0   \n",
      "3                                       1.0   \n",
      "4                                       7.0   \n",
      "5                                       5.0   \n",
      "6                                       3.0   \n",
      "7                                       6.0   \n",
      "\n",
      "   rank_E[Bpk/Eacc [mT/MV/m]] + 6*std[Bpk/Eacc [mT/MV/m]]  total_rank  \n",
      "0                                                3.0              3.5  \n",
      "1                                                6.0              4.0  \n",
      "2                                                1.0              4.5  \n",
      "3                                                8.0              4.5  \n",
      "4                                                2.0              4.5  \n",
      "5                                                4.0              4.5  \n",
      "6                                                7.0              5.0  \n",
      "7                                                5.0              5.5  \n",
      "\n",
      "[8 rows x 22 columns]\u001b[0m\n",
      "================================================================================\n",
      "End time:  2024-08-16 17:16:56.403497\n"
     ]
    },
    {
     "name": "stderr",
     "output_type": "stream",
     "text": [
      "D:\\Dropbox\\cavsim2d\\notebooks\\..\\cavsim2d\\cavity.py:579: FutureWarning: The behavior of DataFrame concatenation with empty or all-NA entries is deprecated. In a future version, this will no longer exclude empty or all-NA columns when determining the result dtypes. To retain the old behavior, exclude the relevant entries before the concat operation.\n",
      "  df_ng = pd.concat([df_cross, df_mutation, df_chaos], ignore_index=True)\n"
     ]
    },
    {
     "data": {
      "image/png": "[encoded data removed]",
      "text/plain": [
       "<Figure size 640x480 with 1 Axes>"
      ]
     },
     "metadata": {},
     "output_type": "display_data"
    }
   ],
   "source": [
    "cavs = Cavities([])\n",
    "# must first save cavities\n",
    "cavs.save('D:\\Dropbox\\CavityDesignHub\\MuCol_Study\\SimulationData\\ConsoleTest')\n",
    "cell_type = 'end-end-cell'\n",
    "optimisation_config = {\n",
    "    'initial_points': 5,\n",
    "    'method': {\n",
    "        'LHS': {'seed': 5},\n",
    "        # 'Sobol Sequence': {'index': 2},\n",
    "        # 'Random': {},\n",
    "        # 'Uniform': {},\n",
    "        },\n",
    "    # 'mid-cell': [1, 2, 3, 3, 6, 5, 2],  # must enter if mid-end cell selected\n",
    "    'tune_config': {\n",
    "        'freqs': 801.58,\n",
    "        'parameters': 'Req',\n",
    "        'cell_types': cell_type,\n",
    "        'processes': 1\n",
    "    },\n",
    "    'wakefield_config': {},\n",
    "    'optimisation by': 'pareto',\n",
    "    'crossover_factor': 5,\n",
    "    'elites_for_crossover': 2,\n",
    "    'mutation_factor': 5,\n",
    "    'chaos_factor': 5,\n",
    "    'processes': 3,\n",
    "    'no_of_generation': 2,\n",
    "    'bounds': {'A': [20.0, 80.0],\n",
    "               'B': [20.0, 80.0],\n",
    "               'a': [10.0, 60.0],\n",
    "               'b': [10., 60.0],\n",
    "               'Ri': [60.0, 85.0],\n",
    "               'L': [93.5, 93.5],\n",
    "               'Req': [170.0, 170.0]},\n",
    "    'objectives': [\n",
    "        # ['equal', 'freq [MHz]', 801.58],\n",
    "                      ['min', 'Epk/Eacc []'],\n",
    "                      ['min', 'Bpk/Eacc [mT/MV/m]'],\n",
    "                      # ['min', 'ZL', [1, 2, 5]],\n",
    "                  ],\n",
    "    'weights': [1, 1],\n",
    "    'uq_config': {\n",
    "        'processes': 5,\n",
    "        'variables': ['A', 'a'],\n",
    "        'delta': [0.05, 0.05],\n",
    "        'distribution': 'gaussian',\n",
    "        # 'method': ['QMC', 'LHS', 1000],\n",
    "        # 'method': ['QMC', 'Sobol', 1000],\n",
    "        # 'method': ['Qudrature', 'Gaussian', 1000],\n",
    "        'method': ['Quadrature', 'Stroud3'],\n",
    "        # 'method': ['Quadrature', 'Stroud5'],\n",
    "        # 'gaussian': ['Quadrature', 'Gaussian'],\n",
    "        # 'from file': ['<file path>', columns],\n",
    "        'cell type': cell_type\n",
    "        }\n",
    "}\n",
    "cavs.run_optimisation(optimisation_config)"
   ]
  },
  {
   "cell_type": "code",
   "execution_count": null,
   "id": "e528df34-6731-41f0-afc4-7522a33e1a9b",
   "metadata": {},
   "outputs": [],
   "source": []
  }
 ],
 "metadata": {
  "kernelspec": {
   "display_name": "Python 3 (ipykernel)",
   "language": "python",
   "name": "python3"
  },
  "language_info": {
   "codemirror_mode": {
    "name": "ipython",
    "version": 3
   },
   "file_extension": ".py",
   "mimetype": "text/x-python",
   "name": "python",
   "nbconvert_exporter": "python",
   "pygments_lexer": "ipython3",
   "version": "3.11.9"
  },
  "widgets": {
   "application/vnd.jupyter.widget-state+json": {
    "state": {
     "2be4cb294db142e8bbd22eb5a1ca1403": {
      "model_module": "@jupyter-widgets/controls",
      "model_module_version": "2.0.0",
      "model_name": "FloatProgressModel",
      "state": {
       "layout": "IPY_MODEL_55b7da0034a6404b8b877f7ab1248cb7",
       "max": 2,
       "style": "IPY_MODEL_4753f26a13eb43789c62bef0cdb0b16a",
       "value": 2
      }
     },
     "4753f26a13eb43789c62bef0cdb0b16a": {
      "model_module": "@jupyter-widgets/controls",
      "model_module_version": "2.0.0",
      "model_name": "ProgressStyleModel",
      "state": {
       "description_width": ""
      }
     },
     "52238b0171724fe4b0e4bca87c468944": {
      "model_module": "@jupyter-widgets/controls",
      "model_module_version": "2.0.0",
      "model_name": "HBoxModel",
      "state": {
       "children": [
        "IPY_MODEL_57240a520a5e4b66837ee4b692e989d6",
        "IPY_MODEL_2be4cb294db142e8bbd22eb5a1ca1403",
        "IPY_MODEL_d9f2eb425df64f6db5350839d78bf4ab"
       ],
       "layout": "IPY_MODEL_b027907d1b6043429bfb262a53cd43b5"
      }
     },
     "55b7da0034a6404b8b877f7ab1248cb7": {
      "model_module": "@jupyter-widgets/base",
      "model_module_version": "2.0.0",
      "model_name": "LayoutModel",
      "state": {}
     },
     "57240a520a5e4b66837ee4b692e989d6": {
      "model_module": "@jupyter-widgets/controls",
      "model_module_version": "2.0.0",
      "model_name": "HTMLModel",
      "state": {
       "layout": "IPY_MODEL_b431ad6382774404a29df589cf785eb2",
       "style": "IPY_MODEL_c83f1f0be4f04ae9be61b9b3e2e40d43",
       "value": "100%"
      }
     },
     "b027907d1b6043429bfb262a53cd43b5": {
      "model_module": "@jupyter-widgets/base",
      "model_module_version": "2.0.0",
      "model_name": "LayoutModel",
      "state": {}
     },
     "b431ad6382774404a29df589cf785eb2": {
      "model_module": "@jupyter-widgets/base",
      "model_module_version": "2.0.0",
      "model_name": "LayoutModel",
      "state": {}
     },
     "bdfb77c713cd4d078ccdc1cebf9f5d51": {
      "model_module": "@jupyter-widgets/controls",
      "model_module_version": "2.0.0",
      "model_name": "HTMLStyleModel",
      "state": {
       "description_width": "",
       "font_size": null,
       "text_color": null
      }
     },
     "c5a5cdad31b145379c954f7bf13806da": {
      "model_module": "@jupyter-widgets/base",
      "model_module_version": "2.0.0",
      "model_name": "LayoutModel",
      "state": {}
     },
     "c83f1f0be4f04ae9be61b9b3e2e40d43": {
      "model_module": "@jupyter-widgets/controls",
      "model_module_version": "2.0.0",
      "model_name": "HTMLStyleModel",
      "state": {
       "description_width": "",
       "font_size": null,
       "text_color": null
      }
     },
     "d9f2eb425df64f6db5350839d78bf4ab": {
      "model_module": "@jupyter-widgets/controls",
      "model_module_version": "2.0.0",
      "model_name": "HTMLModel",
      "state": {
       "layout": "IPY_MODEL_c5a5cdad31b145379c954f7bf13806da",
       "style": "IPY_MODEL_bdfb77c713cd4d078ccdc1cebf9f5d51",
       "value": " 2/2 [04:17&lt;00:00, 133.20s/it]"
      }
     }
    },
    "version_major": 2,
    "version_minor": 0
   }
  }
 },
 "nbformat": 4,
 "nbformat_minor": 5
}
