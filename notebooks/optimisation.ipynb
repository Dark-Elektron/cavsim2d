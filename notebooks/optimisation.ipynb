{
 "cells": [
  {
   "cell_type": "code",
   "execution_count": 1,
   "id": "65544001-2b84-4c5e-8288-28b5143cee4f",
   "metadata": {},
   "outputs": [
    {
     "data": {
      "text/html": [
       "<style>p{background: -webkit-linear-gradient(#eee, #333);-webkit-background-clip: text; webkit-text-fill-color: transparent; }</style> <p><b>CAV-SIM-2D</b> loaded successfully!</p>"
      ],
      "text/plain": [
       "<IPython.core.display.HTML object>"
      ]
     },
     "metadata": {},
     "output_type": "display_data"
    }
   ],
   "source": [
    "import sys\n",
    "sys.path.append(\"..\")\n",
    "from cavsim2d.cavity import Cavity, Cavities, OperationPoints\n",
    "import numpy as np\n",
    "import json\n",
    "import matplotlib\n",
    "import matplotlib.pyplot as plt\n",
    "plt.ion()\n",
    "# %matplotlib inline\n",
    "import pprint\n",
    "pp = pprint.PrettyPrinter(indent=4)"
   ]
  },
  {
   "cell_type": "code",
   "execution_count": 2,
   "id": "1f2aefa3-c842-444c-8035-072dc20aed23",
   "metadata": {},
   "outputs": [
    {
     "name": "stdout",
     "output_type": "stream",
     "text": [
      "\u001b[32mProject D:\\Dropbox\\CavityDesignHub\\MuCol_Study\\SimulationData\\ConsoleTest created successfully/already exists.\u001b[0m\n"
     ]
    },
    {
     "data": {
      "application/vnd.jupyter.widget-view+json": {
       "model_id": "56863e34fb214620bdffc18da29888d6",
       "version_major": 2,
       "version_minor": 0
      },
      "text/plain": [
       "  0%|          | 0/2 [00:00<?, ?it/s]"
      ]
     },
     "metadata": {},
     "output_type": "display_data"
    },
    {
     "name": "stdout",
     "output_type": "stream",
     "text": [
      "['G0_C1_P', 'G0_C2_P', 'G0_C4_P'] []\n",
      "Pareto: 2 optimal values, 2 objects\n",
      "\u001b[32m       key     A     B     a     b    Ri     L         Req     alpha_i  \\\n",
      "0  G0_C2_P  38.0  50.0  25.0  25.0  77.5  93.5  183.668114  119.362688   \n",
      "1  G0_C1_P  62.0  74.0  15.0  15.0  72.5  93.5  174.812752  114.818069   \n",
      "2  G0_C4_P  26.0  26.0  35.0  35.0  62.5  93.5  182.458225  114.271444   \n",
      "\n",
      "      alpha_o  freq [MHz]  Epk/Eacc []  Bpk/Eacc [mT/MV/m]  ZL [max(1<f<2)]  \\\n",
      "0  119.362688  801.583274     1.791082            5.506397         0.161519   \n",
      "1  114.818069  801.577173     1.911991            4.733127         2.685337   \n",
      "2  114.271444  801.582857     1.803702            5.537494         2.242853   \n",
      "\n",
      "   ZL [max(2<f<5)]  rank_Epk/Eacc []  rank_Bpk/Eacc [mT/MV/m]  \\\n",
      "0         0.038291               1.0                      2.0   \n",
      "1         0.332051               3.0                      1.0   \n",
      "2         0.071294               2.0                      3.0   \n",
      "\n",
      "   rank_ZL [max(1<f<2)]  rank_ZL [max(2<f<5)]  total_rank  \n",
      "0                   1.0                   1.0        1.25  \n",
      "1                   3.0                   3.0        2.50  \n",
      "2                   2.0                   2.0        2.25  \u001b[0m\n"
     ]
    },
    {
     "name": "stderr",
     "output_type": "stream",
     "text": [
      "D:\\Dropbox\\cavsim2d\\notebooks\\..\\cavsim2d\\cavity.py:579: FutureWarning: The behavior of DataFrame concatenation with empty or all-NA entries is deprecated. In a future version, this will no longer exclude empty or all-NA columns when determining the result dtypes. To retain the old behavior, exclude the relevant entries before the concat operation.\n",
      "  df_ng = pd.concat([df_cross, df_mutation, df_chaos], ignore_index=True)\n"
     ]
    },
    {
     "name": "stdout",
     "output_type": "stream",
     "text": [
      "================================================================================\n",
      "['G0_C0_CO', 'G0_C1_CO', 'G0_C2_CO', 'G0_C3_CO', 'G0_C4_CO'] []\n",
      "Pareto: 6 optimal values, 6 objects\n",
      "\u001b[32m        key     A     B     a     b     Ri     L         Req     alpha_i  \\\n",
      "0  G0_C3_CO  35.0  44.0  25.0  25.0  72.50  93.5  183.090474  118.553499   \n",
      "1   G0_C2_P  38.0  50.0  25.0  25.0  77.50  93.5  183.668114  119.362688   \n",
      "2  G0_C0_CO  32.0  50.0  30.0  30.0  72.50  93.5  186.011429  118.057120   \n",
      "3  G0_C1_CO  35.0  38.0  27.5  27.5  72.50  93.5  181.621062  117.250197   \n",
      "4  G0_C2_CO  35.0  44.0  25.0  25.0  68.75  93.5  182.144454  117.711355   \n",
      "5   G0_C1_P  62.0  74.0  15.0  15.0  72.50  93.5  174.812752  114.818069   \n",
      "6  G0_C4_CO  32.0  44.0  27.5  25.0  68.75  93.5  183.940905  117.323461   \n",
      "7   G0_C4_P  26.0  26.0  35.0  35.0  62.50  93.5  182.458225  114.271444   \n",
      "\n",
      "      alpha_o  freq [MHz]  Epk/Eacc []  Bpk/Eacc [mT/MV/m]  ZL [max(1<f<2)]  \\\n",
      "0  118.553499  801.577542     1.761335            5.407136         1.051522   \n",
      "1  119.362688  801.583274     1.791082            5.506397         0.161519   \n",
      "2  118.057120  801.581047     1.776370            5.623260         0.423650   \n",
      "3  117.250197  801.570974     1.788190            5.391481         0.726167   \n",
      "4  117.711355  801.571959     1.744803            5.301996         2.577764   \n",
      "5  114.818069  801.577173     1.911991            4.733127         2.685337   \n",
      "6  117.323461  801.582314     1.786534            5.458390         1.484086   \n",
      "7  114.271444  801.582857     1.803702            5.537494         2.242853   \n",
      "\n",
      "   ZL [max(2<f<5)]  rank_Epk/Eacc []  rank_Bpk/Eacc [mT/MV/m]  \\\n",
      "0         0.055149               2.0                      4.0   \n",
      "1         0.038291               6.0                      6.0   \n",
      "2         0.053646               3.0                      8.0   \n",
      "3         0.057999               5.0                      3.0   \n",
      "4         0.071471               1.0                      2.0   \n",
      "5         0.332051               8.0                      1.0   \n",
      "6         0.057865               4.0                      5.0   \n",
      "7         0.071294               7.0                      7.0   \n",
      "\n",
      "   rank_ZL [max(1<f<2)]  rank_ZL [max(2<f<5)]  total_rank  \n",
      "0                   4.0                   3.0        3.25  \n",
      "1                   1.0                   1.0        3.50  \n",
      "2                   2.0                   2.0        3.75  \n",
      "3                   3.0                   5.0        4.00  \n",
      "4                   7.0                   7.0        4.25  \n",
      "5                   8.0                   8.0        6.25  \n",
      "6                   5.0                   4.0        4.50  \n",
      "7                   6.0                   6.0        6.50  \u001b[0m\n",
      "================================================================================\n",
      "End time:  2024-08-16 15:40:17.067358\n"
     ]
    },
    {
     "name": "stderr",
     "output_type": "stream",
     "text": [
      "D:\\Dropbox\\cavsim2d\\notebooks\\..\\cavsim2d\\cavity.py:579: FutureWarning: The behavior of DataFrame concatenation with empty or all-NA entries is deprecated. In a future version, this will no longer exclude empty or all-NA columns when determining the result dtypes. To retain the old behavior, exclude the relevant entries before the concat operation.\n",
      "  df_ng = pd.concat([df_cross, df_mutation, df_chaos], ignore_index=True)\n"
     ]
    },
    {
     "data": {
      "image/png": "[encoded data removed]",
      "text/plain": [
       "<Figure size 640x480 with 1 Axes>"
      ]
     },
     "metadata": {},
     "output_type": "display_data"
    }
   ],
   "source": [
    "cavs = Cavities([])\n",
    "# must first save cavities\n",
    "cavs.save('D:\\Dropbox\\CavityDesignHub\\MuCol_Study\\SimulationData\\ConsoleTest')\n",
    "cell_type = 'end-end-cell'\n",
    "optimisation_config = {\n",
    "    'initial_points': 5,\n",
    "    'method': {\n",
    "        'LHS': {'seed': 5},\n",
    "        # 'Sobol Sequence': {'index': 2},\n",
    "        # 'Random': {},\n",
    "        # 'Uniform': {},\n",
    "        },\n",
    "    # 'mid-cell': [1, 2, 3, 3, 6, 5, 2],  # must enter if mid-end cell selected\n",
    "    'tune_config': {\n",
    "        'freqs': 801.58,\n",
    "        'parameters': 'Req',\n",
    "        'cell_types': cell_type,\n",
    "        'processes': 1\n",
    "    },\n",
    "    'wakefield_config': {},\n",
    "    'optimisation by': 'pareto',\n",
    "    'crossover_factor': 5,\n",
    "    'elites_for_crossover': 2,\n",
    "    'mutation_factor': 5,\n",
    "    'chaos_factor': 5,\n",
    "    'processes': 3,\n",
    "    'no_of_generation': 2,\n",
    "    'bounds': {'A': [20.0, 80.0],\n",
    "               'B': [20.0, 80.0],\n",
    "               'a': [10.0, 60.0],\n",
    "               'b': [10., 60.0],\n",
    "               'Ri': [60.0, 85.0],\n",
    "               'L': [93.5, 93.5],\n",
    "               'Req': [170.0, 170.0]},\n",
    "    'objectives': [\n",
    "        # ['equal', 'freq [MHz]', 801.58],\n",
    "                      ['min', 'Epk/Eacc []'],\n",
    "                      ['min', 'Bpk/Eacc [mT/MV/m]'],\n",
    "                      ['min', 'ZL', [1, 2, 5]],\n",
    "                  ],\n",
    "    'weights': [1, 1, 1, 1],\n",
    "    'uq_config': {\n",
    "        'processes': 5,\n",
    "        'variables': ['A', 'a'],\n",
    "        'delta': [0.05, 0.05],\n",
    "        'distribution': 'gaussian',\n",
    "        # 'method': ['QMC', 'LHS', 1000],\n",
    "        # 'method': ['QMC', 'Sobol', 1000],\n",
    "        # 'method': ['Qudrature', 'Gaussian', 1000],\n",
    "        'method': ['Quadrature', 'Stroud3'],\n",
    "        # 'method': ['Quadrature', 'Stroud5'],\n",
    "        # 'gaussian': ['Quadrature', 'Gaussian'],\n",
    "        # 'from file': ['<file path>', columns],\n",
    "        'cell type': cell_type\n",
    "        }\n",
    "}\n",
    "cavs.run_optimisation(optimisation_config)"
   ]
  },
  {
   "cell_type": "code",
   "execution_count": null,
   "id": "e528df34-6731-41f0-afc4-7522a33e1a9b",
   "metadata": {},
   "outputs": [],
   "source": []
  }
 ],
 "metadata": {
  "kernelspec": {
   "display_name": "Python 3 (ipykernel)",
   "language": "python",
   "name": "python3"
  },
  "language_info": {
   "codemirror_mode": {
    "name": "ipython",
    "version": 3
   },
   "file_extension": ".py",
   "mimetype": "text/x-python",
   "name": "python",
   "nbconvert_exporter": "python",
   "pygments_lexer": "ipython3",
   "version": "3.11.9"
  },
  "widgets": {
   "application/vnd.jupyter.widget-state+json": {
    "state": {
     "296c4187b98f4222aa238595d3a183bd": {
      "model_module": "@jupyter-widgets/base",
      "model_module_version": "2.0.0",
      "model_name": "LayoutModel",
      "state": {}
     },
     "3084421f6e7e432da1f17d4e9df19504": {
      "model_module": "@jupyter-widgets/base",
      "model_module_version": "2.0.0",
      "model_name": "LayoutModel",
      "state": {}
     },
     "56863e34fb214620bdffc18da29888d6": {
      "model_module": "@jupyter-widgets/controls",
      "model_module_version": "2.0.0",
      "model_name": "HBoxModel",
      "state": {
       "children": [
        "IPY_MODEL_eb850e8c631d4aa6be4e40dc422b33d1",
        "IPY_MODEL_9a8172c32eea490bbd5cef5c456ee6d2",
        "IPY_MODEL_bb3dba57fd654389971f99156b282410"
       ],
       "layout": "IPY_MODEL_296c4187b98f4222aa238595d3a183bd"
      }
     },
     "5da902d5919b4a54b8fe57531e7ae903": {
      "model_module": "@jupyter-widgets/controls",
      "model_module_version": "2.0.0",
      "model_name": "ProgressStyleModel",
      "state": {
       "description_width": ""
      }
     },
     "66c0d841a1dc42c8bc8d26ebe47085af": {
      "model_module": "@jupyter-widgets/controls",
      "model_module_version": "2.0.0",
      "model_name": "HTMLStyleModel",
      "state": {
       "description_width": "",
       "font_size": null,
       "text_color": null
      }
     },
     "679b16583c504c5e99b073eeb7b3839a": {
      "model_module": "@jupyter-widgets/base",
      "model_module_version": "2.0.0",
      "model_name": "LayoutModel",
      "state": {}
     },
     "7e15b76d694343d49d21d590628c3cfc": {
      "model_module": "@jupyter-widgets/controls",
      "model_module_version": "2.0.0",
      "model_name": "HTMLStyleModel",
      "state": {
       "description_width": "",
       "font_size": null,
       "text_color": null
      }
     },
     "9a8172c32eea490bbd5cef5c456ee6d2": {
      "model_module": "@jupyter-widgets/controls",
      "model_module_version": "2.0.0",
      "model_name": "FloatProgressModel",
      "state": {
       "layout": "IPY_MODEL_3084421f6e7e432da1f17d4e9df19504",
       "max": 2,
       "style": "IPY_MODEL_5da902d5919b4a54b8fe57531e7ae903",
       "value": 2
      }
     },
     "bb3dba57fd654389971f99156b282410": {
      "model_module": "@jupyter-widgets/controls",
      "model_module_version": "2.0.0",
      "model_name": "HTMLModel",
      "state": {
       "layout": "IPY_MODEL_679b16583c504c5e99b073eeb7b3839a",
       "style": "IPY_MODEL_7e15b76d694343d49d21d590628c3cfc",
       "value": " 2/2 [16:31&lt;00:00, 516.21s/it]"
      }
     },
     "c4e9052e685346e0b53d6749ed68c016": {
      "model_module": "@jupyter-widgets/base",
      "model_module_version": "2.0.0",
      "model_name": "LayoutModel",
      "state": {}
     },
     "eb850e8c631d4aa6be4e40dc422b33d1": {
      "model_module": "@jupyter-widgets/controls",
      "model_module_version": "2.0.0",
      "model_name": "HTMLModel",
      "state": {
       "layout": "IPY_MODEL_c4e9052e685346e0b53d6749ed68c016",
       "style": "IPY_MODEL_66c0d841a1dc42c8bc8d26ebe47085af",
       "value": "100%"
      }
     }
    },
    "version_major": 2,
    "version_minor": 0
   }
  }
 },
 "nbformat": 4,
 "nbformat_minor": 5
}
