{
 "cells": [
  {
   "cell_type": "markdown",
   "id": "87d7f885-938a-486b-baf7-a000654039c3",
   "metadata": {},
   "source": [
    "# Optimisation"
   ]
  },
  {
   "cell_type": "code",
   "execution_count": 1,
   "id": "65544001-2b84-4c5e-8288-28b5143cee4f",
   "metadata": {},
   "outputs": [],
   "source": [
    "import sys\n",
    "sys.path.append(\"..\")\n",
    "from cavsim2d.cavity import Cavity, Cavities, OperationPoints\n",
    "import numpy as np\n",
    "import json\n",
    "import matplotlib\n",
    "import matplotlib.pyplot as plt\n",
    "plt.ion()\n",
    "# %matplotlib inline\n",
    "import pprint\n",
    "pp = pprint.PrettyPrinter(indent=4)"
   ]
  },
  {
   "cell_type": "code",
   "execution_count": 2,
   "id": "1f2aefa3-c842-444c-8035-072dc20aed23",
   "metadata": {},
   "outputs": [
    {
     "name": "stdout",
     "output_type": "stream",
     "text": [
      "\u001b[32mDONE:: Project D:\\Dropbox\\CavityDesignHub\\MuCol_Study\\SimulationData\\ConsoleTest created successfully/already exists.\u001b[0m\n"
     ]
    },
    {
     "data": {
      "application/vnd.jupyter.widget-view+json": {
       "model_id": "e5ac4654273248c2b0a74a7c8e630d3b",
       "version_major": 2,
       "version_minor": 0
      },
      "text/plain": [
       "  0%|          | 0/6 [00:00<?, ?it/s]"
      ]
     },
     "metadata": {},
     "output_type": "display_data"
    },
    {
     "name": "stdout",
     "output_type": "stream",
     "text": [
      "\u001b[32mDONE::        key     A     B     a     b    Ri     L         Req     alpha_i  \\\n",
      "0  G0_C1_P  62.0  74.0  15.0  15.0  72.5  93.5  174.807603  114.820099   \n",
      "1  G0_C2_P  38.0  50.0  25.0  25.0  77.5  93.5  183.662248  119.364651   \n",
      "2  G0_C4_P  26.0  26.0  35.0  35.0  62.5  93.5  182.452690  114.272859   \n",
      "\n",
      "      alpha_o  freq [MHz]  Epk/Eacc []  Bpk/Eacc [mT/MV/m]  rank_Epk/Eacc []  \\\n",
      "0  114.820099  801.580199     2.351680            4.639548               3.0   \n",
      "1  119.364651  801.583215     2.013490            5.330162               2.0   \n",
      "2  114.272859  801.583637     1.864688            5.431897               1.0   \n",
      "\n",
      "   rank_Bpk/Eacc [mT/MV/m]  total_rank  \n",
      "0                      1.0         2.0  \n",
      "1                      2.0         2.0  \n",
      "2                      3.0         2.0  \u001b[0m\n"
     ]
    },
    {
     "name": "stderr",
     "output_type": "stream",
     "text": [
      "D:\\Dropbox\\cavsim2d\\notebooks\\..\\cavsim2d\\cavity.py:616: FutureWarning: The behavior of DataFrame concatenation with empty or all-NA entries is deprecated. In a future version, this will no longer exclude empty or all-NA columns when determining the result dtypes. To retain the old behavior, exclude the relevant entries before the concat operation.\n",
      "  df_ng = pd.concat([df_cross, df_mutation, df_chaos], ignore_index=True)\n"
     ]
    },
    {
     "name": "stdout",
     "output_type": "stream",
     "text": [
      "\u001b[34mINFO:: ================================================================================\u001b[0m\n",
      "\u001b[32mDONE::         key     A     B     a     b    Ri     L         Req     alpha_i  \\\n",
      "0  G0_C3_CO  44.0  62.0  30.0  30.0  70.0  93.5  179.604326  114.662093   \n",
      "1  G0_C1_CO  50.0  62.0  25.0  30.0  75.0  93.5  178.499844  116.383670   \n",
      "2   G0_C1_P  62.0  74.0  15.0  15.0  72.5  93.5  174.807603  114.820099   \n",
      "3   G0_C4_P  26.0  26.0  35.0  35.0  62.5  93.5  182.452690  114.272859   \n",
      "4  G0_C0_CO  50.0  50.0  25.0  25.0  70.0  93.5  174.554313  112.566065   \n",
      "5  G0_C2_CO  38.0  50.0  30.0  25.0  67.5  93.5  180.229890  114.438761   \n",
      "6  G0_C4_CO  44.0  62.0  25.0  25.0  75.0  93.5  181.520362  117.886824   \n",
      "7   G0_C2_P  38.0  50.0  25.0  25.0  77.5  93.5  183.662248  119.364651   \n",
      "\n",
      "      alpha_o  freq [MHz]  Epk/Eacc []  Bpk/Eacc [mT/MV/m]  rank_Epk/Eacc []  \\\n",
      "0  114.662093  801.583760     1.926257            5.192726               2.0   \n",
      "1  116.383670  801.578841     2.009210            5.016038               5.0   \n",
      "2  114.820099  801.580199     2.351680            4.639548               8.0   \n",
      "3  114.272859  801.583637     1.864688            5.431897               1.0   \n",
      "4  112.566065  801.580008     2.018433            4.842444               7.0   \n",
      "5  114.438761  801.580003     1.971529            5.282874               3.0   \n",
      "6  117.886824  801.580030     1.998357            5.209451               4.0   \n",
      "7  119.364651  801.583215     2.013490            5.330162               6.0   \n",
      "\n",
      "   rank_Bpk/Eacc [mT/MV/m]  total_rank  \n",
      "0                      4.0         3.0  \n",
      "1                      3.0         4.0  \n",
      "2                      1.0         4.5  \n",
      "3                      8.0         4.5  \n",
      "4                      2.0         4.5  \n",
      "5                      6.0         4.5  \n",
      "6                      5.0         4.5  \n",
      "7                      7.0         6.5  \u001b[0m\n",
      "\u001b[34mINFO:: ================================================================================\u001b[0m\n"
     ]
    },
    {
     "name": "stderr",
     "output_type": "stream",
     "text": [
      "D:\\Dropbox\\cavsim2d\\notebooks\\..\\cavsim2d\\cavity.py:616: FutureWarning: The behavior of DataFrame concatenation with empty or all-NA entries is deprecated. In a future version, this will no longer exclude empty or all-NA columns when determining the result dtypes. To retain the old behavior, exclude the relevant entries before the concat operation.\n",
      "  df_ng = pd.concat([df_cross, df_mutation, df_chaos], ignore_index=True)\n"
     ]
    },
    {
     "name": "stdout",
     "output_type": "stream",
     "text": [
      "\u001b[32mDONE::          key     A     B     a     b     Ri     L         Req     alpha_i  \\\n",
      "0   G1_C2_CO  44.0  50.0  22.5  22.5  67.50  93.5  177.568925  115.894371   \n",
      "1   G0_C3_CO  44.0  62.0  30.0  30.0  70.00  93.5  179.604326  114.662093   \n",
      "2   G1_C0_CO  38.0  68.0  25.0  27.5  71.25  93.5  185.103856  119.282533   \n",
      "3   G0_C0_CO  50.0  50.0  25.0  25.0  70.00  93.5  174.554313  112.566065   \n",
      "4    G0_C1_P  62.0  74.0  15.0  15.0  72.50  93.5  174.807603  114.820099   \n",
      "5    G0_C4_P  26.0  26.0  35.0  35.0  62.50  93.5  182.452690  114.272859   \n",
      "6   G1_C1_CO  38.0  50.0  22.5  25.0  71.25  93.5  182.306486  119.030636   \n",
      "7   G0_C1_CO  50.0  62.0  25.0  30.0  75.00  93.5  178.499844  116.383670   \n",
      "8   G1_C4_CO  44.0  38.0  27.5  22.5  66.25  93.5  173.720700  111.220127   \n",
      "9   G0_C2_CO  38.0  50.0  30.0  25.0  67.50  93.5  180.229890  114.438761   \n",
      "10  G0_C4_CO  44.0  62.0  25.0  25.0  75.00  93.5  181.520362  117.886824   \n",
      "11  G1_C3_CO  38.0  68.0  30.0  27.5  70.00  93.5  184.202953  116.660424   \n",
      "12   G0_C2_P  38.0  50.0  25.0  25.0  77.50  93.5  183.662248  119.364651   \n",
      "\n",
      "       alpha_o  freq [MHz]  Epk/Eacc []  Bpk/Eacc [mT/MV/m]  rank_Epk/Eacc []  \\\n",
      "0   115.894371  801.583993     1.953840            4.941665               5.0   \n",
      "1   114.662093  801.583760     1.926257            5.192726               3.0   \n",
      "2   119.282533  801.580521     1.909422            5.305070               2.0   \n",
      "3   112.566065  801.580008     2.018433            4.842444              11.0   \n",
      "4   114.820099  801.580199     2.351680            4.639548              13.0   \n",
      "5   114.272859  801.583637     1.864688            5.431897               1.0   \n",
      "6   119.030636  801.580161     1.961278            5.163937               6.0   \n",
      "7   116.383670  801.578841     2.009210            5.016038               9.0   \n",
      "8   111.220127  801.580008     2.053298            4.929706              12.0   \n",
      "9   114.438761  801.580003     1.971529            5.282874               7.0   \n",
      "10  117.886824  801.580030     1.998357            5.209451               8.0   \n",
      "11  116.660424  801.580193     1.928819            5.422935               4.0   \n",
      "12  119.364651  801.583215     2.013490            5.330162              10.0   \n",
      "\n",
      "    rank_Bpk/Eacc [mT/MV/m]  total_rank  \n",
      "0                       4.0         4.5  \n",
      "1                       7.0         5.0  \n",
      "2                      10.0         6.0  \n",
      "3                       2.0         6.5  \n",
      "4                       1.0         7.0  \n",
      "5                      13.0         7.0  \n",
      "6                       6.0         6.0  \n",
      "7                       5.0         7.0  \n",
      "8                       3.0         7.5  \n",
      "9                       9.0         8.0  \n",
      "10                      8.0         8.0  \n",
      "11                     12.0         8.0  \n",
      "12                     11.0        10.5  \u001b[0m\n",
      "\u001b[34mINFO:: ================================================================================\u001b[0m\n"
     ]
    },
    {
     "name": "stderr",
     "output_type": "stream",
     "text": [
      "D:\\Dropbox\\cavsim2d\\notebooks\\..\\cavsim2d\\cavity.py:616: FutureWarning: The behavior of DataFrame concatenation with empty or all-NA entries is deprecated. In a future version, this will no longer exclude empty or all-NA columns when determining the result dtypes. To retain the old behavior, exclude the relevant entries before the concat operation.\n",
      "  df_ng = pd.concat([df_cross, df_mutation, df_chaos], ignore_index=True)\n"
     ]
    },
    {
     "name": "stdout",
     "output_type": "stream",
     "text": [
      "\u001b[32mDONE::          key     A     B     a      b      Ri     L         Req     alpha_i  \\\n",
      "0   G1_C2_CO  44.0  50.0  22.5  22.50  67.500  93.5  177.568925  115.894371   \n",
      "1   G2_C0_CO  50.0  38.0  25.0  26.25  67.500  93.5  171.428538  110.354717   \n",
      "2   G0_C3_CO  44.0  62.0  30.0  30.00  70.000  93.5  179.604326  114.662093   \n",
      "3   G1_C0_CO  38.0  68.0  25.0  27.50  71.250  93.5  185.103856  119.282533   \n",
      "4   G2_C3_CO  50.0  38.0  25.0  21.25  66.250  93.5  170.685327  109.175759   \n",
      "5    G0_C1_P  62.0  74.0  15.0  15.00  72.500  93.5  174.807603  114.820099   \n",
      "6    G0_C4_P  26.0  26.0  35.0  35.00  62.500  93.5  182.452690  114.272859   \n",
      "7   G0_C0_CO  50.0  50.0  25.0  25.00  70.000  93.5  174.554313  112.566065   \n",
      "8   G1_C1_CO  38.0  50.0  22.5  25.00  71.250  93.5  182.306486  119.030636   \n",
      "9   G0_C1_CO  50.0  62.0  25.0  30.00  75.000  93.5  178.499844  116.383670   \n",
      "10  G2_C1_CO  44.0  38.0  25.0  21.25  67.500  93.5  174.492316  112.852498   \n",
      "11  G1_C4_CO  44.0  38.0  27.5  22.50  66.250  93.5  173.720700  111.220127   \n",
      "12  G0_C4_CO  44.0  62.0  25.0  25.00  75.000  93.5  181.520362  117.886824   \n",
      "13  G0_C2_CO  38.0  50.0  30.0  25.00  67.500  93.5  180.229890  114.438761   \n",
      "14  G1_C3_CO  38.0  68.0  30.0  27.50  70.000  93.5  184.202953  116.660424   \n",
      "15  G2_C4_CO  44.0  71.0  20.0  26.25  71.875  93.5  182.764560  120.217367   \n",
      "16   G0_C2_P  38.0  50.0  25.0  25.00  77.500  93.5  183.662248  119.364651   \n",
      "17  G2_C2_CO  38.0  71.0  20.0  26.25  71.875  93.5  186.079263  121.344775   \n",
      "\n",
      "       alpha_o  freq [MHz]  Epk/Eacc []  Bpk/Eacc [mT/MV/m]  rank_Epk/Eacc []  \\\n",
      "0   115.894371  801.583993     1.953840            4.941665               5.0   \n",
      "1   110.354717  801.579506     2.000580            4.713628               9.0   \n",
      "2   114.662093  801.583760     1.926257            5.192726               3.0   \n",
      "3   119.282533  801.580521     1.909422            5.305070               2.0   \n",
      "4   109.175759  801.578633     2.092194            4.707649              16.0   \n",
      "5   114.820099  801.580199     2.351680            4.639548              18.0   \n",
      "6   114.272859  801.583637     1.864688            5.431897               1.0   \n",
      "7   112.566065  801.580008     2.018433            4.842444              12.0   \n",
      "8   119.030636  801.580161     1.961278            5.163937               6.0   \n",
      "9   116.383670  801.578841     2.009210            5.016038              10.0   \n",
      "10  112.852498  801.580006     2.042434            4.904004              13.0   \n",
      "11  111.220127  801.580008     2.053298            4.929706              14.0   \n",
      "12  117.886824  801.580030     1.998357            5.209451               8.0   \n",
      "13  114.438761  801.580003     1.971529            5.282874               7.0   \n",
      "14  116.660424  801.580193     1.928819            5.422935               4.0   \n",
      "15  120.217367  801.580086     2.094054            5.111884              17.0   \n",
      "16  119.364651  801.583215     2.013490            5.330162              11.0   \n",
      "17  121.344775  801.580220     2.082495            5.228332              15.0   \n",
      "\n",
      "    rank_Bpk/Eacc [mT/MV/m]  total_rank  \n",
      "0                       7.0         6.0  \n",
      "1                       3.0         6.0  \n",
      "2                      11.0         7.0  \n",
      "3                      15.0         8.5  \n",
      "4                       2.0         9.0  \n",
      "5                       1.0         9.5  \n",
      "6                      18.0         9.5  \n",
      "7                       4.0         8.0  \n",
      "8                      10.0         8.0  \n",
      "9                       8.0         9.0  \n",
      "10                      5.0         9.0  \n",
      "11                      6.0        10.0  \n",
      "12                     12.0        10.0  \n",
      "13                     14.0        10.5  \n",
      "14                     17.0        10.5  \n",
      "15                      9.0        13.0  \n",
      "16                     16.0        13.5  \n",
      "17                     13.0        14.0  \u001b[0m\n",
      "\u001b[34mINFO:: ================================================================================\u001b[0m\n"
     ]
    },
    {
     "name": "stderr",
     "output_type": "stream",
     "text": [
      "D:\\Dropbox\\cavsim2d\\notebooks\\..\\cavsim2d\\cavity.py:616: FutureWarning: The behavior of DataFrame concatenation with empty or all-NA entries is deprecated. In a future version, this will no longer exclude empty or all-NA columns when determining the result dtypes. To retain the old behavior, exclude the relevant entries before the concat operation.\n",
      "  df_ng = pd.concat([df_cross, df_mutation, df_chaos], ignore_index=True)\n"
     ]
    },
    {
     "name": "stdout",
     "output_type": "stream",
     "text": [
      "\u001b[32mDONE::          key     A     B     a       b      Ri     L         Req     alpha_i  \\\n",
      "0   G3_C3_CO  44.0  53.0  20.0  25.000  64.375  93.5  177.898148  117.036670   \n",
      "1   G2_C0_CO  50.0  38.0  25.0  26.250  67.500  93.5  171.428538  110.354717   \n",
      "2   G1_C0_CO  38.0  68.0  25.0  27.500  71.250  93.5  185.103856  119.282533   \n",
      "3   G2_C3_CO  50.0  38.0  25.0  21.250  66.250  93.5  170.685327  109.175759   \n",
      "4    G0_C1_P  62.0  74.0  15.0  15.000  72.500  93.5  174.807603  114.820099   \n",
      "5    G0_C4_P  26.0  26.0  35.0  35.000  62.500  93.5  182.452690  114.272859   \n",
      "6   G1_C2_CO  44.0  50.0  22.5  22.500  67.500  93.5  177.568925  115.894371   \n",
      "7   G0_C3_CO  44.0  62.0  30.0  30.000  70.000  93.5  179.604326  114.662093   \n",
      "8   G3_C4_CO  38.0  50.0  25.0  28.125  71.875  93.5  182.303163  118.479445   \n",
      "9   G0_C0_CO  50.0  50.0  25.0  25.000  70.000  93.5  174.554313  112.566065   \n",
      "10  G3_C2_CO  44.0  71.0  25.0  28.125  71.875  93.5  182.222705  118.263232   \n",
      "11  G1_C1_CO  38.0  50.0  22.5  25.000  71.250  93.5  182.306486  119.030636   \n",
      "12  G3_C1_CO  44.0  50.0  30.0  28.125  71.875  93.5  177.828979  113.440134   \n",
      "13  G0_C1_CO  50.0  62.0  25.0  30.000  75.000  93.5  178.499844  116.383670   \n",
      "14  G2_C1_CO  44.0  38.0  25.0  21.250  67.500  93.5  174.492316  112.852498   \n",
      "15  G3_C0_CO  44.0  71.0  30.0  28.125  68.750  93.5  180.586126  114.834603   \n",
      "16  G1_C4_CO  44.0  38.0  27.5  22.500  66.250  93.5  173.720700  111.220127   \n",
      "17  G1_C3_CO  38.0  68.0  30.0  27.500  70.000  93.5  184.202953  116.660424   \n",
      "18  G0_C4_CO  44.0  62.0  25.0  25.000  75.000  93.5  181.520362  117.886824   \n",
      "19  G0_C2_CO  38.0  50.0  30.0  25.000  67.500  93.5  180.229890  114.438761   \n",
      "20  G2_C4_CO  44.0  71.0  20.0  26.250  71.875  93.5  182.764560  120.217367   \n",
      "21  G2_C2_CO  38.0  71.0  20.0  26.250  71.875  93.5  186.079263  121.344775   \n",
      "22   G0_C2_P  38.0  50.0  25.0  25.000  77.500  93.5  183.662248  119.364651   \n",
      "\n",
      "       alpha_o  freq [MHz]  Epk/Eacc []  Bpk/Eacc [mT/MV/m]  rank_Epk/Eacc []  \\\n",
      "0   117.036670  801.580005     1.911174            4.855868               3.0   \n",
      "1   110.354717  801.579506     2.000580            4.713628              14.0   \n",
      "2   119.282533  801.580521     1.909422            5.305070               2.0   \n",
      "3   109.175759  801.578633     2.092194            4.707649              21.0   \n",
      "4   114.820099  801.580199     2.351680            4.639548              23.0   \n",
      "5   114.272859  801.583637     1.864688            5.431897               1.0   \n",
      "6   115.894371  801.583993     1.953840            4.941665               9.0   \n",
      "7   114.662093  801.583760     1.926257            5.192726               4.0   \n",
      "8   118.479445  801.580223     1.927868            5.209095               5.0   \n",
      "9   112.566065  801.580008     2.018433            4.842444              17.0   \n",
      "10  118.263232  801.580090     1.933947            5.189489               8.0   \n",
      "11  119.030636  801.580161     1.961278            5.163937              10.0   \n",
      "12  113.440134  801.580005     1.986418            5.155196              12.0   \n",
      "13  116.383670  801.578841     2.009210            5.016038              15.0   \n",
      "14  112.852498  801.580006     2.042434            4.904004              18.0   \n",
      "15  114.834603  801.580029     1.931415            5.242560               7.0   \n",
      "16  111.220127  801.580008     2.053298            4.929706              19.0   \n",
      "17  116.660424  801.580193     1.928819            5.422935               6.0   \n",
      "18  117.886824  801.580030     1.998357            5.209451              13.0   \n",
      "19  114.438761  801.580003     1.971529            5.282874              11.0   \n",
      "20  120.217367  801.580086     2.094054            5.111884              22.0   \n",
      "21  121.344775  801.580220     2.082495            5.228332              20.0   \n",
      "22  119.364651  801.583215     2.013490            5.330162              16.0   \n",
      "\n",
      "    rank_Bpk/Eacc [mT/MV/m]  total_rank  \n",
      "0                       5.0         4.0  \n",
      "1                       3.0         8.5  \n",
      "2                      20.0        11.0  \n",
      "3                       2.0        11.5  \n",
      "4                       1.0        12.0  \n",
      "5                      23.0        12.0  \n",
      "6                       8.0         8.5  \n",
      "7                      14.0         9.0  \n",
      "8                      15.0        10.0  \n",
      "9                       4.0        10.5  \n",
      "10                     13.0        10.5  \n",
      "11                     12.0        11.0  \n",
      "12                     11.0        11.5  \n",
      "13                      9.0        12.0  \n",
      "14                      6.0        12.0  \n",
      "15                     18.0        12.5  \n",
      "16                      7.0        13.0  \n",
      "17                     22.0        14.0  \n",
      "18                     16.0        14.5  \n",
      "19                     19.0        15.0  \n",
      "20                     10.0        16.0  \n",
      "21                     17.0        18.5  \n",
      "22                     21.0        18.5  \u001b[0m\n",
      "\u001b[34mINFO:: ================================================================================\u001b[0m\n"
     ]
    },
    {
     "name": "stderr",
     "output_type": "stream",
     "text": [
      "D:\\Dropbox\\cavsim2d\\notebooks\\..\\cavsim2d\\cavity.py:616: FutureWarning: The behavior of DataFrame concatenation with empty or all-NA entries is deprecated. In a future version, this will no longer exclude empty or all-NA columns when determining the result dtypes. To retain the old behavior, exclude the relevant entries before the concat operation.\n",
      "  df_ng = pd.concat([df_cross, df_mutation, df_chaos], ignore_index=True)\n"
     ]
    },
    {
     "name": "stdout",
     "output_type": "stream",
     "text": [
      "\u001b[32mDONE::          key     A     B     a       b      Ri     L         Req     alpha_i  \\\n",
      "0   G3_C3_CO  44.0  53.0  20.0  25.000  64.375  93.5  177.898148  117.036670   \n",
      "1   G4_C3_CO  50.0  50.0  25.0  24.375  64.375  93.5  172.908254  111.112676   \n",
      "2   G2_C0_CO  50.0  38.0  25.0  26.250  67.500  93.5  171.428538  110.354717   \n",
      "3   G1_C0_CO  38.0  68.0  25.0  27.500  71.250  93.5  185.103856  119.282533   \n",
      "4   G2_C3_CO  50.0  38.0  25.0  21.250  66.250  93.5  170.685327  109.175759   \n",
      "5    G0_C4_P  26.0  26.0  35.0  35.000  62.500  93.5  182.452690  114.272859   \n",
      "6    G0_C1_P  62.0  74.0  15.0  15.000  72.500  93.5  174.807603  114.820099   \n",
      "7   G1_C2_CO  44.0  50.0  22.5  22.500  67.500  93.5  177.568925  115.894371   \n",
      "8   G4_C0_CO  44.0  32.0  20.0  21.250  67.500  93.5  174.017012  114.922300   \n",
      "9   G0_C3_CO  44.0  62.0  30.0  30.000  70.000  93.5  179.604326  114.662093   \n",
      "10  G3_C4_CO  38.0  50.0  25.0  28.125  71.875  93.5  182.303163  118.479445   \n",
      "11  G0_C0_CO  50.0  50.0  25.0  25.000  70.000  93.5  174.554313  112.566065   \n",
      "12  G3_C2_CO  44.0  71.0  25.0  28.125  71.875  93.5  182.222705  118.263232   \n",
      "13  G1_C1_CO  38.0  50.0  22.5  25.000  71.250  93.5  182.306486  119.030636   \n",
      "14  G0_C1_CO  50.0  62.0  25.0  30.000  75.000  93.5  178.499844  116.383670   \n",
      "15  G3_C1_CO  44.0  50.0  30.0  28.125  71.875  93.5  177.828979  113.440134   \n",
      "16  G2_C1_CO  44.0  38.0  25.0  21.250  67.500  93.5  174.492316  112.852498   \n",
      "17  G3_C0_CO  44.0  71.0  30.0  28.125  68.750  93.5  180.586126  114.834603   \n",
      "18  G4_C4_CO  50.0  71.0  20.0  28.125  67.500  93.5  178.539998  117.711660   \n",
      "19  G1_C3_CO  38.0  68.0  30.0  27.500  70.000  93.5  184.202953  116.660424   \n",
      "20  G4_C1_CO  50.0  32.0  30.0  24.375  68.750  93.5  169.130641  105.269535   \n",
      "21  G1_C4_CO  44.0  38.0  27.5  22.500  66.250  93.5  173.720700  111.220127   \n",
      "22  G0_C4_CO  44.0  62.0  25.0  25.000  75.000  93.5  181.520362  117.886824   \n",
      "23  G0_C2_CO  38.0  50.0  30.0  25.000  67.500  93.5  180.229890  114.438761   \n",
      "24  G4_C2_CO  38.0  53.0  20.0  24.375  71.875  93.5  183.262528  120.325511   \n",
      "25  G2_C4_CO  44.0  71.0  20.0  26.250  71.875  93.5  182.764560  120.217367   \n",
      "26   G0_C2_P  38.0  50.0  25.0  25.000  77.500  93.5  183.662248  119.364651   \n",
      "27  G2_C2_CO  38.0  71.0  20.0  26.250  71.875  93.5  186.079263  121.344775   \n",
      "\n",
      "       alpha_o  freq [MHz]  Epk/Eacc []  Bpk/Eacc [mT/MV/m]  rank_Epk/Eacc []  \\\n",
      "0   117.036670  801.580005     1.911174            4.855868               3.0   \n",
      "1   111.112676  801.580009     1.978841            4.727472              12.0   \n",
      "2   110.354717  801.579506     2.000580            4.713628              15.0   \n",
      "3   119.282533  801.580521     1.909422            5.305070               2.0   \n",
      "4   109.175759  801.578633     2.092194            4.707649              25.0   \n",
      "5   114.272859  801.583637     1.864688            5.431897               1.0   \n",
      "6   114.820099  801.580199     2.351680            4.639548              28.0   \n",
      "7   115.894371  801.583993     1.953840            4.941665               9.0   \n",
      "8   114.922300  801.580007     2.015482            4.762523              18.0   \n",
      "9   114.662093  801.583760     1.926257            5.192726               4.0   \n",
      "10  118.479445  801.580223     1.927868            5.209095               5.0   \n",
      "11  112.566065  801.580008     2.018433            4.842444              19.0   \n",
      "12  118.263232  801.580090     1.933947            5.189489               8.0   \n",
      "13  119.030636  801.580161     1.961278            5.163937              10.0   \n",
      "14  116.383670  801.578841     2.009210            5.016038              16.0   \n",
      "15  113.440134  801.580005     1.986418            5.155196              13.0   \n",
      "16  112.852498  801.580006     2.042434            4.904004              20.0   \n",
      "17  114.834603  801.580029     1.931415            5.242560               7.0   \n",
      "18  117.711660  801.580014     2.046397            4.863686              22.0   \n",
      "19  116.660424  801.580193     1.928819            5.422935               6.0   \n",
      "20  105.269535  801.579969     2.154123            4.837313              27.0   \n",
      "21  111.220127  801.580008     2.053298            4.929706              23.0   \n",
      "22  117.886824  801.580030     1.998357            5.209451              14.0   \n",
      "23  114.438761  801.580003     1.971529            5.282874              11.0   \n",
      "24  120.325511  801.580042     2.043142            5.150721              21.0   \n",
      "25  120.217367  801.580086     2.094054            5.111884              26.0   \n",
      "26  119.364651  801.583215     2.013490            5.330162              17.0   \n",
      "27  121.344775  801.580220     2.082495            5.228332              24.0   \n",
      "\n",
      "    rank_Bpk/Eacc [mT/MV/m]  total_rank  \n",
      "0                       8.0         5.5  \n",
      "1                       4.0         8.0  \n",
      "2                       3.0         9.0  \n",
      "3                      25.0        13.5  \n",
      "4                       2.0        13.5  \n",
      "5                      28.0        14.5  \n",
      "6                       1.0        14.5  \n",
      "7                      12.0        10.5  \n",
      "8                       5.0        11.5  \n",
      "9                      19.0        11.5  \n",
      "10                     20.0        12.5  \n",
      "11                      7.0        13.0  \n",
      "12                     18.0        13.0  \n",
      "13                     17.0        13.5  \n",
      "14                     13.0        14.5  \n",
      "15                     16.0        14.5  \n",
      "16                     10.0        15.0  \n",
      "17                     23.0        15.0  \n",
      "18                      9.0        15.5  \n",
      "19                     27.0        16.5  \n",
      "20                      6.0        16.5  \n",
      "21                     11.0        17.0  \n",
      "22                     21.0        17.5  \n",
      "23                     24.0        17.5  \n",
      "24                     15.0        18.0  \n",
      "25                     14.0        20.0  \n",
      "26                     26.0        21.5  \n",
      "27                     22.0        23.0  \u001b[0m\n",
      "\u001b[34mINFO:: ================================================================================\u001b[0m\n",
      "\u001b[34mINFO:: End time: \u001b[0m\n"
     ]
    },
    {
     "name": "stderr",
     "output_type": "stream",
     "text": [
      "D:\\Dropbox\\cavsim2d\\notebooks\\..\\cavsim2d\\cavity.py:616: FutureWarning: The behavior of DataFrame concatenation with empty or all-NA entries is deprecated. In a future version, this will no longer exclude empty or all-NA columns when determining the result dtypes. To retain the old behavior, exclude the relevant entries before the concat operation.\n",
      "  df_ng = pd.concat([df_cross, df_mutation, df_chaos], ignore_index=True)\n"
     ]
    },
    {
     "data": {
      "image/png": "[encoded data removed]",
      "text/plain": [
       "<Figure size 640x480 with 1 Axes>"
      ]
     },
     "metadata": {},
     "output_type": "display_data"
    }
   ],
   "source": [
    "cavs = Cavities([])\n",
    "# must first save cavities\n",
    "cavs.save('D:\\Dropbox\\CavityDesignHub\\MuCol_Study\\SimulationData\\ConsoleTest')\n",
    "cell_type = 'end-end-cell'\n",
    "\n",
    "optimisation_config = {\n",
    "    'initial_points': 5,\n",
    "    'method': {\n",
    "        'LHS': {'seed': 5},\n",
    "        # 'Sobol Sequence': {'index': 2},\n",
    "        # 'Random': {},\n",
    "        # 'Uniform': {},\n",
    "        },\n",
    "    # 'mid-cell': [1, 2, 3, 3, 6, 5, 2],  # must enter if mid-end cell selected\n",
    "    'tune_config': {\n",
    "        'freqs': 801.58,\n",
    "        'parameters': 'Req',\n",
    "        'cell_types': cell_type,\n",
    "        'processes': 4,\n",
    "        'eigenmode_config': {'n_cells': 1,\n",
    "                             'n_modules': 1,\n",
    "                             'f_shift': 0,\n",
    "                             'bc': 33,\n",
    "                             'beampipes': 'both',\n",
    "                            },\n",
    "    },\n",
    "    'wakefield_config': {'n_cells': 1, 'n_modules': 1,\n",
    "                         'MROT': 2, 'MT': 4, 'NFS': 10000, 'UBT': 50, 'bunch_length': 25,\n",
    "                         'DDR_SIG': 0.1, 'DDZ_SIG': 0.1,\n",
    "                         'WG_M': None, 'marker': ''\n",
    "                        },\n",
    "    'optimisation by': 'pareto',\n",
    "    'crossover_factor': 5,\n",
    "    'elites_for_crossover': 2,\n",
    "    'mutation_factor': 5,\n",
    "    'chaos_factor': 5,\n",
    "    'processes': 3,\n",
    "    'no_of_generation': 6,\n",
    "    'bounds': {'A': [20.0, 80.0],\n",
    "               'B': [20.0, 80.0],\n",
    "               'a': [10.0, 60.0],\n",
    "               'b': [10., 60.0],\n",
    "               'Ri': [60.0, 85.0],\n",
    "               'L': [93.5, 93.5],\n",
    "               'Req': [170.0, 170.0]},\n",
    "    'objectives': [\n",
    "        # ['equal', 'freq [MHz]', 801.58],\n",
    "                      ['min', 'Epk/Eacc []'],\n",
    "                      ['min', 'Bpk/Eacc [mT/MV/m]'],\n",
    "                      # ['min', 'ZL', [1, 2, 5]],\n",
    "                      # ['min', 'ZT', [1, 2, 5]],\n",
    "                  ],\n",
    "    'weights': [1, 1]#, 1, 1, 1, 1]\n",
    "}\n",
    "cavs.run_optimisation(optimisation_config)"
   ]
  },
  {
   "cell_type": "markdown",
   "id": "a5a26259-d6d1-4a82-8c63-012819891a9a",
   "metadata": {},
   "source": [
    "# Optimisation with UQ"
   ]
  },
  {
   "cell_type": "code",
   "execution_count": 3,
   "id": "dda0d15f-1c4b-4c91-a1d7-56c163bdc66e",
   "metadata": {},
   "outputs": [],
   "source": [
    "import sys\n",
    "sys.path.append(\"..\")\n",
    "from cavsim2d.cavity import Cavity, Cavities, OperationPoints\n",
    "import numpy as np\n",
    "import json\n",
    "import matplotlib\n",
    "import matplotlib.pyplot as plt\n",
    "plt.ion()\n",
    "# %matplotlib inline\n",
    "import pprint\n",
    "pp = pprint.PrettyPrinter(indent=4)"
   ]
  },
  {
   "cell_type": "code",
   "execution_count": 6,
   "id": "f0359032-f1f3-4d5a-b64a-5b76bad2d8c9",
   "metadata": {
    "scrolled": true
   },
   "outputs": [
    {
     "name": "stdout",
     "output_type": "stream",
     "text": [
      "\u001b[32mDONE:: Project D:\\Dropbox\\CavityDesignHub\\MuCol_Study\\SimulationData\\ConsoleTest created successfully/already exists.\u001b[0m\n"
     ]
    },
    {
     "data": {
      "application/vnd.jupyter.widget-view+json": {
       "model_id": "89248d70058846deb68c0ef5e9dea241",
       "version_major": 2,
       "version_minor": 0
      },
      "text/plain": [
       "  0%|          | 0/2 [00:00<?, ?it/s]"
      ]
     },
     "metadata": {},
     "output_type": "display_data"
    },
    {
     "name": "stdout",
     "output_type": "stream",
     "text": [
      "\u001b[32mDONE::        key     A     B     a     b    Ri     L         Req     alpha_i  \\\n",
      "0  G0_C2_P  62.0  38.0  25.0  35.0  77.5  93.5  169.138208  103.474534   \n",
      "1  G0_C1_P  26.0  62.0  35.0  55.0  82.5  93.5  194.170735  122.539365   \n",
      "2  G0_C3_P  50.0  50.0  15.0  15.0  67.5  93.5  175.138124  116.249454   \n",
      "\n",
      "      alpha_o  ...  E[ZT [max(2<f<5)]]  std[ZT [max(2<f<5)]]  \\\n",
      "0  103.474534  ...            9.161203              0.071431   \n",
      "1  122.539365  ...            0.513921              0.010358   \n",
      "2  116.249454  ...           11.727723              0.686514   \n",
      "\n",
      "   E[ZT [max(2<f<5)]] + 6*std[ZT [max(2<f<5)]]  \\\n",
      "0                                     9.589790   \n",
      "1                                     0.576068   \n",
      "2                                    15.846805   \n",
      "\n",
      "   rank_E[Epk/Eacc []] + 6*std[Epk/Eacc []]  \\\n",
      "0                                       2.0   \n",
      "1                                       1.0   \n",
      "2                                       3.0   \n",
      "\n",
      "   rank_E[Bpk/Eacc [mT/MV/m]] + 6*std[Bpk/Eacc [mT/MV/m]]  \\\n",
      "0                                                2.0        \n",
      "1                                                4.0        \n",
      "2                                                3.0        \n",
      "\n",
      "   rank_E[ZL [max(1<f<2)]] + 6*std[ZL [max(1<f<2)]]  \\\n",
      "0                                               1.0   \n",
      "1                                               2.0   \n",
      "2                                               3.0   \n",
      "\n",
      "   rank_E[ZL [max(2<f<5)]] + 6*std[ZL [max(2<f<5)]]  \\\n",
      "0                                               1.0   \n",
      "1                                               3.0   \n",
      "2                                               2.0   \n",
      "\n",
      "   rank_E[ZT [max(1<f<2)]] + 6*std[ZT [max(1<f<2)]]  \\\n",
      "0                                               2.0   \n",
      "1                                               1.0   \n",
      "2                                               3.0   \n",
      "\n",
      "   rank_E[ZT [max(2<f<5)]] + 6*std[ZT [max(2<f<5)]]  total_rank  \n",
      "0                                               2.0    1.666667  \n",
      "1                                               1.0    2.000000  \n",
      "2                                               3.0    2.833333  \n",
      "\n",
      "[3 rows x 42 columns]\u001b[0m\n",
      "\u001b[34mINFO:: ================================================================================\u001b[0m\n"
     ]
    },
    {
     "name": "stderr",
     "output_type": "stream",
     "text": [
      "D:\\Dropbox\\cavsim2d\\notebooks\\..\\cavsim2d\\cavity.py:616: FutureWarning: The behavior of DataFrame concatenation with empty or all-NA entries is deprecated. In a future version, this will no longer exclude empty or all-NA columns when determining the result dtypes. To retain the old behavior, exclude the relevant entries before the concat operation.\n",
      "  df_ng = pd.concat([df_cross, df_mutation, df_chaos], ignore_index=True)\n"
     ]
    },
    {
     "name": "stdout",
     "output_type": "stream",
     "text": [
      "\u001b[32mDONE::          key     A     B          a          b         Ri     L         Req  \\\n",
      "0    G0_C2_P  62.0  38.0  25.000000  35.000000  77.500000  93.5  169.138208   \n",
      "1    G0_C2_P  38.0  38.0  35.000000  45.000000  72.500000  93.5  179.453828   \n",
      "2    G0_C1_P  26.0  62.0  35.000000  55.000000  82.500000  93.5  194.170735   \n",
      "3   G0_C0_CO  58.0  48.0  28.333333  45.000000  78.333333  93.5  173.172071   \n",
      "4    G0_C4_P  26.0  50.0  55.000000  15.000000  62.500000  93.5  180.226024   \n",
      "5   G0_C1_CO  48.0  46.0  30.000000  41.666667  79.166667  93.5  177.712220   \n",
      "6   G0_C4_CO  56.0  44.0  25.000000  35.000000  79.166667  93.5  173.717712   \n",
      "7   G0_C3_CO  54.0  46.0  28.333333  38.333333  79.166667  93.5  174.691734   \n",
      "8   G0_C2_CO  42.0  50.0  26.666667  45.000000  79.166667  93.5  182.259896   \n",
      "9    G0_C3_P  50.0  50.0  15.000000  15.000000  67.500000  93.5  175.138124   \n",
      "10   G0_C0_P  50.0  26.0  15.000000  55.000000  77.500000  93.5  173.739559   \n",
      "\n",
      "       alpha_i     alpha_o  ...  E[ZT [max(2<f<5)]]  std[ZT [max(2<f<5)]]  \\\n",
      "0   103.474534  103.474534  ...            9.161203              0.071431   \n",
      "1   114.695257  114.695257  ...            9.161203              0.071431   \n",
      "2   122.539365  122.539365  ...            0.513921              0.010358   \n",
      "3   109.366565  109.366565  ...            0.578573              0.045393   \n",
      "4   101.322461  101.322461  ...            6.595784              0.737346   \n",
      "5   115.098863  115.098863  ...            0.807216              0.088905   \n",
      "6   111.721428  111.721428  ...           10.748441              1.542324   \n",
      "7   111.530064  111.530064  ...           12.966283              0.940099   \n",
      "8   120.397710  120.397710  ...            7.592139              6.368685   \n",
      "9   116.249454  116.249454  ...           11.727723              0.686514   \n",
      "10  118.408718  118.408718  ...           12.196407              0.334756   \n",
      "\n",
      "    E[ZT [max(2<f<5)]] + 6*std[ZT [max(2<f<5)]]  \\\n",
      "0                                      9.589790   \n",
      "1                                      9.589790   \n",
      "2                                      0.576068   \n",
      "3                                      0.850933   \n",
      "4                                     11.019860   \n",
      "5                                      1.340646   \n",
      "6                                     20.002386   \n",
      "7                                     18.606875   \n",
      "8                                     45.804251   \n",
      "9                                     15.846805   \n",
      "10                                    14.204943   \n",
      "\n",
      "    rank_E[Epk/Eacc []] + 6*std[Epk/Eacc []]  \\\n",
      "0                                        6.0   \n",
      "1                                        1.0   \n",
      "2                                        2.0   \n",
      "3                                        5.0   \n",
      "4                                       10.0   \n",
      "5                                        3.0   \n",
      "6                                        7.0   \n",
      "7                                        4.0   \n",
      "8                                        9.0   \n",
      "9                                        8.0   \n",
      "10                                      11.0   \n",
      "\n",
      "    rank_E[Bpk/Eacc [mT/MV/m]] + 6*std[Bpk/Eacc [mT/MV/m]]  \\\n",
      "0                                                 1.0        \n",
      "1                                                 9.0        \n",
      "2                                                10.0        \n",
      "3                                                 4.0        \n",
      "4                                                11.0        \n",
      "5                                                 7.0        \n",
      "6                                                 5.0        \n",
      "7                                                 6.0        \n",
      "8                                                 8.0        \n",
      "9                                                 3.0        \n",
      "10                                                2.0        \n",
      "\n",
      "    rank_E[ZL [max(1<f<2)]] + 6*std[ZL [max(1<f<2)]]  \\\n",
      "0                                                2.5   \n",
      "1                                                2.5   \n",
      "2                                                6.0   \n",
      "3                                                7.0   \n",
      "4                                                1.0   \n",
      "5                                                8.0   \n",
      "6                                                5.0   \n",
      "7                                                4.0   \n",
      "8                                               10.0   \n",
      "9                                               11.0   \n",
      "10                                               9.0   \n",
      "\n",
      "    rank_E[ZL [max(2<f<5)]] + 6*std[ZL [max(2<f<5)]]  \\\n",
      "0                                                1.5   \n",
      "1                                                1.5   \n",
      "2                                               10.0   \n",
      "3                                                9.0   \n",
      "4                                                3.0   \n",
      "5                                               11.0   \n",
      "6                                                4.0   \n",
      "7                                                6.0   \n",
      "8                                                5.0   \n",
      "9                                                8.0   \n",
      "10                                               7.0   \n",
      "\n",
      "    rank_E[ZT [max(1<f<2)]] + 6*std[ZT [max(1<f<2)]]  \\\n",
      "0                                                7.5   \n",
      "1                                                7.5   \n",
      "2                                                1.0   \n",
      "3                                                3.0   \n",
      "4                                                2.0   \n",
      "5                                                5.0   \n",
      "6                                                6.0   \n",
      "7                                               10.0   \n",
      "8                                                4.0   \n",
      "9                                                9.0   \n",
      "10                                              11.0   \n",
      "\n",
      "    rank_E[ZT [max(2<f<5)]] + 6*std[ZT [max(2<f<5)]]  total_rank  \n",
      "0                                                4.5    3.833333  \n",
      "1                                                4.5    4.333333  \n",
      "2                                                1.0    5.000000  \n",
      "3                                                2.0    5.000000  \n",
      "4                                                6.0    5.500000  \n",
      "5                                                3.0    6.166667  \n",
      "6                                               10.0    6.166667  \n",
      "7                                                9.0    6.500000  \n",
      "8                                               11.0    7.833333  \n",
      "9                                                8.0    7.833333  \n",
      "10                                               7.0    7.833333  \n",
      "\n",
      "[11 rows x 42 columns]\u001b[0m\n",
      "\u001b[34mINFO:: ================================================================================\u001b[0m\n",
      "\u001b[34mINFO:: End time: \u001b[0m\n"
     ]
    },
    {
     "name": "stderr",
     "output_type": "stream",
     "text": [
      "D:\\Dropbox\\cavsim2d\\notebooks\\..\\cavsim2d\\cavity.py:616: FutureWarning: The behavior of DataFrame concatenation with empty or all-NA entries is deprecated. In a future version, this will no longer exclude empty or all-NA columns when determining the result dtypes. To retain the old behavior, exclude the relevant entries before the concat operation.\n",
      "  df_ng = pd.concat([df_cross, df_mutation, df_chaos], ignore_index=True)\n"
     ]
    },
    {
     "data": {
      "image/png": "[encoded data removed]",
      "text/plain": [
       "<Figure size 640x480 with 1 Axes>"
      ]
     },
     "metadata": {},
     "output_type": "display_data"
    }
   ],
   "source": [
    "cavs = Cavities([])\n",
    "# must first save cavities\n",
    "cavs.save('D:\\Dropbox\\CavityDesignHub\\MuCol_Study\\SimulationData\\ConsoleTest')\n",
    "cell_type = 'end-end-cell'\n",
    "\n",
    "optimisation_config = {\n",
    "    'initial_points': 5,\n",
    "    'method': {\n",
    "        'LHS': {'seed': None},\n",
    "        # 'Sobol Sequence': {'index': 2},\n",
    "        # 'Random': {},\n",
    "        # 'Uniform': {},\n",
    "        },\n",
    "    # 'mid-cell': [1, 2, 3, 3, 6, 5, 2],  # must enter if mid-end cell selected\n",
    "    'tune_config': {\n",
    "        'freqs': 801.58,\n",
    "        'parameters': 'Req',\n",
    "        'cell_types': cell_type,\n",
    "        'processes': 4,\n",
    "        'eigenmode_config': {'n_cells': 1,\n",
    "                             'n_modules': 1,\n",
    "                             'f_shift': 0,\n",
    "                             'bc': 33,\n",
    "                             'beampipes': 'both',\n",
    "                             'uq_config': {\n",
    "                                 'variables': ['A'],\n",
    "                                 'objectives': [\"Epk/Eacc []\", \"Bpk/Eacc [mT/MV/m]\", \"R/Q [Ohm]\", \"G [Ohm]\"],\n",
    "                                 'delta': [0.05],\n",
    "                                 'processes': 4,\n",
    "                                 'distribution': 'gaussian',\n",
    "                                 'method': ['Stroud3'], \n",
    "                                 'cell_type': 'mid-cell',\n",
    "                                 'cell complexity': 'simplecell'\n",
    "                                }\n",
    "                            },\n",
    "    },\n",
    "    'wakefield_config': {'n_cells': 1, \n",
    "                         'n_modules': 1,\n",
    "                         'MROT': 2, \n",
    "                         'MT': 4, \n",
    "                         'NFS': 10000, \n",
    "                         'UBT': 50, \n",
    "                         'beam_config': {\n",
    "                             'bunch_length': 25\n",
    "                         },\n",
    "                        'wake_config': {\n",
    "                            'wakelength': 50\n",
    "                        },\n",
    "                         'DDR_SIG': 0.1, \n",
    "                         'DDZ_SIG': 0.1,\n",
    "                         'WG_M': None, \n",
    "                         'marker': '',\n",
    "                         'uq_config': {\n",
    "                             'variables': ['A'],\n",
    "                             'objectives': [[\"ZL\", [1, 2, 5]], [\"ZT\", [2, 3, 4]]],\n",
    "                             'delta': [0.05],\n",
    "                             'processes': 4,\n",
    "                             'distribution': 'gaussian',\n",
    "                             'method': ['Stroud3'],\n",
    "                             'cell_type': 'mid-cell',\n",
    "                             'cell complexity': 'simplecell'\n",
    "                             }\n",
    "                        },\n",
    "    'optimisation by': 'pareto',\n",
    "    'crossover_factor': 5,\n",
    "    'elites_for_crossover': 2,\n",
    "    'mutation_factor': 5,\n",
    "    'chaos_factor': 5,\n",
    "    'processes': 3,\n",
    "    'no_of_generation': 2,\n",
    "    'bounds': {'A': [20.0, 80.0],\n",
    "               'B': [20.0, 80.0],\n",
    "               'a': [10.0, 60.0],\n",
    "               'b': [10., 60.0],\n",
    "               'Ri': [60.0, 85.0],\n",
    "               'L': [93.5, 93.5],\n",
    "               'Req': [170.0, 170.0]},\n",
    "    'objectives': [\n",
    "        # ['equal', 'freq [MHz]', 801.58],\n",
    "                      ['min', 'Epk/Eacc []'],\n",
    "                      ['min', 'Bpk/Eacc [mT/MV/m]'],\n",
    "                      ['min', 'ZL', [1, 2, 5]],\n",
    "                      ['min', 'ZT', [1, 2, 5]],\n",
    "                  ],\n",
    "    'weights': [1, 1, 1, 1, 1, 1]\n",
    "}\n",
    "cavs.run_optimisation(optimisation_config)"
   ]
  },
  {
   "cell_type": "code",
   "execution_count": null,
   "id": "74b60f27-bc75-44a6-98b4-40dab0ebecfc",
   "metadata": {},
   "outputs": [],
   "source": []
  }
 ],
 "metadata": {
  "kernelspec": {
   "display_name": "Python 3 (ipykernel)",
   "language": "python",
   "name": "python3"
  },
  "language_info": {
   "codemirror_mode": {
    "name": "ipython",
    "version": 3
   },
   "file_extension": ".py",
   "mimetype": "text/x-python",
   "name": "python",
   "nbconvert_exporter": "python",
   "pygments_lexer": "ipython3",
   "version": "3.11.9"
  },
  "widgets": {
   "application/vnd.jupyter.widget-state+json": {
    "state": {
     "048f2100b34b487490d8e9f0c61cdb25": {
      "model_module": "@jupyter-widgets/base",
      "model_module_version": "2.0.0",
      "model_name": "LayoutModel",
      "state": {}
     },
     "09cddf3d669e4e3ab653ea0477a3a51e": {
      "model_module": "@jupyter-widgets/base",
      "model_module_version": "2.0.0",
      "model_name": "LayoutModel",
      "state": {}
     },
     "10ffe6014da0437c864f330c7f499ef0": {
      "model_module": "@jupyter-widgets/controls",
      "model_module_version": "2.0.0",
      "model_name": "FloatProgressModel",
      "state": {
       "layout": "IPY_MODEL_e8cb6fd412a344a280799eff4413ee2b",
       "max": 6,
       "style": "IPY_MODEL_759326f15bb947a896215db6713f148c",
       "value": 6
      }
     },
     "14682a825a044cdeb2c3affb97a72419": {
      "model_module": "@jupyter-widgets/controls",
      "model_module_version": "2.0.0",
      "model_name": "FloatProgressModel",
      "state": {
       "layout": "IPY_MODEL_c723069aaa3d4983b9a7581374d6d96e",
       "max": 2,
       "style": "IPY_MODEL_2934828bca5d4021812d780a5ab5dd38",
       "value": 2
      }
     },
     "15a041a10327497baa6cf569dc5ed5c1": {
      "model_module": "@jupyter-widgets/controls",
      "model_module_version": "2.0.0",
      "model_name": "HTMLStyleModel",
      "state": {
       "description_width": "",
       "font_size": null,
       "text_color": null
      }
     },
     "1b9682db71a945e6b324be9107de5776": {
      "model_module": "@jupyter-widgets/controls",
      "model_module_version": "2.0.0",
      "model_name": "HTMLModel",
      "state": {
       "layout": "IPY_MODEL_49be81d878254c4eb36862de573fc677",
       "style": "IPY_MODEL_35deffa7413b4259a2906f35e2466a5c",
       "value": "100%"
      }
     },
     "1c59ceacfa0a47578ef7217ceb5d9a29": {
      "model_module": "@jupyter-widgets/base",
      "model_module_version": "2.0.0",
      "model_name": "LayoutModel",
      "state": {}
     },
     "1d4e496cd77946a9a0bd5dfa35fc6a84": {
      "model_module": "@jupyter-widgets/base",
      "model_module_version": "2.0.0",
      "model_name": "LayoutModel",
      "state": {}
     },
     "2295a3d3ad2b4fee80c44f9a446a62ef": {
      "model_module": "@jupyter-widgets/controls",
      "model_module_version": "2.0.0",
      "model_name": "HTMLStyleModel",
      "state": {
       "description_width": "",
       "font_size": null,
       "text_color": null
      }
     },
     "2934828bca5d4021812d780a5ab5dd38": {
      "model_module": "@jupyter-widgets/controls",
      "model_module_version": "2.0.0",
      "model_name": "ProgressStyleModel",
      "state": {
       "description_width": ""
      }
     },
     "2ee09afc5edf4d4d905786a007133fb5": {
      "model_module": "@jupyter-widgets/controls",
      "model_module_version": "2.0.0",
      "model_name": "HTMLStyleModel",
      "state": {
       "description_width": "",
       "font_size": null,
       "text_color": null
      }
     },
     "34eaa5e1a6414049be944b2d468ecdef": {
      "model_module": "@jupyter-widgets/controls",
      "model_module_version": "2.0.0",
      "model_name": "ProgressStyleModel",
      "state": {
       "description_width": ""
      }
     },
     "35deffa7413b4259a2906f35e2466a5c": {
      "model_module": "@jupyter-widgets/controls",
      "model_module_version": "2.0.0",
      "model_name": "HTMLStyleModel",
      "state": {
       "description_width": "",
       "font_size": null,
       "text_color": null
      }
     },
     "35e188bc14964225b8e0951f05d99f5b": {
      "model_module": "@jupyter-widgets/base",
      "model_module_version": "2.0.0",
      "model_name": "LayoutModel",
      "state": {}
     },
     "3b54e569d22948b0b6e36ee62ee41430": {
      "model_module": "@jupyter-widgets/controls",
      "model_module_version": "2.0.0",
      "model_name": "HTMLModel",
      "state": {
       "layout": "IPY_MODEL_68e7922b4bb043f3b4e1a44505758578",
       "style": "IPY_MODEL_eb9e586373424bcd86a599603d7ee5a5",
       "value": "100%"
      }
     },
     "430a8b7581354c5d902dcf96fce2a8ba": {
      "model_module": "@jupyter-widgets/controls",
      "model_module_version": "2.0.0",
      "model_name": "HTMLModel",
      "state": {
       "layout": "IPY_MODEL_ba7b57f35ee948148f2d230d1a82a07d",
       "style": "IPY_MODEL_15a041a10327497baa6cf569dc5ed5c1",
       "value": "  0%"
      }
     },
     "49be81d878254c4eb36862de573fc677": {
      "model_module": "@jupyter-widgets/base",
      "model_module_version": "2.0.0",
      "model_name": "LayoutModel",
      "state": {}
     },
     "4a88b974ba594f9f897734f9127d4993": {
      "model_module": "@jupyter-widgets/controls",
      "model_module_version": "2.0.0",
      "model_name": "HBoxModel",
      "state": {
       "children": [
        "IPY_MODEL_a9c9772031aa486999a914965e459516",
        "IPY_MODEL_6731eea4580b4359a247ad20d32772d6",
        "IPY_MODEL_724f32a6ac6c4d8aa89eca296a04e13a"
       ],
       "layout": "IPY_MODEL_048f2100b34b487490d8e9f0c61cdb25"
      }
     },
     "506c17cfcf3d4feaa5fb9b0fa2e7ba4b": {
      "model_module": "@jupyter-widgets/controls",
      "model_module_version": "2.0.0",
      "model_name": "FloatProgressModel",
      "state": {
       "bar_style": "danger",
       "layout": "IPY_MODEL_1c59ceacfa0a47578ef7217ceb5d9a29",
       "max": 2,
       "style": "IPY_MODEL_5b9df379bf4147efb6fdc4e188caa743"
      }
     },
     "5b9df379bf4147efb6fdc4e188caa743": {
      "model_module": "@jupyter-widgets/controls",
      "model_module_version": "2.0.0",
      "model_name": "ProgressStyleModel",
      "state": {
       "description_width": ""
      }
     },
     "620b5f9c50aa42ee8a726ef1831c4711": {
      "model_module": "@jupyter-widgets/controls",
      "model_module_version": "2.0.0",
      "model_name": "HTMLModel",
      "state": {
       "layout": "IPY_MODEL_f960dab412434b9695b10483b4536d98",
       "style": "IPY_MODEL_a41e4c7749f84c198f32990d4d049592",
       "value": " 2/2 [03:32&lt;00:00, 111.93s/it]"
      }
     },
     "6731eea4580b4359a247ad20d32772d6": {
      "model_module": "@jupyter-widgets/controls",
      "model_module_version": "2.0.0",
      "model_name": "FloatProgressModel",
      "state": {
       "layout": "IPY_MODEL_09cddf3d669e4e3ab653ea0477a3a51e",
       "max": 2,
       "style": "IPY_MODEL_34eaa5e1a6414049be944b2d468ecdef"
      }
     },
     "68e7922b4bb043f3b4e1a44505758578": {
      "model_module": "@jupyter-widgets/base",
      "model_module_version": "2.0.0",
      "model_name": "LayoutModel",
      "state": {}
     },
     "724f32a6ac6c4d8aa89eca296a04e13a": {
      "model_module": "@jupyter-widgets/controls",
      "model_module_version": "2.0.0",
      "model_name": "HTMLModel",
      "state": {
       "layout": "IPY_MODEL_d818b0657e07432b9e0e03821a65d034",
       "style": "IPY_MODEL_2295a3d3ad2b4fee80c44f9a446a62ef",
       "value": " 0/2 [00:00&lt;?, ?it/s]"
      }
     },
     "759326f15bb947a896215db6713f148c": {
      "model_module": "@jupyter-widgets/controls",
      "model_module_version": "2.0.0",
      "model_name": "ProgressStyleModel",
      "state": {
       "description_width": ""
      }
     },
     "81e442f1759247aab50d3436444ddf52": {
      "model_module": "@jupyter-widgets/base",
      "model_module_version": "2.0.0",
      "model_name": "LayoutModel",
      "state": {}
     },
     "89248d70058846deb68c0ef5e9dea241": {
      "model_module": "@jupyter-widgets/controls",
      "model_module_version": "2.0.0",
      "model_name": "HBoxModel",
      "state": {
       "children": [
        "IPY_MODEL_1b9682db71a945e6b324be9107de5776",
        "IPY_MODEL_14682a825a044cdeb2c3affb97a72419",
        "IPY_MODEL_620b5f9c50aa42ee8a726ef1831c4711"
       ],
       "layout": "IPY_MODEL_81e442f1759247aab50d3436444ddf52"
      }
     },
     "9a541b719e1140fb935fcc6d5947f97f": {
      "model_module": "@jupyter-widgets/base",
      "model_module_version": "2.0.0",
      "model_name": "LayoutModel",
      "state": {}
     },
     "a41e4c7749f84c198f32990d4d049592": {
      "model_module": "@jupyter-widgets/controls",
      "model_module_version": "2.0.0",
      "model_name": "HTMLStyleModel",
      "state": {
       "description_width": "",
       "font_size": null,
       "text_color": null
      }
     },
     "a9c9772031aa486999a914965e459516": {
      "model_module": "@jupyter-widgets/controls",
      "model_module_version": "2.0.0",
      "model_name": "HTMLModel",
      "state": {
       "layout": "IPY_MODEL_b223e019010a49948c0ea022c34acba0",
       "style": "IPY_MODEL_dfce6efc1e814403815a4d31d1bce945",
       "value": "  0%"
      }
     },
     "b223e019010a49948c0ea022c34acba0": {
      "model_module": "@jupyter-widgets/base",
      "model_module_version": "2.0.0",
      "model_name": "LayoutModel",
      "state": {}
     },
     "ba7b57f35ee948148f2d230d1a82a07d": {
      "model_module": "@jupyter-widgets/base",
      "model_module_version": "2.0.0",
      "model_name": "LayoutModel",
      "state": {}
     },
     "c719ed2f085c44b985030e68f9b7121a": {
      "model_module": "@jupyter-widgets/controls",
      "model_module_version": "2.0.0",
      "model_name": "HTMLModel",
      "state": {
       "layout": "IPY_MODEL_35e188bc14964225b8e0951f05d99f5b",
       "style": "IPY_MODEL_2ee09afc5edf4d4d905786a007133fb5",
       "value": " 0/2 [14:26&lt;?, ?it/s]"
      }
     },
     "c723069aaa3d4983b9a7581374d6d96e": {
      "model_module": "@jupyter-widgets/base",
      "model_module_version": "2.0.0",
      "model_name": "LayoutModel",
      "state": {}
     },
     "d4ce91aff8cb4580b2c1be57266d3c31": {
      "model_module": "@jupyter-widgets/controls",
      "model_module_version": "2.0.0",
      "model_name": "HTMLModel",
      "state": {
       "layout": "IPY_MODEL_1d4e496cd77946a9a0bd5dfa35fc6a84",
       "style": "IPY_MODEL_e1beec98aef640e7a36403535a95b30b",
       "value": " 6/6 [07:20&lt;00:00, 76.17s/it]"
      }
     },
     "d818b0657e07432b9e0e03821a65d034": {
      "model_module": "@jupyter-widgets/base",
      "model_module_version": "2.0.0",
      "model_name": "LayoutModel",
      "state": {}
     },
     "ddd76d6297f64fe795b0bc311f9c6110": {
      "model_module": "@jupyter-widgets/controls",
      "model_module_version": "2.0.0",
      "model_name": "HBoxModel",
      "state": {
       "children": [
        "IPY_MODEL_430a8b7581354c5d902dcf96fce2a8ba",
        "IPY_MODEL_506c17cfcf3d4feaa5fb9b0fa2e7ba4b",
        "IPY_MODEL_c719ed2f085c44b985030e68f9b7121a"
       ],
       "layout": "IPY_MODEL_9a541b719e1140fb935fcc6d5947f97f"
      }
     },
     "dfce6efc1e814403815a4d31d1bce945": {
      "model_module": "@jupyter-widgets/controls",
      "model_module_version": "2.0.0",
      "model_name": "HTMLStyleModel",
      "state": {
       "description_width": "",
       "font_size": null,
       "text_color": null
      }
     },
     "e1beec98aef640e7a36403535a95b30b": {
      "model_module": "@jupyter-widgets/controls",
      "model_module_version": "2.0.0",
      "model_name": "HTMLStyleModel",
      "state": {
       "description_width": "",
       "font_size": null,
       "text_color": null
      }
     },
     "e5ac4654273248c2b0a74a7c8e630d3b": {
      "model_module": "@jupyter-widgets/controls",
      "model_module_version": "2.0.0",
      "model_name": "HBoxModel",
      "state": {
       "children": [
        "IPY_MODEL_3b54e569d22948b0b6e36ee62ee41430",
        "IPY_MODEL_10ffe6014da0437c864f330c7f499ef0",
        "IPY_MODEL_d4ce91aff8cb4580b2c1be57266d3c31"
       ],
       "layout": "IPY_MODEL_f434208fef084fb1bc89a8f9ac804ee1"
      }
     },
     "e8cb6fd412a344a280799eff4413ee2b": {
      "model_module": "@jupyter-widgets/base",
      "model_module_version": "2.0.0",
      "model_name": "LayoutModel",
      "state": {}
     },
     "eb9e586373424bcd86a599603d7ee5a5": {
      "model_module": "@jupyter-widgets/controls",
      "model_module_version": "2.0.0",
      "model_name": "HTMLStyleModel",
      "state": {
       "description_width": "",
       "font_size": null,
       "text_color": null
      }
     },
     "f434208fef084fb1bc89a8f9ac804ee1": {
      "model_module": "@jupyter-widgets/base",
      "model_module_version": "2.0.0",
      "model_name": "LayoutModel",
      "state": {}
     },
     "f960dab412434b9695b10483b4536d98": {
      "model_module": "@jupyter-widgets/base",
      "model_module_version": "2.0.0",
      "model_name": "LayoutModel",
      "state": {}
     }
    },
    "version_major": 2,
    "version_minor": 0
   }
  }
 },
 "nbformat": 4,
 "nbformat_minor": 5
}
