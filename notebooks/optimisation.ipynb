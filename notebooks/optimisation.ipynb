{
 "cells": [
  {
   "cell_type": "code",
   "execution_count": 1,
   "id": "65544001-2b84-4c5e-8288-28b5143cee4f",
   "metadata": {},
   "outputs": [
    {
     "data": {
      "text/html": [
       "<style>p{background: -webkit-linear-gradient(#eee, #333);-webkit-background-clip: text; webkit-text-fill-color: transparent; }</style> <p><b>CAV-SIM-2D</b> loaded successfully!</p>"
      ],
      "text/plain": [
       "<IPython.core.display.HTML object>"
      ]
     },
     "metadata": {},
     "output_type": "display_data"
    }
   ],
   "source": [
    "import sys\n",
    "sys.path.append(\"..\")\n",
    "from cavsim2d.cavity import Cavity, Cavities, OperationPoints\n",
    "import numpy as np\n",
    "import json\n",
    "import matplotlib\n",
    "import matplotlib.pyplot as plt\n",
    "plt.ion()\n",
    "# %matplotlib inline\n",
    "import pprint\n",
    "pp = pprint.PrettyPrinter(indent=4)"
   ]
  },
  {
   "cell_type": "code",
   "execution_count": 2,
   "id": "1f2aefa3-c842-444c-8035-072dc20aed23",
   "metadata": {},
   "outputs": [
    {
     "name": "stdout",
     "output_type": "stream",
     "text": [
      "\u001b[32mProject D:\\Dropbox\\CavityDesignHub\\MuCol_Study\\SimulationData\\ConsoleTest created successfully/already exists.\u001b[0m\n",
      "D:\\Dropbox\\CavityDesignHub\\MuCol_Study\\SimulationData\\ConsoleTest\\cavities\n"
     ]
    },
    {
     "data": {
      "application/vnd.jupyter.widget-view+json": {
       "model_id": "4ed220f53826496ba684c9cb55f0d2f2",
       "version_major": 2,
       "version_minor": 0
      },
      "text/plain": [
       "  0%|          | 0/2 [00:00<?, ?it/s]"
      ]
     },
     "metadata": {},
     "output_type": "display_data"
    },
    {
     "name": "stdout",
     "output_type": "stream",
     "text": [
      "Pareto: 3 optimal values, 3 objects\n",
      "   Epk/Eacc []  Bpk/Eacc [mT/MV/m]\n",
      "0     1.912193            4.733067\n",
      "1     1.791248            5.481455\n",
      "2     1.803702            5.537501\n",
      "================================================================================\n"
     ]
    },
    {
     "name": "stderr",
     "output_type": "stream",
     "text": [
      "D:\\Dropbox\\cavsim2d\\notebooks\\..\\cavsim2d\\cavity.py:550: FutureWarning: The behavior of DataFrame concatenation with empty or all-NA entries is deprecated. In a future version, this will no longer exclude empty or all-NA columns when determining the result dtypes. To retain the old behavior, exclude the relevant entries before the concat operation.\n",
      "  df_ng = pd.concat([df_cross, df_mutation, df_chaos], ignore_index=True)\n"
     ]
    },
    {
     "name": "stdout",
     "output_type": "stream",
     "text": [
      "Pareto: 5 optimal values, 5 objects\n",
      "   Epk/Eacc []  Bpk/Eacc [mT/MV/m]\n",
      "0     1.820421            4.959738\n",
      "1     1.912193            4.733067\n",
      "3     1.803702            5.537501\n",
      "5     1.843551            5.047185\n",
      "6     1.777149            5.580697\n",
      "================================================================================\n",
      "End time:  2024-08-15 10:45:19.533091\n"
     ]
    },
    {
     "name": "stderr",
     "output_type": "stream",
     "text": [
      "D:\\Dropbox\\cavsim2d\\notebooks\\..\\cavsim2d\\cavity.py:550: FutureWarning: The behavior of DataFrame concatenation with empty or all-NA entries is deprecated. In a future version, this will no longer exclude empty or all-NA columns when determining the result dtypes. To retain the old behavior, exclude the relevant entries before the concat operation.\n",
      "  df_ng = pd.concat([df_cross, df_mutation, df_chaos], ignore_index=True)\n"
     ]
    },
    {
     "data": {
      "image/png": "[encoded data removed]",
      "text/plain": [
       "<Figure size 640x480 with 1 Axes>"
      ]
     },
     "metadata": {},
     "output_type": "display_data"
    }
   ],
   "source": [
    "cavs = Cavities([])\n",
    "# must first save cavities\n",
    "cavs.save('D:\\Dropbox\\CavityDesignHub\\MuCol_Study\\SimulationData\\ConsoleTest')\n",
    "cell_type = 'end-end-cell'\n",
    "optimisation_config = {\n",
    "    'initial points': 5,\n",
    "    'method': {\n",
    "        'LHS': {'seed': 5},\n",
    "        # 'Sobol Sequence': {'index': 2},\n",
    "        # 'Random': {},\n",
    "        # 'Uniform': {},\n",
    "        },\n",
    "    'cell type': cell_type,\n",
    "    # 'mid cell': [1, 2, 3, 3, 6, 5, 2],  # must enter if mid-end cell selected\n",
    "    'tune freq.': 801.58,\n",
    "    'tune variable': 'Req',\n",
    "    'optimisation by': 'pareto',\n",
    "    'crossover factor': 5,\n",
    "    'elites for crossover': 2,\n",
    "    'mutation factor': 5,\n",
    "    'chaos factor': 5,\n",
    "    'processes': 3,\n",
    "    'no. of generation': 2,\n",
    "    'bounds': {'A': [20.0, 80.0],\n",
    "               'B': [20.0, 80.0],\n",
    "               'a': [10.0, 60.0],\n",
    "               'b': [10., 60.0],\n",
    "               'Ri': [60.0, 85.0],\n",
    "               'L': [93.5, 93.5],\n",
    "               'Req': [170.0, 170.0]},\n",
    "    'constraints': {'Epk/Eacc []': [1.0, 3.0],\n",
    "                    'Bpk/Eacc [mT/MV/m]': [1.0, 5.0]\n",
    "                    },\n",
    "    'objectives': [\n",
    "        # ['equal', 'freq [MHz]', 801.58],\n",
    "                      ['min', 'Epk/Eacc []'],\n",
    "                      ['min', 'Bpk/Eacc [mT/MV/m]'],\n",
    "                      # ['min', 'ZL', [1, 2, 5]],\n",
    "                  ],\n",
    "    'weights': [1, 1],\n",
    "    'uq': {\n",
    "        'option': True,\n",
    "        'processes': 2,\n",
    "        'variables': ['A', 'a'],\n",
    "        'delta': [0.05, 0.05],\n",
    "        'distribution': 'gaussian',\n",
    "        # 'method': ['QMC', 'LHS', 1000],\n",
    "        # 'method': ['QMC', 'Sobol', 1000],\n",
    "        # 'method': ['Qudrature', 'Gaussian', 1000],\n",
    "        'method': ['Quadrature', 'Stroud3'],\n",
    "        # 'method': ['Quadrature', 'Stroud5'],\n",
    "        # 'gaussian': ['Quadrature', 'Gaussian'],\n",
    "        # 'from file': ['<file path>', columns],\n",
    "        'cell type': cell_type\n",
    "        }\n",
    "}\n",
    "cavs.run_optimisation(config=optimisation_config)"
   ]
  },
  {
   "cell_type": "code",
   "execution_count": null,
   "id": "e528df34-6731-41f0-afc4-7522a33e1a9b",
   "metadata": {},
   "outputs": [],
   "source": []
  }
 ],
 "metadata": {
  "kernelspec": {
   "display_name": "Python 3 (ipykernel)",
   "language": "python",
   "name": "python3"
  },
  "language_info": {
   "codemirror_mode": {
    "name": "ipython",
    "version": 3
   },
   "file_extension": ".py",
   "mimetype": "text/x-python",
   "name": "python",
   "nbconvert_exporter": "python",
   "pygments_lexer": "ipython3",
   "version": "3.11.9"
  },
  "widgets": {
   "application/vnd.jupyter.widget-state+json": {
    "state": {
     "2138e5c6ef7c4766a97ea1c4da5a3202": {
      "model_module": "@jupyter-widgets/controls",
      "model_module_version": "2.0.0",
      "model_name": "HTMLStyleModel",
      "state": {
       "description_width": "",
       "font_size": null,
       "text_color": null
      }
     },
     "21b94bbea4de4dcd851f881cccf26fea": {
      "model_module": "@jupyter-widgets/base",
      "model_module_version": "2.0.0",
      "model_name": "LayoutModel",
      "state": {}
     },
     "4e7737ea73444fbbae05db8b6926e7f4": {
      "model_module": "@jupyter-widgets/base",
      "model_module_version": "2.0.0",
      "model_name": "LayoutModel",
      "state": {}
     },
     "4ed220f53826496ba684c9cb55f0d2f2": {
      "model_module": "@jupyter-widgets/controls",
      "model_module_version": "2.0.0",
      "model_name": "HBoxModel",
      "state": {
       "children": [
        "IPY_MODEL_c7e4210614934f4d9de89f2a8870bc6e",
        "IPY_MODEL_a3d2c47b9c5b47a48ef982909c9a46ca",
        "IPY_MODEL_50e56b0e554e4d8f94e2768735ffe442"
       ],
       "layout": "IPY_MODEL_4e7737ea73444fbbae05db8b6926e7f4"
      }
     },
     "50e56b0e554e4d8f94e2768735ffe442": {
      "model_module": "@jupyter-widgets/controls",
      "model_module_version": "2.0.0",
      "model_name": "HTMLModel",
      "state": {
       "layout": "IPY_MODEL_21b94bbea4de4dcd851f881cccf26fea",
       "style": "IPY_MODEL_2138e5c6ef7c4766a97ea1c4da5a3202",
       "value": " 2/2 [03:58&lt;00:00, 121.50s/it]"
      }
     },
     "7858fc86516b4f9389e13e7f32620ca0": {
      "model_module": "@jupyter-widgets/controls",
      "model_module_version": "2.0.0",
      "model_name": "HTMLStyleModel",
      "state": {
       "description_width": "",
       "font_size": null,
       "text_color": null
      }
     },
     "8b2e102f0e704bee9079e3b708182272": {
      "model_module": "@jupyter-widgets/base",
      "model_module_version": "2.0.0",
      "model_name": "LayoutModel",
      "state": {}
     },
     "a3d2c47b9c5b47a48ef982909c9a46ca": {
      "model_module": "@jupyter-widgets/controls",
      "model_module_version": "2.0.0",
      "model_name": "FloatProgressModel",
      "state": {
       "layout": "IPY_MODEL_f4ba32aae19d4b519da481295cc9a333",
       "max": 2,
       "style": "IPY_MODEL_d59e4f8578864008b25357f3fc2d4e79",
       "value": 2
      }
     },
     "c7e4210614934f4d9de89f2a8870bc6e": {
      "model_module": "@jupyter-widgets/controls",
      "model_module_version": "2.0.0",
      "model_name": "HTMLModel",
      "state": {
       "layout": "IPY_MODEL_8b2e102f0e704bee9079e3b708182272",
       "style": "IPY_MODEL_7858fc86516b4f9389e13e7f32620ca0",
       "value": "100%"
      }
     },
     "d59e4f8578864008b25357f3fc2d4e79": {
      "model_module": "@jupyter-widgets/controls",
      "model_module_version": "2.0.0",
      "model_name": "ProgressStyleModel",
      "state": {
       "description_width": ""
      }
     },
     "f4ba32aae19d4b519da481295cc9a333": {
      "model_module": "@jupyter-widgets/base",
      "model_module_version": "2.0.0",
      "model_name": "LayoutModel",
      "state": {}
     }
    },
    "version_major": 2,
    "version_minor": 0
   }
  }
 },
 "nbformat": 4,
 "nbformat_minor": 5
}
