{
 "cells": [
  {
   "cell_type": "markdown",
   "id": "87d7f885-938a-486b-baf7-a000654039c3",
   "metadata": {},
   "source": [
    "# Optimisation"
   ]
  },
  {
   "cell_type": "code",
   "execution_count": 1,
   "id": "65544001-2b84-4c5e-8288-28b5143cee4f",
   "metadata": {},
   "outputs": [],
   "source": [
    "import sys\n",
    "sys.path.append(\"..\")\n",
    "from cavsim2d.cavity import Cavity, Cavities, OperationPoints\n",
    "import numpy as np\n",
    "import json\n",
    "import matplotlib\n",
    "import matplotlib.pyplot as plt\n",
    "plt.ion()\n",
    "# %matplotlib inline\n",
    "import pprint\n",
    "pp = pprint.PrettyPrinter(indent=4)"
   ]
  },
  {
   "cell_type": "code",
   "execution_count": null,
   "id": "1f2aefa3-c842-444c-8035-072dc20aed23",
   "metadata": {
    "scrolled": true
   },
   "outputs": [
    {
     "name": "stdout",
     "output_type": "stream",
     "text": [
      "\u001b[32mProject D:\\Dropbox\\CavityDesignHub\\MuCol_Study\\SimulationData\\ConsoleTest created successfully/already exists.\u001b[0m\n"
     ]
    },
    {
     "data": {
      "application/vnd.jupyter.widget-view+json": {
       "model_id": "acb37b6a87664bd8aac9610f3e493308",
       "version_major": 2,
       "version_minor": 0
      },
      "text/plain": [
       "  0%|          | 0/2 [00:00<?, ?it/s]"
      ]
     },
     "metadata": {},
     "output_type": "display_data"
    }
   ],
   "source": [
    "cavs = Cavities([])\n",
    "# must first save cavities\n",
    "cavs.save('D:\\Dropbox\\CavityDesignHub\\MuCol_Study\\SimulationData\\ConsoleTest')\n",
    "cell_type = 'end-end-cell'\n",
    "\n",
    "optimisation_config = {\n",
    "    'initial_points': 5,\n",
    "    'method': {\n",
    "        'LHS': {'seed': 5},\n",
    "        # 'Sobol Sequence': {'index': 2},\n",
    "        # 'Random': {},\n",
    "        # 'Uniform': {},\n",
    "        },\n",
    "    # 'mid-cell': [1, 2, 3, 3, 6, 5, 2],  # must enter if mid-end cell selected\n",
    "    'tune_config': {\n",
    "        'freqs': 801.58,\n",
    "        'parameters': 'Req',\n",
    "        'cell_types': cell_type,\n",
    "        'processes': 4,\n",
    "        'eigenmode_config': {'n_cells': 1,\n",
    "                             'n_modules': 1,\n",
    "                             'f_shift': 0,\n",
    "                             'bc': 33,\n",
    "                             'beampipes': 'both',\n",
    "                            },\n",
    "    },\n",
    "    'wakefield_config': {'n_cells': 1, 'n_modules': 1,\n",
    "                         'MROT': 2, 'MT': 4, 'NFS': 10000, 'UBT': 50, 'bunch_length': 25,\n",
    "                         'DDR_SIG': 0.1, 'DDZ_SIG': 0.1,\n",
    "                         'WG_M': None, 'marker': ''\n",
    "                        },\n",
    "    'optimisation by': 'pareto',\n",
    "    'crossover_factor': 5,\n",
    "    'elites_for_crossover': 2,\n",
    "    'mutation_factor': 5,\n",
    "    'chaos_factor': 5,\n",
    "    'processes': 3,\n",
    "    'no_of_generation': 2,\n",
    "    'bounds': {'A': [20.0, 80.0],\n",
    "               'B': [20.0, 80.0],\n",
    "               'a': [10.0, 60.0],\n",
    "               'b': [10., 60.0],\n",
    "               'Ri': [60.0, 85.0],\n",
    "               'L': [93.5, 93.5],\n",
    "               'Req': [170.0, 170.0]},\n",
    "    'objectives': [\n",
    "        # ['equal', 'freq [MHz]', 801.58],\n",
    "                      ['min', 'Epk/Eacc []'],\n",
    "                      ['min', 'Bpk/Eacc [mT/MV/m]'],\n",
    "                      ['min', 'ZL', [1, 2, 5]],\n",
    "                      ['min', 'ZT', [1, 2, 5]],\n",
    "                  ],\n",
    "    'weights': [1, 1, 1, 1, 1, 1]\n",
    "}\n",
    "cavs.run_optimisation(optimisation_config)"
   ]
  },
  {
   "cell_type": "markdown",
   "id": "a5a26259-d6d1-4a82-8c63-012819891a9a",
   "metadata": {},
   "source": [
    "# Optimisation with UQ"
   ]
  },
  {
   "cell_type": "code",
   "execution_count": 1,
   "id": "dda0d15f-1c4b-4c91-a1d7-56c163bdc66e",
   "metadata": {},
   "outputs": [],
   "source": [
    "import sys\n",
    "sys.path.append(\"..\")\n",
    "from cavsim2d.cavity import Cavity, Cavities, OperationPoints\n",
    "import numpy as np\n",
    "import json\n",
    "import matplotlib\n",
    "import matplotlib.pyplot as plt\n",
    "plt.ion()\n",
    "# %matplotlib inline\n",
    "import pprint\n",
    "pp = pprint.PrettyPrinter(indent=4)"
   ]
  },
  {
   "cell_type": "code",
   "execution_count": null,
   "id": "f0359032-f1f3-4d5a-b64a-5b76bad2d8c9",
   "metadata": {},
   "outputs": [
    {
     "name": "stdout",
     "output_type": "stream",
     "text": [
      "\u001b[32mProject D:\\Dropbox\\CavityDesignHub\\MuCol_Study\\SimulationData\\ConsoleTest created successfully/already exists.\u001b[0m\n"
     ]
    },
    {
     "data": {
      "application/vnd.jupyter.widget-view+json": {
       "model_id": "d39cda08f7124953beb8ba3a8dc0e7e1",
       "version_major": 2,
       "version_minor": 0
      },
      "text/plain": [
       "  0%|          | 0/2 [00:00<?, ?it/s]"
      ]
     },
     "metadata": {},
     "output_type": "display_data"
    },
    {
     "name": "stdout",
     "output_type": "stream",
     "text": [
      "Pareto: 3 optimal values, 3 objects\n",
      "\u001b[32m       key     A     B     a     b    Ri     L         Req     alpha_i  \\\n",
      "0  G0_C0_P  50.0  26.0  15.0  15.0  82.5  93.5  171.171871  117.480430   \n",
      "1  G0_C3_P  38.0  50.0  25.0  35.0  67.5  93.5  180.274544  118.678490   \n",
      "2  G0_C2_P  26.0  62.0  45.0  25.0  62.5  93.5  187.622935  109.565878   \n",
      "\n",
      "      alpha_o  ...  E[ZT [max(2<f<5)]]  std[ZT [max(2<f<5)]]  \\\n",
      "0  117.480430  ...            0.946627              0.032231   \n",
      "1  118.678490  ...            1.562262              0.001952   \n",
      "2  109.565878  ...            7.558106              0.106795   \n",
      "\n",
      "   E[ZT [max(2<f<5)]] + 6*std[ZT [max(2<f<5)]]  \\\n",
      "0                                     1.140013   \n",
      "1                                     1.573975   \n",
      "2                                     8.198874   \n",
      "\n",
      "   rank_E[Epk/Eacc []] + 6*std[Epk/Eacc []]  \\\n",
      "0                                       2.0   \n",
      "1                                       1.0   \n",
      "2                                       3.0   \n",
      "\n",
      "   rank_E[Bpk/Eacc [mT/MV/m]] + 6*std[Bpk/Eacc [mT/MV/m]]  \\\n",
      "0                                                2.0        \n",
      "1                                                1.0        \n",
      "2                                                3.0        \n",
      "\n",
      "   rank_E[ZL [max(1<f<2)]] + 6*std[ZL [max(1<f<2)]]  \\\n",
      "0                                               2.0   \n",
      "1                                               3.0   \n",
      "2                                               1.0   \n",
      "\n",
      "   rank_E[ZL [max(2<f<5)]] + 6*std[ZL [max(2<f<5)]]  \\\n",
      "0                                               2.0   \n",
      "1                                               1.0   \n",
      "2                                               3.0   \n",
      "\n",
      "   rank_E[ZT [max(1<f<2)]] + 6*std[ZT [max(1<f<2)]]  \\\n",
      "0                                               1.0   \n",
      "1                                               2.0   \n",
      "2                                               3.0   \n",
      "\n",
      "   rank_E[ZT [max(2<f<5)]] + 6*std[ZT [max(2<f<5)]]  total_rank  \n",
      "0                                               1.0    1.666667  \n",
      "1                                               2.0    1.666667  \n",
      "2                                               3.0    2.666667  \n",
      "\n",
      "[3 rows x 42 columns]\u001b[0m\n"
     ]
    },
    {
     "name": "stderr",
     "output_type": "stream",
     "text": [
      "D:\\Dropbox\\cavsim2d\\notebooks\\..\\cavsim2d\\cavity.py:597: FutureWarning: The behavior of DataFrame concatenation with empty or all-NA entries is deprecated. In a future version, this will no longer exclude empty or all-NA columns when determining the result dtypes. To retain the old behavior, exclude the relevant entries before the concat operation.\n",
      "  df_ng = pd.concat([df_cross, df_mutation, df_chaos], ignore_index=True)\n"
     ]
    },
    {
     "name": "stdout",
     "output_type": "stream",
     "text": [
      "\u001b[34m================================================================================\u001b[0m\n"
     ]
    }
   ],
   "source": [
    "cavs = Cavities([])\n",
    "# must first save cavities\n",
    "cavs.save('D:\\Dropbox\\CavityDesignHub\\MuCol_Study\\SimulationData\\ConsoleTest')\n",
    "cell_type = 'end-end-cell'\n",
    "\n",
    "optimisation_config = {\n",
    "    'initial_points': 5,\n",
    "    'method': {\n",
    "        'LHS': {'seed': None},\n",
    "        # 'Sobol Sequence': {'index': 2},\n",
    "        # 'Random': {},\n",
    "        # 'Uniform': {},\n",
    "        },\n",
    "    # 'mid-cell': [1, 2, 3, 3, 6, 5, 2],  # must enter if mid-end cell selected\n",
    "    'tune_config': {\n",
    "        'freqs': 801.58,\n",
    "        'parameters': 'Req',\n",
    "        'cell_types': cell_type,\n",
    "        'processes': 4,\n",
    "        'eigenmode_config': {'n_cells': 1,\n",
    "                             'n_modules': 1,\n",
    "                             'f_shift': 0,\n",
    "                             'bc': 33,\n",
    "                             'beampipes': 'both',\n",
    "                             'uq_config': {\n",
    "                                 'variables': ['A'],\n",
    "                                 'objectives': [\"Epk/Eacc []\", \"Bpk/Eacc [mT/MV/m]\", \"R/Q [Ohm]\", \"G [Ohm]\"],\n",
    "                                 'delta': [0.05],\n",
    "                                 'processes': 4,\n",
    "                                 'distribution': 'gaussian',\n",
    "                                 'method': ['Stroud3'], \n",
    "                                 'cell_type': 'mid-cell',\n",
    "                                 'cell complexity': 'simplecell'\n",
    "                                }\n",
    "                            },\n",
    "    },\n",
    "    'wakefield_config': {'n_cells': 1, 'n_modules': 1,\n",
    "                         'MROT': 2, 'MT': 4, 'NFS': 10000, 'UBT': 50, 'bunch_length': 25,\n",
    "                         'DDR_SIG': 0.1, 'DDZ_SIG': 0.1,\n",
    "                         'WG_M': None, 'marker': '',\n",
    "                        'uq_config': {\n",
    "                            'variables': ['A'],\n",
    "                            'objectives': [[\"ZL\", [1, 2, 5]], [\"ZT\", [2, 3, 4]]],\n",
    "                            'delta': [0.05],\n",
    "                            'processes': 4,\n",
    "                            'distribution': 'gaussian',\n",
    "                            'method': ['Stroud3'],\n",
    "                            'cell_type': 'mid-cell',\n",
    "                            'cell complexity': 'simplecell'\n",
    "                            }\n",
    "                        },\n",
    "    'optimisation by': 'pareto',\n",
    "    'crossover_factor': 5,\n",
    "    'elites_for_crossover': 2,\n",
    "    'mutation_factor': 5,\n",
    "    'chaos_factor': 5,\n",
    "    'processes': 3,\n",
    "    'no_of_generation': 2,\n",
    "    'bounds': {'A': [20.0, 80.0],\n",
    "               'B': [20.0, 80.0],\n",
    "               'a': [10.0, 60.0],\n",
    "               'b': [10., 60.0],\n",
    "               'Ri': [60.0, 85.0],\n",
    "               'L': [93.5, 93.5],\n",
    "               'Req': [170.0, 170.0]},\n",
    "    'objectives': [\n",
    "        # ['equal', 'freq [MHz]', 801.58],\n",
    "                      ['min', 'Epk/Eacc []'],\n",
    "                      ['min', 'Bpk/Eacc [mT/MV/m]'],\n",
    "                      ['min', 'ZL', [1, 2, 5]],\n",
    "                      ['min', 'ZT', [1, 2, 5]],\n",
    "                  ],\n",
    "    'weights': [1, 1, 1, 1, 1, 1]\n",
    "}\n",
    "cavs.run_optimisation(optimisation_config)"
   ]
  },
  {
   "cell_type": "code",
   "execution_count": null,
   "id": "74b60f27-bc75-44a6-98b4-40dab0ebecfc",
   "metadata": {},
   "outputs": [],
   "source": []
  }
 ],
 "metadata": {
  "kernelspec": {
   "display_name": "Python 3 (ipykernel)",
   "language": "python",
   "name": "python3"
  },
  "language_info": {
   "codemirror_mode": {
    "name": "ipython",
    "version": 3
   },
   "file_extension": ".py",
   "mimetype": "text/x-python",
   "name": "python",
   "nbconvert_exporter": "python",
   "pygments_lexer": "ipython3",
   "version": "3.11.9"
  },
  "widgets": {
   "application/vnd.jupyter.widget-state+json": {
    "state": {
     "3cf5fb8acc7b4cde9ecb8b938a080168": {
      "model_module": "@jupyter-widgets/base",
      "model_module_version": "2.0.0",
      "model_name": "LayoutModel",
      "state": {}
     },
     "4ebf89570db3426b992c90acb31836f5": {
      "model_module": "@jupyter-widgets/controls",
      "model_module_version": "2.0.0",
      "model_name": "HTMLStyleModel",
      "state": {
       "description_width": "",
       "font_size": null,
       "text_color": null
      }
     },
     "509768d157db46a295e0c774c1071b65": {
      "model_module": "@jupyter-widgets/controls",
      "model_module_version": "2.0.0",
      "model_name": "HTMLModel",
      "state": {
       "layout": "IPY_MODEL_3cf5fb8acc7b4cde9ecb8b938a080168",
       "style": "IPY_MODEL_4ebf89570db3426b992c90acb31836f5",
       "value": " 1/2 [06:43&lt;06:43, 403.49s/it]"
      }
     },
     "54fc974d846d47dc9007dd43e9b5e6e4": {
      "model_module": "@jupyter-widgets/controls",
      "model_module_version": "2.0.0",
      "model_name": "ProgressStyleModel",
      "state": {
       "description_width": ""
      }
     },
     "63a46c7569be4e508ad3553a1eb374e6": {
      "model_module": "@jupyter-widgets/controls",
      "model_module_version": "2.0.0",
      "model_name": "HTMLModel",
      "state": {
       "layout": "IPY_MODEL_ab95c8d0cf5947dcaf9b29684b314a3c",
       "style": "IPY_MODEL_67379c666d4f4e31a38fb3c5e21f0cb5",
       "value": " 50%"
      }
     },
     "67379c666d4f4e31a38fb3c5e21f0cb5": {
      "model_module": "@jupyter-widgets/controls",
      "model_module_version": "2.0.0",
      "model_name": "HTMLStyleModel",
      "state": {
       "description_width": "",
       "font_size": null,
       "text_color": null
      }
     },
     "7223a5447448462982874c5c3e7fed5a": {
      "model_module": "@jupyter-widgets/base",
      "model_module_version": "2.0.0",
      "model_name": "LayoutModel",
      "state": {}
     },
     "7ba3d078769b4308b72730b62caa8826": {
      "model_module": "@jupyter-widgets/controls",
      "model_module_version": "2.0.0",
      "model_name": "FloatProgressModel",
      "state": {
       "layout": "IPY_MODEL_e8ec1faee9d0424499b84640618d66c1",
       "max": 2,
       "style": "IPY_MODEL_54fc974d846d47dc9007dd43e9b5e6e4",
       "value": 1
      }
     },
     "ab95c8d0cf5947dcaf9b29684b314a3c": {
      "model_module": "@jupyter-widgets/base",
      "model_module_version": "2.0.0",
      "model_name": "LayoutModel",
      "state": {}
     },
     "d39cda08f7124953beb8ba3a8dc0e7e1": {
      "model_module": "@jupyter-widgets/controls",
      "model_module_version": "2.0.0",
      "model_name": "HBoxModel",
      "state": {
       "children": [
        "IPY_MODEL_63a46c7569be4e508ad3553a1eb374e6",
        "IPY_MODEL_7ba3d078769b4308b72730b62caa8826",
        "IPY_MODEL_509768d157db46a295e0c774c1071b65"
       ],
       "layout": "IPY_MODEL_7223a5447448462982874c5c3e7fed5a"
      }
     },
     "e8ec1faee9d0424499b84640618d66c1": {
      "model_module": "@jupyter-widgets/base",
      "model_module_version": "2.0.0",
      "model_name": "LayoutModel",
      "state": {}
     }
    },
    "version_major": 2,
    "version_minor": 0
   }
  }
 },
 "nbformat": 4,
 "nbformat_minor": 5
}
