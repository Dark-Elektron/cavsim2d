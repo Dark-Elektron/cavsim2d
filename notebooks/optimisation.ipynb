{
 "cells": [
  {
   "cell_type": "code",
   "execution_count": 1,
   "id": "65544001-2b84-4c5e-8288-28b5143cee4f",
   "metadata": {},
   "outputs": [
    {
     "data": {
      "text/html": [
       "<style>p{background: -webkit-linear-gradient(#eee, #333);-webkit-background-clip: text; webkit-text-fill-color: transparent; }</style> <p><b>CAV-SIM-2D</b> loaded successfully!</p>"
      ],
      "text/plain": [
       "<IPython.core.display.HTML object>"
      ]
     },
     "metadata": {},
     "output_type": "display_data"
    }
   ],
   "source": [
    "import sys\n",
    "sys.path.append(\"..\")\n",
    "from cavsim2d.cavity import Cavity, Cavities, OperationPoints\n",
    "import numpy as np\n",
    "import json\n",
    "import matplotlib\n",
    "import matplotlib.pyplot as plt\n",
    "plt.ion()\n",
    "# %matplotlib inline\n",
    "import pprint\n",
    "pp = pprint.PrettyPrinter(indent=4)"
   ]
  },
  {
   "cell_type": "code",
   "execution_count": 2,
   "id": "1f2aefa3-c842-444c-8035-072dc20aed23",
   "metadata": {},
   "outputs": [
    {
     "name": "stdout",
     "output_type": "stream",
     "text": [
      "\u001b[32mProject D:\\Dropbox\\CavityDesignHub\\MuCol_Study\\SimulationData\\ConsoleTest created successfully/already exists.\u001b[0m\n"
     ]
    },
    {
     "data": {
      "application/vnd.jupyter.widget-view+json": {
       "model_id": "3e0528e5a9ea42d8859ef403e5b3defe",
       "version_major": 2,
       "version_minor": 0
      },
      "text/plain": [
       "  0%|          | 0/2 [00:00<?, ?it/s]"
      ]
     },
     "metadata": {},
     "output_type": "display_data"
    },
    {
     "name": "stdout",
     "output_type": "stream",
     "text": [
      "['G0_C1_P', 'G0_C2_P', 'G0_C4_P'] []\n",
      "Pareto: 2 optimal values, 2 objects\n",
      "\u001b[32m       key     A     B     a     b    Ri     L         Req     alpha_i  \\\n",
      "0  G0_C2_P  38.0  50.0  25.0  25.0  77.5  93.5  183.668236  119.362648   \n",
      "1  G0_C1_P  62.0  74.0  15.0  15.0  72.5  93.5  174.812717  114.818083   \n",
      "2  G0_C4_P  26.0  26.0  35.0  35.0  62.5  93.5  182.457954  114.271513   \n",
      "\n",
      "      alpha_o  freq [MHz]  Epk/Eacc []  Bpk/Eacc [mT/MV/m]  ZL [max(1<f<2)]  \\\n",
      "0  119.362648  801.583543     1.791067            5.488478         0.161519   \n",
      "1  114.818083  801.577665     1.912193            4.733067         2.685337   \n",
      "2  114.271513  801.584412     1.803840            5.550954         2.242853   \n",
      "\n",
      "   ZL [max(2<f<5)]  rank_Epk/Eacc []  rank_Bpk/Eacc [mT/MV/m]  \\\n",
      "0         0.038291               1.0                      2.0   \n",
      "1         0.332051               3.0                      1.0   \n",
      "2         0.071294               2.0                      3.0   \n",
      "\n",
      "   rank_ZL [max(1<f<2)]  rank_ZL [max(2<f<5)]  total_rank  \n",
      "0                   1.0                   1.0        1.25  \n",
      "1                   3.0                   3.0        2.50  \n",
      "2                   2.0                   2.0        2.25  \u001b[0m\n"
     ]
    },
    {
     "name": "stderr",
     "output_type": "stream",
     "text": [
      "D:\\Dropbox\\cavsim2d\\notebooks\\..\\cavsim2d\\cavity.py:579: FutureWarning: The behavior of DataFrame concatenation with empty or all-NA entries is deprecated. In a future version, this will no longer exclude empty or all-NA columns when determining the result dtypes. To retain the old behavior, exclude the relevant entries before the concat operation.\n",
      "  df_ng = pd.concat([df_cross, df_mutation, df_chaos], ignore_index=True)\n"
     ]
    },
    {
     "name": "stdout",
     "output_type": "stream",
     "text": [
      "================================================================================\n",
      "['G0_C0_CO', 'G0_C1_CO', 'G0_C2_CO', 'G0_C3_CO', 'G0_C4_CO'] []\n",
      "Pareto: 7 optimal values, 7 objects\n",
      "\u001b[32m        key     A     B     a     b     Ri     L         Req     alpha_i  \\\n",
      "0   G0_C2_P  38.0  50.0  25.0  25.0  77.50  93.5  183.668236  119.362648   \n",
      "1  G0_C2_CO  38.0  32.0  25.0  27.5  70.00  93.5  177.867334  116.287484   \n",
      "2  G0_C3_CO  44.0  56.0  30.0  27.5  76.25  93.5  180.247532  115.118110   \n",
      "3  G0_C1_CO  32.0  50.0  27.5  30.0  65.00  93.5  184.448933  117.547366   \n",
      "4  G0_C0_CO  32.0  50.0  30.0  30.0  70.00  93.5  185.384688  117.505299   \n",
      "5  G0_C4_CO  38.0  44.0  30.0  27.5  68.75  93.5  179.525143  114.582592   \n",
      "6   G0_C1_P  62.0  74.0  15.0  15.0  72.50  93.5  174.812717  114.818083   \n",
      "7   G0_C4_P  26.0  26.0  35.0  35.0  62.50  93.5  182.457954  114.271513   \n",
      "\n",
      "      alpha_o  freq [MHz]  Epk/Eacc []  Bpk/Eacc [mT/MV/m]  ZL [max(1<f<2)]  \\\n",
      "0  119.362648  801.583543     1.791067            5.488478         0.161519   \n",
      "1  116.287484  801.581384     1.758362            5.139791         1.962553   \n",
      "2  115.118110  801.580530     1.887087            5.418482         0.224916   \n",
      "3  117.547366  801.577840     1.693671            5.385166         2.289161   \n",
      "4  117.505299  801.579989     1.768240            5.564400         0.912773   \n",
      "5  114.582592  801.579524     1.846226            5.317849         1.698788   \n",
      "6  114.818083  801.577665     1.912193            4.733067         2.685337   \n",
      "7  114.271513  801.584412     1.803840            5.550954         2.242853   \n",
      "\n",
      "   ZL [max(2<f<5)]  rank_Epk/Eacc []  rank_Bpk/Eacc [mT/MV/m]  \\\n",
      "0         0.038291               4.0                      6.0   \n",
      "1         0.058639               2.0                      2.0   \n",
      "2         0.043065               7.0                      5.0   \n",
      "3         0.062170               1.0                      4.0   \n",
      "4         0.061605               3.0                      8.0   \n",
      "5         0.086337               6.0                      3.0   \n",
      "6         0.332051               8.0                      1.0   \n",
      "7         0.071294               5.0                      7.0   \n",
      "\n",
      "   rank_ZL [max(1<f<2)]  rank_ZL [max(2<f<5)]  total_rank  \n",
      "0                   1.0                   1.0        3.00  \n",
      "1                   5.0                   3.0        3.00  \n",
      "2                   2.0                   2.0        4.00  \n",
      "3                   7.0                   5.0        4.25  \n",
      "4                   3.0                   4.0        4.50  \n",
      "5                   4.0                   7.0        5.00  \n",
      "6                   8.0                   8.0        6.25  \n",
      "7                   6.0                   6.0        6.00  \u001b[0m\n",
      "================================================================================\n",
      "End time:  2024-08-16 13:31:02.105800\n"
     ]
    },
    {
     "name": "stderr",
     "output_type": "stream",
     "text": [
      "D:\\Dropbox\\cavsim2d\\notebooks\\..\\cavsim2d\\cavity.py:579: FutureWarning: The behavior of DataFrame concatenation with empty or all-NA entries is deprecated. In a future version, this will no longer exclude empty or all-NA columns when determining the result dtypes. To retain the old behavior, exclude the relevant entries before the concat operation.\n",
      "  df_ng = pd.concat([df_cross, df_mutation, df_chaos], ignore_index=True)\n"
     ]
    },
    {
     "data": {
      "image/png": "[encoded data removed]",
      "text/plain": [
       "<Figure size 640x480 with 1 Axes>"
      ]
     },
     "metadata": {},
     "output_type": "display_data"
    }
   ],
   "source": [
    "cavs = Cavities([])\n",
    "# must first save cavities\n",
    "cavs.save('D:\\Dropbox\\CavityDesignHub\\MuCol_Study\\SimulationData\\ConsoleTest')\n",
    "cell_type = 'end-end-cell'\n",
    "optimisation_config = {\n",
    "    'initial_points': 5,\n",
    "    'method': {\n",
    "        'LHS': {'seed': 5},\n",
    "        # 'Sobol Sequence': {'index': 2},\n",
    "        # 'Random': {},\n",
    "        # 'Uniform': {},\n",
    "        },\n",
    "    # 'mid-cell': [1, 2, 3, 3, 6, 5, 2],  # must enter if mid-end cell selected\n",
    "    'tune_config': {\n",
    "        'freqs': 801.58,\n",
    "        'parameters': 'Req',\n",
    "        'cell_types': cell_type,\n",
    "        'processes': 1\n",
    "    },\n",
    "    'wakefield_config': {},\n",
    "    'optimisation by': 'pareto',\n",
    "    'crossover_factor': 5,\n",
    "    'elites_for_crossover': 2,\n",
    "    'mutation_factor': 5,\n",
    "    'chaos_factor': 5,\n",
    "    'processes': 3,\n",
    "    'no_of_generation': 2,\n",
    "    'bounds': {'A': [20.0, 80.0],\n",
    "               'B': [20.0, 80.0],\n",
    "               'a': [10.0, 60.0],\n",
    "               'b': [10., 60.0],\n",
    "               'Ri': [60.0, 85.0],\n",
    "               'L': [93.5, 93.5],\n",
    "               'Req': [170.0, 170.0]},\n",
    "    'constraints': {'Epk/Eacc []': [1.0, 3.0],\n",
    "                    'Bpk/Eacc [mT/MV/m]': [1.0, 5.0]\n",
    "                    },\n",
    "    'objectives': [\n",
    "        # ['equal', 'freq [MHz]', 801.58],\n",
    "                      ['min', 'Epk/Eacc []'],\n",
    "                      ['min', 'Bpk/Eacc [mT/MV/m]'],\n",
    "                      ['min', 'ZL', [1, 2, 5]],\n",
    "                  ],\n",
    "    'weights': [1, 1, 1, 1],\n",
    "    'uq_config': {\n",
    "        'processes': 5,\n",
    "        'variables': ['A', 'a'],\n",
    "        'delta': [0.05, 0.05],\n",
    "        'distribution': 'gaussian',\n",
    "        # 'method': ['QMC', 'LHS', 1000],\n",
    "        # 'method': ['QMC', 'Sobol', 1000],\n",
    "        # 'method': ['Qudrature', 'Gaussian', 1000],\n",
    "        'method': ['Quadrature', 'Stroud3'],\n",
    "        # 'method': ['Quadrature', 'Stroud5'],\n",
    "        # 'gaussian': ['Quadrature', 'Gaussian'],\n",
    "        # 'from file': ['<file path>', columns],\n",
    "        'cell type': cell_type\n",
    "        }\n",
    "}\n",
    "cavs.run_optimisation(config=optimisation_config)"
   ]
  },
  {
   "cell_type": "code",
   "execution_count": null,
   "id": "e528df34-6731-41f0-afc4-7522a33e1a9b",
   "metadata": {},
   "outputs": [],
   "source": []
  }
 ],
 "metadata": {
  "kernelspec": {
   "display_name": "Python 3 (ipykernel)",
   "language": "python",
   "name": "python3"
  },
  "language_info": {
   "codemirror_mode": {
    "name": "ipython",
    "version": 3
   },
   "file_extension": ".py",
   "mimetype": "text/x-python",
   "name": "python",
   "nbconvert_exporter": "python",
   "pygments_lexer": "ipython3",
   "version": "3.11.9"
  },
  "widgets": {
   "application/vnd.jupyter.widget-state+json": {
    "state": {
     "0ce092c28e194f83b106ca3c0b2a2917": {
      "model_module": "@jupyter-widgets/controls",
      "model_module_version": "2.0.0",
      "model_name": "ProgressStyleModel",
      "state": {
       "description_width": ""
      }
     },
     "22d18e08f5284e9a9a255ad06bb578ad": {
      "model_module": "@jupyter-widgets/base",
      "model_module_version": "2.0.0",
      "model_name": "LayoutModel",
      "state": {}
     },
     "3e0528e5a9ea42d8859ef403e5b3defe": {
      "model_module": "@jupyter-widgets/controls",
      "model_module_version": "2.0.0",
      "model_name": "HBoxModel",
      "state": {
       "children": [
        "IPY_MODEL_4fbcde1fcf0b4d139ac4493436b98bb0",
        "IPY_MODEL_a2bb2e385e0c4dd19e41bc9237f4e78e",
        "IPY_MODEL_4403629e73964c059d4a4e503800c290"
       ],
       "layout": "IPY_MODEL_3eb13d022e63474491137fe3cff64b26"
      }
     },
     "3eb13d022e63474491137fe3cff64b26": {
      "model_module": "@jupyter-widgets/base",
      "model_module_version": "2.0.0",
      "model_name": "LayoutModel",
      "state": {}
     },
     "4403629e73964c059d4a4e503800c290": {
      "model_module": "@jupyter-widgets/controls",
      "model_module_version": "2.0.0",
      "model_name": "HTMLModel",
      "state": {
       "layout": "IPY_MODEL_22d18e08f5284e9a9a255ad06bb578ad",
       "style": "IPY_MODEL_6e5ca72c42be4896a95c91435d4c8897",
       "value": " 2/2 [19:04&lt;00:00, 601.72s/it]"
      }
     },
     "4fbcde1fcf0b4d139ac4493436b98bb0": {
      "model_module": "@jupyter-widgets/controls",
      "model_module_version": "2.0.0",
      "model_name": "HTMLModel",
      "state": {
       "layout": "IPY_MODEL_d2662d062a624aab992d39b14e3055ec",
       "style": "IPY_MODEL_569cefea2abb4c71bb49227407419d31",
       "value": "100%"
      }
     },
     "569cefea2abb4c71bb49227407419d31": {
      "model_module": "@jupyter-widgets/controls",
      "model_module_version": "2.0.0",
      "model_name": "HTMLStyleModel",
      "state": {
       "description_width": "",
       "font_size": null,
       "text_color": null
      }
     },
     "6e5ca72c42be4896a95c91435d4c8897": {
      "model_module": "@jupyter-widgets/controls",
      "model_module_version": "2.0.0",
      "model_name": "HTMLStyleModel",
      "state": {
       "description_width": "",
       "font_size": null,
       "text_color": null
      }
     },
     "a2bb2e385e0c4dd19e41bc9237f4e78e": {
      "model_module": "@jupyter-widgets/controls",
      "model_module_version": "2.0.0",
      "model_name": "FloatProgressModel",
      "state": {
       "layout": "IPY_MODEL_eca2821452794432b4882e5687ca8f67",
       "max": 2,
       "style": "IPY_MODEL_0ce092c28e194f83b106ca3c0b2a2917",
       "value": 2
      }
     },
     "d2662d062a624aab992d39b14e3055ec": {
      "model_module": "@jupyter-widgets/base",
      "model_module_version": "2.0.0",
      "model_name": "LayoutModel",
      "state": {}
     },
     "eca2821452794432b4882e5687ca8f67": {
      "model_module": "@jupyter-widgets/base",
      "model_module_version": "2.0.0",
      "model_name": "LayoutModel",
      "state": {}
     }
    },
    "version_major": 2,
    "version_minor": 0
   }
  }
 },
 "nbformat": 4,
 "nbformat_minor": 5
}
