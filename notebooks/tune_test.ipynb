{
 "cells": [
  {
   "cell_type": "code",
   "execution_count": 1,
   "id": "1c04a60d-869b-4105-98d3-fc48ef0c1178",
   "metadata": {},
   "outputs": [
    {
     "data": {
      "text/html": [
       "<style>p{background: -webkit-linear-gradient(#eee, #333);-webkit-background-clip: text; webkit-text-fill-color: transparent; }</style> <p><b>CAV-SIM-2D</b> loaded successfully!</p>"
      ],
      "text/plain": [
       "<IPython.core.display.HTML object>"
      ]
     },
     "metadata": {},
     "output_type": "display_data"
    }
   ],
   "source": [
    "import sys\n",
    "sys.path.append(\"..\")\n",
    "import numpy as np\n",
    "import json\n",
    "import matplotlib\n",
    "import matplotlib.pyplot as plt\n",
    "plt.ion()\n",
    "%matplotlib inline\n",
    "from cavsim2d.cavity import Cavity, Cavities, OperationPoints\n",
    "import pprint\n",
    "pp = pprint.PrettyPrinter(indent=4)"
   ]
  },
  {
   "cell_type": "code",
   "execution_count": null,
   "id": "201c33f6-0d61-4e6c-bf9a-dcdde6fb1460",
   "metadata": {},
   "outputs": [
    {
     "name": "stdout",
     "output_type": "stream",
     "text": [
      "\u001b[32mProject D:\\Dropbox\\CavityDesignHub\\MuCol_Study\\SimulationData\\ConsoleTest created successfully/already exists.\u001b[0m\n"
     ]
    }
   ],
   "source": [
    "# define geometry parameters\n",
    "midcell = np.array([42.0, 23.0, 42.5, 57.5, 70.24238959559739, 93.5, 170.0, 0])\n",
    "endcell = np.array([47.0, 23.0, 42.5, 57.5, 70.59919028624745, 93.5, 170.0, 0])\n",
    "endcell_r = np.array([47.0, 23.0, 42.5, 57.5, 70.59919028624745, 93.5, 170.0, 0])\n",
    "\n",
    "# create cavity\n",
    "cav_degenerate = Cavity(1, midcell, endcell, endcell, beampipe='both')\n",
    "ax = cav_degenerate.plot('geometry', label='Before tuning')\n",
    "\n",
    "cavs_degenerate = Cavities()\n",
    "cavs_degenerate.save('D:\\Dropbox\\CavityDesignHub\\MuCol_Study\\SimulationData\\ConsoleTest')\n",
    "\n",
    "cavs_degenerate.add_cavity(cav_degenerate, 'cavs_degenerate')\n",
    "\n",
    "cavs_degenerate.run_tune('A', freqs=801.58, cell_types='end cell', rerun=True, solver='ngsolve', n_cells=1)\n",
    "pp.pprint(cavs_degenerate.eigenmode_tune_res)\n",
    "\n",
    "# plot geometry after tuning\n",
    "cav_degenerate.plot('geometry', ax, label='After tuning')"
   ]
  },
  {
   "cell_type": "code",
   "execution_count": null,
   "id": "38573fb5-9e9c-4f04-9a01-fb937495aa96",
   "metadata": {
    "scrolled": true
   },
   "outputs": [],
   "source": [
    "ax_obj_dict = cavs_degenerate.save_plot_as_json(ax)"
   ]
  },
  {
   "cell_type": "code",
   "execution_count": null,
   "id": "01b90a13-4ad4-43bc-bfee-a21a8bf65b3b",
   "metadata": {},
   "outputs": [],
   "source": [
    "cavs_degenerate.plot_from_json(ax_obj_dict)"
   ]
  },
  {
   "cell_type": "code",
   "execution_count": null,
   "id": "4dfdb1a0-3b09-4867-9697-f454c893d291",
   "metadata": {},
   "outputs": [],
   "source": [
    "cavs_degenerate.plot('convergence')\n",
    "plt.show()"
   ]
  },
  {
   "cell_type": "code",
   "execution_count": null,
   "id": "a4930f16-f4e1-4511-babd-b6b375f46c2d",
   "metadata": {},
   "outputs": [],
   "source": []
  }
 ],
 "metadata": {
  "kernelspec": {
   "display_name": "Python 3 (ipykernel)",
   "language": "python",
   "name": "python3"
  },
  "language_info": {
   "codemirror_mode": {
    "name": "ipython",
    "version": 3
   },
   "file_extension": ".py",
   "mimetype": "text/x-python",
   "name": "python",
   "nbconvert_exporter": "python",
   "pygments_lexer": "ipython3",
   "version": "3.11.9"
  },
  "widgets": {
   "application/vnd.jupyter.widget-state+json": {
    "state": {},
    "version_major": 2,
    "version_minor": 0
   }
  }
 },
 "nbformat": 4,
 "nbformat_minor": 5
}
