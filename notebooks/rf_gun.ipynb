{
 "cells": [
  {
   "cell_type": "code",
   "execution_count": 1,
   "id": "af62d7b1-f691-400d-b9c8-8a5c1899eee5",
   "metadata": {},
   "outputs": [],
   "source": [
    "import sys\n",
    "sys.path.append(\"..\")\n",
    "import numpy as np\n",
    "import json\n",
    "import matplotlib\n",
    "import matplotlib.pyplot as plt\n",
    "plt.ion()\n",
    "%matplotlib inline\n",
    "from cavsim2d.cavity import Cavity, Cavities, OperationPoints, Pillbox, RFGun, Dakota\n",
    "import pprint\n",
    "pp = pprint.PrettyPrinter(indent=4)"
   ]
  },
  {
   "cell_type": "code",
   "execution_count": 2,
   "id": "9a518044-1dfb-4f62-858f-ba8e1a78bbbd",
   "metadata": {},
   "outputs": [
    {
     "name": "stdout",
     "output_type": "stream",
     "text": [
      "length of geometry::  95637\n"
     ]
    },
    {
     "data": {
      "image/png": "[encoded data removed]",
      "text/plain": [
       "<Figure size 640x480 with 1 Axes>"
      ]
     },
     "metadata": {},
     "output_type": "display_data"
    }
   ],
   "source": [
    "# createrf gun cavity\n",
    "gun = RFGun()\n",
    "ax = gun.plot('geometry')\n",
    "\n",
    "plt.show()"
   ]
  },
  {
   "cell_type": "code",
   "execution_count": 3,
   "id": "29b16592-cf4c-4703-93ca-2c3570d19014",
   "metadata": {},
   "outputs": [
    {
     "ename": "AttributeError",
     "evalue": "'RFGun' object has no attribute 'cell_parameterisation'",
     "output_type": "error",
     "traceback": [
      "\u001b[1;31m---------------------------------------------------------------------------\u001b[0m",
      "\u001b[1;31mAttributeError\u001b[0m                            Traceback (most recent call last)",
      "Cell \u001b[1;32mIn[3], line 1\u001b[0m\n\u001b[1;32m----> 1\u001b[0m \u001b[43mgun\u001b[49m\u001b[38;5;241;43m.\u001b[39;49m\u001b[43mrun_eigenmode\u001b[49m\u001b[43m(\u001b[49m\u001b[43m)\u001b[49m\n",
      "File \u001b[1;32mD:\\Dropbox\\cavsim2d\\notebooks\\..\\cavsim2d\\cavity.py:2052\u001b[0m, in \u001b[0;36mCavity.run_eigenmode\u001b[1;34m(self, solver, freq_shift, boundary_cond, subdir, uq_config)\u001b[0m\n\u001b[0;32m   2049\u001b[0m \u001b[38;5;28;01mif\u001b[39;00m boundary_cond:\n\u001b[0;32m   2050\u001b[0m     \u001b[38;5;28mself\u001b[39m\u001b[38;5;241m.\u001b[39mbc \u001b[38;5;241m=\u001b[39m boundary_cond\n\u001b[1;32m-> 2052\u001b[0m \u001b[38;5;28;01mif\u001b[39;00m \u001b[38;5;28;43mself\u001b[39;49m\u001b[38;5;241;43m.\u001b[39;49m\u001b[43mcell_parameterisation\u001b[49m \u001b[38;5;241m==\u001b[39m \u001b[38;5;124m'\u001b[39m\u001b[38;5;124mmulticell\u001b[39m\u001b[38;5;124m'\u001b[39m:\n\u001b[0;32m   2053\u001b[0m     \u001b[38;5;28mself\u001b[39m\u001b[38;5;241m.\u001b[39m_run_ngsolve(\u001b[38;5;28mself\u001b[39m\u001b[38;5;241m.\u001b[39mname, \u001b[38;5;28mself\u001b[39m\u001b[38;5;241m.\u001b[39mn_cells, \u001b[38;5;28mself\u001b[39m\u001b[38;5;241m.\u001b[39mn_modules, \u001b[38;5;28mself\u001b[39m\u001b[38;5;241m.\u001b[39mshape, \u001b[38;5;28mself\u001b[39m\u001b[38;5;241m.\u001b[39mshape_multicell,\n\u001b[0;32m   2054\u001b[0m                       \u001b[38;5;28mself\u001b[39m\u001b[38;5;241m.\u001b[39mn_modes,\n\u001b[0;32m   2055\u001b[0m                       freq_shift, \u001b[38;5;28mself\u001b[39m\u001b[38;5;241m.\u001b[39mbc,\n\u001b[0;32m   2056\u001b[0m                       SOFTWARE_DIRECTORY, \u001b[38;5;28mself\u001b[39m\u001b[38;5;241m.\u001b[39mprojectDir, sub_dir\u001b[38;5;241m=\u001b[39m\u001b[38;5;124m'\u001b[39m\u001b[38;5;124m'\u001b[39m, uq_config\u001b[38;5;241m=\u001b[39muq_config)\n\u001b[0;32m   2057\u001b[0m \u001b[38;5;28;01melse\u001b[39;00m:\n",
      "\u001b[1;31mAttributeError\u001b[0m: 'RFGun' object has no attribute 'cell_parameterisation'"
     ]
    }
   ],
   "source": [
    "gun.run_eigenmode()"
   ]
  },
  {
   "cell_type": "code",
   "execution_count": 4,
   "id": "f1e7a7ec-94bd-47e1-a0a1-e4ba2ccb8473",
   "metadata": {},
   "outputs": [],
   "source": [
    "from cavsim2d.cavity import Cavity, Cavities, OperationPoints, Pillbox, RFGun, Dakota\n",
    "scripts_folder = r'D:/Dropbox/CavityDesignHub/analysis_modules/uq/dakota_scripts'  # forward slashes must be used\n",
    "simulation_folder = r'D:/Dropbox/CavityDesignHub/analysis_modules/uq/dakota_scripts'  # forward slashes must be used\n",
    "name = 'test_dakotapyf'\n",
    "dakota = Dakota(simulation_folder, name)\n",
    "kind = 'uniform_uncertain'\n",
    "parameters = ['A', 'B']\n",
    "resp = ['f1', 'f2']\n",
    "lower_bounds = [0, 0]\n",
    "upper_bounds = [1, 2]\n",
    "\n",
    "dakota_config = {\n",
    "    \"variables_config\": {\n",
    "        'kind': kind,\n",
    "        'descriptors': parameters,\n",
    "        'lower_bounds': lower_bounds,\n",
    "        'upper_bounds': upper_bounds\n",
    "        },\n",
    "    'method_config': {\n",
    "        'method': 'polynomial_chaos'\n",
    "    },\n",
    "    'interface_config': {\n",
    "        'analysis_driver': f'python {scripts_folder}/pycall.py',  # must provide full path to call file\n",
    "        'nodes_only': True,\n",
    "        'responses': resp,\n",
    "        'processes': 1\n",
    "        }\n",
    "}\n",
    "dakota.write_input_file(**dakota_config)\n",
    "dakota.run_analysis(write_cst=True, partitions=1)"
   ]
  },
  {
   "cell_type": "code",
   "execution_count": 5,
   "id": "8d086960-0e2b-4cc8-9338-06a753263729",
   "metadata": {},
   "outputs": [
    {
     "data": {
      "text/html": [
       "<div>\n",
       "<style scoped>\n",
       "    .dataframe tbody tr th:only-of-type {\n",
       "        vertical-align: middle;\n",
       "    }\n",
       "\n",
       "    .dataframe tbody tr th {\n",
       "        vertical-align: top;\n",
       "    }\n",
       "\n",
       "    .dataframe thead th {\n",
       "        text-align: right;\n",
       "    }\n",
       "</style>\n",
       "<table border=\"1\" class=\"dataframe\">\n",
       "  <thead>\n",
       "    <tr style=\"text-align: right;\">\n",
       "      <th></th>\n",
       "      <th>A</th>\n",
       "      <th>B</th>\n",
       "    </tr>\n",
       "  </thead>\n",
       "  <tbody>\n",
       "    <tr>\n",
       "      <th>0</th>\n",
       "      <td>0.500000</td>\n",
       "      <td>1.816497</td>\n",
       "    </tr>\n",
       "    <tr>\n",
       "      <th>1</th>\n",
       "      <td>0.091752</td>\n",
       "      <td>1.000000</td>\n",
       "    </tr>\n",
       "    <tr>\n",
       "      <th>2</th>\n",
       "      <td>0.500000</td>\n",
       "      <td>0.183503</td>\n",
       "    </tr>\n",
       "    <tr>\n",
       "      <th>3</th>\n",
       "      <td>0.908248</td>\n",
       "      <td>1.000000</td>\n",
       "    </tr>\n",
       "  </tbody>\n",
       "</table>\n",
       "</div>"
      ],
      "text/plain": [
       "          A         B\n",
       "0  0.500000  1.816497\n",
       "1  0.091752  1.000000\n",
       "2  0.500000  0.183503\n",
       "3  0.908248  1.000000"
      ]
     },
     "execution_count": 5,
     "metadata": {},
     "output_type": "execute_result"
    }
   ],
   "source": [
    "dakota.nodes"
   ]
  },
  {
   "cell_type": "code",
   "execution_count": null,
   "id": "aaa71ed9-cb30-4e9c-9dac-0872830bc48c",
   "metadata": {},
   "outputs": [],
   "source": []
  }
 ],
 "metadata": {
  "kernelspec": {
   "display_name": "Python 3 (ipykernel)",
   "language": "python",
   "name": "python3"
  },
  "language_info": {
   "codemirror_mode": {
    "name": "ipython",
    "version": 3
   },
   "file_extension": ".py",
   "mimetype": "text/x-python",
   "name": "python",
   "nbconvert_exporter": "python",
   "pygments_lexer": "ipython3",
   "version": "3.11.9"
  },
  "widgets": {
   "application/vnd.jupyter.widget-state+json": {
    "state": {},
    "version_major": 2,
    "version_minor": 0
   }
  }
 },
 "nbformat": 4,
 "nbformat_minor": 5
}
