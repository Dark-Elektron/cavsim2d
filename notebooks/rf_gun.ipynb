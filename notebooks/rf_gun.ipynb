{
 "cells": [
  {
   "cell_type": "code",
   "execution_count": 1,
   "id": "af62d7b1-f691-400d-b9c8-8a5c1899eee5",
   "metadata": {},
   "outputs": [],
   "source": [
    "import sys\n",
    "sys.path.append(\"..\")\n",
    "import numpy as np\n",
    "import json\n",
    "import matplotlib\n",
    "import matplotlib.pyplot as plt\n",
    "plt.ion()\n",
    "%matplotlib inline\n",
    "from cavsim2d.cavity import Cavity, Cavities, OperationPoints, Pillbox, RFGun, Dakota\n",
    "from ngsolve import *\n",
    "from ngsolve.webgui import Draw\n",
    "from netgen.occ import *\n",
    "import pprint\n",
    "import pandas as pd\n",
    "import os\n",
    "\n",
    "pp = pprint.PrettyPrinter(indent=4)"
   ]
  },
  {
   "cell_type": "code",
   "execution_count": 2,
   "id": "9a518044-1dfb-4f62-858f-ba8e1a78bbbd",
   "metadata": {},
   "outputs": [
    {
     "name": "stdout",
     "output_type": "stream",
     "text": [
      "\u001b[32mDONE:: Project D:\\Dropbox\\CavityDesignHub\\MuCol_Study\\SimulationData\\ConsoleTest created successfully/already exists.\u001b[0m\n",
      "length of geometry::  9602\n"
     ]
    },
    {
     "data": {
      "text/plain": [
       "<Axes: xlabel='$z$ [m]', ylabel='$r$ [m]'>"
      ]
     },
     "execution_count": 2,
     "metadata": {},
     "output_type": "execute_result"
    },
    {
     "data": {
      "image/png": "[encoded data removed]",
      "text/plain": [
       "<Figure size 640x480 with 1 Axes>"
      ]
     },
     "metadata": {},
     "output_type": "display_data"
    }
   ],
   "source": [
    "\n",
    "cavs = Cavities()\n",
    "cavs.save(project_folder='D:\\Dropbox\\CavityDesignHub\\MuCol_Study\\SimulationData\\ConsoleTest')\n",
    "# createrf gun cavity\n",
    "gun = RFGun()\n",
    "\n",
    "cavs.add_cavity(gun, 'gun', 'gun')\n",
    "cavs.plot('geometry')\n"
   ]
  },
  {
   "cell_type": "code",
   "execution_count": 3,
   "id": "29b16592-cf4c-4703-93ca-2c3570d19014",
   "metadata": {},
   "outputs": [
    {
     "name": "stdout",
     "output_type": "stream",
     "text": [
      "\u001b[31mERROR:: Eigenmode result does not exist, please run eigenmode simulation.\u001b[0m\n"
     ]
    },
    {
     "ename": "AssertionError",
     "evalue": "None",
     "output_type": "error",
     "traceback": [
      "\u001b[1;31m---------------------------------------------------------------------------\u001b[0m",
      "\u001b[1;31mAssertionError\u001b[0m                            Traceback (most recent call last)",
      "\u001b[1;32m~\\AppData\\Local\\Temp\\ipykernel_78868\\734331713.py\u001b[0m in \u001b[0;36m?\u001b[1;34m()\u001b[0m\n\u001b[1;32m----> 1\u001b[1;33m \u001b[0mcavs\u001b[0m\u001b[1;33m.\u001b[0m\u001b[0mrun_eigenmode\u001b[0m\u001b[1;33m(\u001b[0m\u001b[1;33m)\u001b[0m\u001b[1;33m\u001b[0m\u001b[1;33m\u001b[0m\u001b[0m\n\u001b[0m",
      "\u001b[1;32mD:\\Dropbox\\cavsim2d\\notebooks\\..\\cavsim2d\\cavity.py\u001b[0m in \u001b[0;36m?\u001b[1;34m(self, eigenmode_config)\u001b[0m\n\u001b[0;32m   3816\u001b[0m             run_eigenmode_parallel(self.shape_space, self.shape_space_multicell, eigenmode_config,\n\u001b[0;32m   3817\u001b[0m                                    self.projectDir)\n\u001b[0;32m   3818\u001b[0m \u001b[1;33m\u001b[0m\u001b[0m\n\u001b[0;32m   3819\u001b[0m         \u001b[0mself\u001b[0m\u001b[1;33m.\u001b[0m\u001b[0meigenmode_config\u001b[0m \u001b[1;33m=\u001b[0m \u001b[0meigenmode_config\u001b[0m\u001b[1;33m\u001b[0m\u001b[1;33m\u001b[0m\u001b[0m\n\u001b[1;32m-> 3820\u001b[1;33m         \u001b[0mself\u001b[0m\u001b[1;33m.\u001b[0m\u001b[0mget_eigenmode_qois\u001b[0m\u001b[1;33m(\u001b[0m\u001b[0muq_config\u001b[0m\u001b[1;33m)\u001b[0m\u001b[1;33m\u001b[0m\u001b[1;33m\u001b[0m\u001b[0m\n\u001b[0m",
      "\u001b[1;32mD:\\Dropbox\\cavsim2d\\notebooks\\..\\cavsim2d\\cavity.py\u001b[0m in \u001b[0;36m?\u001b[1;34m(self, uq_config)\u001b[0m\n\u001b[0;32m   3829\u001b[0m                 \u001b[1;32mif\u001b[0m \u001b[0muq_config\u001b[0m\u001b[1;33m:\u001b[0m\u001b[1;33m\u001b[0m\u001b[1;33m\u001b[0m\u001b[0m\n\u001b[0;32m   3830\u001b[0m                     \u001b[0mcav\u001b[0m\u001b[1;33m.\u001b[0m\u001b[0mget_uq_fm_results\u001b[0m\u001b[1;33m(\u001b[0m\u001b[0mos\u001b[0m\u001b[1;33m.\u001b[0m\u001b[0mpath\u001b[0m\u001b[1;33m.\u001b[0m\u001b[0mjoin\u001b[0m\u001b[1;33m(\u001b[0m\u001b[0mself\u001b[0m\u001b[1;33m.\u001b[0m\u001b[0mprojectDir\u001b[0m\u001b[1;33m,\u001b[0m \u001b[1;34m\"SimulationData\"\u001b[0m\u001b[1;33m,\u001b[0m \u001b[1;34m\"NGSolveMEVP\"\u001b[0m\u001b[1;33m,\u001b[0m \u001b[0mcav\u001b[0m\u001b[1;33m.\u001b[0m\u001b[0mname\u001b[0m\u001b[1;33m)\u001b[0m\u001b[1;33m)\u001b[0m\u001b[1;33m\u001b[0m\u001b[1;33m\u001b[0m\u001b[0m\n\u001b[0;32m   3831\u001b[0m                     \u001b[0mself\u001b[0m\u001b[1;33m.\u001b[0m\u001b[0muq_fm_results\u001b[0m\u001b[1;33m[\u001b[0m\u001b[0mcav\u001b[0m\u001b[1;33m.\u001b[0m\u001b[0mname\u001b[0m\u001b[1;33m]\u001b[0m \u001b[1;33m=\u001b[0m \u001b[0mcav\u001b[0m\u001b[1;33m.\u001b[0m\u001b[0muq_fm_results\u001b[0m\u001b[1;33m\u001b[0m\u001b[1;33m\u001b[0m\u001b[0m\n\u001b[0;32m   3832\u001b[0m                     \u001b[0mself\u001b[0m\u001b[1;33m.\u001b[0m\u001b[0muq_fm_results_all_modes\u001b[0m\u001b[1;33m[\u001b[0m\u001b[0mcav\u001b[0m\u001b[1;33m.\u001b[0m\u001b[0mname\u001b[0m\u001b[1;33m]\u001b[0m \u001b[1;33m=\u001b[0m \u001b[0mcav\u001b[0m\u001b[1;33m.\u001b[0m\u001b[0muq_fm_results_all_modes\u001b[0m\u001b[1;33m\u001b[0m\u001b[1;33m\u001b[0m\u001b[0m\n\u001b[1;32m-> 3833\u001b[1;33m             \u001b[1;32mexcept\u001b[0m \u001b[0mFileNotFoundError\u001b[0m\u001b[1;33m:\u001b[0m\u001b[1;33m\u001b[0m\u001b[1;33m\u001b[0m\u001b[0m\n\u001b[0m\u001b[0;32m   3834\u001b[0m                 \u001b[0merror\u001b[0m\u001b[1;33m(\u001b[0m\u001b[1;34m\"Could not find the eigenmode results. Please rerun eigenmode analysis.\"\u001b[0m\u001b[1;33m)\u001b[0m\u001b[1;33m\u001b[0m\u001b[1;33m\u001b[0m\u001b[0m\n\u001b[0;32m   3835\u001b[0m                 \u001b[1;32mreturn\u001b[0m \u001b[1;32mFalse\u001b[0m\u001b[1;33m\u001b[0m\u001b[1;33m\u001b[0m\u001b[0m\n",
      "\u001b[1;32mD:\\Dropbox\\cavsim2d\\notebooks\\..\\cavsim2d\\cavity.py\u001b[0m in \u001b[0;36m?\u001b[1;34m(self)\u001b[0m\n\u001b[0;32m   2309\u001b[0m         \u001b[1;33m-\u001b[0m\u001b[1;33m-\u001b[0m\u001b[1;33m-\u001b[0m\u001b[1;33m-\u001b[0m\u001b[1;33m-\u001b[0m\u001b[1;33m-\u001b[0m\u001b[1;33m-\u001b[0m\u001b[1;33m\u001b[0m\u001b[1;33m\u001b[0m\u001b[0m\n\u001b[0;32m   2310\u001b[0m \u001b[1;33m\u001b[0m\u001b[0m\n\u001b[0;32m   2311\u001b[0m         \"\"\"\n\u001b[0;32m   2312\u001b[0m         \u001b[0mqois\u001b[0m \u001b[1;33m=\u001b[0m \u001b[1;34m'qois.json'\u001b[0m\u001b[1;33m\u001b[0m\u001b[1;33m\u001b[0m\u001b[0m\n\u001b[1;32m-> 2313\u001b[1;33m         assert os.path.exists(os.path.join(self.projectDir, 'SimulationData', 'NGSolveMEVP', self.name, 'monopole', qois)), (\n\u001b[0m\u001b[0;32m   2314\u001b[0m             error('Eigenmode result does not exist, please run eigenmode simulation.'))\n\u001b[0;32m   2315\u001b[0m         with open(os.path.join(self.projectDir, 'SimulationData', 'NGSolveMEVP', self.name, 'monopole',\n\u001b[0;32m   2316\u001b[0m                                qois)) as json_file:\n",
      "\u001b[1;31mAssertionError\u001b[0m: None"
     ]
    }
   ],
   "source": [
    "cavs.run_eigenmode()"
   ]
  },
  {
   "cell_type": "code",
   "execution_count": null,
   "id": "eec72719-4808-4fe6-83bc-ed41db4205b2",
   "metadata": {},
   "outputs": [],
   "source": [
    "gun.plot_fields()"
   ]
  },
  {
   "cell_type": "code",
   "execution_count": null,
   "id": "554f9600-707c-45a5-b916-a1f1afd638db",
   "metadata": {},
   "outputs": [],
   "source": []
  }
 ],
 "metadata": {
  "kernelspec": {
   "display_name": "Python 3 (ipykernel)",
   "language": "python",
   "name": "python3"
  },
  "language_info": {
   "codemirror_mode": {
    "name": "ipython",
    "version": 3
   },
   "file_extension": ".py",
   "mimetype": "text/x-python",
   "name": "python",
   "nbconvert_exporter": "python",
   "pygments_lexer": "ipython3",
   "version": "3.11.9"
  },
  "widgets": {
   "application/vnd.jupyter.widget-state+json": {
    "state": {},
    "version_major": 2,
    "version_minor": 0
   }
  }
 },
 "nbformat": 4,
 "nbformat_minor": 5
}
