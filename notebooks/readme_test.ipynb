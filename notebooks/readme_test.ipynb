{
 "cells": [
  {
   "cell_type": "code",
   "execution_count": 1,
   "id": "e61f7c46-7450-4717-8b90-f82da72e6072",
   "metadata": {
    "ExecuteTime": {
     "end_time": "2025-10-22T23:01:16.143691Z",
     "start_time": "2025-10-22T23:01:13.581587Z"
    }
   },
   "outputs": [
    {
     "name": "stdout",
     "output_type": "stream",
     "text": [
      "result True D:\\Dropbox\\CavityDesignHub\\MuCol_Study\\SimulationData\\ConsoleTest cavities\n",
      "\u001b[32mDONE:: Project D:\\Dropbox\\CavityDesignHub\\MuCol_Study\\SimulationData\\ConsoleTest created already exists. \n",
      "\tSet `overwrite=True` to overwrite.\u001b[0m\n"
     ]
    }
   ],
   "source": [
    "import sys\n",
    "sys.path.append(\"..\")\n",
    "import pprint\n",
    "pp = pprint.PrettyPrinter(indent=4)\n",
    "\n",
    "from cavsim2d.cavity import *\n",
    "\n",
    "cavs = Cavities(folder='D:\\Dropbox\\CavityDesignHub\\MuCol_Study\\SimulationData\\ConsoleTest')"
   ]
  },
  {
   "cell_type": "code",
   "execution_count": 2,
   "id": "ee96e241-7c5a-4e28-b27e-85fc15d85b6c",
   "metadata": {
    "ExecuteTime": {
     "end_time": "2025-10-22T23:01:16.152524Z",
     "start_time": "2025-10-22T23:01:16.146694Z"
    }
   },
   "outputs": [],
   "source": [
    "# define geometry parameters\n",
    "n_cells = 9\n",
    "midcell = [42, 42, 12, 19, 35, 57.7, 103.353]  # <- A, B, a, b, Ri, L, Req\n",
    "endcell_l = [40.34, 40.34, 10, 13.5, 39, 55.716, 103.353]\n",
    "endcell_r = [42, 42, 9, 12.8, 39, 56.815, 103.353]\n",
    "\n",
    "# create cavity\n",
    "tesla = EllipticalCavity(n_cells, midcell, endcell_l, endcell_r, beampipe='both')"
   ]
  },
  {
   "cell_type": "code",
   "execution_count": 3,
   "id": "c9be3328-4721-4d25-85ae-bdafdf13fb64",
   "metadata": {
    "ExecuteTime": {
     "end_time": "2025-10-22T23:01:16.358799Z",
     "start_time": "2025-10-22T23:01:16.154614Z"
    },
    "scrolled": false
   },
   "outputs": [
    {
     "data": {
      "application/vnd.jupyter.widget-view+json": {
       "model_id": "c384ffb0764944dbaa0ba6d8188ef00c",
       "version_major": 2,
       "version_minor": 0
      },
      "text/plain": [
       "Output()"
      ]
     },
     "metadata": {},
     "output_type": "display_data"
    },
    {
     "data": {
      "application/vnd.jupyter.widget-view+json": {
       "model_id": "8f9544f32aa94f6682ff8f748514857f",
       "version_major": 2,
       "version_minor": 0
      },
      "text/plain": [
       "VBox(children=(HBox(children=(FloatSlider(value=42.0, description='A', max=50.4, min=33.6), FloatSlider(value=…"
      ]
     },
     "metadata": {},
     "output_type": "display_data"
    }
   ],
   "source": [
    "tesla.inspect()"
   ]
  },
  {
   "cell_type": "code",
   "execution_count": 4,
   "id": "c9c14892-9492-4c02-b0e0-909e0f2c9af4",
   "metadata": {
    "ExecuteTime": {
     "end_time": "2025-10-22T23:01:16.445148Z",
     "start_time": "2025-10-22T23:01:16.361784Z"
    }
   },
   "outputs": [],
   "source": [
    "cavs.add_cavity([tesla], names=['TESLA'], plot_labels=['TESLA'])"
   ]
  },
  {
   "cell_type": "code",
   "execution_count": 5,
   "id": "f24e2573-2ba9-4daa-90ba-6d319f6b1be4",
   "metadata": {
    "ExecuteTime": {
     "end_time": "2025-10-22T23:01:16.451095Z",
     "start_time": "2025-10-22T23:01:16.447114Z"
    }
   },
   "outputs": [
    {
     "data": {
      "text/plain": [
       "'simplecell'"
      ]
     },
     "execution_count": 5,
     "metadata": {},
     "output_type": "execute_result"
    }
   ],
   "source": [
    "tesla.cell_parameterisation"
   ]
  },
  {
   "cell_type": "code",
   "execution_count": 6,
   "id": "84dca4dc-fbc2-4d46-a4e3-33a21a160a82",
   "metadata": {
    "ExecuteTime": {
     "end_time": "2025-10-22T23:01:21.950104Z",
     "start_time": "2025-10-22T23:01:16.453123Z"
    }
   },
   "outputs": [
    {
     "name": "stdout",
     "output_type": "stream",
     "text": [
      "{   'TESLA': {   'Bpk [mT]': 8.737019040109105e-05,\n",
      "                 'Bpk/Eacc [mT/MV/m]': 0.8564101797388464,\n",
      "                 'Eacc [MV/m]': 0.00010201909373348845,\n",
      "                 'Epk [MV/m]': 3.374693465995193e-05,\n",
      "                 'Epk/Eacc []': 0.3307903787903801,\n",
      "                 'G [Ohm]': 327.1137649207701,\n",
      "                 'GR/Q [Ohm^2]': 61.02209910347878,\n",
      "                 'Hpk [A/m]': 0.06952698840606852,\n",
      "                 'N Cells': 1,\n",
      "                 'No of Mesh Elements': 804,\n",
      "                 'Normalization Length [mm]': 2,\n",
      "                 'Q []': 35568.37477975943,\n",
      "                 'R/Q [Ohm]': 0.18654702322985056,\n",
      "                 'Rsh [MOhm]': 0.006635174436287813,\n",
      "                 'Vacc [MV]': 2.040381874669769e-07,\n",
      "                 'ff [%]': 0.11895134781131363,\n",
      "                 'freq [MHz]': 1276.8977426924,\n",
      "                 'kcc [%]': 0.0}}\n"
     ]
    }
   ],
   "source": [
    "cavs.run_eigenmode()\n",
    "pp.pprint(cavs.eigenmode_qois)"
   ]
  },
  {
   "cell_type": "code",
   "execution_count": 8,
   "id": "8f13b560-a26b-4408-bc12-d6918409e311",
   "metadata": {
    "ExecuteTime": {
     "end_time": "2025-10-22T23:01:41.700494Z",
     "start_time": "2025-10-22T23:01:41.417207Z"
    }
   },
   "outputs": [
    {
     "name": "stderr",
     "output_type": "stream",
     "text": [
      "No artists with labels found to put in legend.  Note that artists whose label start with an underscore are ignored when legend() is called with no argument.\n"
     ]
    },
    {
     "data": {
      "text/plain": [
       "<Axes: xlabel='$z$ [mm]', ylabel='$r$ [mm]'>"
      ]
     },
     "execution_count": 8,
     "metadata": {},
     "output_type": "execute_result"
    },
    {
     "data": {
      "image/png": "[encoded data removed]",
      "text/plain": [
       "<Figure size 1200x600 with 1 Axes>"
      ]
     },
     "metadata": {},
     "output_type": "display_data"
    }
   ],
   "source": [
    "shape_space = {'reentrant': \n",
    "                   {'IC': [53.58, 36.58, 8.08, 9.84, 35, 57.7, 98.27],\n",
    "                    'OC': [53.58, 36.58, 8.08, 9.84, 35, 57.7, 98.27],\n",
    "                    'OC_R': [53.58, 36.58, 8.08, 9.84, 35, 57.7, 98.27]\n",
    "                    }\n",
    "               }\n",
    "\n",
    "# create cavity\n",
    "shape = shape_space['reentrant']\n",
    "reentrant = EllipticalCavity(n_cells, shape['IC'], shape['OC'], shape['OC_R'], beampipe='both')\n",
    "cavs.add_cavity(reentrant, 'reentrant', 'reentrant')\n",
    "cavs.plot('geometry')"
   ]
  },
  {
   "cell_type": "code",
   "execution_count": 9,
   "id": "c4aa695f-efb4-46ec-9390-bec3043086a4",
   "metadata": {
    "ExecuteTime": {
     "end_time": "2025-10-22T23:02:06.104210Z",
     "start_time": "2025-10-22T23:01:58.555031Z"
    }
   },
   "outputs": [
    {
     "name": "stdout",
     "output_type": "stream",
     "text": [
      "{   'TESLA': {   'Bpk [mT]': 8.794429948878526e-05,\n",
      "                 'Bpk/Eacc [mT/MV/m]': 30.643099760552996,\n",
      "                 'Eacc [MV/m]': 2.869954416360853e-06,\n",
      "                 'Epk [MV/m]': 3.384955087245515e-05,\n",
      "                 'Epk/Eacc []': 11.794455925671777,\n",
      "                 'G [Ohm]': 325.7201119975352,\n",
      "                 'GR/Q [Ohm^2]': 0.048078186053719864,\n",
      "                 'Hpk [A/m]': 0.0699838499019711,\n",
      "                 'N Cells': 1,\n",
      "                 'No of Mesh Elements': 804,\n",
      "                 'Normalization Length [mm]': 2,\n",
      "                 'Q []': 35413.90575877659,\n",
      "                 'R/Q [Ohm]': 0.00014760582562394454,\n",
      "                 'Rsh [MOhm]': 5.227298798092783e-06,\n",
      "                 'Vacc [MV]': 5.739908832721706e-09,\n",
      "                 'ff [%]': 0.02526990050080777,\n",
      "                 'freq [MHz]': 1277.1091587955561,\n",
      "                 'kcc [%]': 0.0},\n",
      "    'reentrant': {   'Bpk [mT]': 8.427268020483276e-05,\n",
      "                     'Bpk/Eacc [mT/MV/m]': 0.4851419045060811,\n",
      "                     'Eacc [MV/m]': 0.00017370727909111472,\n",
      "                     'Epk [MV/m]': 4.775460786259444e-05,\n",
      "                     'Epk/Eacc []': 0.2749142587026863,\n",
      "                     'G [Ohm]': 326.6290507313602,\n",
      "                     'GR/Q [Ohm^2]': 177.94424201026806,\n",
      "                     'Hpk [A/m]': 0.06706206811100826,\n",
      "                     'N Cells': 1,\n",
      "                     'No of Mesh Elements': 1216,\n",
      "                     'Normalization Length [mm]': 2,\n",
      "                     'Q []': 35645.429988530166,\n",
      "                     'R/Q [Ohm]': 0.544790004477037,\n",
      "                     'Rsh [MOhm]': 0.019419273963037255,\n",
      "                     'Vacc [MV]': 3.4741455818222943e-07,\n",
      "                     'ff [%]': 0.08663803843041917,\n",
      "                     'freq [MHz]': 1267.6180790981525,\n",
      "                     'kcc [%]': 0.0}}\n"
     ]
    }
   ],
   "source": [
    "cavs.run_eigenmode()\n",
    "pp.pprint(cavs.eigenmode_qois)"
   ]
  },
  {
   "cell_type": "code",
   "execution_count": 10,
   "id": "9b644e63-74df-4c14-85b7-200cc2cf107c",
   "metadata": {
    "ExecuteTime": {
     "end_time": "2025-10-22T23:04:57.394598Z",
     "start_time": "2025-10-22T23:04:56.006425Z"
    }
   },
   "outputs": [
    {
     "data": {
      "text/plain": [
       "{'Epk/Eacc []': <Axes: label='Epk/Eacc []', ylabel='$E_\\\\mathrm{pk}/E_\\\\mathrm{acc} ~[\\\\cdot]$'>,\n",
       " 'Bpk/Eacc [mT/MV/m]': <Axes: label='Bpk/Eacc [mT/MV/m]', ylabel='$B_\\\\mathrm{pk}/E_\\\\mathrm{acc} ~\\\\mathrm{[mT/MV/m]}$'>,\n",
       " 'kcc [%]': <Axes: label='kcc [%]', ylabel='$k_\\\\mathrm{cc}$ [%]'>,\n",
       " 'R/Q [Ohm]': <Axes: label='R/Q [Ohm]', ylabel='$R/Q ~\\\\mathrm{[\\\\Omega]}$'>,\n",
       " 'G [Ohm]': <Axes: label='G [Ohm]', ylabel='$G ~\\\\mathrm{[\\\\Omega]}$'>,\n",
       " 'GR/Q [Ohm^2]': <Axes: label='GR/Q [Ohm^2]', ylabel='$G \\\\cdot R/Q \\\\mathrm{[\\\\Omega^2]}$'>}"
      ]
     },
     "execution_count": 10,
     "metadata": {},
     "output_type": "execute_result"
    },
    {
     "data": {
      "image/png": "[encoded data removed]",
      "text/plain": [
       "<Figure size 1200x400 with 6 Axes>"
      ]
     },
     "metadata": {},
     "output_type": "display_data"
    }
   ],
   "source": [
    "cavs.plot_compare_fm_bar()"
   ]
  },
  {
   "cell_type": "code",
   "execution_count": 14,
   "id": "f2fbb297-b727-4030-81b6-f159dd909157",
   "metadata": {
    "ExecuteTime": {
     "end_time": "2025-10-22T23:06:02.691535Z",
     "start_time": "2025-10-22T23:05:57.327254Z"
    }
   },
   "outputs": [
    {
     "name": "stderr",
     "output_type": "stream",
     "text": [
      "No artists with labels found to put in legend.  Note that artists whose label start with an underscore are ignored when legend() is called with no argument.\n"
     ]
    },
    {
     "name": "stdout",
     "output_type": "stream",
     "text": [
      "result True D:\\Dropbox\\CavityDesignHub\\MuCol_Study\\SimulationData\\ConsoleTest cavities\n",
      "\u001b[32mDONE:: Project D:\\Dropbox\\CavityDesignHub\\MuCol_Study\\SimulationData\\ConsoleTest created already exists. \n",
      "\tSet `overwrite=True` to overwrite.\u001b[0m\n",
      "{   'TESLA': {   'Bpk [mT]': 0.0001829273025779225,\n",
      "                 'Bpk/Eacc [mT/MV/m]': 0.07205064953308696,\n",
      "                 'Eacc [MV/m]': 0.0025388709715089934,\n",
      "                 'Epk [MV/m]': 8.987405526548713e-05,\n",
      "                 'Epk/Eacc []': 0.03539922125781365,\n",
      "                 'G [Ohm]': 301.29011821005,\n",
      "                 'GR/Q [Ohm^2]': 34185.90205350931,\n",
      "                 'Hpk [A/m]': 0.14556892215871586,\n",
      "                 'N Cells': 1,\n",
      "                 'No of Mesh Elements': 78,\n",
      "                 'Normalization Length [mm]': 2,\n",
      "                 'Q []': 32465.92920724422,\n",
      "                 'R/Q [Ohm]': 113.46506236781376,\n",
      "                 'Rsh [MOhm]': 3.6837486823289916,\n",
      "                 'Vacc [MV]': 5.077741943017987e-06,\n",
      "                 'ff [%]': 100.0,\n",
      "                 'freq [MHz]': 1300.1714460787928,\n",
      "                 'kcc [%]': 0.0},\n",
      "    'reentrant': {   'Bpk [mT]': 0.00016902061901348015,\n",
      "                     'Bpk/Eacc [mT/MV/m]': 0.0645846168535013,\n",
      "                     'Eacc [MV/m]': 0.002617041444975563,\n",
      "                     'Epk [MV/m]': 0.0001185656835494554,\n",
      "                     'Epk/Eacc []': 0.04530523724684938,\n",
      "                     'G [Ohm]': 447.59635411661617,\n",
      "                     'GR/Q [Ohm^2]': 53959.85545698631,\n",
      "                     'Hpk [A/m]': 0.13450233500223677,\n",
      "                     'N Cells': 1,\n",
      "                     'No of Mesh Elements': 177,\n",
      "                     'Normalization Length [mm]': 2,\n",
      "                     'Q []': 48230.36627128653,\n",
      "                     'R/Q [Ohm]': 120.5547251685783,\n",
      "                     'Rsh [MOhm]': 5.814398550614817,\n",
      "                     'Vacc [MV]': 5.234082889951126e-06,\n",
      "                     'ff [%]': 100.0,\n",
      "                     'freq [MHz]': 1300.224914470438,\n",
      "                     'kcc [%]': 0.0}}\n"
     ]
    },
    {
     "data": {
      "text/plain": [
       "{'Epk/Eacc []': <Axes: label='Epk/Eacc []', ylabel='$E_\\\\mathrm{pk}/E_\\\\mathrm{acc} ~[\\\\cdot]$'>,\n",
       " 'Bpk/Eacc [mT/MV/m]': <Axes: label='Bpk/Eacc [mT/MV/m]', ylabel='$B_\\\\mathrm{pk}/E_\\\\mathrm{acc} ~\\\\mathrm{[mT/MV/m]}$'>,\n",
       " 'kcc [%]': <Axes: label='kcc [%]', ylabel='$k_\\\\mathrm{cc}$ [%]'>,\n",
       " 'R/Q [Ohm]': <Axes: label='R/Q [Ohm]', ylabel='$R/Q ~\\\\mathrm{[\\\\Omega]}$'>,\n",
       " 'G [Ohm]': <Axes: label='G [Ohm]', ylabel='$G ~\\\\mathrm{[\\\\Omega]}$'>,\n",
       " 'GR/Q [Ohm^2]': <Axes: label='GR/Q [Ohm^2]', ylabel='$G \\\\cdot R/Q \\\\mathrm{[\\\\Omega^2]}$'>}"
      ]
     },
     "execution_count": 14,
     "metadata": {},
     "output_type": "execute_result"
    },
    {
     "data": {
      "image/png": "[encoded data removed]",
      "text/plain": [
       "<Figure size 1200x600 with 1 Axes>"
      ]
     },
     "metadata": {},
     "output_type": "display_data"
    },
    {
     "data": {
      "image/png": "[encoded data removed]",
      "text/plain": [
       "<Figure size 1200x400 with 6 Axes>"
      ]
     },
     "metadata": {},
     "output_type": "display_data"
    }
   ],
   "source": [
    "\n",
    "cavs = Cavities(folder='D:\\Dropbox\\CavityDesignHub\\MuCol_Study\\SimulationData\\ConsoleTest')\n",
    "\n",
    "midcell = [42, 42, 12, 19, 35, 57.7, 103.353]\n",
    "tesla_mid_cell = EllipticalCavity(1, midcell, midcell, midcell, beampipe='none')\n",
    "\n",
    "shape_space = {'reentrant': \n",
    "                   {'IC': [53.58, 36.58, 8.08, 9.84, 35, 57.7, 98.27],\n",
    "                    'OC': [53.58, 36.58, 8.08, 9.84, 35, 57.7, 98.27],\n",
    "                    'OC_R': [53.58, 36.58, 8.08, 9.84, 35, 57.7, 98.27]\n",
    "                    }\n",
    "               }\n",
    "\n",
    "# create cavity\n",
    "shape = shape_space['reentrant']\n",
    "reentrant_mid_cell = EllipticalCavity(1, shape['IC'], shape['IC'], shape['IC'], beampipe='none')\n",
    "\n",
    "cavs.add_cavity([tesla_mid_cell, reentrant_mid_cell], \n",
    "                names=['TESLA', 'reentrant'], \n",
    "                plot_labels=['TESLA', 'reentrant'])\n",
    "\n",
    "ax = cavs.plot('geometry')\n",
    "\n",
    "cavs.run_eigenmode()\n",
    "pp.pprint(cavs.eigenmode_qois)\n",
    "\n",
    "cavs.plot_compare_fm_bar()"
   ]
  },
  {
   "cell_type": "code",
   "execution_count": 15,
   "id": "9ee86efe-a735-4495-be65-593ee434b2c0",
   "metadata": {
    "ExecuteTime": {
     "end_time": "2025-10-22T23:06:09.902589Z",
     "start_time": "2025-10-22T23:06:09.817723Z"
    },
    "scrolled": false
   },
   "outputs": [
    {
     "data": {
      "application/vnd.jupyter.widget-view+json": {
       "model_id": "53ba539e960845f9bd0337219a6febb3",
       "version_major": 2,
       "version_minor": 0
      },
      "text/plain": [
       "WebGuiWidget(layout=Layout(height='50vh', width='100%'), value={'gui_settings': {}, 'ngsolve_version': '6.2.25…"
      ]
     },
     "metadata": {},
     "output_type": "display_data"
    },
    {
     "data": {
      "application/vnd.jupyter.widget-view+json": {
       "model_id": "f2902af7f9ee4bb6b49144a3ec1d3af0",
       "version_major": 2,
       "version_minor": 0
      },
      "text/plain": [
       "WebGuiWidget(layout=Layout(height='50vh', width='100%'), value={'gui_settings': {'Objects': {'Wireframe': Fals…"
      ]
     },
     "metadata": {},
     "output_type": "display_data"
    },
    {
     "data": {
      "application/vnd.jupyter.widget-view+json": {
       "model_id": "b806e48426754f83902a4eaeacfe1536",
       "version_major": 2,
       "version_minor": 0
      },
      "text/plain": [
       "WebGuiWidget(layout=Layout(height='50vh', width='100%'), value={'gui_settings': {'Objects': {'Wireframe': Fals…"
      ]
     },
     "metadata": {},
     "output_type": "display_data"
    }
   ],
   "source": [
    "cavs[0].plot_mesh()\n",
    "cavs['reentrant'].plot_fields(mode=1, which='E')\n",
    "cavs['TESLA'].plot_fields(mode=1, which='H')"
   ]
  },
  {
   "cell_type": "code",
   "execution_count": 30,
   "id": "5d844157-4d7b-4438-9962-3f6f2906e2fc",
   "metadata": {
    "ExecuteTime": {
     "end_time": "2025-10-22T23:12:26.924312Z",
     "start_time": "2025-10-22T23:12:16.491996Z"
    }
   },
   "outputs": [
    {
     "name": "stdout",
     "output_type": "stream",
     "text": [
      "result True D:\\Dropbox\\CavityDesignHub\\MuCol_Study\\SimulationData\\ConsoleTest cavities\n",
      "\u001b[32mDONE:: Project D:\\Dropbox\\CavityDesignHub\\MuCol_Study\\SimulationData\\ConsoleTest created already exists. \n",
      "\tSet `overwrite=True` to overwrite.\u001b[0m\n",
      "\u001b[34mINFO:: \"cell_types\" not entered, defaulting to ['mid_cell']\u001b[0m\n",
      "{   'TESLA': {   'FREQ': 1300.0000000006596,\n",
      "                 'TUNED VARIABLE': 'Req_m',\n",
      "                 'parameters': {   'A_el': 42.0,\n",
      "                                   'A_er': 42.0,\n",
      "                                   'A_m': 42.0,\n",
      "                                   'B_el': 42.0,\n",
      "                                   'B_er': 42.0,\n",
      "                                   'B_m': 42.0,\n",
      "                                   'L_el': 57.7,\n",
      "                                   'L_er': 57.7,\n",
      "                                   'L_m': 57.7,\n",
      "                                   'Req_el': 100.0,\n",
      "                                   'Req_er': 100.0,\n",
      "                                   'Req_m': 103.3650712454859,\n",
      "                                   'Ri_el': 35.0,\n",
      "                                   'Ri_er': 35.0,\n",
      "                                   'Ri_m': 35.0,\n",
      "                                   'a_el': 12.0,\n",
      "                                   'a_er': 12.0,\n",
      "                                   'a_m': 12.0,\n",
      "                                   'b_el': 19.0,\n",
      "                                   'b_er': 19.0,\n",
      "                                   'b_m': 19.0}}}\n"
     ]
    }
   ],
   "source": [
    "cavs = Cavities(folder='D:\\Dropbox\\CavityDesignHub\\MuCol_Study\\SimulationData\\ConsoleTest')\n",
    "\n",
    "midcell = [42, 42, 12, 19, 35, 57.7, 100]\n",
    "tesla_mid_cell = EllipticalCavity(1, midcell, midcell, midcell, beampipe='none')\n",
    "\n",
    "cavs.add_cavity(tesla_mid_cell, 'TESLA')\n",
    "# print(tesla_mid_cell.parameters) # uncomment to see valid tune parameters\n",
    "tune_config = {\n",
    "    'freqs': 1300,\n",
    "    'parameters': 'Req_m',\n",
    "    'cell_types': 'mid-cell',\n",
    "    'rerun': True\n",
    "}\n",
    "cavs.run_tune(tune_config)\n",
    "pp.pprint(cavs.tune_results)"
   ]
  },
  {
   "cell_type": "code",
   "execution_count": 29,
   "id": "351ec73c-d9fc-464e-9152-9745bb6e1526",
   "metadata": {
    "ExecuteTime": {
     "end_time": "2025-10-22T23:12:14.139936Z",
     "start_time": "2025-10-22T23:12:04.019782Z"
    }
   },
   "outputs": [
    {
     "name": "stdout",
     "output_type": "stream",
     "text": [
      "result True D:\\Dropbox\\CavityDesignHub\\MuCol_Study\\SimulationData\\ConsoleTest cavities\n",
      "\u001b[32mDONE:: Project D:\\Dropbox\\CavityDesignHub\\MuCol_Study\\SimulationData\\ConsoleTest created already exists. \n",
      "\tSet `overwrite=True` to overwrite.\u001b[0m\n",
      "{   'TESLA': {   'FREQ': 1299.9999999781119,\n",
      "                 'TUNED VARIABLE': 'A_m',\n",
      "                 'parameters': {   'A_el': 20.0,\n",
      "                                   'A_er': 20.0,\n",
      "                                   'A_m': 42.02710819422113,\n",
      "                                   'B_el': 42.0,\n",
      "                                   'B_er': 42.0,\n",
      "                                   'B_m': 42.0,\n",
      "                                   'L_el': 57.7,\n",
      "                                   'L_er': 57.7,\n",
      "                                   'L_m': 57.7,\n",
      "                                   'Req_el': 103.353,\n",
      "                                   'Req_er': 103.353,\n",
      "                                   'Req_m': 103.353,\n",
      "                                   'Ri_el': 35.0,\n",
      "                                   'Ri_er': 35.0,\n",
      "                                   'Ri_m': 35.0,\n",
      "                                   'a_el': 12.0,\n",
      "                                   'a_er': 12.0,\n",
      "                                   'a_m': 12.0,\n",
      "                                   'b_el': 19.0,\n",
      "                                   'b_er': 19.0,\n",
      "                                   'b_m': 19.0}}}\n"
     ]
    }
   ],
   "source": [
    "cavs = Cavities(folder='D:\\Dropbox\\CavityDesignHub\\MuCol_Study\\SimulationData\\ConsoleTest')\n",
    "\n",
    "midcell = [20, 42, 12, 19, 35, 57.7, 103.353]\n",
    "tesla_mid_cell = EllipticalCavity(1, midcell, midcell, midcell, beampipe='none')\n",
    "\n",
    "cavs.add_cavity(tesla_mid_cell, 'TESLA')\n",
    "tune_config = {\n",
    "    'freqs': 1300,\n",
    "    'parameters': 'A_m',\n",
    "    'cell_types': 'mid-cell',\n",
    "    'processes': 1,\n",
    "    'rerun': True\n",
    "}\n",
    "cavs.run_tune(tune_config)\n",
    "pp.pprint(cavs.tune_results)"
   ]
  },
  {
   "cell_type": "code",
   "execution_count": 31,
   "id": "2cc3c414-cc33-4b70-aada-3c6d12ab96f5",
   "metadata": {
    "ExecuteTime": {
     "end_time": "2025-10-22T23:12:51.773116Z",
     "start_time": "2025-10-22T23:12:47.745259Z"
    }
   },
   "outputs": [
    {
     "name": "stdout",
     "output_type": "stream",
     "text": [
      "result True D:\\Dropbox\\CavityDesignHub\\MuCol_Study\\SimulationData\\ConsoleTest cavities\n",
      "\u001b[32mDONE:: Project D:\\Dropbox\\CavityDesignHub\\MuCol_Study\\SimulationData\\ConsoleTest created already exists. \n",
      "\tSet `overwrite=True` to overwrite.\u001b[0m\n",
      "\u001b[31mERROR:: Hey chief, there seems to be a problem with the ABCI file directory. Please check:: list index out of range\u001b[0m\n",
      "\u001b[31mERROR:: Hey chief, there seems to be a problem with the ABCI file directory. Please check:: list index out of range\u001b[0m\n"
     ]
    }
   ],
   "source": [
    "import sys\n",
    "sys.path.append(\"..\")\n",
    "from cavsim2d.cavity import Cavity, Cavities\n",
    "import pprint\n",
    "pp = pprint.PrettyPrinter(indent=4)\n",
    "\n",
    "cavs = Cavities(folder='D:\\Dropbox\\CavityDesignHub\\MuCol_Study\\SimulationData\\ConsoleTest')\n",
    "\n",
    "# define geometry parameters\n",
    "n_cells = 9\n",
    "midcell = [42, 42, 12, 19, 35, 57.7, 103.353]  # <- A, B, a, b, Ri, L, Req\n",
    "endcell_l = [40.34, 40.34, 10, 13.5, 39, 55.716, 103.353]\n",
    "endcell_r = [42, 42, 9, 12.8, 39, 56.815, 103.353]\n",
    "\n",
    "# create cavity\n",
    "tesla = EllipticalCavity(n_cells, midcell, endcell_l,endcell_r, beampipe='none')\n",
    "cavs.add_cavity([tesla], names=['TESLA'], plot_labels=['TESLA'])\n",
    "\n",
    "cavs.run_wakefield()"
   ]
  },
  {
   "cell_type": "code",
   "execution_count": 32,
   "id": "f77f6c14-0a50-4fd7-821c-acfbfbc2310a",
   "metadata": {
    "ExecuteTime": {
     "end_time": "2025-10-22T23:12:58.831724Z",
     "start_time": "2025-10-22T23:12:58.537527Z"
    }
   },
   "outputs": [
    {
     "ename": "KeyError",
     "evalue": "'Longitudinal Impedance Magnitude'",
     "output_type": "error",
     "traceback": [
      "\u001b[31m---------------------------------------------------------------------------\u001b[39m",
      "\u001b[31mKeyError\u001b[39m                                  Traceback (most recent call last)",
      "\u001b[36mCell\u001b[39m\u001b[36m \u001b[39m\u001b[32mIn[32]\u001b[39m\u001b[32m, line 1\u001b[39m\n\u001b[32m----> \u001b[39m\u001b[32m1\u001b[39m ax = \u001b[43mcavs\u001b[49m\u001b[43m.\u001b[49m\u001b[43mplot\u001b[49m\u001b[43m(\u001b[49m\u001b[33;43m'\u001b[39;49m\u001b[33;43mZL\u001b[39;49m\u001b[33;43m'\u001b[39;49m\u001b[43m)\u001b[49m\n\u001b[32m      2\u001b[39m ax = cavs.plot(\u001b[33m'\u001b[39m\u001b[33mZT\u001b[39m\u001b[33m'\u001b[39m, ax)\n\u001b[32m      3\u001b[39m ax.set_yscale(\u001b[33m'\u001b[39m\u001b[33mlog\u001b[39m\u001b[33m'\u001b[39m)\n",
      "\u001b[36mFile \u001b[39m\u001b[32mD:\\Dropbox\\cavsim2d\\notebooks\\..\\cavsim2d\\cavity.py:854\u001b[39m, in \u001b[36mCavities.plot\u001b[39m\u001b[34m(self, what, ax, scale_x, **kwargs)\u001b[39m\n\u001b[32m    852\u001b[39m         fig, ax = plt.subplots(figsize=(\u001b[32m12\u001b[39m, \u001b[32m4\u001b[39m))\n\u001b[32m    853\u001b[39m         ax.margins(x=\u001b[32m0\u001b[39m)\n\u001b[32m--> \u001b[39m\u001b[32m854\u001b[39m         ax = \u001b[43mcav\u001b[49m\u001b[43m.\u001b[49m\u001b[43mplot\u001b[49m\u001b[43m(\u001b[49m\u001b[33;43m'\u001b[39;49m\u001b[33;43mzl\u001b[39;49m\u001b[33;43m'\u001b[39;49m\u001b[43m,\u001b[49m\u001b[43m \u001b[49m\u001b[43max\u001b[49m\u001b[43m,\u001b[49m\u001b[43m \u001b[49m\u001b[43mscale_x\u001b[49m\u001b[43m=\u001b[49m\u001b[43mscale_x\u001b[49m\u001b[43m[\u001b[49m\u001b[43mii\u001b[49m\u001b[43m]\u001b[49m\u001b[43m,\u001b[49m\u001b[43m \u001b[49m\u001b[43m*\u001b[49m\u001b[43m*\u001b[49m\u001b[43mkwargs\u001b[49m\u001b[43m)\u001b[49m\n\u001b[32m    856\u001b[39m \u001b[38;5;28;01mif\u001b[39;00m what.lower() == \u001b[33m'\u001b[39m\u001b[33mzt\u001b[39m\u001b[33m'\u001b[39m:\n\u001b[32m    857\u001b[39m     \u001b[38;5;28;01mif\u001b[39;00m scale_x \u001b[38;5;129;01mis\u001b[39;00m \u001b[38;5;28;01mNone\u001b[39;00m:\n",
      "\u001b[36mFile \u001b[39m\u001b[32mD:\\Dropbox\\cavsim2d\\notebooks\\..\\cavsim2d\\cavity.py:4694\u001b[39m, in \u001b[36mCavity.plot\u001b[39m\u001b[34m(self, what, ax, scale_x, **kwargs)\u001b[39m\n\u001b[32m   4692\u001b[39m     \u001b[38;5;28;01mif\u001b[39;00m \u001b[33m'\u001b[39m\u001b[33mc\u001b[39m\u001b[33m'\u001b[39m \u001b[38;5;129;01mnot\u001b[39;00m \u001b[38;5;129;01min\u001b[39;00m kwargs.keys():\n\u001b[32m   4693\u001b[39m         kwargs[\u001b[33m'\u001b[39m\u001b[33mc\u001b[39m\u001b[33m'\u001b[39m] = \u001b[38;5;28mself\u001b[39m.color\n\u001b[32m-> \u001b[39m\u001b[32m4694\u001b[39m     x, y, _ = \u001b[38;5;28;43mself\u001b[39;49m\u001b[43m.\u001b[49m\u001b[43mabci_data\u001b[49m\u001b[43m[\u001b[49m\u001b[33;43m'\u001b[39;49m\u001b[33;43mLong\u001b[39;49m\u001b[33;43m'\u001b[39;49m\u001b[43m]\u001b[49m\u001b[43m.\u001b[49m\u001b[43mget_data\u001b[49m\u001b[43m(\u001b[49m\u001b[33;43m'\u001b[39;49m\u001b[33;43mLongitudinal Impedance Magnitude\u001b[39;49m\u001b[33;43m'\u001b[39;49m\u001b[43m)\u001b[49m\n\u001b[32m   4695\u001b[39m     ax.plot(x * scale_x * \u001b[32m1e3\u001b[39m, y, label=\u001b[33mfr\u001b[39m\u001b[33m'\u001b[39m\u001b[38;5;132;01m{\u001b[39;00m\u001b[38;5;28mself\u001b[39m.name\u001b[38;5;132;01m}\u001b[39;00m\u001b[33m (Wake. Long.)\u001b[39m\u001b[33m'\u001b[39m, **kwargs)\n\u001b[32m   4696\u001b[39m \u001b[38;5;28;01melse\u001b[39;00m:\n",
      "\u001b[36mFile \u001b[39m\u001b[32mD:\\Dropbox\\cavsim2d\\notebooks\\..\\cavsim2d\\data_module\\abci_data.py:192\u001b[39m, in \u001b[36mABCIData.get_data\u001b[39m\u001b[34m(self, key)\u001b[39m\n\u001b[32m    189\u001b[39m \u001b[38;5;28;01mif\u001b[39;00m \u001b[38;5;28misinstance\u001b[39m(key, \u001b[38;5;28mint\u001b[39m):\n\u001b[32m    190\u001b[39m     key = plot_decorations[key]\n\u001b[32m--> \u001b[39m\u001b[32m192\u001b[39m \u001b[38;5;28mself\u001b[39m.x = \u001b[38;5;28;43mself\u001b[39;49m\u001b[43m.\u001b[49m\u001b[43mdata_dict\u001b[49m\u001b[43m[\u001b[49m\u001b[43mkey\u001b[49m\u001b[43m]\u001b[49m[\u001b[32m0\u001b[39m]\n\u001b[32m    193\u001b[39m \u001b[38;5;28mself\u001b[39m.y = \u001b[38;5;28mself\u001b[39m.data_dict[key][\u001b[32m1\u001b[39m]\n\u001b[32m    195\u001b[39m \u001b[38;5;66;03m# Process all needed data\u001b[39;00m\n",
      "\u001b[31mKeyError\u001b[39m: 'Longitudinal Impedance Magnitude'"
     ]
    },
    {
     "data": {
      "image/png": "[encoded data removed]",
      "text/plain": [
       "<Figure size 1200x400 with 1 Axes>"
      ]
     },
     "metadata": {},
     "output_type": "display_data"
    }
   ],
   "source": [
    "ax = cavs.plot('ZL')\n",
    "ax = cavs.plot('ZT', ax)\n",
    "ax.set_yscale('log')"
   ]
  },
  {
   "cell_type": "code",
   "execution_count": null,
   "id": "bcf7e595-5b12-46a8-bbe9-3b9aa2f1869e",
   "metadata": {
    "ExecuteTime": {
     "end_time": "2025-10-22T23:01:22.654479Z",
     "start_time": "2025-10-22T23:01:22.653481Z"
    }
   },
   "outputs": [],
   "source": [
    "op_points = {\n",
    "            \"Z\": {\n",
    "                \"freq [MHz]\": 400.79,  # Operating frequency\n",
    "                \"E [GeV]\": 45.6,  # <- Beam energy\n",
    "                \"I0 [mA]\": 1280,  # <- Beam current\n",
    "                \"V [GV]\": 0.12,  # <- Total voltage\n",
    "                \"Eacc [MV/m]\": 5.72,  # <- Accelerating field\n",
    "                \"nu_s []\": 0.0370,  # <- Synchrotron oscillation tune\n",
    "                \"alpha_p [1e-5]\": 2.85,  # <- Momentum compaction factor\n",
    "                \"tau_z [ms]\": 354.91,  # <- Longitudinal damping time\n",
    "                \"tau_xy [ms]\": 709.82,  # <- Transverse damping time\n",
    "                \"f_rev [kHz]\": 3.07,  # <- Revolution frequency\n",
    "                \"beta_xy [m]\": 56,  # <- Beta function\n",
    "                \"N_c []\": 56,  # <- Number of cavities\n",
    "                \"T [K]\": 4.5,  # <- Operating tempereature\n",
    "                \"sigma_SR [mm]\": 4.32,  # <- Bunch length\n",
    "                \"sigma_BS [mm]\": 15.2,  # <- Bunch length\n",
    "                \"Nb [1e11]\": 2.76  # <- Bunch population\n",
    "            }\n",
    "}\n",
    "wakefield_config = {\n",
    "    'beam_config': {\n",
    "        'bunch_length': 25\n",
    "    },\n",
    "    'wake_config': {\n",
    "        'wakelength': 50\n",
    "    },\n",
    "    'processes': 2,\n",
    "    'rerun': True,\n",
    "    'operating_points': op_points,\n",
    "}\n",
    "cavs.run_wakefield(wakefield_config)\n",
    "pp.pprint(cavs.wakefield_qois)"
   ]
  },
  {
   "cell_type": "code",
   "execution_count": null,
   "id": "dc7e10dd-ca0a-45d8-84ad-25983eb854f5",
   "metadata": {
    "ExecuteTime": {
     "end_time": "2025-10-22T23:01:22.656476Z",
     "start_time": "2025-10-22T23:01:22.656476Z"
    }
   },
   "outputs": [],
   "source": [
    "cavs.plot_compare_hom_bar('Z_SR_4.32mm')"
   ]
  },
  {
   "cell_type": "code",
   "execution_count": null,
   "id": "a079dafd-4853-4334-af4f-efc56576bc00",
   "metadata": {},
   "outputs": [],
   "source": []
  },
  {
   "cell_type": "code",
   "execution_count": null,
   "id": "4a706291-4c09-4ee0-af87-d5de261dc589",
   "metadata": {
    "ExecuteTime": {
     "end_time": "2025-10-22T23:01:22.659471Z",
     "start_time": "2025-10-22T23:01:22.659471Z"
    }
   },
   "outputs": [],
   "source": [
    "optimisation_config = {\n",
    "    'tune_config': {\n",
    "        'freqs': 1300,\n",
    "        'parameters': 'Req',\n",
    "        'cell_types': 'mid-cell',\n",
    "        'processes': 1\n",
    "    },\n",
    "    'bounds': {'A': [20.0, 80.0],\n",
    "               'B': [20.0, 80.0],\n",
    "               'a': [10.0, 60.0],\n",
    "               'b': [10., 60.0],\n",
    "               'Ri': [60.0, 85.0],\n",
    "               'L': [93.5, 93.5],\n",
    "               'Req': [170.0, 170.0]},\n",
    "    'objectives': [\n",
    "        # ['equal', 'freq [MHz]', 801.58],\n",
    "                      ['min', 'Epk/Eacc []'],\n",
    "                      ['min', 'Bpk/Eacc [mT/MV/m]'],\n",
    "                      # ['min', 'ZL', [1, 2, 5]],\n",
    "                  ],\n",
    "    'initial_points': 5,\n",
    "    'method': {\n",
    "        'LHS': {'seed': 5},\n",
    "        },\n",
    "    'no_of_generation': 2,\n",
    "    'crossover_factor': 5,\n",
    "    'elites_for_crossover': 2,\n",
    "    'mutation_factor': 5,\n",
    "    'chaos_factor': 5\n",
    "}"
   ]
  },
  {
   "cell_type": "code",
   "execution_count": null,
   "id": "a86b34b1-066e-41a3-8e29-956ffe392413",
   "metadata": {
    "ExecuteTime": {
     "end_time": "2025-10-22T23:01:22.662466Z",
     "start_time": "2025-10-22T23:01:22.661468Z"
    }
   },
   "outputs": [],
   "source": [
    "cavs = Cavities('D:\\Dropbox\\CavityDesignHub\\MuCol_Study\\SimulationData\\ConsoleTest')\n",
    "\n",
    "cavs.run_optimisation(optimisation_config)"
   ]
  },
  {
   "cell_type": "code",
   "execution_count": null,
   "id": "20b84af5-b0be-4236-b59a-f6ca2d53e050",
   "metadata": {
    "ExecuteTime": {
     "end_time": "2025-10-22T23:01:22.664462Z",
     "start_time": "2025-10-22T23:01:22.664462Z"
    }
   },
   "outputs": [],
   "source": [
    "cavs = Cavities()\n",
    "cavs.save(project_folder='D:\\Dropbox\\CavityDesignHub\\MuCol_Study\\SimulationData\\ConsoleTest')\n",
    "\n",
    "midcell = [42, 42, 12, 19, 35, 57.7, 103.353]\n",
    "tesla_mid_cell = EllipticalCavity(1, midcell, midcell, midcell, beampipe='none')\n",
    "\n",
    "shape_space = {'reentrant': \n",
    "                   {'IC': [53.58, 36.58, 8.08, 9.84, 35, 57.7, 110],\n",
    "                    'OC': [53.58, 36.58, 8.08, 9.84, 35, 57.7, 110],\n",
    "                    'OC_R': [53.58, 36.58, 8.08, 9.84, 35, 57.7, 110]\n",
    "                    }\n",
    "               }\n",
    "\n",
    "# create cavity\n",
    "shape = shape_space['reentrant']\n",
    "reentrant_mid_cell = EllipticalCavity(1, shape['IC'], shape['IC'], shape['IC'], beampipe='none')\n",
    "\n",
    "cavs.add_cavity([tesla_mid_cell, reentrant_mid_cell], \n",
    "                names=['TESLA', 'reentrant'], \n",
    "                plot_labels=['TESLA', 'reentrant'])\n",
    "\n",
    "uq_config = {\n",
    "    'option': True,\n",
    "    'variables': ['L', 'Req'],\n",
    "    'objectives': [\"freq [MHz]\", \"R/Q [Ohm]\", \"Epk/Eacc []\", \"Bpk/Eacc [mT/MV/m]\", \"G [Ohm]\", \"kcc [%]\", \"ff [%]\"],\n",
    "    'delta': [0.05, 0.05],\n",
    "    'method': ['Quadrature', 'Stroud3'],\n",
    "    'cell type': 'mid-cell',\n",
    "    'cell complexity': 'simplecell'\n",
    "}\n",
    "eigenmode_config = {\n",
    "    'processes': 3,\n",
    "    'rerun': True,\n",
    "    'boundary_conditions': 'mm',\n",
    "    'uq_config': uq_config\n",
    "}\n",
    "\n",
    "cavs.run_eigenmode(eigenmode_config)\n",
    "pp.pprint(cavs.eigenmode_qois)\n"
   ]
  },
  {
   "cell_type": "code",
   "execution_count": null,
   "id": "513b6297-d334-4478-98fe-d558f4e1b880",
   "metadata": {
    "ExecuteTime": {
     "end_time": "2025-10-22T23:01:22.666459Z",
     "start_time": "2025-10-22T23:01:22.666459Z"
    }
   },
   "outputs": [],
   "source": [
    "cavs.plot_compare_fm_bar(uq=True)"
   ]
  },
  {
   "cell_type": "code",
   "execution_count": null,
   "id": "459b84b4-3a74-4c48-805a-c26e7a5d1b16",
   "metadata": {
    "ExecuteTime": {
     "end_time": "2025-10-22T23:01:22.669455Z",
     "start_time": "2025-10-22T23:01:22.669455Z"
    }
   },
   "outputs": [],
   "source": [
    "cavs.plot_compare_fm_scatter(uq=True)"
   ]
  },
  {
   "cell_type": "code",
   "execution_count": null,
   "id": "9ad81178-9f2e-4967-b54e-32bae5717dab",
   "metadata": {
    "ExecuteTime": {
     "end_time": "2025-10-22T23:01:22.670453Z",
     "start_time": "2025-10-22T23:01:22.670453Z"
    }
   },
   "outputs": [],
   "source": [
    "cavs[0].set_color('b')\n",
    "cavs[1].set_color('r')\n",
    "cavs.plot_compare_eigenmode(uq=True, kind='scatter')"
   ]
  },
  {
   "cell_type": "code",
   "execution_count": null,
   "id": "bed984f8-52ac-4716-a4bb-6cb0568310da",
   "metadata": {},
   "outputs": [],
   "source": []
  },
  {
   "cell_type": "code",
   "execution_count": null,
   "id": "dd8e2fa5-2ae7-4f3c-9894-750c6c9e846b",
   "metadata": {},
   "outputs": [],
   "source": []
  }
 ],
 "metadata": {
  "kernelspec": {
   "display_name": "Python 3 (ipykernel)",
   "language": "python",
   "name": "python3"
  },
  "language_info": {
   "codemirror_mode": {
    "name": "ipython",
    "version": 3
   },
   "file_extension": ".py",
   "mimetype": "text/x-python",
   "name": "python",
   "nbconvert_exporter": "python",
   "pygments_lexer": "ipython3",
   "version": "3.11.11"
  },
  "toc": {
   "base_numbering": 1,
   "nav_menu": {},
   "number_sections": true,
   "sideBar": true,
   "skip_h1_title": false,
   "title_cell": "Table of Contents",
   "title_sidebar": "Contents",
   "toc_cell": false,
   "toc_position": {},
   "toc_section_display": true,
   "toc_window_display": false
  },
  "varInspector": {
   "cols": {
    "lenName": 16,
    "lenType": 16,
    "lenVar": 40
   },
   "kernels_config": {
    "python": {
     "delete_cmd_postfix": "",
     "delete_cmd_prefix": "del ",
     "library": "var_list.py",
     "varRefreshCmd": "print(var_dic_list())"
    },
    "r": {
     "delete_cmd_postfix": ") ",
     "delete_cmd_prefix": "rm(",
     "library": "var_list.r",
     "varRefreshCmd": "cat(var_dic_list()) "
    }
   },
   "types_to_exclude": [
    "module",
    "function",
    "builtin_function_or_method",
    "instance",
    "_Feature"
   ],
   "window_display": false
  },
  "widgets": {
   "application/vnd.jupyter.widget-state+json": {
    "state": {},
    "version_major": 2,
    "version_minor": 0
   }
  }
 },
 "nbformat": 4,
 "nbformat_minor": 5
}
