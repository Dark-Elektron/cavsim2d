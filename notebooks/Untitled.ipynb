{
 "cells": [
  {
   "cell_type": "code",
   "execution_count": 1,
   "id": "beb52739-e31c-4244-b002-dc1fccb981ad",
   "metadata": {},
   "outputs": [],
   "source": [
    "import sys\n",
    "sys.path.append(\"..\")\n",
    "import numpy as np\n",
    "import json\n",
    "import matplotlib\n",
    "import matplotlib.pyplot as plt\n",
    "plt.ion()\n",
    "%matplotlib inline\n",
    "from cavsim2d.cavity import Cavity, Cavities, OperationPoints\n",
    "import pprint\n",
    "pp = pprint.PrettyPrinter(indent=4)"
   ]
  },
  {
   "cell_type": "code",
   "execution_count": 2,
   "id": "3d907bd8-988c-458c-b0b8-5a786af5c1bc",
   "metadata": {
    "scrolled": true
   },
   "outputs": [
    {
     "name": "stdout",
     "output_type": "stream",
     "text": [
      "{   'C3795_1300MHz': {   'BP': 'both',\n",
      "                         'FREQ': 1300,\n",
      "                         'IC': [   38.36,\n",
      "                                   40.78,\n",
      "                                   18.63,\n",
      "                                   14.25,\n",
      "                                   44.4,\n",
      "                                   57.6521,\n",
      "                                   105.56,\n",
      "                                   113.76249257990644],\n",
      "                         'OC': [   38.59,\n",
      "                                   35.48,\n",
      "                                   10.61,\n",
      "                                   7.4,\n",
      "                                   49.33,\n",
      "                                   57.83,\n",
      "                                   105.56,\n",
      "                                   107.9],\n",
      "                         'OC_R': [   38.59,\n",
      "                                     35.48,\n",
      "                                     10.61,\n",
      "                                     7.4,\n",
      "                                     49.33,\n",
      "                                     57.83,\n",
      "                                     105.56,\n",
      "                                     107.9]},\n",
      "    'ERL_MA': {   'BP': 'both',\n",
      "                  'EXPANSION': [36, 36, 6, 6, 42.0, 55, 0],\n",
      "                  'FREQ': 1300,\n",
      "                  'IC': [43.99, 35.06, 12.53, 20.95, 35, 57.6524, 101.205, 0],\n",
      "                  'OC': [50.9, 45.3, 8.4, 11.5, 39, 59.988, 101.205, 0],\n",
      "                  'OC_R': [52.1, 47.9, 9.9, 11.3, 37, 62.665, 101.205, 0]},\n",
      "    'ICHIRO': {   'BP': 'both',\n",
      "                  'FREQ': 1300,\n",
      "                  'IC': [50.052, 34.222, 7.6, 9.945, 30, 57.7, 98.14, 0],\n",
      "                  'OC': [50.052, 34.222, 7.6, 9.945, 30, 57.7, 98.14, 0],\n",
      "                  'OC_R': [50.052, 34.222, 7.6, 9.945, 30, 57.7, 98.14, 0]},\n",
      "    'ILC-LL': {   'BP': 'both',\n",
      "                  'FREQ': 1300,\n",
      "                  'IC': [50.052, 36.5, 7.6, 10, 30, 57.7, 98.58, 0],\n",
      "                  'OC': [50.052, 36.5, 7.6, 10, 30, 57.7, 98.58, 0],\n",
      "                  'OC_R': [50.052, 36.5, 7.6, 10, 30, 57.7, 98.58, 0]},\n",
      "    'NLSF': {   'BP': 'both',\n",
      "                'FREQ': 1300,\n",
      "                'IC': [47.152, 31.35, 10.5, 15.5, 32, 57.7, 98.58, 0],\n",
      "                'OC': [48.152, 30.5, 9.5, 12.5, 38, 57.6988, 98.58, 0],\n",
      "                'OC_R': [48.152, 30.5, 9.5, 12.5, 38, 57.6988, 98.58, 0]},\n",
      "    'NLSF-A': {   'BP': 'both',\n",
      "                  'FREQ': 1300,\n",
      "                  'IC': [47.652, 32.91, 10.0, 15.5, 31, 57.7, 98.58, 0],\n",
      "                  'OC': [47.652, 32.91, 10.0, 15.5, 31, 57.7, 98.58, 0],\n",
      "                  'OC_R': [47.652, 32.91, 10.0, 15.5, 31, 57.7, 98.58, 0]},\n",
      "    'NLSF-RE': {   'BP': 'both',\n",
      "                   'FREQ': 1300,\n",
      "                   'IC': [49, 35.3, 10.5, 17, 32, 57.6524, 98.58, 0],\n",
      "                   'OC': [50, 35.0, 10.0, 15, 32, 57.6524, 98.58, 0],\n",
      "                   'OC_R': [50, 35.0, 10.0, 15, 32, 57.6524, 98.58, 0]},\n",
      "    'NLSF_0.8GHz': {   'BP': 'both',\n",
      "                       'FREQ': 1300,\n",
      "                       'IC': [   76.471,\n",
      "                                 50.84,\n",
      "                                 17.029,\n",
      "                                 25.138,\n",
      "                                 51.898,\n",
      "                                 93.5,\n",
      "                                 159.87675,\n",
      "                                 0.0],\n",
      "                       'OC': [   78.09,\n",
      "                                 49.465,\n",
      "                                 15.41,\n",
      "                                 20.27,\n",
      "                                 61.63,\n",
      "                                 93.58,\n",
      "                                 159.877,\n",
      "                                 0.0],\n",
      "                       'OC_R': [   78.09,\n",
      "                                   49.465,\n",
      "                                   15.41,\n",
      "                                   20.27,\n",
      "                                   61.63,\n",
      "                                   93.58,\n",
      "                                   159.877,\n",
      "                                   0.0]},\n",
      "    'NLSF_1.0GHz': {   'BP': 'both',\n",
      "                       'FREQ': 1000,\n",
      "                       'IC': [   61.2976,\n",
      "                                 40.755,\n",
      "                                 13.65,\n",
      "                                 20.15,\n",
      "                                 41.6,\n",
      "                                 75.01,\n",
      "                                 128.154,\n",
      "                                 0.0],\n",
      "                       'OC': [   62.6,\n",
      "                                 39.65,\n",
      "                                 12.35,\n",
      "                                 16.25,\n",
      "                                 49.4,\n",
      "                                 75.0,\n",
      "                                 128.154,\n",
      "                                 0.0],\n",
      "                       'OC_R': [   62.6,\n",
      "                                   39.65,\n",
      "                                   12.35,\n",
      "                                   16.25,\n",
      "                                   49.4,\n",
      "                                   75.01,\n",
      "                                   128.154,\n",
      "                                   0.0]},\n",
      "    'TESLA': {   'BP': 'both',\n",
      "                 'FREQ': 1300,\n",
      "                 'IC': [42, 42, 12, 19, 35, 57.6524, 103.353, 0],\n",
      "                 'OC': [40.34, 40.34, 10, 13.5, 39, 55.716, 103.353, 0],\n",
      "                 'OC_R': [42, 42, 9, 12.8, 39, 56.815, 103.353, 0]}}\n"
     ]
    }
   ],
   "source": [
    "# load shape space\n",
    "with open(r'D:/Dropbox/CavityDesignHub/MuCol_Study/Cavities/cavity_data_mid_end_cells.json') as f:\n",
    "    shape_space = json.load(f)\n",
    "pp.pprint(shape_space)"
   ]
  },
  {
   "cell_type": "code",
   "execution_count": 3,
   "id": "762a0102-a2c8-4c80-9d23-a5a12981ca9d",
   "metadata": {},
   "outputs": [
    {
     "data": {
      "image/png": "[encoded data removed]",
      "text/plain": [
       "<Figure size 1200x600 with 1 Axes>"
      ]
     },
     "metadata": {},
     "output_type": "display_data"
    },
    {
     "data": {
      "image/png": "[encoded data removed]",
      "text/plain": [
       "<Figure size 1200x600 with 1 Axes>"
      ]
     },
     "metadata": {},
     "output_type": "display_data"
    }
   ],
   "source": [
    "# define geometry parameters\n",
    "midcell = np.array([42, 42, 12, 19, 35, 57.7, 100])\n",
    "endcell_l = np.array([40.34, 40.34, 10, 13.5, 39, 55.716, 103.353])\n",
    "endcell_r = np.array([42, 42, 9, 12.8, 39, 56.815, 103.353])\n",
    "# create cavity\n",
    "cav0 = Cavity(2, midcell, endcell_l, endcell_r, beampipe='both')\n",
    "ax = cav0.plot('geometry')\n",
    "\n",
    "C3795_1300MHz = shape_space['C3795_1300MHz']\n",
    "TESLA = shape_space['TESLA']\n",
    "\n",
    "# create cavity\n",
    "cav = Cavity(2, np.array(C3795_1300MHz['IC']), np.array(C3795_1300MHz['OC']), np.array(C3795_1300MHz['OC_R']), beampipe='both')\n",
    "ax = cav.plot('geometry')\n",
    "\n",
    "# create cavity\n",
    "cav1 = Cavity(2, TESLA['IC'], TESLA['OC'], TESLA['OC_R'], beampipe='both')\n",
    "# show cavity\n",
    "cav1.plot('geometry', ax)\n",
    "plt.show()"
   ]
  },
  {
   "cell_type": "code",
   "execution_count": 4,
   "id": "9dc0df8e-4f69-4677-96c3-59ee28bab520",
   "metadata": {},
   "outputs": [
    {
     "data": {
      "application/vnd.jupyter.widget-view+json": {
       "model_id": "e9f32b5138954b04ae34edaf0bf18e23",
       "version_major": 2,
       "version_minor": 0
      },
      "text/plain": [
       "Output()"
      ]
     },
     "metadata": {},
     "output_type": "display_data"
    },
    {
     "data": {
      "application/vnd.jupyter.widget-view+json": {
       "model_id": "da55a19e756340ecb2f7bf48b603a437",
       "version_major": 2,
       "version_minor": 0
      },
      "text/plain": [
       "VBox(children=(HBox(children=(FloatSlider(value=42.0, description='A', max=63.0, min=21.0), FloatSlider(value=…"
      ]
     },
     "metadata": {},
     "output_type": "display_data"
    }
   ],
   "source": [
    "cav1.inspect(variation=0.5)"
   ]
  },
  {
   "cell_type": "code",
   "execution_count": 5,
   "id": "fbb34555-b962-474b-8dca-86c98b3d6e1b",
   "metadata": {},
   "outputs": [],
   "source": [
    "with open(r'D:/Dropbox/CavityDesignHub/PhD_Thesis/Cavities/cavities.json') as f:\n",
    "    shape_space = json.load(f)\n",
    "# pp.pprint(shape_space)"
   ]
  },
  {
   "cell_type": "code",
   "execution_count": 6,
   "id": "eefbc196-d5e1-4218-89e6-5f2423561ac3",
   "metadata": {},
   "outputs": [
    {
     "name": "stdout",
     "output_type": "stream",
     "text": [
      "{   'BP': 'both',\n",
      "    'CELL TYPE': 'flattop',\n",
      "    'FREQ': 650,\n",
      "    'IC': [93, 93, 20, 30, 75, 115.5, 205.979, 4, 0],\n",
      "    'OC': [80, 80, 20, 30, 80, 109, 205.979, 4, 0],\n",
      "    'OC_R': [80, 80, 20, 30, 80, 109, 205.979, 4, 0]}\n"
     ]
    }
   ],
   "source": [
    "# define flattop cavity cepc\n",
    "cepc_shape = shape_space['CEPCv2']\n",
    "pp.pprint(cepc_shape)"
   ]
  },
  {
   "cell_type": "code",
   "execution_count": 7,
   "id": "135ce04d-2923-438b-b53b-797e96a3a607",
   "metadata": {},
   "outputs": [],
   "source": [
    "cepc = Cavity(2, cepc_shape['IC'], cepc_shape['OC'], cepc_shape['OC_R'], beampipe=cepc_shape['BP'], cell_parameterisation=cepc_shape['CELL TYPE'])"
   ]
  },
  {
   "cell_type": "code",
   "execution_count": 8,
   "id": "7f8c4a82-111c-48aa-bf77-4a9276a0f7c5",
   "metadata": {},
   "outputs": [
    {
     "data": {
      "application/vnd.jupyter.widget-view+json": {
       "model_id": "6a881c41c9894b79a5e97ee37b208791",
       "version_major": 2,
       "version_minor": 0
      },
      "text/plain": [
       "Output()"
      ]
     },
     "metadata": {},
     "output_type": "display_data"
    },
    {
     "data": {
      "application/vnd.jupyter.widget-view+json": {
       "model_id": "06494c2b63854e10b2558a854bc0b0fb",
       "version_major": 2,
       "version_minor": 0
      },
      "text/plain": [
       "VBox(children=(HBox(children=(FloatSlider(value=93.0, description='A', max=148.8, min=37.2), FloatSlider(value…"
      ]
     },
     "metadata": {},
     "output_type": "display_data"
    }
   ],
   "source": [
    "cepc.inspect(variation=0.6)"
   ]
  },
  {
   "cell_type": "code",
   "execution_count": 9,
   "id": "77ece9b6-af76-40e8-9d85-29f20dfb6f64",
   "metadata": {},
   "outputs": [
    {
     "name": "stdout",
     "output_type": "stream",
     "text": [
      "\u001b[32mProject D:\\Dropbox\\CavityDesignHub\\MuCol_Study\\SimulationData\\ConsoleTest created successfully/already exists.\u001b[0m\n"
     ]
    }
   ],
   "source": [
    "cavs = Cavities()\n",
    "cavs.save(project_folder='D:\\Dropbox\\CavityDesignHub\\MuCol_Study\\SimulationData\\ConsoleTest')"
   ]
  },
  {
   "cell_type": "code",
   "execution_count": 10,
   "id": "1eb248e1-d627-4b94-b8ed-a7e710b56fab",
   "metadata": {},
   "outputs": [],
   "source": [
    "cavs.add_cavity(cepc, 'CEPCv2', 'CEPCv2')"
   ]
  },
  {
   "cell_type": "code",
   "execution_count": 11,
   "id": "505d876a-c040-4cd7-ac08-fcb0916df449",
   "metadata": {},
   "outputs": [],
   "source": [
    "# cavs.run_eigenmode()"
   ]
  },
  {
   "cell_type": "code",
   "execution_count": 12,
   "id": "11ea134f-6dde-4bec-ac36-ff2ab3ff050e",
   "metadata": {
    "scrolled": true
   },
   "outputs": [],
   "source": [
    "# cavs[0].plot_mesh()"
   ]
  },
  {
   "cell_type": "code",
   "execution_count": 13,
   "id": "8033d127-c80b-4514-b288-1eb719704d69",
   "metadata": {},
   "outputs": [],
   "source": [
    "# cavs[0].plot_fields()"
   ]
  },
  {
   "cell_type": "code",
   "execution_count": null,
   "id": "2afa5d60-40cd-4dc1-9957-9969837b4b72",
   "metadata": {},
   "outputs": [],
   "source": []
  },
  {
   "cell_type": "code",
   "execution_count": 14,
   "id": "1edf5ade-c181-46e0-9148-3dd444101bf9",
   "metadata": {},
   "outputs": [
    {
     "data": {
      "text/plain": [
       "{}"
      ]
     },
     "execution_count": 14,
     "metadata": {},
     "output_type": "execute_result"
    }
   ],
   "source": [
    "cavs.eigenmode_qois"
   ]
  },
  {
   "cell_type": "code",
   "execution_count": 22,
   "id": "579a796e-92cc-49e6-b52e-948dfce90385",
   "metadata": {},
   "outputs": [],
   "source": [
    "uq_config = {\n",
    "    'variables': ['A', 'a'],\n",
    "    'delta': [0.01, 0.01],\n",
    "    'objectives': ['Epk/Eacc []', 'Bpk/Eacc [mT/MV/m]', 'R/Q [Ohm]', 'G [Ohm]', 'Q []'],\n",
    "    'cell_type': 'mid-cell',\n",
    "    'method': 'stroud5',\n",
    "    'processes': 1\n",
    "}\n",
    "eigenmode_config = {\n",
    "    'uq_config': uq_config\n",
    "}\n",
    "\n",
    "cavs.run_eigenmode(eigenmode_config)"
   ]
  },
  {
   "cell_type": "code",
   "execution_count": 23,
   "id": "ad3a11e5-11b7-4372-aa9f-767373b22962",
   "metadata": {},
   "outputs": [
    {
     "data": {
      "text/plain": [
       "{'CEPCv2': {'Epk/Eacc []': {'expe': [1.9056713830201555],\n",
       "   'stdDev': [0.007400520664087008]},\n",
       "  'Bpk/Eacc [mT/MV/m]': {'expe': [4.030606440614281],\n",
       "   'stdDev': [0.016763133244034903]},\n",
       "  'R/Q [Ohm]': {'expe': [112.44488947919969], 'stdDev': [0.39908355022376163]},\n",
       "  'G [Ohm]': {'expe': [267.34773350712874], 'stdDev': [0.4795096655606889]},\n",
       "  'Q []': {'expe': [40964.191242318164], 'stdDev': [98.57325527989357]}}}"
      ]
     },
     "execution_count": 23,
     "metadata": {},
     "output_type": "execute_result"
    }
   ],
   "source": [
    "cavs.uq_fm_results"
   ]
  },
  {
   "cell_type": "code",
   "execution_count": 24,
   "id": "78aac56a-97dd-465e-8e74-2a17d401483d",
   "metadata": {},
   "outputs": [
    {
     "data": {
      "text/plain": [
       "{'Epk/Eacc []': <Axes: label='Epk/Eacc []', ylabel='Epk/Eacc []'>,\n",
       " 'Bpk/Eacc [mT/MV/m]': <Axes: label='Bpk/Eacc [mT/MV/m]', ylabel='Bpk/Eacc [mT/MV/m]'>,\n",
       " 'R/Q [Ohm]': <Axes: label='R/Q [Ohm]', ylabel='R/Q [Ohm]'>,\n",
       " 'G [Ohm]': <Axes: label='G [Ohm]', ylabel='G [Ohm]'>,\n",
       " 'Q []': <Axes: label='Q []', ylabel='Q []'>}"
      ]
     },
     "execution_count": 24,
     "metadata": {},
     "output_type": "execute_result"
    },
    {
     "data": {
      "image/png": "[encoded data removed]",
      "text/plain": [
       "<Figure size 1200x400 with 5 Axes>"
      ]
     },
     "metadata": {},
     "output_type": "display_data"
    }
   ],
   "source": [
    "cavs.plot_compare_fm_bar(uq=True)"
   ]
  },
  {
   "cell_type": "code",
   "execution_count": null,
   "id": "70792486-e8d6-46b1-94d0-815ab0094961",
   "metadata": {},
   "outputs": [],
   "source": []
  }
 ],
 "metadata": {
  "kernelspec": {
   "display_name": "Python 3 (ipykernel)",
   "language": "python",
   "name": "python3"
  },
  "language_info": {
   "codemirror_mode": {
    "name": "ipython",
    "version": 3
   },
   "file_extension": ".py",
   "mimetype": "text/x-python",
   "name": "python",
   "nbconvert_exporter": "python",
   "pygments_lexer": "ipython3",
   "version": "3.11.9"
  },
  "widgets": {
   "application/vnd.jupyter.widget-state+json": {
    "state": {
     "01bd9df67d584fa597c2cafe6a01e5d6": {
      "model_module": "@jupyter-widgets/controls",
      "model_module_version": "2.0.0",
      "model_name": "HBoxModel",
      "state": {
       "children": [
        "IPY_MODEL_ed9c464fd37a4c3c895e25b54965bad4",
        "IPY_MODEL_fcd994014b294f378477e41ad54a58f1",
        "IPY_MODEL_a2df795eca57436e82a3f3170e9357b0"
       ],
       "layout": "IPY_MODEL_e6d45d7c8a984542ad7eb66d5ea0fc56"
      }
     },
     "0314fd0c83ed4804a771989d3fb965e9": {
      "model_module": "@jupyter-widgets/base",
      "model_module_version": "2.0.0",
      "model_name": "LayoutModel",
      "state": {}
     },
     "03702d9f57a1494a9be66b9ec4b642c1": {
      "model_module": "@jupyter-widgets/controls",
      "model_module_version": "2.0.0",
      "model_name": "SliderStyleModel",
      "state": {
       "description_width": ""
      }
     },
     "05c5cb4116d24c199f295614d5ac5a08": {
      "model_module": "@jupyter-widgets/controls",
      "model_module_version": "2.0.0",
      "model_name": "FloatSliderModel",
      "state": {
       "behavior": "drag-tap",
       "description": "Ri",
       "layout": "IPY_MODEL_dad34418bb464b24926c85f11e124516",
       "max": 120,
       "min": 30,
       "step": 0.1,
       "style": "IPY_MODEL_03702d9f57a1494a9be66b9ec4b642c1",
       "value": 75
      }
     },
     "06494c2b63854e10b2558a854bc0b0fb": {
      "model_module": "@jupyter-widgets/controls",
      "model_module_version": "2.0.0",
      "model_name": "VBoxModel",
      "state": {
       "children": [
        "IPY_MODEL_1a90f1c8daaf4c6f89ae5f6416e9f499",
        "IPY_MODEL_cb1d5c2c2f084e7b9be50078551e1fcd",
        "IPY_MODEL_3c3c9cdf82464f32a006ba797760862a",
        "IPY_MODEL_c099b7d2ef314889b5f00a87271fb863"
       ],
       "layout": "IPY_MODEL_0314fd0c83ed4804a771989d3fb965e9"
      }
     },
     "0875ff787cab4366bb45c5cc0da3f39a": {
      "model_module": "@jupyter-widgets/base",
      "model_module_version": "2.0.0",
      "model_name": "LayoutModel",
      "state": {}
     },
     "0bd32a64097a4831b328740b6c7efec1": {
      "model_module": "@jupyter-widgets/base",
      "model_module_version": "2.0.0",
      "model_name": "LayoutModel",
      "state": {}
     },
     "15f6f815b64847a5bf5d97ef43c5ce11": {
      "model_module": "@jupyter-widgets/controls",
      "model_module_version": "2.0.0",
      "model_name": "FloatSliderModel",
      "state": {
       "behavior": "drag-tap",
       "description": "Req",
       "layout": "IPY_MODEL_ca6bdaeba69e4e06b506721427a5e393",
       "max": 155.02949999999998,
       "min": 51.6765,
       "step": 0.1,
       "style": "IPY_MODEL_383e083805024d03b635384b945930e9",
       "value": 103.37650000000001
      }
     },
     "1a90f1c8daaf4c6f89ae5f6416e9f499": {
      "model_module": "@jupyter-widgets/controls",
      "model_module_version": "2.0.0",
      "model_name": "HBoxModel",
      "state": {
       "children": [
        "IPY_MODEL_5c9271b3b61c4555af4d9916b4b4f875",
        "IPY_MODEL_3875e66429104745a77e213e0a0811d6",
        "IPY_MODEL_26fd87ae39c64ba78a12882205d9f240"
       ],
       "layout": "IPY_MODEL_952101284d9b4d90b8299b7a2b42dc54"
      }
     },
     "1f0a3faa360748bca55610d099c3bb63": {
      "model_module": "@jupyter-widgets/base",
      "model_module_version": "2.0.0",
      "model_name": "LayoutModel",
      "state": {}
     },
     "20ad53bec0104303a43d96c6bb1549d8": {
      "model_module": "@jupyter-widgets/controls",
      "model_module_version": "2.0.0",
      "model_name": "SliderStyleModel",
      "state": {
       "description_width": ""
      }
     },
     "26fd87ae39c64ba78a12882205d9f240": {
      "model_module": "@jupyter-widgets/controls",
      "model_module_version": "2.0.0",
      "model_name": "FloatSliderModel",
      "state": {
       "behavior": "drag-tap",
       "description": "a",
       "layout": "IPY_MODEL_6cf9758ae2074552aa4e0fdbde1622d4",
       "max": 32,
       "min": 8,
       "step": 0.1,
       "style": "IPY_MODEL_20ad53bec0104303a43d96c6bb1549d8",
       "value": 20
      }
     },
     "286cec7397624a9da1e1f7f5c04a511f": {
      "model_module": "@jupyter-widgets/controls",
      "model_module_version": "2.0.0",
      "model_name": "LabelStyleModel",
      "state": {
       "description_width": "",
       "font_family": null,
       "font_size": null,
       "font_style": null,
       "font_variant": null,
       "font_weight": null,
       "text_color": null,
       "text_decoration": null
      }
     },
     "30266e408cb04b4f8c7d875f0c2ea520": {
      "model_module": "@jupyter-widgets/controls",
      "model_module_version": "2.0.0",
      "model_name": "LabelModel",
      "state": {
       "layout": "IPY_MODEL_c4679de777e14da3a7a53ffe6aea593b",
       "style": "IPY_MODEL_d9464863682d48199f4fe00b775b45fe",
       "value": "Sum of A + a: 54.00, L: 57.6262, delta: -3.626199999999997"
      }
     },
     "356a0eba611a47adb0f1f4f8fd286c46": {
      "model_module": "@jupyter-widgets/base",
      "model_module_version": "2.0.0",
      "model_name": "LayoutModel",
      "state": {}
     },
     "373c89260d9848ec85dc38d0e5164977": {
      "model_module": "@jupyter-widgets/base",
      "model_module_version": "2.0.0",
      "model_name": "LayoutModel",
      "state": {}
     },
     "383e083805024d03b635384b945930e9": {
      "model_module": "@jupyter-widgets/controls",
      "model_module_version": "2.0.0",
      "model_name": "SliderStyleModel",
      "state": {
       "description_width": ""
      }
     },
     "3875e66429104745a77e213e0a0811d6": {
      "model_module": "@jupyter-widgets/controls",
      "model_module_version": "2.0.0",
      "model_name": "FloatSliderModel",
      "state": {
       "behavior": "drag-tap",
       "description": "B",
       "layout": "IPY_MODEL_90a6300c3d784f30999eab348ff7a50b",
       "max": 148.8,
       "min": 37.2,
       "step": 0.1,
       "style": "IPY_MODEL_7998dc528e914311a2a63b3f05215f98",
       "value": 93
      }
     },
     "3c3c9cdf82464f32a006ba797760862a": {
      "model_module": "@jupyter-widgets/controls",
      "model_module_version": "2.0.0",
      "model_name": "HBoxModel",
      "state": {
       "children": [
        "IPY_MODEL_c528d6dc68b64dccba266163953b4dac",
        "IPY_MODEL_f5c031adc6a240eda04edaf28643041a"
       ],
       "layout": "IPY_MODEL_db5d7acd2dd844e893cd351300022384"
      }
     },
     "46a27f6b6c4646c0a8c5741ddd18a68f": {
      "model_module": "@jupyter-widgets/controls",
      "model_module_version": "2.0.0",
      "model_name": "HBoxModel",
      "state": {
       "children": [
        "IPY_MODEL_eb7137d8f08d4b68a77c548524186807",
        "IPY_MODEL_a23d76c303d5424bb0a44d4f88eab987",
        "IPY_MODEL_790f0588e9aa446595ba9cc2e4a6a618"
       ],
       "layout": "IPY_MODEL_7bb93e1e812940cb97566625a4c93bba"
      }
     },
     "47eb22fbeed44092b96301fa7b5b2f5a": {
      "model_module": "@jupyter-widgets/base",
      "model_module_version": "2.0.0",
      "model_name": "LayoutModel",
      "state": {}
     },
     "49f9619bbab740158e89239fe2208565": {
      "model_module": "@jupyter-widgets/controls",
      "model_module_version": "2.0.0",
      "model_name": "FloatSliderModel",
      "state": {
       "behavior": "drag-tap",
       "description": "b",
       "layout": "IPY_MODEL_0bd32a64097a4831b328740b6c7efec1",
       "max": 48,
       "min": 12,
       "step": 0.1,
       "style": "IPY_MODEL_fd6bf6f82b2943d7ac26412d782b6b02",
       "value": 30
      }
     },
     "5c9271b3b61c4555af4d9916b4b4f875": {
      "model_module": "@jupyter-widgets/controls",
      "model_module_version": "2.0.0",
      "model_name": "FloatSliderModel",
      "state": {
       "behavior": "drag-tap",
       "description": "A",
       "layout": "IPY_MODEL_0875ff787cab4366bb45c5cc0da3f39a",
       "max": 148.8,
       "min": 37.2,
       "step": 0.1,
       "style": "IPY_MODEL_fd3e3a82785b444e88893b48a1cc3c53",
       "value": 93
      }
     },
     "63ddc5bc0d8a4011b318dde752adbfc8": {
      "model_module": "@jupyter-widgets/base",
      "model_module_version": "2.0.0",
      "model_name": "LayoutModel",
      "state": {}
     },
     "66ae048a48454674a871ee61cc725668": {
      "model_module": "@jupyter-widgets/controls",
      "model_module_version": "2.0.0",
      "model_name": "SliderStyleModel",
      "state": {
       "description_width": ""
      }
     },
     "6a881c41c9894b79a5e97ee37b208791": {
      "model_module": "@jupyter-widgets/output",
      "model_module_version": "1.0.0",
      "model_name": "OutputModel",
      "state": {
       "layout": "IPY_MODEL_47eb22fbeed44092b96301fa7b5b2f5a",
       "outputs": [
        {
         "data": {
          "image/png": "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",
          "text/plain": "<Figure size 1200x600 with 1 Axes>"
         },
         "metadata": {},
         "output_type": "display_data"
        }
       ]
      }
     },
     "6cf9758ae2074552aa4e0fdbde1622d4": {
      "model_module": "@jupyter-widgets/base",
      "model_module_version": "2.0.0",
      "model_name": "LayoutModel",
      "state": {}
     },
     "790f0588e9aa446595ba9cc2e4a6a618": {
      "model_module": "@jupyter-widgets/controls",
      "model_module_version": "2.0.0",
      "model_name": "FloatSliderModel",
      "state": {
       "behavior": "drag-tap",
       "description": "a",
       "layout": "IPY_MODEL_ff71d9f93dda45c894c7f8440b5b3b9e",
       "max": 18,
       "min": 6,
       "step": 0.1,
       "style": "IPY_MODEL_89a3d18b5596447e8fddb2e72c6ea844",
       "value": 12
      }
     },
     "7998dc528e914311a2a63b3f05215f98": {
      "model_module": "@jupyter-widgets/controls",
      "model_module_version": "2.0.0",
      "model_name": "SliderStyleModel",
      "state": {
       "description_width": ""
      }
     },
     "7bb93e1e812940cb97566625a4c93bba": {
      "model_module": "@jupyter-widgets/base",
      "model_module_version": "2.0.0",
      "model_name": "LayoutModel",
      "state": {}
     },
     "89a3d18b5596447e8fddb2e72c6ea844": {
      "model_module": "@jupyter-widgets/controls",
      "model_module_version": "2.0.0",
      "model_name": "SliderStyleModel",
      "state": {
       "description_width": ""
      }
     },
     "90a6300c3d784f30999eab348ff7a50b": {
      "model_module": "@jupyter-widgets/base",
      "model_module_version": "2.0.0",
      "model_name": "LayoutModel",
      "state": {}
     },
     "952101284d9b4d90b8299b7a2b42dc54": {
      "model_module": "@jupyter-widgets/base",
      "model_module_version": "2.0.0",
      "model_name": "LayoutModel",
      "state": {}
     },
     "973dfd6d31944b74ac2d9087a4a2cd75": {
      "model_module": "@jupyter-widgets/base",
      "model_module_version": "2.0.0",
      "model_name": "LayoutModel",
      "state": {}
     },
     "a23d76c303d5424bb0a44d4f88eab987": {
      "model_module": "@jupyter-widgets/controls",
      "model_module_version": "2.0.0",
      "model_name": "FloatSliderModel",
      "state": {
       "behavior": "drag-tap",
       "description": "B",
       "layout": "IPY_MODEL_e99161248baf42f596c262a4cb92a6bf",
       "max": 63,
       "min": 21,
       "step": 0.1,
       "style": "IPY_MODEL_b138fa6c8e324af183227b4639396e5b",
       "value": 42
      }
     },
     "a2df795eca57436e82a3f3170e9357b0": {
      "model_module": "@jupyter-widgets/controls",
      "model_module_version": "2.0.0",
      "model_name": "FloatSliderModel",
      "state": {
       "behavior": "drag-tap",
       "description": "L",
       "layout": "IPY_MODEL_c32f249bb78d49e1a9acafd3e9a67c65",
       "max": 86.4786,
       "min": 28.8262,
       "step": 0.1,
       "style": "IPY_MODEL_c3dcf7fd33e64f91a5938adeb4ab702e",
       "value": 57.6262
      }
     },
     "aca6fd6f94f343a68a716315aae5d6d5": {
      "model_module": "@jupyter-widgets/controls",
      "model_module_version": "2.0.0",
      "model_name": "SliderStyleModel",
      "state": {
       "description_width": ""
      }
     },
     "ad70dbce1b2342dcac2272a8010f78ef": {
      "model_module": "@jupyter-widgets/base",
      "model_module_version": "2.0.0",
      "model_name": "LayoutModel",
      "state": {}
     },
     "b138fa6c8e324af183227b4639396e5b": {
      "model_module": "@jupyter-widgets/controls",
      "model_module_version": "2.0.0",
      "model_name": "SliderStyleModel",
      "state": {
       "description_width": ""
      }
     },
     "b8920f2ebcd34e9b9530a1323ab96ae4": {
      "model_module": "@jupyter-widgets/base",
      "model_module_version": "2.0.0",
      "model_name": "LayoutModel",
      "state": {}
     },
     "c099b7d2ef314889b5f00a87271fb863": {
      "model_module": "@jupyter-widgets/controls",
      "model_module_version": "2.0.0",
      "model_name": "LabelModel",
      "state": {
       "layout": "IPY_MODEL_973dfd6d31944b74ac2d9087a4a2cd75",
       "style": "IPY_MODEL_286cec7397624a9da1e1f7f5c04a511f",
       "value": "Sum of A + a + l: 117.00, L: 115.5, delta: 1.5"
      }
     },
     "c0dd9e6d5ff745ee93bdf49cf175202c": {
      "model_module": "@jupyter-widgets/base",
      "model_module_version": "2.0.0",
      "model_name": "LayoutModel",
      "state": {}
     },
     "c32f249bb78d49e1a9acafd3e9a67c65": {
      "model_module": "@jupyter-widgets/base",
      "model_module_version": "2.0.0",
      "model_name": "LayoutModel",
      "state": {}
     },
     "c3dcf7fd33e64f91a5938adeb4ab702e": {
      "model_module": "@jupyter-widgets/controls",
      "model_module_version": "2.0.0",
      "model_name": "SliderStyleModel",
      "state": {
       "description_width": ""
      }
     },
     "c4679de777e14da3a7a53ffe6aea593b": {
      "model_module": "@jupyter-widgets/base",
      "model_module_version": "2.0.0",
      "model_name": "LayoutModel",
      "state": {}
     },
     "c528d6dc68b64dccba266163953b4dac": {
      "model_module": "@jupyter-widgets/controls",
      "model_module_version": "2.0.0",
      "model_name": "FloatSliderModel",
      "state": {
       "behavior": "drag-tap",
       "description": "Req",
       "layout": "IPY_MODEL_c0dd9e6d5ff745ee93bdf49cf175202c",
       "max": 329.56640000000004,
       "min": 82.39160000000001,
       "step": 0.1,
       "style": "IPY_MODEL_66ae048a48454674a871ee61cc725668",
       "value": 205.9916
      }
     },
     "c5da6dc7e21a4ebaa73480af5e9adb4d": {
      "model_module": "@jupyter-widgets/controls",
      "model_module_version": "2.0.0",
      "model_name": "SliderStyleModel",
      "state": {
       "description_width": ""
      }
     },
     "ca6bdaeba69e4e06b506721427a5e393": {
      "model_module": "@jupyter-widgets/base",
      "model_module_version": "2.0.0",
      "model_name": "LayoutModel",
      "state": {}
     },
     "cb1d5c2c2f084e7b9be50078551e1fcd": {
      "model_module": "@jupyter-widgets/controls",
      "model_module_version": "2.0.0",
      "model_name": "HBoxModel",
      "state": {
       "children": [
        "IPY_MODEL_49f9619bbab740158e89239fe2208565",
        "IPY_MODEL_05c5cb4116d24c199f295614d5ac5a08",
        "IPY_MODEL_f41e12c190b340909a021848b19086cd"
       ],
       "layout": "IPY_MODEL_ad70dbce1b2342dcac2272a8010f78ef"
      }
     },
     "cffa81926a7a4b4ba45aa4357a37b870": {
      "model_module": "@jupyter-widgets/controls",
      "model_module_version": "2.0.0",
      "model_name": "HBoxModel",
      "state": {
       "children": [
        "IPY_MODEL_15f6f815b64847a5bf5d97ef43c5ce11"
       ],
       "layout": "IPY_MODEL_356a0eba611a47adb0f1f4f8fd286c46"
      }
     },
     "d2ca8d9a3d134989856504372fd4c126": {
      "model_module": "@jupyter-widgets/base",
      "model_module_version": "2.0.0",
      "model_name": "LayoutModel",
      "state": {}
     },
     "d4b46db02a974b18a3d92b53f7fc47a4": {
      "model_module": "@jupyter-widgets/controls",
      "model_module_version": "2.0.0",
      "model_name": "SliderStyleModel",
      "state": {
       "description_width": ""
      }
     },
     "d9464863682d48199f4fe00b775b45fe": {
      "model_module": "@jupyter-widgets/controls",
      "model_module_version": "2.0.0",
      "model_name": "LabelStyleModel",
      "state": {
       "description_width": "",
       "font_family": null,
       "font_size": null,
       "font_style": null,
       "font_variant": null,
       "font_weight": null,
       "text_color": null,
       "text_decoration": null
      }
     },
     "da55a19e756340ecb2f7bf48b603a437": {
      "model_module": "@jupyter-widgets/controls",
      "model_module_version": "2.0.0",
      "model_name": "VBoxModel",
      "state": {
       "children": [
        "IPY_MODEL_46a27f6b6c4646c0a8c5741ddd18a68f",
        "IPY_MODEL_01bd9df67d584fa597c2cafe6a01e5d6",
        "IPY_MODEL_cffa81926a7a4b4ba45aa4357a37b870",
        "IPY_MODEL_30266e408cb04b4f8c7d875f0c2ea520"
       ],
       "layout": "IPY_MODEL_373c89260d9848ec85dc38d0e5164977"
      }
     },
     "dad34418bb464b24926c85f11e124516": {
      "model_module": "@jupyter-widgets/base",
      "model_module_version": "2.0.0",
      "model_name": "LayoutModel",
      "state": {}
     },
     "db5d7acd2dd844e893cd351300022384": {
      "model_module": "@jupyter-widgets/base",
      "model_module_version": "2.0.0",
      "model_name": "LayoutModel",
      "state": {}
     },
     "e6d45d7c8a984542ad7eb66d5ea0fc56": {
      "model_module": "@jupyter-widgets/base",
      "model_module_version": "2.0.0",
      "model_name": "LayoutModel",
      "state": {}
     },
     "e99161248baf42f596c262a4cb92a6bf": {
      "model_module": "@jupyter-widgets/base",
      "model_module_version": "2.0.0",
      "model_name": "LayoutModel",
      "state": {}
     },
     "e9f32b5138954b04ae34edaf0bf18e23": {
      "model_module": "@jupyter-widgets/output",
      "model_module_version": "1.0.0",
      "model_name": "OutputModel",
      "state": {
       "layout": "IPY_MODEL_fdb56ad7189442c0919cd451e722d402",
       "outputs": [
        {
         "data": {
          "image/png": "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",
          "text/plain": "<Figure size 1200x600 with 1 Axes>"
         },
         "metadata": {},
         "output_type": "display_data"
        }
       ]
      }
     },
     "eb7137d8f08d4b68a77c548524186807": {
      "model_module": "@jupyter-widgets/controls",
      "model_module_version": "2.0.0",
      "model_name": "FloatSliderModel",
      "state": {
       "behavior": "drag-tap",
       "description": "A",
       "layout": "IPY_MODEL_b8920f2ebcd34e9b9530a1323ab96ae4",
       "max": 63,
       "min": 21,
       "step": 0.1,
       "style": "IPY_MODEL_f483c07baa9e4cabbe8ff1a756acd2ce",
       "value": 42
      }
     },
     "ed9c464fd37a4c3c895e25b54965bad4": {
      "model_module": "@jupyter-widgets/controls",
      "model_module_version": "2.0.0",
      "model_name": "FloatSliderModel",
      "state": {
       "behavior": "drag-tap",
       "description": "b",
       "layout": "IPY_MODEL_d2ca8d9a3d134989856504372fd4c126",
       "max": 28.5,
       "min": 9.5,
       "step": 0.1,
       "style": "IPY_MODEL_c5da6dc7e21a4ebaa73480af5e9adb4d",
       "value": 19
      }
     },
     "ef0832dc54594f8ab41a31ee448e78f6": {
      "model_module": "@jupyter-widgets/controls",
      "model_module_version": "2.0.0",
      "model_name": "SliderStyleModel",
      "state": {
       "description_width": ""
      }
     },
     "f41e12c190b340909a021848b19086cd": {
      "model_module": "@jupyter-widgets/controls",
      "model_module_version": "2.0.0",
      "model_name": "FloatSliderModel",
      "state": {
       "behavior": "drag-tap",
       "description": "L",
       "layout": "IPY_MODEL_fac7c690020441f28e35af15c5c98a70",
       "max": 184.8,
       "min": 46.2,
       "step": 0.1,
       "style": "IPY_MODEL_d4b46db02a974b18a3d92b53f7fc47a4",
       "value": 115.5
      }
     },
     "f483c07baa9e4cabbe8ff1a756acd2ce": {
      "model_module": "@jupyter-widgets/controls",
      "model_module_version": "2.0.0",
      "model_name": "SliderStyleModel",
      "state": {
       "description_width": ""
      }
     },
     "f5c031adc6a240eda04edaf28643041a": {
      "model_module": "@jupyter-widgets/controls",
      "model_module_version": "2.0.0",
      "model_name": "FloatSliderModel",
      "state": {
       "behavior": "drag-tap",
       "description": "l",
       "layout": "IPY_MODEL_1f0a3faa360748bca55610d099c3bb63",
       "max": 6.4,
       "min": 1.6,
       "step": 0.1,
       "style": "IPY_MODEL_aca6fd6f94f343a68a716315aae5d6d5",
       "value": 4
      }
     },
     "fac7c690020441f28e35af15c5c98a70": {
      "model_module": "@jupyter-widgets/base",
      "model_module_version": "2.0.0",
      "model_name": "LayoutModel",
      "state": {}
     },
     "fcd994014b294f378477e41ad54a58f1": {
      "model_module": "@jupyter-widgets/controls",
      "model_module_version": "2.0.0",
      "model_name": "FloatSliderModel",
      "state": {
       "behavior": "drag-tap",
       "description": "Ri",
       "layout": "IPY_MODEL_63ddc5bc0d8a4011b318dde752adbfc8",
       "max": 52.5,
       "min": 17.5,
       "step": 0.1,
       "style": "IPY_MODEL_ef0832dc54594f8ab41a31ee448e78f6",
       "value": 35
      }
     },
     "fd3e3a82785b444e88893b48a1cc3c53": {
      "model_module": "@jupyter-widgets/controls",
      "model_module_version": "2.0.0",
      "model_name": "SliderStyleModel",
      "state": {
       "description_width": ""
      }
     },
     "fd6bf6f82b2943d7ac26412d782b6b02": {
      "model_module": "@jupyter-widgets/controls",
      "model_module_version": "2.0.0",
      "model_name": "SliderStyleModel",
      "state": {
       "description_width": ""
      }
     },
     "fdb56ad7189442c0919cd451e722d402": {
      "model_module": "@jupyter-widgets/base",
      "model_module_version": "2.0.0",
      "model_name": "LayoutModel",
      "state": {}
     },
     "ff71d9f93dda45c894c7f8440b5b3b9e": {
      "model_module": "@jupyter-widgets/base",
      "model_module_version": "2.0.0",
      "model_name": "LayoutModel",
      "state": {}
     }
    },
    "version_major": 2,
    "version_minor": 0
   }
  }
 },
 "nbformat": 4,
 "nbformat_minor": 5
}
