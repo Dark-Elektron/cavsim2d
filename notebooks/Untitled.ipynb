{
 "cells": [
  {
   "cell_type": "code",
   "execution_count": 1,
   "id": "beb52739-e31c-4244-b002-dc1fccb981ad",
   "metadata": {},
   "outputs": [],
   "source": [
    "import sys\n",
    "sys.path.append(\"..\")\n",
    "import numpy as np\n",
    "import json\n",
    "import matplotlib\n",
    "import matplotlib.pyplot as plt\n",
    "plt.ion()\n",
    "%matplotlib inline\n",
    "from cavsim2d.cavity import Cavity, Cavities, OperationPoints\n",
    "import pprint\n",
    "pp = pprint.PrettyPrinter(indent=4)"
   ]
  },
  {
   "cell_type": "code",
   "execution_count": 2,
   "id": "3d907bd8-988c-458c-b0b8-5a786af5c1bc",
   "metadata": {
    "scrolled": true
   },
   "outputs": [
    {
     "name": "stdout",
     "output_type": "stream",
     "text": [
      "{   'C3795_1300MHz': {   'BP': 'both',\n",
      "                         'FREQ': 1300,\n",
      "                         'IC': [   38.36,\n",
      "                                   40.78,\n",
      "                                   18.63,\n",
      "                                   14.25,\n",
      "                                   44.4,\n",
      "                                   57.6521,\n",
      "                                   105.56,\n",
      "                                   113.76249257990644],\n",
      "                         'OC': [   38.59,\n",
      "                                   35.48,\n",
      "                                   10.61,\n",
      "                                   7.4,\n",
      "                                   49.33,\n",
      "                                   57.83,\n",
      "                                   105.56,\n",
      "                                   107.9],\n",
      "                         'OC_R': [   38.59,\n",
      "                                     35.48,\n",
      "                                     10.61,\n",
      "                                     7.4,\n",
      "                                     49.33,\n",
      "                                     57.83,\n",
      "                                     105.56,\n",
      "                                     107.9]},\n",
      "    'ERL_MA': {   'BP': 'both',\n",
      "                  'EXPANSION': [36, 36, 6, 6, 42.0, 55, 0],\n",
      "                  'FREQ': 1300,\n",
      "                  'IC': [43.99, 35.06, 12.53, 20.95, 35, 57.6524, 101.205, 0],\n",
      "                  'OC': [50.9, 45.3, 8.4, 11.5, 39, 59.988, 101.205, 0],\n",
      "                  'OC_R': [52.1, 47.9, 9.9, 11.3, 37, 62.665, 101.205, 0]},\n",
      "    'ICHIRO': {   'BP': 'both',\n",
      "                  'FREQ': 1300,\n",
      "                  'IC': [50.052, 34.222, 7.6, 9.945, 30, 57.7, 98.14, 0],\n",
      "                  'OC': [50.052, 34.222, 7.6, 9.945, 30, 57.7, 98.14, 0],\n",
      "                  'OC_R': [50.052, 34.222, 7.6, 9.945, 30, 57.7, 98.14, 0]},\n",
      "    'ILC-LL': {   'BP': 'both',\n",
      "                  'FREQ': 1300,\n",
      "                  'IC': [50.052, 36.5, 7.6, 10, 30, 57.7, 98.58, 0],\n",
      "                  'OC': [50.052, 36.5, 7.6, 10, 30, 57.7, 98.58, 0],\n",
      "                  'OC_R': [50.052, 36.5, 7.6, 10, 30, 57.7, 98.58, 0]},\n",
      "    'NLSF': {   'BP': 'both',\n",
      "                'FREQ': 1300,\n",
      "                'IC': [47.152, 31.35, 10.5, 15.5, 32, 57.7, 98.58, 0],\n",
      "                'OC': [48.152, 30.5, 9.5, 12.5, 38, 57.6988, 98.58, 0],\n",
      "                'OC_R': [48.152, 30.5, 9.5, 12.5, 38, 57.6988, 98.58, 0]},\n",
      "    'NLSF-A': {   'BP': 'both',\n",
      "                  'FREQ': 1300,\n",
      "                  'IC': [47.652, 32.91, 10.0, 15.5, 31, 57.7, 98.58, 0],\n",
      "                  'OC': [47.652, 32.91, 10.0, 15.5, 31, 57.7, 98.58, 0],\n",
      "                  'OC_R': [47.652, 32.91, 10.0, 15.5, 31, 57.7, 98.58, 0]},\n",
      "    'NLSF-RE': {   'BP': 'both',\n",
      "                   'FREQ': 1300,\n",
      "                   'IC': [49, 35.3, 10.5, 17, 32, 57.6524, 98.58, 0],\n",
      "                   'OC': [50, 35.0, 10.0, 15, 32, 57.6524, 98.58, 0],\n",
      "                   'OC_R': [50, 35.0, 10.0, 15, 32, 57.6524, 98.58, 0]},\n",
      "    'NLSF_0.8GHz': {   'BP': 'both',\n",
      "                       'FREQ': 1300,\n",
      "                       'IC': [   76.471,\n",
      "                                 50.84,\n",
      "                                 17.029,\n",
      "                                 25.138,\n",
      "                                 51.898,\n",
      "                                 93.5,\n",
      "                                 159.87675,\n",
      "                                 0.0],\n",
      "                       'OC': [   78.09,\n",
      "                                 49.465,\n",
      "                                 15.41,\n",
      "                                 20.27,\n",
      "                                 61.63,\n",
      "                                 93.58,\n",
      "                                 159.877,\n",
      "                                 0.0],\n",
      "                       'OC_R': [   78.09,\n",
      "                                   49.465,\n",
      "                                   15.41,\n",
      "                                   20.27,\n",
      "                                   61.63,\n",
      "                                   93.58,\n",
      "                                   159.877,\n",
      "                                   0.0]},\n",
      "    'NLSF_1.0GHz': {   'BP': 'both',\n",
      "                       'FREQ': 1000,\n",
      "                       'IC': [   61.2976,\n",
      "                                 40.755,\n",
      "                                 13.65,\n",
      "                                 20.15,\n",
      "                                 41.6,\n",
      "                                 75.01,\n",
      "                                 128.154,\n",
      "                                 0.0],\n",
      "                       'OC': [   62.6,\n",
      "                                 39.65,\n",
      "                                 12.35,\n",
      "                                 16.25,\n",
      "                                 49.4,\n",
      "                                 75.0,\n",
      "                                 128.154,\n",
      "                                 0.0],\n",
      "                       'OC_R': [   62.6,\n",
      "                                   39.65,\n",
      "                                   12.35,\n",
      "                                   16.25,\n",
      "                                   49.4,\n",
      "                                   75.01,\n",
      "                                   128.154,\n",
      "                                   0.0]},\n",
      "    'TESLA': {   'BP': 'both',\n",
      "                 'FREQ': 1300,\n",
      "                 'IC': [42, 42, 12, 19, 35, 57.6524, 103.353, 0],\n",
      "                 'OC': [40.34, 40.34, 10, 13.5, 39, 55.716, 103.353, 0],\n",
      "                 'OC_R': [42, 42, 9, 12.8, 39, 56.815, 103.353, 0]}}\n"
     ]
    }
   ],
   "source": [
    "# load shape space\n",
    "with open(r'D:/Dropbox/CavityDesignHub/MuCol_Study/Cavities/cavity_data_mid_end_cells.json') as f:\n",
    "    shape_space = json.load(f)\n",
    "pp.pprint(shape_space)"
   ]
  },
  {
   "cell_type": "code",
   "execution_count": 3,
   "id": "762a0102-a2c8-4c80-9d23-a5a12981ca9d",
   "metadata": {},
   "outputs": [
    {
     "data": {
      "image/png": "[encoded data removed]",
      "text/plain": [
       "<Figure size 1200x600 with 1 Axes>"
      ]
     },
     "metadata": {},
     "output_type": "display_data"
    },
    {
     "data": {
      "image/png": "[encoded data removed]",
      "text/plain": [
       "<Figure size 1200x600 with 1 Axes>"
      ]
     },
     "metadata": {},
     "output_type": "display_data"
    }
   ],
   "source": [
    "# define geometry parameters\n",
    "midcell = np.array([42, 42, 12, 19, 35, 57.7, 100])\n",
    "endcell_l = np.array([40.34, 40.34, 10, 13.5, 39, 55.716, 103.353])\n",
    "endcell_r = np.array([42, 42, 9, 12.8, 39, 56.815, 103.353])\n",
    "# create cavity\n",
    "cav0 = Cavity(2, midcell, endcell_l, endcell_r, beampipe='both')\n",
    "ax = cav0.plot('geometry')\n",
    "\n",
    "C3795_1300MHz = shape_space['C3795_1300MHz']\n",
    "TESLA = shape_space['TESLA']\n",
    "\n",
    "# create cavity\n",
    "cav = Cavity(2, np.array(C3795_1300MHz['IC']), np.array(C3795_1300MHz['OC']), np.array(C3795_1300MHz['OC_R']), beampipe='both')\n",
    "ax = cav.plot('geometry')\n",
    "\n",
    "# create cavity\n",
    "cav1 = Cavity(2, TESLA['IC'], TESLA['OC'], TESLA['OC_R'], beampipe='both')\n",
    "# show cavity\n",
    "cav1.plot('geometry', ax)\n",
    "plt.show()"
   ]
  },
  {
   "cell_type": "code",
   "execution_count": 4,
   "id": "9dc0df8e-4f69-4677-96c3-59ee28bab520",
   "metadata": {},
   "outputs": [
    {
     "data": {
      "application/vnd.jupyter.widget-view+json": {
       "model_id": "19ca432cc2314027ab43bad986e47070",
       "version_major": 2,
       "version_minor": 0
      },
      "text/plain": [
       "Output()"
      ]
     },
     "metadata": {},
     "output_type": "display_data"
    },
    {
     "data": {
      "application/vnd.jupyter.widget-view+json": {
       "model_id": "8276251998144f1badcda83537d90402",
       "version_major": 2,
       "version_minor": 0
      },
      "text/plain": [
       "VBox(children=(HBox(children=(FloatSlider(value=42.0, description='A', max=63.0, min=21.0), FloatSlider(value=…"
      ]
     },
     "metadata": {},
     "output_type": "display_data"
    }
   ],
   "source": [
    "cav1.inspect(variation=0.5)"
   ]
  },
  {
   "cell_type": "code",
   "execution_count": 5,
   "id": "fbb34555-b962-474b-8dca-86c98b3d6e1b",
   "metadata": {},
   "outputs": [],
   "source": [
    "with open(r'D:/Dropbox/CavityDesignHub/PhD_Thesis/Cavities/cavities.json') as f:\n",
    "    shape_space = json.load(f)\n",
    "# pp.pprint(shape_space)"
   ]
  },
  {
   "cell_type": "code",
   "execution_count": 6,
   "id": "eefbc196-d5e1-4218-89e6-5f2423561ac3",
   "metadata": {},
   "outputs": [
    {
     "name": "stdout",
     "output_type": "stream",
     "text": [
      "{   'BP': 'both',\n",
      "    'CELL TYPE': 'flattop',\n",
      "    'FREQ': 650,\n",
      "    'IC': [93, 93, 20, 30, 75, 115.5, 205.979, 4, 0],\n",
      "    'OC': [80, 80, 20, 30, 80, 109, 205.979, 4, 0],\n",
      "    'OC_R': [80, 80, 20, 30, 80, 109, 205.979, 4, 0]}\n"
     ]
    }
   ],
   "source": [
    "# define flattop cavity cepc\n",
    "cepc_shape = shape_space['CEPCv2']\n",
    "pp.pprint(cepc_shape)"
   ]
  },
  {
   "cell_type": "code",
   "execution_count": 7,
   "id": "135ce04d-2923-438b-b53b-797e96a3a607",
   "metadata": {},
   "outputs": [],
   "source": [
    "cepc = Cavity(2, cepc_shape['IC'], cepc_shape['OC'], cepc_shape['OC_R'], beampipe=cepc_shape['BP'], cell_parameterisation=cepc_shape['CELL TYPE'])"
   ]
  },
  {
   "cell_type": "code",
   "execution_count": 8,
   "id": "7f8c4a82-111c-48aa-bf77-4a9276a0f7c5",
   "metadata": {},
   "outputs": [
    {
     "data": {
      "application/vnd.jupyter.widget-view+json": {
       "model_id": "91a6b4aedd3d4164b9660bc4a746acd7",
       "version_major": 2,
       "version_minor": 0
      },
      "text/plain": [
       "Output()"
      ]
     },
     "metadata": {},
     "output_type": "display_data"
    },
    {
     "data": {
      "application/vnd.jupyter.widget-view+json": {
       "model_id": "87f97142b00e4dd5a575ad90d2c8f662",
       "version_major": 2,
       "version_minor": 0
      },
      "text/plain": [
       "VBox(children=(HBox(children=(FloatSlider(value=93.0, description='A', max=148.8, min=37.2), FloatSlider(value…"
      ]
     },
     "metadata": {},
     "output_type": "display_data"
    }
   ],
   "source": [
    "cepc.inspect(variation=0.6)"
   ]
  },
  {
   "cell_type": "code",
   "execution_count": null,
   "id": "77ece9b6-af76-40e8-9d85-29f20dfb6f64",
   "metadata": {},
   "outputs": [],
   "source": []
  }
 ],
 "metadata": {
  "kernelspec": {
   "display_name": "Python 3 (ipykernel)",
   "language": "python",
   "name": "python3"
  },
  "language_info": {
   "codemirror_mode": {
    "name": "ipython",
    "version": 3
   },
   "file_extension": ".py",
   "mimetype": "text/x-python",
   "name": "python",
   "nbconvert_exporter": "python",
   "pygments_lexer": "ipython3",
   "version": "3.11.9"
  },
  "widgets": {
   "application/vnd.jupyter.widget-state+json": {
    "state": {
     "045636a1a9604b8598b1e10752a5d5da": {
      "model_module": "@jupyter-widgets/base",
      "model_module_version": "2.0.0",
      "model_name": "LayoutModel",
      "state": {}
     },
     "08230422de654ab8b075771297953b21": {
      "model_module": "@jupyter-widgets/base",
      "model_module_version": "2.0.0",
      "model_name": "LayoutModel",
      "state": {}
     },
     "09230d3cd3ce49739dd4abead508d512": {
      "model_module": "@jupyter-widgets/controls",
      "model_module_version": "2.0.0",
      "model_name": "SliderStyleModel",
      "state": {
       "description_width": ""
      }
     },
     "11b0887b194c4ff19b0d1a5ef18b1ff3": {
      "model_module": "@jupyter-widgets/base",
      "model_module_version": "2.0.0",
      "model_name": "LayoutModel",
      "state": {}
     },
     "1284b2f57d8d4239ad12e656772ca7b8": {
      "model_module": "@jupyter-widgets/base",
      "model_module_version": "2.0.0",
      "model_name": "LayoutModel",
      "state": {}
     },
     "17b2d7b74b814bcb94432c266655c0bb": {
      "model_module": "@jupyter-widgets/controls",
      "model_module_version": "2.0.0",
      "model_name": "FloatSliderModel",
      "state": {
       "behavior": "drag-tap",
       "description": "Req",
       "layout": "IPY_MODEL_1bb29b656d1c439b9396d94bf2dcffbf",
       "max": 329.56640000000004,
       "min": 82.39160000000001,
       "step": 0.1,
       "style": "IPY_MODEL_abf84cbb5f4444799bc1a720d2e8c395",
       "value": 205.9916
      }
     },
     "17e11556778d483aa475bea23aead0a7": {
      "model_module": "@jupyter-widgets/base",
      "model_module_version": "2.0.0",
      "model_name": "LayoutModel",
      "state": {}
     },
     "1800598a8ec44831b47d08bbf35f34c7": {
      "model_module": "@jupyter-widgets/controls",
      "model_module_version": "2.0.0",
      "model_name": "SliderStyleModel",
      "state": {
       "description_width": ""
      }
     },
     "19ca432cc2314027ab43bad986e47070": {
      "model_module": "@jupyter-widgets/output",
      "model_module_version": "1.0.0",
      "model_name": "OutputModel",
      "state": {
       "layout": "IPY_MODEL_8dcf4a95941447d9969c25a4082ae0da",
       "outputs": [
        {
         "data": {
          "image/png": "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",
          "text/plain": "<Figure size 1200x600 with 1 Axes>"
         },
         "metadata": {},
         "output_type": "display_data"
        }
       ]
      }
     },
     "1a25f459e5ca4d20a4f533082e6e1fbd": {
      "model_module": "@jupyter-widgets/controls",
      "model_module_version": "2.0.0",
      "model_name": "FloatSliderModel",
      "state": {
       "behavior": "drag-tap",
       "description": "Ri",
       "layout": "IPY_MODEL_1284b2f57d8d4239ad12e656772ca7b8",
       "max": 52.5,
       "min": 17.5,
       "step": 0.1,
       "style": "IPY_MODEL_e77a40bfd03642bd9cd34c3e92b36835",
       "value": 35
      }
     },
     "1bb29b656d1c439b9396d94bf2dcffbf": {
      "model_module": "@jupyter-widgets/base",
      "model_module_version": "2.0.0",
      "model_name": "LayoutModel",
      "state": {}
     },
     "1d5483c485ff4253bc813da395a2e3ce": {
      "model_module": "@jupyter-widgets/base",
      "model_module_version": "2.0.0",
      "model_name": "LayoutModel",
      "state": {}
     },
     "208cf491823841059ef101c22c5963ca": {
      "model_module": "@jupyter-widgets/base",
      "model_module_version": "2.0.0",
      "model_name": "LayoutModel",
      "state": {}
     },
     "2427fc0471c8431293c68945315ecdd2": {
      "model_module": "@jupyter-widgets/controls",
      "model_module_version": "2.0.0",
      "model_name": "SliderStyleModel",
      "state": {
       "description_width": ""
      }
     },
     "24a7f9f98d774e55a3417a2463b0aa99": {
      "model_module": "@jupyter-widgets/controls",
      "model_module_version": "2.0.0",
      "model_name": "FloatSliderModel",
      "state": {
       "behavior": "drag-tap",
       "description": "L",
       "layout": "IPY_MODEL_c404825fdae54104bb88d23963384c25",
       "max": 86.4786,
       "min": 28.8262,
       "step": 0.1,
       "style": "IPY_MODEL_3889a9fbe0414d2980a02ec0dae16e52",
       "value": 57.6262
      }
     },
     "277c8c32ad4243e7a8d1175e753cb527": {
      "model_module": "@jupyter-widgets/base",
      "model_module_version": "2.0.0",
      "model_name": "LayoutModel",
      "state": {}
     },
     "281acd8b5f7f4845b6b9b8ff028d93ca": {
      "model_module": "@jupyter-widgets/controls",
      "model_module_version": "2.0.0",
      "model_name": "SliderStyleModel",
      "state": {
       "description_width": ""
      }
     },
     "299f153a982a427788d17a791047154d": {
      "model_module": "@jupyter-widgets/controls",
      "model_module_version": "2.0.0",
      "model_name": "FloatSliderModel",
      "state": {
       "behavior": "drag-tap",
       "description": "a",
       "layout": "IPY_MODEL_e911c4a0b2e1481d825cdc735eafea85",
       "max": 32,
       "min": 8,
       "step": 0.1,
       "style": "IPY_MODEL_09230d3cd3ce49739dd4abead508d512",
       "value": 20
      }
     },
     "33fb62d000ee412c93f07c7c35eb4441": {
      "model_module": "@jupyter-widgets/base",
      "model_module_version": "2.0.0",
      "model_name": "LayoutModel",
      "state": {}
     },
     "36904760710641ada890b9eabe8d4c8f": {
      "model_module": "@jupyter-widgets/base",
      "model_module_version": "2.0.0",
      "model_name": "LayoutModel",
      "state": {}
     },
     "3722d32f180f4433846490f86712785f": {
      "model_module": "@jupyter-widgets/controls",
      "model_module_version": "2.0.0",
      "model_name": "HBoxModel",
      "state": {
       "children": [
        "IPY_MODEL_63df72d72630453dbbf526b17ee7c493",
        "IPY_MODEL_948b85e66f4044bb8bd82c489cbb4792",
        "IPY_MODEL_b221b7b444ab421a9995ad6d4ab5a889"
       ],
       "layout": "IPY_MODEL_f9a0de1a8b8c4578b940bfc4b9ca45e7"
      }
     },
     "3889a9fbe0414d2980a02ec0dae16e52": {
      "model_module": "@jupyter-widgets/controls",
      "model_module_version": "2.0.0",
      "model_name": "SliderStyleModel",
      "state": {
       "description_width": ""
      }
     },
     "429ad1d9a11a40639fd6cb0e397cd9a0": {
      "model_module": "@jupyter-widgets/controls",
      "model_module_version": "2.0.0",
      "model_name": "HBoxModel",
      "state": {
       "children": [
        "IPY_MODEL_fc6d1742a83143a2a00fa987621d77a1",
        "IPY_MODEL_7ccebc64e68f448ab8a6c3ee386a473a",
        "IPY_MODEL_299f153a982a427788d17a791047154d"
       ],
       "layout": "IPY_MODEL_8dd70f5e54934cf88297a0a1ca324408"
      }
     },
     "4ab6b8d66299486a89c0f8d414f7efe1": {
      "model_module": "@jupyter-widgets/base",
      "model_module_version": "2.0.0",
      "model_name": "LayoutModel",
      "state": {}
     },
     "4ad2a3ffc5d743dca6005c9de3c69d9a": {
      "model_module": "@jupyter-widgets/controls",
      "model_module_version": "2.0.0",
      "model_name": "LabelModel",
      "state": {
       "layout": "IPY_MODEL_08230422de654ab8b075771297953b21",
       "style": "IPY_MODEL_d05d8e01d1f443c0a5374934272f3070",
       "value": "Sum of A + a: 54.00, L: 57.6262, delta: -3.626199999999997"
      }
     },
     "4f5c03f7cd624cacbd48674576e80686": {
      "model_module": "@jupyter-widgets/base",
      "model_module_version": "2.0.0",
      "model_name": "LayoutModel",
      "state": {}
     },
     "513ef06383784c76bd071207868537f4": {
      "model_module": "@jupyter-widgets/base",
      "model_module_version": "2.0.0",
      "model_name": "LayoutModel",
      "state": {}
     },
     "52411c316daa48c18790b37b4fc7d9a2": {
      "model_module": "@jupyter-widgets/controls",
      "model_module_version": "2.0.0",
      "model_name": "SliderStyleModel",
      "state": {
       "description_width": ""
      }
     },
     "54ace7ab04b848d7bb586826fdbcf836": {
      "model_module": "@jupyter-widgets/controls",
      "model_module_version": "2.0.0",
      "model_name": "HBoxModel",
      "state": {
       "children": [
        "IPY_MODEL_66bbf673664e402388d37952b1691831"
       ],
       "layout": "IPY_MODEL_ec1c2a5eb7ab47b4be83098d2eede707"
      }
     },
     "560de7cd38c6473ab345325a7cc655c7": {
      "model_module": "@jupyter-widgets/controls",
      "model_module_version": "2.0.0",
      "model_name": "HBoxModel",
      "state": {
       "children": [
        "IPY_MODEL_d58386249dde4b07bb076e6366913d99",
        "IPY_MODEL_1a25f459e5ca4d20a4f533082e6e1fbd",
        "IPY_MODEL_24a7f9f98d774e55a3417a2463b0aa99"
       ],
       "layout": "IPY_MODEL_1d5483c485ff4253bc813da395a2e3ce"
      }
     },
     "5d393f28e2ab47958e5d49913c1029f4": {
      "model_module": "@jupyter-widgets/base",
      "model_module_version": "2.0.0",
      "model_name": "LayoutModel",
      "state": {}
     },
     "5dc67d594e6548a1bb4026d619df313b": {
      "model_module": "@jupyter-widgets/controls",
      "model_module_version": "2.0.0",
      "model_name": "SliderStyleModel",
      "state": {
       "description_width": ""
      }
     },
     "63df72d72630453dbbf526b17ee7c493": {
      "model_module": "@jupyter-widgets/controls",
      "model_module_version": "2.0.0",
      "model_name": "FloatSliderModel",
      "state": {
       "behavior": "drag-tap",
       "description": "b",
       "layout": "IPY_MODEL_ec295bd65de04a06930c247fa09addc0",
       "max": 48,
       "min": 12,
       "step": 0.1,
       "style": "IPY_MODEL_abb5a09f648c4ff1995d32cde8cb0eca",
       "value": 30
      }
     },
     "66bbf673664e402388d37952b1691831": {
      "model_module": "@jupyter-widgets/controls",
      "model_module_version": "2.0.0",
      "model_name": "FloatSliderModel",
      "state": {
       "behavior": "drag-tap",
       "description": "Req",
       "layout": "IPY_MODEL_11b0887b194c4ff19b0d1a5ef18b1ff3",
       "max": 155.02949999999998,
       "min": 51.6765,
       "step": 0.1,
       "style": "IPY_MODEL_7de508fbfaf242a9a9d0b3ab76b74ef6",
       "value": 103.37650000000001
      }
     },
     "68eb72cc9a544a2e8e974c4719f8a129": {
      "model_module": "@jupyter-widgets/controls",
      "model_module_version": "2.0.0",
      "model_name": "HBoxModel",
      "state": {
       "children": [
        "IPY_MODEL_17b2d7b74b814bcb94432c266655c0bb",
        "IPY_MODEL_d1d25ba256624c0aa6b9ed38f26e2ecb"
       ],
       "layout": "IPY_MODEL_208cf491823841059ef101c22c5963ca"
      }
     },
     "6980fd3c385c4bf0ac2262376e0c4ddf": {
      "model_module": "@jupyter-widgets/controls",
      "model_module_version": "2.0.0",
      "model_name": "SliderStyleModel",
      "state": {
       "description_width": ""
      }
     },
     "725eeeb82d604e99b28d2815d95fa3b1": {
      "model_module": "@jupyter-widgets/controls",
      "model_module_version": "2.0.0",
      "model_name": "FloatSliderModel",
      "state": {
       "behavior": "drag-tap",
       "description": "B",
       "layout": "IPY_MODEL_4f5c03f7cd624cacbd48674576e80686",
       "max": 63,
       "min": 21,
       "step": 0.1,
       "style": "IPY_MODEL_8aba4b07a5554f3688b95f5fc8cfe43b",
       "value": 42
      }
     },
     "7ccebc64e68f448ab8a6c3ee386a473a": {
      "model_module": "@jupyter-widgets/controls",
      "model_module_version": "2.0.0",
      "model_name": "FloatSliderModel",
      "state": {
       "behavior": "drag-tap",
       "description": "B",
       "layout": "IPY_MODEL_513ef06383784c76bd071207868537f4",
       "max": 148.8,
       "min": 37.2,
       "step": 0.1,
       "style": "IPY_MODEL_6980fd3c385c4bf0ac2262376e0c4ddf",
       "value": 93
      }
     },
     "7d0fb99907814049a94d5e94f9913872": {
      "model_module": "@jupyter-widgets/controls",
      "model_module_version": "2.0.0",
      "model_name": "SliderStyleModel",
      "state": {
       "description_width": ""
      }
     },
     "7de508fbfaf242a9a9d0b3ab76b74ef6": {
      "model_module": "@jupyter-widgets/controls",
      "model_module_version": "2.0.0",
      "model_name": "SliderStyleModel",
      "state": {
       "description_width": ""
      }
     },
     "7f6fadc6d1fe41eba35f895d86eb2d4a": {
      "model_module": "@jupyter-widgets/controls",
      "model_module_version": "2.0.0",
      "model_name": "FloatSliderModel",
      "state": {
       "behavior": "drag-tap",
       "description": "a",
       "layout": "IPY_MODEL_045636a1a9604b8598b1e10752a5d5da",
       "max": 18,
       "min": 6,
       "step": 0.1,
       "style": "IPY_MODEL_ffbf767b14dc4ec6b565482cfe9acdce",
       "value": 12
      }
     },
     "8276251998144f1badcda83537d90402": {
      "model_module": "@jupyter-widgets/controls",
      "model_module_version": "2.0.0",
      "model_name": "VBoxModel",
      "state": {
       "children": [
        "IPY_MODEL_dc27a52851c348b1baf49b19e1c4c7df",
        "IPY_MODEL_560de7cd38c6473ab345325a7cc655c7",
        "IPY_MODEL_54ace7ab04b848d7bb586826fdbcf836",
        "IPY_MODEL_4ad2a3ffc5d743dca6005c9de3c69d9a"
       ],
       "layout": "IPY_MODEL_277c8c32ad4243e7a8d1175e753cb527"
      }
     },
     "87f97142b00e4dd5a575ad90d2c8f662": {
      "model_module": "@jupyter-widgets/controls",
      "model_module_version": "2.0.0",
      "model_name": "VBoxModel",
      "state": {
       "children": [
        "IPY_MODEL_429ad1d9a11a40639fd6cb0e397cd9a0",
        "IPY_MODEL_3722d32f180f4433846490f86712785f",
        "IPY_MODEL_68eb72cc9a544a2e8e974c4719f8a129",
        "IPY_MODEL_b0d316527b74411ca09c79e5c350f94e"
       ],
       "layout": "IPY_MODEL_d8a5403874ff4ded99badccb67b6aa05"
      }
     },
     "8aba4b07a5554f3688b95f5fc8cfe43b": {
      "model_module": "@jupyter-widgets/controls",
      "model_module_version": "2.0.0",
      "model_name": "SliderStyleModel",
      "state": {
       "description_width": ""
      }
     },
     "8dcf4a95941447d9969c25a4082ae0da": {
      "model_module": "@jupyter-widgets/base",
      "model_module_version": "2.0.0",
      "model_name": "LayoutModel",
      "state": {}
     },
     "8dd70f5e54934cf88297a0a1ca324408": {
      "model_module": "@jupyter-widgets/base",
      "model_module_version": "2.0.0",
      "model_name": "LayoutModel",
      "state": {}
     },
     "91a6b4aedd3d4164b9660bc4a746acd7": {
      "model_module": "@jupyter-widgets/output",
      "model_module_version": "1.0.0",
      "model_name": "OutputModel",
      "state": {
       "layout": "IPY_MODEL_df310a5f789340aa891142689e4a9d2e",
       "msg_id": "a3aa9f0d-8662-4338-9d0b-f0a61c7ce64b",
       "outputs": [
        {
         "data": {
          "image/png": "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",
          "text/plain": "<Figure size 1200x600 with 1 Axes>"
         },
         "metadata": {},
         "output_type": "display_data"
        }
       ]
      }
     },
     "948b85e66f4044bb8bd82c489cbb4792": {
      "model_module": "@jupyter-widgets/controls",
      "model_module_version": "2.0.0",
      "model_name": "FloatSliderModel",
      "state": {
       "behavior": "drag-tap",
       "description": "Ri",
       "layout": "IPY_MODEL_4ab6b8d66299486a89c0f8d414f7efe1",
       "max": 120,
       "min": 30,
       "step": 0.1,
       "style": "IPY_MODEL_52411c316daa48c18790b37b4fc7d9a2",
       "value": 75
      }
     },
     "a1774afcda964c10b0ae8393f047136c": {
      "model_module": "@jupyter-widgets/controls",
      "model_module_version": "2.0.0",
      "model_name": "FloatSliderModel",
      "state": {
       "behavior": "drag-tap",
       "description": "A",
       "layout": "IPY_MODEL_ec150b3090444d56b51aa1a862ab0e6c",
       "max": 63,
       "min": 21,
       "step": 0.1,
       "style": "IPY_MODEL_2427fc0471c8431293c68945315ecdd2",
       "value": 42
      }
     },
     "abb5a09f648c4ff1995d32cde8cb0eca": {
      "model_module": "@jupyter-widgets/controls",
      "model_module_version": "2.0.0",
      "model_name": "SliderStyleModel",
      "state": {
       "description_width": ""
      }
     },
     "abf84cbb5f4444799bc1a720d2e8c395": {
      "model_module": "@jupyter-widgets/controls",
      "model_module_version": "2.0.0",
      "model_name": "SliderStyleModel",
      "state": {
       "description_width": ""
      }
     },
     "b0d316527b74411ca09c79e5c350f94e": {
      "model_module": "@jupyter-widgets/controls",
      "model_module_version": "2.0.0",
      "model_name": "LabelModel",
      "state": {
       "layout": "IPY_MODEL_36904760710641ada890b9eabe8d4c8f",
       "style": "IPY_MODEL_ea7e5101e8d240dbaf63847e1301b128",
       "value": "Sum of A + a: 117.10, L: 115.5, delta: 1.5999999999999943"
      }
     },
     "b221b7b444ab421a9995ad6d4ab5a889": {
      "model_module": "@jupyter-widgets/controls",
      "model_module_version": "2.0.0",
      "model_name": "FloatSliderModel",
      "state": {
       "behavior": "drag-tap",
       "description": "L",
       "layout": "IPY_MODEL_33fb62d000ee412c93f07c7c35eb4441",
       "max": 184.8,
       "min": 46.2,
       "step": 0.1,
       "style": "IPY_MODEL_7d0fb99907814049a94d5e94f9913872",
       "value": 115.5
      }
     },
     "c404825fdae54104bb88d23963384c25": {
      "model_module": "@jupyter-widgets/base",
      "model_module_version": "2.0.0",
      "model_name": "LayoutModel",
      "state": {}
     },
     "d05d8e01d1f443c0a5374934272f3070": {
      "model_module": "@jupyter-widgets/controls",
      "model_module_version": "2.0.0",
      "model_name": "LabelStyleModel",
      "state": {
       "description_width": "",
       "font_family": null,
       "font_size": null,
       "font_style": null,
       "font_variant": null,
       "font_weight": null,
       "text_color": null,
       "text_decoration": null
      }
     },
     "d1d25ba256624c0aa6b9ed38f26e2ecb": {
      "model_module": "@jupyter-widgets/controls",
      "model_module_version": "2.0.0",
      "model_name": "FloatSliderModel",
      "state": {
       "behavior": "drag-tap",
       "description": "l",
       "layout": "IPY_MODEL_e1b7d3b9850d41f6939126b5532a66e1",
       "max": 6.4,
       "min": 1.6,
       "step": 0.1,
       "style": "IPY_MODEL_1800598a8ec44831b47d08bbf35f34c7",
       "value": 6.4
      }
     },
     "d58386249dde4b07bb076e6366913d99": {
      "model_module": "@jupyter-widgets/controls",
      "model_module_version": "2.0.0",
      "model_name": "FloatSliderModel",
      "state": {
       "behavior": "drag-tap",
       "description": "b",
       "layout": "IPY_MODEL_17e11556778d483aa475bea23aead0a7",
       "max": 28.5,
       "min": 9.5,
       "step": 0.1,
       "style": "IPY_MODEL_281acd8b5f7f4845b6b9b8ff028d93ca",
       "value": 19
      }
     },
     "d8a5403874ff4ded99badccb67b6aa05": {
      "model_module": "@jupyter-widgets/base",
      "model_module_version": "2.0.0",
      "model_name": "LayoutModel",
      "state": {}
     },
     "dc27a52851c348b1baf49b19e1c4c7df": {
      "model_module": "@jupyter-widgets/controls",
      "model_module_version": "2.0.0",
      "model_name": "HBoxModel",
      "state": {
       "children": [
        "IPY_MODEL_a1774afcda964c10b0ae8393f047136c",
        "IPY_MODEL_725eeeb82d604e99b28d2815d95fa3b1",
        "IPY_MODEL_7f6fadc6d1fe41eba35f895d86eb2d4a"
       ],
       "layout": "IPY_MODEL_5d393f28e2ab47958e5d49913c1029f4"
      }
     },
     "df310a5f789340aa891142689e4a9d2e": {
      "model_module": "@jupyter-widgets/base",
      "model_module_version": "2.0.0",
      "model_name": "LayoutModel",
      "state": {}
     },
     "e1b7d3b9850d41f6939126b5532a66e1": {
      "model_module": "@jupyter-widgets/base",
      "model_module_version": "2.0.0",
      "model_name": "LayoutModel",
      "state": {}
     },
     "e77a40bfd03642bd9cd34c3e92b36835": {
      "model_module": "@jupyter-widgets/controls",
      "model_module_version": "2.0.0",
      "model_name": "SliderStyleModel",
      "state": {
       "description_width": ""
      }
     },
     "e911c4a0b2e1481d825cdc735eafea85": {
      "model_module": "@jupyter-widgets/base",
      "model_module_version": "2.0.0",
      "model_name": "LayoutModel",
      "state": {}
     },
     "ea7e5101e8d240dbaf63847e1301b128": {
      "model_module": "@jupyter-widgets/controls",
      "model_module_version": "2.0.0",
      "model_name": "LabelStyleModel",
      "state": {
       "description_width": "",
       "font_family": null,
       "font_size": null,
       "font_style": null,
       "font_variant": null,
       "font_weight": null,
       "text_color": null,
       "text_decoration": null
      }
     },
     "ec150b3090444d56b51aa1a862ab0e6c": {
      "model_module": "@jupyter-widgets/base",
      "model_module_version": "2.0.0",
      "model_name": "LayoutModel",
      "state": {}
     },
     "ec1c2a5eb7ab47b4be83098d2eede707": {
      "model_module": "@jupyter-widgets/base",
      "model_module_version": "2.0.0",
      "model_name": "LayoutModel",
      "state": {}
     },
     "ec295bd65de04a06930c247fa09addc0": {
      "model_module": "@jupyter-widgets/base",
      "model_module_version": "2.0.0",
      "model_name": "LayoutModel",
      "state": {}
     },
     "f8985424d29f4d589c33e79f737ddf19": {
      "model_module": "@jupyter-widgets/base",
      "model_module_version": "2.0.0",
      "model_name": "LayoutModel",
      "state": {}
     },
     "f9a0de1a8b8c4578b940bfc4b9ca45e7": {
      "model_module": "@jupyter-widgets/base",
      "model_module_version": "2.0.0",
      "model_name": "LayoutModel",
      "state": {}
     },
     "fc6d1742a83143a2a00fa987621d77a1": {
      "model_module": "@jupyter-widgets/controls",
      "model_module_version": "2.0.0",
      "model_name": "FloatSliderModel",
      "state": {
       "behavior": "drag-tap",
       "description": "A",
       "layout": "IPY_MODEL_f8985424d29f4d589c33e79f737ddf19",
       "max": 148.8,
       "min": 37.2,
       "step": 0.1,
       "style": "IPY_MODEL_5dc67d594e6548a1bb4026d619df313b",
       "value": 93
      }
     },
     "ffbf767b14dc4ec6b565482cfe9acdce": {
      "model_module": "@jupyter-widgets/controls",
      "model_module_version": "2.0.0",
      "model_name": "SliderStyleModel",
      "state": {
       "description_width": ""
      }
     }
    },
    "version_major": 2,
    "version_minor": 0
   }
  }
 },
 "nbformat": 4,
 "nbformat_minor": 5
}
