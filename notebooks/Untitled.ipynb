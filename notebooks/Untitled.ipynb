{
 "cells": [
  {
   "cell_type": "code",
   "execution_count": null,
   "id": "beb52739-e31c-4244-b002-dc1fccb981ad",
   "metadata": {},
   "outputs": [],
   "source": [
    "import sys\n",
    "sys.path.append(\"..\")\n",
    "import numpy as np\n",
    "import json\n",
    "import matplotlib\n",
    "import matplotlib.pyplot as plt\n",
    "plt.ion()\n",
    "%matplotlib inline\n",
    "from cavsim2d.cavity import Cavity, Cavities, OperationPoints\n",
    "import pprint\n",
    "pp = pprint.PrettyPrinter(indent=4)"
   ]
  },
  {
   "cell_type": "code",
   "execution_count": null,
   "id": "3d907bd8-988c-458c-b0b8-5a786af5c1bc",
   "metadata": {},
   "outputs": [],
   "source": [
    "# load shape space\n",
    "with open(r'D:/Dropbox/CavityDesignHub/MuCol_Study/Cavities/cavity_data_mid_end_cells.json') as f:\n",
    "    shape_space = json.load(f)\n",
    "# pp.pprint(shape_space)"
   ]
  },
  {
   "cell_type": "code",
   "execution_count": null,
   "id": "762a0102-a2c8-4c80-9d23-a5a12981ca9d",
   "metadata": {},
   "outputs": [],
   "source": [
    "# define geometry parameters\n",
    "midcell = np.array([42, 42, 12, 19, 35, 57.7, 100])\n",
    "endcell_l = np.array([40.34, 40.34, 10, 13.5, 39, 55.716, 103.353])\n",
    "endcell_r = np.array([42, 42, 9, 12.8, 39, 56.815, 103.353])\n",
    "# create cavity\n",
    "cav0 = Cavity(2, midcell, endcell_l, endcell_r, beampipe='both')\n",
    "ax = cav0.plot('geometry')\n",
    "\n",
    "C3795_1300MHz = shape_space['C3795_1300MHz']\n",
    "TESLA = shape_space['TESLA']\n",
    "\n",
    "# create cavity\n",
    "cav = Cavity(2, np.array(C3795_1300MHz['IC']), np.array(C3795_1300MHz['OC']), np.array(C3795_1300MHz['OC_R']), beampipe='both')\n",
    "ax = cav.plot('geometry')\n",
    "\n",
    "# create cavity\n",
    "cav1 = Cavity(2, TESLA['IC'], TESLA['OC'], TESLA['OC_R'], beampipe='both')\n",
    "# show cavity\n",
    "cav1.plot('geometry', ax)\n",
    "plt.show()"
   ]
  },
  {
   "cell_type": "code",
   "execution_count": null,
   "id": "9dc0df8e-4f69-4677-96c3-59ee28bab520",
   "metadata": {},
   "outputs": [],
   "source": [
    "cav1.inspect(variation=0.5)"
   ]
  }
 ],
 "metadata": {
  "kernelspec": {
   "display_name": "Python 3 (ipykernel)",
   "language": "python",
   "name": "python3"
  },
  "language_info": {
   "codemirror_mode": {
    "name": "ipython",
    "version": 3
   },
   "file_extension": ".py",
   "mimetype": "text/x-python",
   "name": "python",
   "nbconvert_exporter": "python",
   "pygments_lexer": "ipython3",
   "version": "3.11.9"
  },
  "widgets": {
   "application/vnd.jupyter.widget-state+json": {
    "state": {},
    "version_major": 2,
    "version_minor": 0
   }
  }
 },
 "nbformat": 4,
 "nbformat_minor": 5
}
